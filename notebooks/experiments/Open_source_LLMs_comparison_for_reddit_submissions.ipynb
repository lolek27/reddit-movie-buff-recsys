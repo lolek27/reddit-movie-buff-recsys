{
  "nbformat": 4,
  "nbformat_minor": 0,
  "metadata": {
    "colab": {
      "provenance": [],
      "gpuType": "T4"
    },
    "kernelspec": {
      "name": "python3",
      "display_name": "Python 3"
    },
    "language_info": {
      "name": "python"
    },
    "accelerator": "GPU",
    "widgets": {
      "application/vnd.jupyter.widget-state+json": {
        "4ce9b1cf00c9428889e3718e6b97410a": {
          "model_module": "@jupyter-widgets/controls",
          "model_name": "HBoxModel",
          "model_module_version": "1.5.0",
          "state": {
            "_dom_classes": [],
            "_model_module": "@jupyter-widgets/controls",
            "_model_module_version": "1.5.0",
            "_model_name": "HBoxModel",
            "_view_count": null,
            "_view_module": "@jupyter-widgets/controls",
            "_view_module_version": "1.5.0",
            "_view_name": "HBoxView",
            "box_style": "",
            "children": [
              "IPY_MODEL_e729c3c0e27442029aac61360c54a5db",
              "IPY_MODEL_ee552b7cc9c741059ec72b59c8fdaafe",
              "IPY_MODEL_362417a1bdb3467194bdb86c91905d9b"
            ],
            "layout": "IPY_MODEL_b18b5bcb326f4c53bc5de04f1f4bd9c1"
          }
        },
        "e729c3c0e27442029aac61360c54a5db": {
          "model_module": "@jupyter-widgets/controls",
          "model_name": "HTMLModel",
          "model_module_version": "1.5.0",
          "state": {
            "_dom_classes": [],
            "_model_module": "@jupyter-widgets/controls",
            "_model_module_version": "1.5.0",
            "_model_name": "HTMLModel",
            "_view_count": null,
            "_view_module": "@jupyter-widgets/controls",
            "_view_module_version": "1.5.0",
            "_view_name": "HTMLView",
            "description": "",
            "description_tooltip": null,
            "layout": "IPY_MODEL_c82be5f23a6a40ce9a4be0a4b549a2c5",
            "placeholder": "​",
            "style": "IPY_MODEL_817d7cfcba614464ad5a088735dd1f55",
            "value": "Downloading (…)okenizer_config.json: 100%"
          }
        },
        "ee552b7cc9c741059ec72b59c8fdaafe": {
          "model_module": "@jupyter-widgets/controls",
          "model_name": "FloatProgressModel",
          "model_module_version": "1.5.0",
          "state": {
            "_dom_classes": [],
            "_model_module": "@jupyter-widgets/controls",
            "_model_module_version": "1.5.0",
            "_model_name": "FloatProgressModel",
            "_view_count": null,
            "_view_module": "@jupyter-widgets/controls",
            "_view_module_version": "1.5.0",
            "_view_name": "ProgressView",
            "bar_style": "success",
            "description": "",
            "description_tooltip": null,
            "layout": "IPY_MODEL_c51c159c32d9446693ad2ebbf542bfc0",
            "max": 220,
            "min": 0,
            "orientation": "horizontal",
            "style": "IPY_MODEL_2f0a184c4a0843f1bfbd6a4f8a93f283",
            "value": 220
          }
        },
        "362417a1bdb3467194bdb86c91905d9b": {
          "model_module": "@jupyter-widgets/controls",
          "model_name": "HTMLModel",
          "model_module_version": "1.5.0",
          "state": {
            "_dom_classes": [],
            "_model_module": "@jupyter-widgets/controls",
            "_model_module_version": "1.5.0",
            "_model_name": "HTMLModel",
            "_view_count": null,
            "_view_module": "@jupyter-widgets/controls",
            "_view_module_version": "1.5.0",
            "_view_name": "HTMLView",
            "description": "",
            "description_tooltip": null,
            "layout": "IPY_MODEL_711b181015904ef6911067c919f355da",
            "placeholder": "​",
            "style": "IPY_MODEL_8e2ff5ed66b1419685fafcab0cf172aa",
            "value": " 220/220 [00:00&lt;00:00, 5.58kB/s]"
          }
        },
        "b18b5bcb326f4c53bc5de04f1f4bd9c1": {
          "model_module": "@jupyter-widgets/base",
          "model_name": "LayoutModel",
          "model_module_version": "1.2.0",
          "state": {
            "_model_module": "@jupyter-widgets/base",
            "_model_module_version": "1.2.0",
            "_model_name": "LayoutModel",
            "_view_count": null,
            "_view_module": "@jupyter-widgets/base",
            "_view_module_version": "1.2.0",
            "_view_name": "LayoutView",
            "align_content": null,
            "align_items": null,
            "align_self": null,
            "border": null,
            "bottom": null,
            "display": null,
            "flex": null,
            "flex_flow": null,
            "grid_area": null,
            "grid_auto_columns": null,
            "grid_auto_flow": null,
            "grid_auto_rows": null,
            "grid_column": null,
            "grid_gap": null,
            "grid_row": null,
            "grid_template_areas": null,
            "grid_template_columns": null,
            "grid_template_rows": null,
            "height": null,
            "justify_content": null,
            "justify_items": null,
            "left": null,
            "margin": null,
            "max_height": null,
            "max_width": null,
            "min_height": null,
            "min_width": null,
            "object_fit": null,
            "object_position": null,
            "order": null,
            "overflow": null,
            "overflow_x": null,
            "overflow_y": null,
            "padding": null,
            "right": null,
            "top": null,
            "visibility": null,
            "width": null
          }
        },
        "c82be5f23a6a40ce9a4be0a4b549a2c5": {
          "model_module": "@jupyter-widgets/base",
          "model_name": "LayoutModel",
          "model_module_version": "1.2.0",
          "state": {
            "_model_module": "@jupyter-widgets/base",
            "_model_module_version": "1.2.0",
            "_model_name": "LayoutModel",
            "_view_count": null,
            "_view_module": "@jupyter-widgets/base",
            "_view_module_version": "1.2.0",
            "_view_name": "LayoutView",
            "align_content": null,
            "align_items": null,
            "align_self": null,
            "border": null,
            "bottom": null,
            "display": null,
            "flex": null,
            "flex_flow": null,
            "grid_area": null,
            "grid_auto_columns": null,
            "grid_auto_flow": null,
            "grid_auto_rows": null,
            "grid_column": null,
            "grid_gap": null,
            "grid_row": null,
            "grid_template_areas": null,
            "grid_template_columns": null,
            "grid_template_rows": null,
            "height": null,
            "justify_content": null,
            "justify_items": null,
            "left": null,
            "margin": null,
            "max_height": null,
            "max_width": null,
            "min_height": null,
            "min_width": null,
            "object_fit": null,
            "object_position": null,
            "order": null,
            "overflow": null,
            "overflow_x": null,
            "overflow_y": null,
            "padding": null,
            "right": null,
            "top": null,
            "visibility": null,
            "width": null
          }
        },
        "817d7cfcba614464ad5a088735dd1f55": {
          "model_module": "@jupyter-widgets/controls",
          "model_name": "DescriptionStyleModel",
          "model_module_version": "1.5.0",
          "state": {
            "_model_module": "@jupyter-widgets/controls",
            "_model_module_version": "1.5.0",
            "_model_name": "DescriptionStyleModel",
            "_view_count": null,
            "_view_module": "@jupyter-widgets/base",
            "_view_module_version": "1.2.0",
            "_view_name": "StyleView",
            "description_width": ""
          }
        },
        "c51c159c32d9446693ad2ebbf542bfc0": {
          "model_module": "@jupyter-widgets/base",
          "model_name": "LayoutModel",
          "model_module_version": "1.2.0",
          "state": {
            "_model_module": "@jupyter-widgets/base",
            "_model_module_version": "1.2.0",
            "_model_name": "LayoutModel",
            "_view_count": null,
            "_view_module": "@jupyter-widgets/base",
            "_view_module_version": "1.2.0",
            "_view_name": "LayoutView",
            "align_content": null,
            "align_items": null,
            "align_self": null,
            "border": null,
            "bottom": null,
            "display": null,
            "flex": null,
            "flex_flow": null,
            "grid_area": null,
            "grid_auto_columns": null,
            "grid_auto_flow": null,
            "grid_auto_rows": null,
            "grid_column": null,
            "grid_gap": null,
            "grid_row": null,
            "grid_template_areas": null,
            "grid_template_columns": null,
            "grid_template_rows": null,
            "height": null,
            "justify_content": null,
            "justify_items": null,
            "left": null,
            "margin": null,
            "max_height": null,
            "max_width": null,
            "min_height": null,
            "min_width": null,
            "object_fit": null,
            "object_position": null,
            "order": null,
            "overflow": null,
            "overflow_x": null,
            "overflow_y": null,
            "padding": null,
            "right": null,
            "top": null,
            "visibility": null,
            "width": null
          }
        },
        "2f0a184c4a0843f1bfbd6a4f8a93f283": {
          "model_module": "@jupyter-widgets/controls",
          "model_name": "ProgressStyleModel",
          "model_module_version": "1.5.0",
          "state": {
            "_model_module": "@jupyter-widgets/controls",
            "_model_module_version": "1.5.0",
            "_model_name": "ProgressStyleModel",
            "_view_count": null,
            "_view_module": "@jupyter-widgets/base",
            "_view_module_version": "1.2.0",
            "_view_name": "StyleView",
            "bar_color": null,
            "description_width": ""
          }
        },
        "711b181015904ef6911067c919f355da": {
          "model_module": "@jupyter-widgets/base",
          "model_name": "LayoutModel",
          "model_module_version": "1.2.0",
          "state": {
            "_model_module": "@jupyter-widgets/base",
            "_model_module_version": "1.2.0",
            "_model_name": "LayoutModel",
            "_view_count": null,
            "_view_module": "@jupyter-widgets/base",
            "_view_module_version": "1.2.0",
            "_view_name": "LayoutView",
            "align_content": null,
            "align_items": null,
            "align_self": null,
            "border": null,
            "bottom": null,
            "display": null,
            "flex": null,
            "flex_flow": null,
            "grid_area": null,
            "grid_auto_columns": null,
            "grid_auto_flow": null,
            "grid_auto_rows": null,
            "grid_column": null,
            "grid_gap": null,
            "grid_row": null,
            "grid_template_areas": null,
            "grid_template_columns": null,
            "grid_template_rows": null,
            "height": null,
            "justify_content": null,
            "justify_items": null,
            "left": null,
            "margin": null,
            "max_height": null,
            "max_width": null,
            "min_height": null,
            "min_width": null,
            "object_fit": null,
            "object_position": null,
            "order": null,
            "overflow": null,
            "overflow_x": null,
            "overflow_y": null,
            "padding": null,
            "right": null,
            "top": null,
            "visibility": null,
            "width": null
          }
        },
        "8e2ff5ed66b1419685fafcab0cf172aa": {
          "model_module": "@jupyter-widgets/controls",
          "model_name": "DescriptionStyleModel",
          "model_module_version": "1.5.0",
          "state": {
            "_model_module": "@jupyter-widgets/controls",
            "_model_module_version": "1.5.0",
            "_model_name": "DescriptionStyleModel",
            "_view_count": null,
            "_view_module": "@jupyter-widgets/base",
            "_view_module_version": "1.2.0",
            "_view_name": "StyleView",
            "description_width": ""
          }
        },
        "74692bb47fec44d29185ea4c201b2c17": {
          "model_module": "@jupyter-widgets/controls",
          "model_name": "HBoxModel",
          "model_module_version": "1.5.0",
          "state": {
            "_dom_classes": [],
            "_model_module": "@jupyter-widgets/controls",
            "_model_module_version": "1.5.0",
            "_model_name": "HBoxModel",
            "_view_count": null,
            "_view_module": "@jupyter-widgets/controls",
            "_view_module_version": "1.5.0",
            "_view_name": "HBoxView",
            "box_style": "",
            "children": [
              "IPY_MODEL_343eb45f91814a8cb46e3a7e49f58908",
              "IPY_MODEL_55f931e9b72b43858f4adf142119dce7",
              "IPY_MODEL_d3b57018a2444a7da6cab0f346b12838"
            ],
            "layout": "IPY_MODEL_4458e898465a40c095b2f97c617e0f3f"
          }
        },
        "343eb45f91814a8cb46e3a7e49f58908": {
          "model_module": "@jupyter-widgets/controls",
          "model_name": "HTMLModel",
          "model_module_version": "1.5.0",
          "state": {
            "_dom_classes": [],
            "_model_module": "@jupyter-widgets/controls",
            "_model_module_version": "1.5.0",
            "_model_name": "HTMLModel",
            "_view_count": null,
            "_view_module": "@jupyter-widgets/controls",
            "_view_module_version": "1.5.0",
            "_view_name": "HTMLView",
            "description": "",
            "description_tooltip": null,
            "layout": "IPY_MODEL_34235d69cf034c5e8d340acded3381ff",
            "placeholder": "​",
            "style": "IPY_MODEL_358639929d494f31ab71cc5218d8ebc7",
            "value": "Downloading (…)/main/tokenizer.json: 100%"
          }
        },
        "55f931e9b72b43858f4adf142119dce7": {
          "model_module": "@jupyter-widgets/controls",
          "model_name": "FloatProgressModel",
          "model_module_version": "1.5.0",
          "state": {
            "_dom_classes": [],
            "_model_module": "@jupyter-widgets/controls",
            "_model_module_version": "1.5.0",
            "_model_name": "FloatProgressModel",
            "_view_count": null,
            "_view_module": "@jupyter-widgets/controls",
            "_view_module_version": "1.5.0",
            "_view_name": "ProgressView",
            "bar_style": "success",
            "description": "",
            "description_tooltip": null,
            "layout": "IPY_MODEL_9fbd49b76087434a8aa11ce2ae33986c",
            "max": 2734130,
            "min": 0,
            "orientation": "horizontal",
            "style": "IPY_MODEL_4c69d168eb3640ad9e39ce3439d0ea46",
            "value": 2734130
          }
        },
        "d3b57018a2444a7da6cab0f346b12838": {
          "model_module": "@jupyter-widgets/controls",
          "model_name": "HTMLModel",
          "model_module_version": "1.5.0",
          "state": {
            "_dom_classes": [],
            "_model_module": "@jupyter-widgets/controls",
            "_model_module_version": "1.5.0",
            "_model_name": "HTMLModel",
            "_view_count": null,
            "_view_module": "@jupyter-widgets/controls",
            "_view_module_version": "1.5.0",
            "_view_name": "HTMLView",
            "description": "",
            "description_tooltip": null,
            "layout": "IPY_MODEL_60bc4703052541a8a17692357d939b45",
            "placeholder": "​",
            "style": "IPY_MODEL_2c9e7308b9f4490f89017726d94b0af8",
            "value": " 2.73M/2.73M [00:00&lt;00:00, 5.95MB/s]"
          }
        },
        "4458e898465a40c095b2f97c617e0f3f": {
          "model_module": "@jupyter-widgets/base",
          "model_name": "LayoutModel",
          "model_module_version": "1.2.0",
          "state": {
            "_model_module": "@jupyter-widgets/base",
            "_model_module_version": "1.2.0",
            "_model_name": "LayoutModel",
            "_view_count": null,
            "_view_module": "@jupyter-widgets/base",
            "_view_module_version": "1.2.0",
            "_view_name": "LayoutView",
            "align_content": null,
            "align_items": null,
            "align_self": null,
            "border": null,
            "bottom": null,
            "display": null,
            "flex": null,
            "flex_flow": null,
            "grid_area": null,
            "grid_auto_columns": null,
            "grid_auto_flow": null,
            "grid_auto_rows": null,
            "grid_column": null,
            "grid_gap": null,
            "grid_row": null,
            "grid_template_areas": null,
            "grid_template_columns": null,
            "grid_template_rows": null,
            "height": null,
            "justify_content": null,
            "justify_items": null,
            "left": null,
            "margin": null,
            "max_height": null,
            "max_width": null,
            "min_height": null,
            "min_width": null,
            "object_fit": null,
            "object_position": null,
            "order": null,
            "overflow": null,
            "overflow_x": null,
            "overflow_y": null,
            "padding": null,
            "right": null,
            "top": null,
            "visibility": null,
            "width": null
          }
        },
        "34235d69cf034c5e8d340acded3381ff": {
          "model_module": "@jupyter-widgets/base",
          "model_name": "LayoutModel",
          "model_module_version": "1.2.0",
          "state": {
            "_model_module": "@jupyter-widgets/base",
            "_model_module_version": "1.2.0",
            "_model_name": "LayoutModel",
            "_view_count": null,
            "_view_module": "@jupyter-widgets/base",
            "_view_module_version": "1.2.0",
            "_view_name": "LayoutView",
            "align_content": null,
            "align_items": null,
            "align_self": null,
            "border": null,
            "bottom": null,
            "display": null,
            "flex": null,
            "flex_flow": null,
            "grid_area": null,
            "grid_auto_columns": null,
            "grid_auto_flow": null,
            "grid_auto_rows": null,
            "grid_column": null,
            "grid_gap": null,
            "grid_row": null,
            "grid_template_areas": null,
            "grid_template_columns": null,
            "grid_template_rows": null,
            "height": null,
            "justify_content": null,
            "justify_items": null,
            "left": null,
            "margin": null,
            "max_height": null,
            "max_width": null,
            "min_height": null,
            "min_width": null,
            "object_fit": null,
            "object_position": null,
            "order": null,
            "overflow": null,
            "overflow_x": null,
            "overflow_y": null,
            "padding": null,
            "right": null,
            "top": null,
            "visibility": null,
            "width": null
          }
        },
        "358639929d494f31ab71cc5218d8ebc7": {
          "model_module": "@jupyter-widgets/controls",
          "model_name": "DescriptionStyleModel",
          "model_module_version": "1.5.0",
          "state": {
            "_model_module": "@jupyter-widgets/controls",
            "_model_module_version": "1.5.0",
            "_model_name": "DescriptionStyleModel",
            "_view_count": null,
            "_view_module": "@jupyter-widgets/base",
            "_view_module_version": "1.2.0",
            "_view_name": "StyleView",
            "description_width": ""
          }
        },
        "9fbd49b76087434a8aa11ce2ae33986c": {
          "model_module": "@jupyter-widgets/base",
          "model_name": "LayoutModel",
          "model_module_version": "1.2.0",
          "state": {
            "_model_module": "@jupyter-widgets/base",
            "_model_module_version": "1.2.0",
            "_model_name": "LayoutModel",
            "_view_count": null,
            "_view_module": "@jupyter-widgets/base",
            "_view_module_version": "1.2.0",
            "_view_name": "LayoutView",
            "align_content": null,
            "align_items": null,
            "align_self": null,
            "border": null,
            "bottom": null,
            "display": null,
            "flex": null,
            "flex_flow": null,
            "grid_area": null,
            "grid_auto_columns": null,
            "grid_auto_flow": null,
            "grid_auto_rows": null,
            "grid_column": null,
            "grid_gap": null,
            "grid_row": null,
            "grid_template_areas": null,
            "grid_template_columns": null,
            "grid_template_rows": null,
            "height": null,
            "justify_content": null,
            "justify_items": null,
            "left": null,
            "margin": null,
            "max_height": null,
            "max_width": null,
            "min_height": null,
            "min_width": null,
            "object_fit": null,
            "object_position": null,
            "order": null,
            "overflow": null,
            "overflow_x": null,
            "overflow_y": null,
            "padding": null,
            "right": null,
            "top": null,
            "visibility": null,
            "width": null
          }
        },
        "4c69d168eb3640ad9e39ce3439d0ea46": {
          "model_module": "@jupyter-widgets/controls",
          "model_name": "ProgressStyleModel",
          "model_module_version": "1.5.0",
          "state": {
            "_model_module": "@jupyter-widgets/controls",
            "_model_module_version": "1.5.0",
            "_model_name": "ProgressStyleModel",
            "_view_count": null,
            "_view_module": "@jupyter-widgets/base",
            "_view_module_version": "1.2.0",
            "_view_name": "StyleView",
            "bar_color": null,
            "description_width": ""
          }
        },
        "60bc4703052541a8a17692357d939b45": {
          "model_module": "@jupyter-widgets/base",
          "model_name": "LayoutModel",
          "model_module_version": "1.2.0",
          "state": {
            "_model_module": "@jupyter-widgets/base",
            "_model_module_version": "1.2.0",
            "_model_name": "LayoutModel",
            "_view_count": null,
            "_view_module": "@jupyter-widgets/base",
            "_view_module_version": "1.2.0",
            "_view_name": "LayoutView",
            "align_content": null,
            "align_items": null,
            "align_self": null,
            "border": null,
            "bottom": null,
            "display": null,
            "flex": null,
            "flex_flow": null,
            "grid_area": null,
            "grid_auto_columns": null,
            "grid_auto_flow": null,
            "grid_auto_rows": null,
            "grid_column": null,
            "grid_gap": null,
            "grid_row": null,
            "grid_template_areas": null,
            "grid_template_columns": null,
            "grid_template_rows": null,
            "height": null,
            "justify_content": null,
            "justify_items": null,
            "left": null,
            "margin": null,
            "max_height": null,
            "max_width": null,
            "min_height": null,
            "min_width": null,
            "object_fit": null,
            "object_position": null,
            "order": null,
            "overflow": null,
            "overflow_x": null,
            "overflow_y": null,
            "padding": null,
            "right": null,
            "top": null,
            "visibility": null,
            "width": null
          }
        },
        "2c9e7308b9f4490f89017726d94b0af8": {
          "model_module": "@jupyter-widgets/controls",
          "model_name": "DescriptionStyleModel",
          "model_module_version": "1.5.0",
          "state": {
            "_model_module": "@jupyter-widgets/controls",
            "_model_module_version": "1.5.0",
            "_model_name": "DescriptionStyleModel",
            "_view_count": null,
            "_view_module": "@jupyter-widgets/base",
            "_view_module_version": "1.2.0",
            "_view_name": "StyleView",
            "description_width": ""
          }
        },
        "33a21e1cdbd44f60961487eec2ded7ff": {
          "model_module": "@jupyter-widgets/controls",
          "model_name": "HBoxModel",
          "model_module_version": "1.5.0",
          "state": {
            "_dom_classes": [],
            "_model_module": "@jupyter-widgets/controls",
            "_model_module_version": "1.5.0",
            "_model_name": "HBoxModel",
            "_view_count": null,
            "_view_module": "@jupyter-widgets/controls",
            "_view_module_version": "1.5.0",
            "_view_name": "HBoxView",
            "box_style": "",
            "children": [
              "IPY_MODEL_c8cfbde3f93e40c1af3ec75151e684e1",
              "IPY_MODEL_d75ce7974bd94283ab014cae18bbc137",
              "IPY_MODEL_b998be1d668f4f2389bc5204095193ae"
            ],
            "layout": "IPY_MODEL_868c6cc7a32249e1a5ba784768dd48ee"
          }
        },
        "c8cfbde3f93e40c1af3ec75151e684e1": {
          "model_module": "@jupyter-widgets/controls",
          "model_name": "HTMLModel",
          "model_module_version": "1.5.0",
          "state": {
            "_dom_classes": [],
            "_model_module": "@jupyter-widgets/controls",
            "_model_module_version": "1.5.0",
            "_model_name": "HTMLModel",
            "_view_count": null,
            "_view_module": "@jupyter-widgets/controls",
            "_view_module_version": "1.5.0",
            "_view_name": "HTMLView",
            "description": "",
            "description_tooltip": null,
            "layout": "IPY_MODEL_86a1a95013554d9aa272710bcb555176",
            "placeholder": "​",
            "style": "IPY_MODEL_7250d8fb646e44da8b0ebe45d78f1044",
            "value": "Downloading (…)cial_tokens_map.json: 100%"
          }
        },
        "d75ce7974bd94283ab014cae18bbc137": {
          "model_module": "@jupyter-widgets/controls",
          "model_name": "FloatProgressModel",
          "model_module_version": "1.5.0",
          "state": {
            "_dom_classes": [],
            "_model_module": "@jupyter-widgets/controls",
            "_model_module_version": "1.5.0",
            "_model_name": "FloatProgressModel",
            "_view_count": null,
            "_view_module": "@jupyter-widgets/controls",
            "_view_module_version": "1.5.0",
            "_view_name": "ProgressView",
            "bar_style": "success",
            "description": "",
            "description_tooltip": null,
            "layout": "IPY_MODEL_74ed227ee6974ca88455b3dfc5bb2a50",
            "max": 281,
            "min": 0,
            "orientation": "horizontal",
            "style": "IPY_MODEL_b78d68ac36704e859d52fdbab11cb5bb",
            "value": 281
          }
        },
        "b998be1d668f4f2389bc5204095193ae": {
          "model_module": "@jupyter-widgets/controls",
          "model_name": "HTMLModel",
          "model_module_version": "1.5.0",
          "state": {
            "_dom_classes": [],
            "_model_module": "@jupyter-widgets/controls",
            "_model_module_version": "1.5.0",
            "_model_name": "HTMLModel",
            "_view_count": null,
            "_view_module": "@jupyter-widgets/controls",
            "_view_module_version": "1.5.0",
            "_view_name": "HTMLView",
            "description": "",
            "description_tooltip": null,
            "layout": "IPY_MODEL_ece4d79ff6f64d3582df950076ef779f",
            "placeholder": "​",
            "style": "IPY_MODEL_6d7c24e62a734e4b85c86cb2ff3165ee",
            "value": " 281/281 [00:00&lt;00:00, 8.04kB/s]"
          }
        },
        "868c6cc7a32249e1a5ba784768dd48ee": {
          "model_module": "@jupyter-widgets/base",
          "model_name": "LayoutModel",
          "model_module_version": "1.2.0",
          "state": {
            "_model_module": "@jupyter-widgets/base",
            "_model_module_version": "1.2.0",
            "_model_name": "LayoutModel",
            "_view_count": null,
            "_view_module": "@jupyter-widgets/base",
            "_view_module_version": "1.2.0",
            "_view_name": "LayoutView",
            "align_content": null,
            "align_items": null,
            "align_self": null,
            "border": null,
            "bottom": null,
            "display": null,
            "flex": null,
            "flex_flow": null,
            "grid_area": null,
            "grid_auto_columns": null,
            "grid_auto_flow": null,
            "grid_auto_rows": null,
            "grid_column": null,
            "grid_gap": null,
            "grid_row": null,
            "grid_template_areas": null,
            "grid_template_columns": null,
            "grid_template_rows": null,
            "height": null,
            "justify_content": null,
            "justify_items": null,
            "left": null,
            "margin": null,
            "max_height": null,
            "max_width": null,
            "min_height": null,
            "min_width": null,
            "object_fit": null,
            "object_position": null,
            "order": null,
            "overflow": null,
            "overflow_x": null,
            "overflow_y": null,
            "padding": null,
            "right": null,
            "top": null,
            "visibility": null,
            "width": null
          }
        },
        "86a1a95013554d9aa272710bcb555176": {
          "model_module": "@jupyter-widgets/base",
          "model_name": "LayoutModel",
          "model_module_version": "1.2.0",
          "state": {
            "_model_module": "@jupyter-widgets/base",
            "_model_module_version": "1.2.0",
            "_model_name": "LayoutModel",
            "_view_count": null,
            "_view_module": "@jupyter-widgets/base",
            "_view_module_version": "1.2.0",
            "_view_name": "LayoutView",
            "align_content": null,
            "align_items": null,
            "align_self": null,
            "border": null,
            "bottom": null,
            "display": null,
            "flex": null,
            "flex_flow": null,
            "grid_area": null,
            "grid_auto_columns": null,
            "grid_auto_flow": null,
            "grid_auto_rows": null,
            "grid_column": null,
            "grid_gap": null,
            "grid_row": null,
            "grid_template_areas": null,
            "grid_template_columns": null,
            "grid_template_rows": null,
            "height": null,
            "justify_content": null,
            "justify_items": null,
            "left": null,
            "margin": null,
            "max_height": null,
            "max_width": null,
            "min_height": null,
            "min_width": null,
            "object_fit": null,
            "object_position": null,
            "order": null,
            "overflow": null,
            "overflow_x": null,
            "overflow_y": null,
            "padding": null,
            "right": null,
            "top": null,
            "visibility": null,
            "width": null
          }
        },
        "7250d8fb646e44da8b0ebe45d78f1044": {
          "model_module": "@jupyter-widgets/controls",
          "model_name": "DescriptionStyleModel",
          "model_module_version": "1.5.0",
          "state": {
            "_model_module": "@jupyter-widgets/controls",
            "_model_module_version": "1.5.0",
            "_model_name": "DescriptionStyleModel",
            "_view_count": null,
            "_view_module": "@jupyter-widgets/base",
            "_view_module_version": "1.2.0",
            "_view_name": "StyleView",
            "description_width": ""
          }
        },
        "74ed227ee6974ca88455b3dfc5bb2a50": {
          "model_module": "@jupyter-widgets/base",
          "model_name": "LayoutModel",
          "model_module_version": "1.2.0",
          "state": {
            "_model_module": "@jupyter-widgets/base",
            "_model_module_version": "1.2.0",
            "_model_name": "LayoutModel",
            "_view_count": null,
            "_view_module": "@jupyter-widgets/base",
            "_view_module_version": "1.2.0",
            "_view_name": "LayoutView",
            "align_content": null,
            "align_items": null,
            "align_self": null,
            "border": null,
            "bottom": null,
            "display": null,
            "flex": null,
            "flex_flow": null,
            "grid_area": null,
            "grid_auto_columns": null,
            "grid_auto_flow": null,
            "grid_auto_rows": null,
            "grid_column": null,
            "grid_gap": null,
            "grid_row": null,
            "grid_template_areas": null,
            "grid_template_columns": null,
            "grid_template_rows": null,
            "height": null,
            "justify_content": null,
            "justify_items": null,
            "left": null,
            "margin": null,
            "max_height": null,
            "max_width": null,
            "min_height": null,
            "min_width": null,
            "object_fit": null,
            "object_position": null,
            "order": null,
            "overflow": null,
            "overflow_x": null,
            "overflow_y": null,
            "padding": null,
            "right": null,
            "top": null,
            "visibility": null,
            "width": null
          }
        },
        "b78d68ac36704e859d52fdbab11cb5bb": {
          "model_module": "@jupyter-widgets/controls",
          "model_name": "ProgressStyleModel",
          "model_module_version": "1.5.0",
          "state": {
            "_model_module": "@jupyter-widgets/controls",
            "_model_module_version": "1.5.0",
            "_model_name": "ProgressStyleModel",
            "_view_count": null,
            "_view_module": "@jupyter-widgets/base",
            "_view_module_version": "1.2.0",
            "_view_name": "StyleView",
            "bar_color": null,
            "description_width": ""
          }
        },
        "ece4d79ff6f64d3582df950076ef779f": {
          "model_module": "@jupyter-widgets/base",
          "model_name": "LayoutModel",
          "model_module_version": "1.2.0",
          "state": {
            "_model_module": "@jupyter-widgets/base",
            "_model_module_version": "1.2.0",
            "_model_name": "LayoutModel",
            "_view_count": null,
            "_view_module": "@jupyter-widgets/base",
            "_view_module_version": "1.2.0",
            "_view_name": "LayoutView",
            "align_content": null,
            "align_items": null,
            "align_self": null,
            "border": null,
            "bottom": null,
            "display": null,
            "flex": null,
            "flex_flow": null,
            "grid_area": null,
            "grid_auto_columns": null,
            "grid_auto_flow": null,
            "grid_auto_rows": null,
            "grid_column": null,
            "grid_gap": null,
            "grid_row": null,
            "grid_template_areas": null,
            "grid_template_columns": null,
            "grid_template_rows": null,
            "height": null,
            "justify_content": null,
            "justify_items": null,
            "left": null,
            "margin": null,
            "max_height": null,
            "max_width": null,
            "min_height": null,
            "min_width": null,
            "object_fit": null,
            "object_position": null,
            "order": null,
            "overflow": null,
            "overflow_x": null,
            "overflow_y": null,
            "padding": null,
            "right": null,
            "top": null,
            "visibility": null,
            "width": null
          }
        },
        "6d7c24e62a734e4b85c86cb2ff3165ee": {
          "model_module": "@jupyter-widgets/controls",
          "model_name": "DescriptionStyleModel",
          "model_module_version": "1.5.0",
          "state": {
            "_model_module": "@jupyter-widgets/controls",
            "_model_module_version": "1.5.0",
            "_model_name": "DescriptionStyleModel",
            "_view_count": null,
            "_view_module": "@jupyter-widgets/base",
            "_view_module_version": "1.2.0",
            "_view_name": "StyleView",
            "description_width": ""
          }
        },
        "de973b6724044bdba7ba8358460993b6": {
          "model_module": "@jupyter-widgets/controls",
          "model_name": "HBoxModel",
          "model_module_version": "1.5.0",
          "state": {
            "_dom_classes": [],
            "_model_module": "@jupyter-widgets/controls",
            "_model_module_version": "1.5.0",
            "_model_name": "HBoxModel",
            "_view_count": null,
            "_view_module": "@jupyter-widgets/controls",
            "_view_module_version": "1.5.0",
            "_view_name": "HBoxView",
            "box_style": "",
            "children": [
              "IPY_MODEL_df25eb01b6c04a4da1c4217011a9b3a7",
              "IPY_MODEL_b3bf46af814a4637903035599fc6053a",
              "IPY_MODEL_a774685b034c4682a25ae80a10807d4a"
            ],
            "layout": "IPY_MODEL_fad90929dd8949f4805c48a8f766b13d"
          }
        },
        "df25eb01b6c04a4da1c4217011a9b3a7": {
          "model_module": "@jupyter-widgets/controls",
          "model_name": "HTMLModel",
          "model_module_version": "1.5.0",
          "state": {
            "_dom_classes": [],
            "_model_module": "@jupyter-widgets/controls",
            "_model_module_version": "1.5.0",
            "_model_name": "HTMLModel",
            "_view_count": null,
            "_view_module": "@jupyter-widgets/controls",
            "_view_module_version": "1.5.0",
            "_view_name": "HTMLView",
            "description": "",
            "description_tooltip": null,
            "layout": "IPY_MODEL_1581b1c8b3f14b5ea69d45511f9e915d",
            "placeholder": "​",
            "style": "IPY_MODEL_47b2b779b2b846649701f05fa070fcd7",
            "value": "Downloading (…)lve/main/config.json: 100%"
          }
        },
        "b3bf46af814a4637903035599fc6053a": {
          "model_module": "@jupyter-widgets/controls",
          "model_name": "FloatProgressModel",
          "model_module_version": "1.5.0",
          "state": {
            "_dom_classes": [],
            "_model_module": "@jupyter-widgets/controls",
            "_model_module_version": "1.5.0",
            "_model_name": "FloatProgressModel",
            "_view_count": null,
            "_view_module": "@jupyter-widgets/controls",
            "_view_module_version": "1.5.0",
            "_view_name": "ProgressView",
            "bar_style": "success",
            "description": "",
            "description_tooltip": null,
            "layout": "IPY_MODEL_1968ab912a594f749c34d752f3e75a34",
            "max": 667,
            "min": 0,
            "orientation": "horizontal",
            "style": "IPY_MODEL_639ca62014fb4073b92fbad5af5ad6bc",
            "value": 667
          }
        },
        "a774685b034c4682a25ae80a10807d4a": {
          "model_module": "@jupyter-widgets/controls",
          "model_name": "HTMLModel",
          "model_module_version": "1.5.0",
          "state": {
            "_dom_classes": [],
            "_model_module": "@jupyter-widgets/controls",
            "_model_module_version": "1.5.0",
            "_model_name": "HTMLModel",
            "_view_count": null,
            "_view_module": "@jupyter-widgets/controls",
            "_view_module_version": "1.5.0",
            "_view_name": "HTMLView",
            "description": "",
            "description_tooltip": null,
            "layout": "IPY_MODEL_20ee771d78c448e5b755e814f9590238",
            "placeholder": "​",
            "style": "IPY_MODEL_ccfd29334af748ad8e3546419ee4d241",
            "value": " 667/667 [00:00&lt;00:00, 13.2kB/s]"
          }
        },
        "fad90929dd8949f4805c48a8f766b13d": {
          "model_module": "@jupyter-widgets/base",
          "model_name": "LayoutModel",
          "model_module_version": "1.2.0",
          "state": {
            "_model_module": "@jupyter-widgets/base",
            "_model_module_version": "1.2.0",
            "_model_name": "LayoutModel",
            "_view_count": null,
            "_view_module": "@jupyter-widgets/base",
            "_view_module_version": "1.2.0",
            "_view_name": "LayoutView",
            "align_content": null,
            "align_items": null,
            "align_self": null,
            "border": null,
            "bottom": null,
            "display": null,
            "flex": null,
            "flex_flow": null,
            "grid_area": null,
            "grid_auto_columns": null,
            "grid_auto_flow": null,
            "grid_auto_rows": null,
            "grid_column": null,
            "grid_gap": null,
            "grid_row": null,
            "grid_template_areas": null,
            "grid_template_columns": null,
            "grid_template_rows": null,
            "height": null,
            "justify_content": null,
            "justify_items": null,
            "left": null,
            "margin": null,
            "max_height": null,
            "max_width": null,
            "min_height": null,
            "min_width": null,
            "object_fit": null,
            "object_position": null,
            "order": null,
            "overflow": null,
            "overflow_x": null,
            "overflow_y": null,
            "padding": null,
            "right": null,
            "top": null,
            "visibility": null,
            "width": null
          }
        },
        "1581b1c8b3f14b5ea69d45511f9e915d": {
          "model_module": "@jupyter-widgets/base",
          "model_name": "LayoutModel",
          "model_module_version": "1.2.0",
          "state": {
            "_model_module": "@jupyter-widgets/base",
            "_model_module_version": "1.2.0",
            "_model_name": "LayoutModel",
            "_view_count": null,
            "_view_module": "@jupyter-widgets/base",
            "_view_module_version": "1.2.0",
            "_view_name": "LayoutView",
            "align_content": null,
            "align_items": null,
            "align_self": null,
            "border": null,
            "bottom": null,
            "display": null,
            "flex": null,
            "flex_flow": null,
            "grid_area": null,
            "grid_auto_columns": null,
            "grid_auto_flow": null,
            "grid_auto_rows": null,
            "grid_column": null,
            "grid_gap": null,
            "grid_row": null,
            "grid_template_areas": null,
            "grid_template_columns": null,
            "grid_template_rows": null,
            "height": null,
            "justify_content": null,
            "justify_items": null,
            "left": null,
            "margin": null,
            "max_height": null,
            "max_width": null,
            "min_height": null,
            "min_width": null,
            "object_fit": null,
            "object_position": null,
            "order": null,
            "overflow": null,
            "overflow_x": null,
            "overflow_y": null,
            "padding": null,
            "right": null,
            "top": null,
            "visibility": null,
            "width": null
          }
        },
        "47b2b779b2b846649701f05fa070fcd7": {
          "model_module": "@jupyter-widgets/controls",
          "model_name": "DescriptionStyleModel",
          "model_module_version": "1.5.0",
          "state": {
            "_model_module": "@jupyter-widgets/controls",
            "_model_module_version": "1.5.0",
            "_model_name": "DescriptionStyleModel",
            "_view_count": null,
            "_view_module": "@jupyter-widgets/base",
            "_view_module_version": "1.2.0",
            "_view_name": "StyleView",
            "description_width": ""
          }
        },
        "1968ab912a594f749c34d752f3e75a34": {
          "model_module": "@jupyter-widgets/base",
          "model_name": "LayoutModel",
          "model_module_version": "1.2.0",
          "state": {
            "_model_module": "@jupyter-widgets/base",
            "_model_module_version": "1.2.0",
            "_model_name": "LayoutModel",
            "_view_count": null,
            "_view_module": "@jupyter-widgets/base",
            "_view_module_version": "1.2.0",
            "_view_name": "LayoutView",
            "align_content": null,
            "align_items": null,
            "align_self": null,
            "border": null,
            "bottom": null,
            "display": null,
            "flex": null,
            "flex_flow": null,
            "grid_area": null,
            "grid_auto_columns": null,
            "grid_auto_flow": null,
            "grid_auto_rows": null,
            "grid_column": null,
            "grid_gap": null,
            "grid_row": null,
            "grid_template_areas": null,
            "grid_template_columns": null,
            "grid_template_rows": null,
            "height": null,
            "justify_content": null,
            "justify_items": null,
            "left": null,
            "margin": null,
            "max_height": null,
            "max_width": null,
            "min_height": null,
            "min_width": null,
            "object_fit": null,
            "object_position": null,
            "order": null,
            "overflow": null,
            "overflow_x": null,
            "overflow_y": null,
            "padding": null,
            "right": null,
            "top": null,
            "visibility": null,
            "width": null
          }
        },
        "639ca62014fb4073b92fbad5af5ad6bc": {
          "model_module": "@jupyter-widgets/controls",
          "model_name": "ProgressStyleModel",
          "model_module_version": "1.5.0",
          "state": {
            "_model_module": "@jupyter-widgets/controls",
            "_model_module_version": "1.5.0",
            "_model_name": "ProgressStyleModel",
            "_view_count": null,
            "_view_module": "@jupyter-widgets/base",
            "_view_module_version": "1.2.0",
            "_view_name": "StyleView",
            "bar_color": null,
            "description_width": ""
          }
        },
        "20ee771d78c448e5b755e814f9590238": {
          "model_module": "@jupyter-widgets/base",
          "model_name": "LayoutModel",
          "model_module_version": "1.2.0",
          "state": {
            "_model_module": "@jupyter-widgets/base",
            "_model_module_version": "1.2.0",
            "_model_name": "LayoutModel",
            "_view_count": null,
            "_view_module": "@jupyter-widgets/base",
            "_view_module_version": "1.2.0",
            "_view_name": "LayoutView",
            "align_content": null,
            "align_items": null,
            "align_self": null,
            "border": null,
            "bottom": null,
            "display": null,
            "flex": null,
            "flex_flow": null,
            "grid_area": null,
            "grid_auto_columns": null,
            "grid_auto_flow": null,
            "grid_auto_rows": null,
            "grid_column": null,
            "grid_gap": null,
            "grid_row": null,
            "grid_template_areas": null,
            "grid_template_columns": null,
            "grid_template_rows": null,
            "height": null,
            "justify_content": null,
            "justify_items": null,
            "left": null,
            "margin": null,
            "max_height": null,
            "max_width": null,
            "min_height": null,
            "min_width": null,
            "object_fit": null,
            "object_position": null,
            "order": null,
            "overflow": null,
            "overflow_x": null,
            "overflow_y": null,
            "padding": null,
            "right": null,
            "top": null,
            "visibility": null,
            "width": null
          }
        },
        "ccfd29334af748ad8e3546419ee4d241": {
          "model_module": "@jupyter-widgets/controls",
          "model_name": "DescriptionStyleModel",
          "model_module_version": "1.5.0",
          "state": {
            "_model_module": "@jupyter-widgets/controls",
            "_model_module_version": "1.5.0",
            "_model_name": "DescriptionStyleModel",
            "_view_count": null,
            "_view_module": "@jupyter-widgets/base",
            "_view_module_version": "1.2.0",
            "_view_name": "StyleView",
            "description_width": ""
          }
        },
        "4db0ac6b892245d28821315d850a1778": {
          "model_module": "@jupyter-widgets/controls",
          "model_name": "HBoxModel",
          "model_module_version": "1.5.0",
          "state": {
            "_dom_classes": [],
            "_model_module": "@jupyter-widgets/controls",
            "_model_module_version": "1.5.0",
            "_model_name": "HBoxModel",
            "_view_count": null,
            "_view_module": "@jupyter-widgets/controls",
            "_view_module_version": "1.5.0",
            "_view_name": "HBoxView",
            "box_style": "",
            "children": [
              "IPY_MODEL_76055e0851fb4fe5b30f91fa52dd26d6",
              "IPY_MODEL_b2a3b74bbafc447c92b35d6b000b84b2",
              "IPY_MODEL_e3e929d5224147f89825dc3fe40fb0ba"
            ],
            "layout": "IPY_MODEL_5d33d59fc3f54dec8b15c487b0cfa763"
          }
        },
        "76055e0851fb4fe5b30f91fa52dd26d6": {
          "model_module": "@jupyter-widgets/controls",
          "model_name": "HTMLModel",
          "model_module_version": "1.5.0",
          "state": {
            "_dom_classes": [],
            "_model_module": "@jupyter-widgets/controls",
            "_model_module_version": "1.5.0",
            "_model_name": "HTMLModel",
            "_view_count": null,
            "_view_module": "@jupyter-widgets/controls",
            "_view_module_version": "1.5.0",
            "_view_name": "HTMLView",
            "description": "",
            "description_tooltip": null,
            "layout": "IPY_MODEL_9bec121f9e724f16889140b64bac0e70",
            "placeholder": "​",
            "style": "IPY_MODEL_dd3e8cbf628f4afa97b8c4492af8c92e",
            "value": "Downloading (…)/configuration_RW.py: 100%"
          }
        },
        "b2a3b74bbafc447c92b35d6b000b84b2": {
          "model_module": "@jupyter-widgets/controls",
          "model_name": "FloatProgressModel",
          "model_module_version": "1.5.0",
          "state": {
            "_dom_classes": [],
            "_model_module": "@jupyter-widgets/controls",
            "_model_module_version": "1.5.0",
            "_model_name": "FloatProgressModel",
            "_view_count": null,
            "_view_module": "@jupyter-widgets/controls",
            "_view_module_version": "1.5.0",
            "_view_name": "ProgressView",
            "bar_style": "success",
            "description": "",
            "description_tooltip": null,
            "layout": "IPY_MODEL_a399a990450841fda9daf81086bce84a",
            "max": 2607,
            "min": 0,
            "orientation": "horizontal",
            "style": "IPY_MODEL_51b83fe250194040847921f096bb35e0",
            "value": 2607
          }
        },
        "e3e929d5224147f89825dc3fe40fb0ba": {
          "model_module": "@jupyter-widgets/controls",
          "model_name": "HTMLModel",
          "model_module_version": "1.5.0",
          "state": {
            "_dom_classes": [],
            "_model_module": "@jupyter-widgets/controls",
            "_model_module_version": "1.5.0",
            "_model_name": "HTMLModel",
            "_view_count": null,
            "_view_module": "@jupyter-widgets/controls",
            "_view_module_version": "1.5.0",
            "_view_name": "HTMLView",
            "description": "",
            "description_tooltip": null,
            "layout": "IPY_MODEL_86a87c03e9554845bee5a612c258f8b8",
            "placeholder": "​",
            "style": "IPY_MODEL_fb528e15ee1d4398868aa68d45029812",
            "value": " 2.61k/2.61k [00:00&lt;00:00, 76.3kB/s]"
          }
        },
        "5d33d59fc3f54dec8b15c487b0cfa763": {
          "model_module": "@jupyter-widgets/base",
          "model_name": "LayoutModel",
          "model_module_version": "1.2.0",
          "state": {
            "_model_module": "@jupyter-widgets/base",
            "_model_module_version": "1.2.0",
            "_model_name": "LayoutModel",
            "_view_count": null,
            "_view_module": "@jupyter-widgets/base",
            "_view_module_version": "1.2.0",
            "_view_name": "LayoutView",
            "align_content": null,
            "align_items": null,
            "align_self": null,
            "border": null,
            "bottom": null,
            "display": null,
            "flex": null,
            "flex_flow": null,
            "grid_area": null,
            "grid_auto_columns": null,
            "grid_auto_flow": null,
            "grid_auto_rows": null,
            "grid_column": null,
            "grid_gap": null,
            "grid_row": null,
            "grid_template_areas": null,
            "grid_template_columns": null,
            "grid_template_rows": null,
            "height": null,
            "justify_content": null,
            "justify_items": null,
            "left": null,
            "margin": null,
            "max_height": null,
            "max_width": null,
            "min_height": null,
            "min_width": null,
            "object_fit": null,
            "object_position": null,
            "order": null,
            "overflow": null,
            "overflow_x": null,
            "overflow_y": null,
            "padding": null,
            "right": null,
            "top": null,
            "visibility": null,
            "width": null
          }
        },
        "9bec121f9e724f16889140b64bac0e70": {
          "model_module": "@jupyter-widgets/base",
          "model_name": "LayoutModel",
          "model_module_version": "1.2.0",
          "state": {
            "_model_module": "@jupyter-widgets/base",
            "_model_module_version": "1.2.0",
            "_model_name": "LayoutModel",
            "_view_count": null,
            "_view_module": "@jupyter-widgets/base",
            "_view_module_version": "1.2.0",
            "_view_name": "LayoutView",
            "align_content": null,
            "align_items": null,
            "align_self": null,
            "border": null,
            "bottom": null,
            "display": null,
            "flex": null,
            "flex_flow": null,
            "grid_area": null,
            "grid_auto_columns": null,
            "grid_auto_flow": null,
            "grid_auto_rows": null,
            "grid_column": null,
            "grid_gap": null,
            "grid_row": null,
            "grid_template_areas": null,
            "grid_template_columns": null,
            "grid_template_rows": null,
            "height": null,
            "justify_content": null,
            "justify_items": null,
            "left": null,
            "margin": null,
            "max_height": null,
            "max_width": null,
            "min_height": null,
            "min_width": null,
            "object_fit": null,
            "object_position": null,
            "order": null,
            "overflow": null,
            "overflow_x": null,
            "overflow_y": null,
            "padding": null,
            "right": null,
            "top": null,
            "visibility": null,
            "width": null
          }
        },
        "dd3e8cbf628f4afa97b8c4492af8c92e": {
          "model_module": "@jupyter-widgets/controls",
          "model_name": "DescriptionStyleModel",
          "model_module_version": "1.5.0",
          "state": {
            "_model_module": "@jupyter-widgets/controls",
            "_model_module_version": "1.5.0",
            "_model_name": "DescriptionStyleModel",
            "_view_count": null,
            "_view_module": "@jupyter-widgets/base",
            "_view_module_version": "1.2.0",
            "_view_name": "StyleView",
            "description_width": ""
          }
        },
        "a399a990450841fda9daf81086bce84a": {
          "model_module": "@jupyter-widgets/base",
          "model_name": "LayoutModel",
          "model_module_version": "1.2.0",
          "state": {
            "_model_module": "@jupyter-widgets/base",
            "_model_module_version": "1.2.0",
            "_model_name": "LayoutModel",
            "_view_count": null,
            "_view_module": "@jupyter-widgets/base",
            "_view_module_version": "1.2.0",
            "_view_name": "LayoutView",
            "align_content": null,
            "align_items": null,
            "align_self": null,
            "border": null,
            "bottom": null,
            "display": null,
            "flex": null,
            "flex_flow": null,
            "grid_area": null,
            "grid_auto_columns": null,
            "grid_auto_flow": null,
            "grid_auto_rows": null,
            "grid_column": null,
            "grid_gap": null,
            "grid_row": null,
            "grid_template_areas": null,
            "grid_template_columns": null,
            "grid_template_rows": null,
            "height": null,
            "justify_content": null,
            "justify_items": null,
            "left": null,
            "margin": null,
            "max_height": null,
            "max_width": null,
            "min_height": null,
            "min_width": null,
            "object_fit": null,
            "object_position": null,
            "order": null,
            "overflow": null,
            "overflow_x": null,
            "overflow_y": null,
            "padding": null,
            "right": null,
            "top": null,
            "visibility": null,
            "width": null
          }
        },
        "51b83fe250194040847921f096bb35e0": {
          "model_module": "@jupyter-widgets/controls",
          "model_name": "ProgressStyleModel",
          "model_module_version": "1.5.0",
          "state": {
            "_model_module": "@jupyter-widgets/controls",
            "_model_module_version": "1.5.0",
            "_model_name": "ProgressStyleModel",
            "_view_count": null,
            "_view_module": "@jupyter-widgets/base",
            "_view_module_version": "1.2.0",
            "_view_name": "StyleView",
            "bar_color": null,
            "description_width": ""
          }
        },
        "86a87c03e9554845bee5a612c258f8b8": {
          "model_module": "@jupyter-widgets/base",
          "model_name": "LayoutModel",
          "model_module_version": "1.2.0",
          "state": {
            "_model_module": "@jupyter-widgets/base",
            "_model_module_version": "1.2.0",
            "_model_name": "LayoutModel",
            "_view_count": null,
            "_view_module": "@jupyter-widgets/base",
            "_view_module_version": "1.2.0",
            "_view_name": "LayoutView",
            "align_content": null,
            "align_items": null,
            "align_self": null,
            "border": null,
            "bottom": null,
            "display": null,
            "flex": null,
            "flex_flow": null,
            "grid_area": null,
            "grid_auto_columns": null,
            "grid_auto_flow": null,
            "grid_auto_rows": null,
            "grid_column": null,
            "grid_gap": null,
            "grid_row": null,
            "grid_template_areas": null,
            "grid_template_columns": null,
            "grid_template_rows": null,
            "height": null,
            "justify_content": null,
            "justify_items": null,
            "left": null,
            "margin": null,
            "max_height": null,
            "max_width": null,
            "min_height": null,
            "min_width": null,
            "object_fit": null,
            "object_position": null,
            "order": null,
            "overflow": null,
            "overflow_x": null,
            "overflow_y": null,
            "padding": null,
            "right": null,
            "top": null,
            "visibility": null,
            "width": null
          }
        },
        "fb528e15ee1d4398868aa68d45029812": {
          "model_module": "@jupyter-widgets/controls",
          "model_name": "DescriptionStyleModel",
          "model_module_version": "1.5.0",
          "state": {
            "_model_module": "@jupyter-widgets/controls",
            "_model_module_version": "1.5.0",
            "_model_name": "DescriptionStyleModel",
            "_view_count": null,
            "_view_module": "@jupyter-widgets/base",
            "_view_module_version": "1.2.0",
            "_view_name": "StyleView",
            "description_width": ""
          }
        },
        "5b58882a50084ba89a03fb6bffaea51c": {
          "model_module": "@jupyter-widgets/controls",
          "model_name": "HBoxModel",
          "model_module_version": "1.5.0",
          "state": {
            "_dom_classes": [],
            "_model_module": "@jupyter-widgets/controls",
            "_model_module_version": "1.5.0",
            "_model_name": "HBoxModel",
            "_view_count": null,
            "_view_module": "@jupyter-widgets/controls",
            "_view_module_version": "1.5.0",
            "_view_name": "HBoxView",
            "box_style": "",
            "children": [
              "IPY_MODEL_20e892246b214abfa63ebc25306bb104",
              "IPY_MODEL_fd08694108eb421fabe30171de38ca87",
              "IPY_MODEL_5b502e61ef8d419db42a28afc7debc86"
            ],
            "layout": "IPY_MODEL_23c485e755ad462baccb9e6446246459"
          }
        },
        "20e892246b214abfa63ebc25306bb104": {
          "model_module": "@jupyter-widgets/controls",
          "model_name": "HTMLModel",
          "model_module_version": "1.5.0",
          "state": {
            "_dom_classes": [],
            "_model_module": "@jupyter-widgets/controls",
            "_model_module_version": "1.5.0",
            "_model_name": "HTMLModel",
            "_view_count": null,
            "_view_module": "@jupyter-widgets/controls",
            "_view_module_version": "1.5.0",
            "_view_name": "HTMLView",
            "description": "",
            "description_tooltip": null,
            "layout": "IPY_MODEL_13124b6f625b4e3db148fae105b00f51",
            "placeholder": "​",
            "style": "IPY_MODEL_cadb5b9b33be4c65a049d1651dff7e11",
            "value": "Downloading (…)main/modelling_RW.py: 100%"
          }
        },
        "fd08694108eb421fabe30171de38ca87": {
          "model_module": "@jupyter-widgets/controls",
          "model_name": "FloatProgressModel",
          "model_module_version": "1.5.0",
          "state": {
            "_dom_classes": [],
            "_model_module": "@jupyter-widgets/controls",
            "_model_module_version": "1.5.0",
            "_model_name": "FloatProgressModel",
            "_view_count": null,
            "_view_module": "@jupyter-widgets/controls",
            "_view_module_version": "1.5.0",
            "_view_name": "ProgressView",
            "bar_style": "success",
            "description": "",
            "description_tooltip": null,
            "layout": "IPY_MODEL_2cc618c811bd438ea2eb8984320342c6",
            "max": 47520,
            "min": 0,
            "orientation": "horizontal",
            "style": "IPY_MODEL_a820489e20f445108a919e239e98dae3",
            "value": 47520
          }
        },
        "5b502e61ef8d419db42a28afc7debc86": {
          "model_module": "@jupyter-widgets/controls",
          "model_name": "HTMLModel",
          "model_module_version": "1.5.0",
          "state": {
            "_dom_classes": [],
            "_model_module": "@jupyter-widgets/controls",
            "_model_module_version": "1.5.0",
            "_model_name": "HTMLModel",
            "_view_count": null,
            "_view_module": "@jupyter-widgets/controls",
            "_view_module_version": "1.5.0",
            "_view_name": "HTMLView",
            "description": "",
            "description_tooltip": null,
            "layout": "IPY_MODEL_14421766cb7f4dc58b13ca7152af0557",
            "placeholder": "​",
            "style": "IPY_MODEL_6fe73f3f8e424bdc82ddce1dd304ddf4",
            "value": " 47.5k/47.5k [00:00&lt;00:00, 837kB/s]"
          }
        },
        "23c485e755ad462baccb9e6446246459": {
          "model_module": "@jupyter-widgets/base",
          "model_name": "LayoutModel",
          "model_module_version": "1.2.0",
          "state": {
            "_model_module": "@jupyter-widgets/base",
            "_model_module_version": "1.2.0",
            "_model_name": "LayoutModel",
            "_view_count": null,
            "_view_module": "@jupyter-widgets/base",
            "_view_module_version": "1.2.0",
            "_view_name": "LayoutView",
            "align_content": null,
            "align_items": null,
            "align_self": null,
            "border": null,
            "bottom": null,
            "display": null,
            "flex": null,
            "flex_flow": null,
            "grid_area": null,
            "grid_auto_columns": null,
            "grid_auto_flow": null,
            "grid_auto_rows": null,
            "grid_column": null,
            "grid_gap": null,
            "grid_row": null,
            "grid_template_areas": null,
            "grid_template_columns": null,
            "grid_template_rows": null,
            "height": null,
            "justify_content": null,
            "justify_items": null,
            "left": null,
            "margin": null,
            "max_height": null,
            "max_width": null,
            "min_height": null,
            "min_width": null,
            "object_fit": null,
            "object_position": null,
            "order": null,
            "overflow": null,
            "overflow_x": null,
            "overflow_y": null,
            "padding": null,
            "right": null,
            "top": null,
            "visibility": null,
            "width": null
          }
        },
        "13124b6f625b4e3db148fae105b00f51": {
          "model_module": "@jupyter-widgets/base",
          "model_name": "LayoutModel",
          "model_module_version": "1.2.0",
          "state": {
            "_model_module": "@jupyter-widgets/base",
            "_model_module_version": "1.2.0",
            "_model_name": "LayoutModel",
            "_view_count": null,
            "_view_module": "@jupyter-widgets/base",
            "_view_module_version": "1.2.0",
            "_view_name": "LayoutView",
            "align_content": null,
            "align_items": null,
            "align_self": null,
            "border": null,
            "bottom": null,
            "display": null,
            "flex": null,
            "flex_flow": null,
            "grid_area": null,
            "grid_auto_columns": null,
            "grid_auto_flow": null,
            "grid_auto_rows": null,
            "grid_column": null,
            "grid_gap": null,
            "grid_row": null,
            "grid_template_areas": null,
            "grid_template_columns": null,
            "grid_template_rows": null,
            "height": null,
            "justify_content": null,
            "justify_items": null,
            "left": null,
            "margin": null,
            "max_height": null,
            "max_width": null,
            "min_height": null,
            "min_width": null,
            "object_fit": null,
            "object_position": null,
            "order": null,
            "overflow": null,
            "overflow_x": null,
            "overflow_y": null,
            "padding": null,
            "right": null,
            "top": null,
            "visibility": null,
            "width": null
          }
        },
        "cadb5b9b33be4c65a049d1651dff7e11": {
          "model_module": "@jupyter-widgets/controls",
          "model_name": "DescriptionStyleModel",
          "model_module_version": "1.5.0",
          "state": {
            "_model_module": "@jupyter-widgets/controls",
            "_model_module_version": "1.5.0",
            "_model_name": "DescriptionStyleModel",
            "_view_count": null,
            "_view_module": "@jupyter-widgets/base",
            "_view_module_version": "1.2.0",
            "_view_name": "StyleView",
            "description_width": ""
          }
        },
        "2cc618c811bd438ea2eb8984320342c6": {
          "model_module": "@jupyter-widgets/base",
          "model_name": "LayoutModel",
          "model_module_version": "1.2.0",
          "state": {
            "_model_module": "@jupyter-widgets/base",
            "_model_module_version": "1.2.0",
            "_model_name": "LayoutModel",
            "_view_count": null,
            "_view_module": "@jupyter-widgets/base",
            "_view_module_version": "1.2.0",
            "_view_name": "LayoutView",
            "align_content": null,
            "align_items": null,
            "align_self": null,
            "border": null,
            "bottom": null,
            "display": null,
            "flex": null,
            "flex_flow": null,
            "grid_area": null,
            "grid_auto_columns": null,
            "grid_auto_flow": null,
            "grid_auto_rows": null,
            "grid_column": null,
            "grid_gap": null,
            "grid_row": null,
            "grid_template_areas": null,
            "grid_template_columns": null,
            "grid_template_rows": null,
            "height": null,
            "justify_content": null,
            "justify_items": null,
            "left": null,
            "margin": null,
            "max_height": null,
            "max_width": null,
            "min_height": null,
            "min_width": null,
            "object_fit": null,
            "object_position": null,
            "order": null,
            "overflow": null,
            "overflow_x": null,
            "overflow_y": null,
            "padding": null,
            "right": null,
            "top": null,
            "visibility": null,
            "width": null
          }
        },
        "a820489e20f445108a919e239e98dae3": {
          "model_module": "@jupyter-widgets/controls",
          "model_name": "ProgressStyleModel",
          "model_module_version": "1.5.0",
          "state": {
            "_model_module": "@jupyter-widgets/controls",
            "_model_module_version": "1.5.0",
            "_model_name": "ProgressStyleModel",
            "_view_count": null,
            "_view_module": "@jupyter-widgets/base",
            "_view_module_version": "1.2.0",
            "_view_name": "StyleView",
            "bar_color": null,
            "description_width": ""
          }
        },
        "14421766cb7f4dc58b13ca7152af0557": {
          "model_module": "@jupyter-widgets/base",
          "model_name": "LayoutModel",
          "model_module_version": "1.2.0",
          "state": {
            "_model_module": "@jupyter-widgets/base",
            "_model_module_version": "1.2.0",
            "_model_name": "LayoutModel",
            "_view_count": null,
            "_view_module": "@jupyter-widgets/base",
            "_view_module_version": "1.2.0",
            "_view_name": "LayoutView",
            "align_content": null,
            "align_items": null,
            "align_self": null,
            "border": null,
            "bottom": null,
            "display": null,
            "flex": null,
            "flex_flow": null,
            "grid_area": null,
            "grid_auto_columns": null,
            "grid_auto_flow": null,
            "grid_auto_rows": null,
            "grid_column": null,
            "grid_gap": null,
            "grid_row": null,
            "grid_template_areas": null,
            "grid_template_columns": null,
            "grid_template_rows": null,
            "height": null,
            "justify_content": null,
            "justify_items": null,
            "left": null,
            "margin": null,
            "max_height": null,
            "max_width": null,
            "min_height": null,
            "min_width": null,
            "object_fit": null,
            "object_position": null,
            "order": null,
            "overflow": null,
            "overflow_x": null,
            "overflow_y": null,
            "padding": null,
            "right": null,
            "top": null,
            "visibility": null,
            "width": null
          }
        },
        "6fe73f3f8e424bdc82ddce1dd304ddf4": {
          "model_module": "@jupyter-widgets/controls",
          "model_name": "DescriptionStyleModel",
          "model_module_version": "1.5.0",
          "state": {
            "_model_module": "@jupyter-widgets/controls",
            "_model_module_version": "1.5.0",
            "_model_name": "DescriptionStyleModel",
            "_view_count": null,
            "_view_module": "@jupyter-widgets/base",
            "_view_module_version": "1.2.0",
            "_view_name": "StyleView",
            "description_width": ""
          }
        },
        "f97c8a198f2b49c8b3f5df6c26680616": {
          "model_module": "@jupyter-widgets/controls",
          "model_name": "HBoxModel",
          "model_module_version": "1.5.0",
          "state": {
            "_dom_classes": [],
            "_model_module": "@jupyter-widgets/controls",
            "_model_module_version": "1.5.0",
            "_model_name": "HBoxModel",
            "_view_count": null,
            "_view_module": "@jupyter-widgets/controls",
            "_view_module_version": "1.5.0",
            "_view_name": "HBoxView",
            "box_style": "",
            "children": [
              "IPY_MODEL_203eb3cf05ae44ddbc24e7a8c7b665a3",
              "IPY_MODEL_96a90dcb130d4621aae5ba9bf79ee641",
              "IPY_MODEL_7b3d643097f9433e9a7b0c442daa2843"
            ],
            "layout": "IPY_MODEL_b79f7f06bcb34bdead91a9779568cbab"
          }
        },
        "203eb3cf05ae44ddbc24e7a8c7b665a3": {
          "model_module": "@jupyter-widgets/controls",
          "model_name": "HTMLModel",
          "model_module_version": "1.5.0",
          "state": {
            "_dom_classes": [],
            "_model_module": "@jupyter-widgets/controls",
            "_model_module_version": "1.5.0",
            "_model_name": "HTMLModel",
            "_view_count": null,
            "_view_module": "@jupyter-widgets/controls",
            "_view_module_version": "1.5.0",
            "_view_name": "HTMLView",
            "description": "",
            "description_tooltip": null,
            "layout": "IPY_MODEL_6f7c5ad60d1c417dae3424775c02e2b9",
            "placeholder": "​",
            "style": "IPY_MODEL_5b8e3c60ecc04fb8958793df625e48fa",
            "value": "Downloading (…)model.bin.index.json: 100%"
          }
        },
        "96a90dcb130d4621aae5ba9bf79ee641": {
          "model_module": "@jupyter-widgets/controls",
          "model_name": "FloatProgressModel",
          "model_module_version": "1.5.0",
          "state": {
            "_dom_classes": [],
            "_model_module": "@jupyter-widgets/controls",
            "_model_module_version": "1.5.0",
            "_model_name": "FloatProgressModel",
            "_view_count": null,
            "_view_module": "@jupyter-widgets/controls",
            "_view_module_version": "1.5.0",
            "_view_name": "ProgressView",
            "bar_style": "success",
            "description": "",
            "description_tooltip": null,
            "layout": "IPY_MODEL_dfda9c2640644f7fb29843db4119ff7d",
            "max": 16924,
            "min": 0,
            "orientation": "horizontal",
            "style": "IPY_MODEL_dc6a9bca7e524e2280a725dba161c9d6",
            "value": 16924
          }
        },
        "7b3d643097f9433e9a7b0c442daa2843": {
          "model_module": "@jupyter-widgets/controls",
          "model_name": "HTMLModel",
          "model_module_version": "1.5.0",
          "state": {
            "_dom_classes": [],
            "_model_module": "@jupyter-widgets/controls",
            "_model_module_version": "1.5.0",
            "_model_name": "HTMLModel",
            "_view_count": null,
            "_view_module": "@jupyter-widgets/controls",
            "_view_module_version": "1.5.0",
            "_view_name": "HTMLView",
            "description": "",
            "description_tooltip": null,
            "layout": "IPY_MODEL_707a9e3d555a4bffb5a54afbd2caed78",
            "placeholder": "​",
            "style": "IPY_MODEL_0cf90afec5b248d9b7e5677ee6cd21a7",
            "value": " 16.9k/16.9k [00:00&lt;00:00, 546kB/s]"
          }
        },
        "b79f7f06bcb34bdead91a9779568cbab": {
          "model_module": "@jupyter-widgets/base",
          "model_name": "LayoutModel",
          "model_module_version": "1.2.0",
          "state": {
            "_model_module": "@jupyter-widgets/base",
            "_model_module_version": "1.2.0",
            "_model_name": "LayoutModel",
            "_view_count": null,
            "_view_module": "@jupyter-widgets/base",
            "_view_module_version": "1.2.0",
            "_view_name": "LayoutView",
            "align_content": null,
            "align_items": null,
            "align_self": null,
            "border": null,
            "bottom": null,
            "display": null,
            "flex": null,
            "flex_flow": null,
            "grid_area": null,
            "grid_auto_columns": null,
            "grid_auto_flow": null,
            "grid_auto_rows": null,
            "grid_column": null,
            "grid_gap": null,
            "grid_row": null,
            "grid_template_areas": null,
            "grid_template_columns": null,
            "grid_template_rows": null,
            "height": null,
            "justify_content": null,
            "justify_items": null,
            "left": null,
            "margin": null,
            "max_height": null,
            "max_width": null,
            "min_height": null,
            "min_width": null,
            "object_fit": null,
            "object_position": null,
            "order": null,
            "overflow": null,
            "overflow_x": null,
            "overflow_y": null,
            "padding": null,
            "right": null,
            "top": null,
            "visibility": null,
            "width": null
          }
        },
        "6f7c5ad60d1c417dae3424775c02e2b9": {
          "model_module": "@jupyter-widgets/base",
          "model_name": "LayoutModel",
          "model_module_version": "1.2.0",
          "state": {
            "_model_module": "@jupyter-widgets/base",
            "_model_module_version": "1.2.0",
            "_model_name": "LayoutModel",
            "_view_count": null,
            "_view_module": "@jupyter-widgets/base",
            "_view_module_version": "1.2.0",
            "_view_name": "LayoutView",
            "align_content": null,
            "align_items": null,
            "align_self": null,
            "border": null,
            "bottom": null,
            "display": null,
            "flex": null,
            "flex_flow": null,
            "grid_area": null,
            "grid_auto_columns": null,
            "grid_auto_flow": null,
            "grid_auto_rows": null,
            "grid_column": null,
            "grid_gap": null,
            "grid_row": null,
            "grid_template_areas": null,
            "grid_template_columns": null,
            "grid_template_rows": null,
            "height": null,
            "justify_content": null,
            "justify_items": null,
            "left": null,
            "margin": null,
            "max_height": null,
            "max_width": null,
            "min_height": null,
            "min_width": null,
            "object_fit": null,
            "object_position": null,
            "order": null,
            "overflow": null,
            "overflow_x": null,
            "overflow_y": null,
            "padding": null,
            "right": null,
            "top": null,
            "visibility": null,
            "width": null
          }
        },
        "5b8e3c60ecc04fb8958793df625e48fa": {
          "model_module": "@jupyter-widgets/controls",
          "model_name": "DescriptionStyleModel",
          "model_module_version": "1.5.0",
          "state": {
            "_model_module": "@jupyter-widgets/controls",
            "_model_module_version": "1.5.0",
            "_model_name": "DescriptionStyleModel",
            "_view_count": null,
            "_view_module": "@jupyter-widgets/base",
            "_view_module_version": "1.2.0",
            "_view_name": "StyleView",
            "description_width": ""
          }
        },
        "dfda9c2640644f7fb29843db4119ff7d": {
          "model_module": "@jupyter-widgets/base",
          "model_name": "LayoutModel",
          "model_module_version": "1.2.0",
          "state": {
            "_model_module": "@jupyter-widgets/base",
            "_model_module_version": "1.2.0",
            "_model_name": "LayoutModel",
            "_view_count": null,
            "_view_module": "@jupyter-widgets/base",
            "_view_module_version": "1.2.0",
            "_view_name": "LayoutView",
            "align_content": null,
            "align_items": null,
            "align_self": null,
            "border": null,
            "bottom": null,
            "display": null,
            "flex": null,
            "flex_flow": null,
            "grid_area": null,
            "grid_auto_columns": null,
            "grid_auto_flow": null,
            "grid_auto_rows": null,
            "grid_column": null,
            "grid_gap": null,
            "grid_row": null,
            "grid_template_areas": null,
            "grid_template_columns": null,
            "grid_template_rows": null,
            "height": null,
            "justify_content": null,
            "justify_items": null,
            "left": null,
            "margin": null,
            "max_height": null,
            "max_width": null,
            "min_height": null,
            "min_width": null,
            "object_fit": null,
            "object_position": null,
            "order": null,
            "overflow": null,
            "overflow_x": null,
            "overflow_y": null,
            "padding": null,
            "right": null,
            "top": null,
            "visibility": null,
            "width": null
          }
        },
        "dc6a9bca7e524e2280a725dba161c9d6": {
          "model_module": "@jupyter-widgets/controls",
          "model_name": "ProgressStyleModel",
          "model_module_version": "1.5.0",
          "state": {
            "_model_module": "@jupyter-widgets/controls",
            "_model_module_version": "1.5.0",
            "_model_name": "ProgressStyleModel",
            "_view_count": null,
            "_view_module": "@jupyter-widgets/base",
            "_view_module_version": "1.2.0",
            "_view_name": "StyleView",
            "bar_color": null,
            "description_width": ""
          }
        },
        "707a9e3d555a4bffb5a54afbd2caed78": {
          "model_module": "@jupyter-widgets/base",
          "model_name": "LayoutModel",
          "model_module_version": "1.2.0",
          "state": {
            "_model_module": "@jupyter-widgets/base",
            "_model_module_version": "1.2.0",
            "_model_name": "LayoutModel",
            "_view_count": null,
            "_view_module": "@jupyter-widgets/base",
            "_view_module_version": "1.2.0",
            "_view_name": "LayoutView",
            "align_content": null,
            "align_items": null,
            "align_self": null,
            "border": null,
            "bottom": null,
            "display": null,
            "flex": null,
            "flex_flow": null,
            "grid_area": null,
            "grid_auto_columns": null,
            "grid_auto_flow": null,
            "grid_auto_rows": null,
            "grid_column": null,
            "grid_gap": null,
            "grid_row": null,
            "grid_template_areas": null,
            "grid_template_columns": null,
            "grid_template_rows": null,
            "height": null,
            "justify_content": null,
            "justify_items": null,
            "left": null,
            "margin": null,
            "max_height": null,
            "max_width": null,
            "min_height": null,
            "min_width": null,
            "object_fit": null,
            "object_position": null,
            "order": null,
            "overflow": null,
            "overflow_x": null,
            "overflow_y": null,
            "padding": null,
            "right": null,
            "top": null,
            "visibility": null,
            "width": null
          }
        },
        "0cf90afec5b248d9b7e5677ee6cd21a7": {
          "model_module": "@jupyter-widgets/controls",
          "model_name": "DescriptionStyleModel",
          "model_module_version": "1.5.0",
          "state": {
            "_model_module": "@jupyter-widgets/controls",
            "_model_module_version": "1.5.0",
            "_model_name": "DescriptionStyleModel",
            "_view_count": null,
            "_view_module": "@jupyter-widgets/base",
            "_view_module_version": "1.2.0",
            "_view_name": "StyleView",
            "description_width": ""
          }
        },
        "141493243e0d4e22ae550038db94f8f8": {
          "model_module": "@jupyter-widgets/controls",
          "model_name": "HBoxModel",
          "model_module_version": "1.5.0",
          "state": {
            "_dom_classes": [],
            "_model_module": "@jupyter-widgets/controls",
            "_model_module_version": "1.5.0",
            "_model_name": "HBoxModel",
            "_view_count": null,
            "_view_module": "@jupyter-widgets/controls",
            "_view_module_version": "1.5.0",
            "_view_name": "HBoxView",
            "box_style": "",
            "children": [
              "IPY_MODEL_ecc116945e1447a580e762bb85108d8c",
              "IPY_MODEL_8bc4b3878852419fbf15936b055f5477",
              "IPY_MODEL_e7d0e1ec09a34618acf28f510c067de1"
            ],
            "layout": "IPY_MODEL_e15a1017f7ec4d1998c0ebafa087dd6b"
          }
        },
        "ecc116945e1447a580e762bb85108d8c": {
          "model_module": "@jupyter-widgets/controls",
          "model_name": "HTMLModel",
          "model_module_version": "1.5.0",
          "state": {
            "_dom_classes": [],
            "_model_module": "@jupyter-widgets/controls",
            "_model_module_version": "1.5.0",
            "_model_name": "HTMLModel",
            "_view_count": null,
            "_view_module": "@jupyter-widgets/controls",
            "_view_module_version": "1.5.0",
            "_view_name": "HTMLView",
            "description": "",
            "description_tooltip": null,
            "layout": "IPY_MODEL_248196e64d104cb5bd5936deb6a12177",
            "placeholder": "​",
            "style": "IPY_MODEL_7aab2e501b714a8e96002a447b332aac",
            "value": "Downloading shards: 100%"
          }
        },
        "8bc4b3878852419fbf15936b055f5477": {
          "model_module": "@jupyter-widgets/controls",
          "model_name": "FloatProgressModel",
          "model_module_version": "1.5.0",
          "state": {
            "_dom_classes": [],
            "_model_module": "@jupyter-widgets/controls",
            "_model_module_version": "1.5.0",
            "_model_name": "FloatProgressModel",
            "_view_count": null,
            "_view_module": "@jupyter-widgets/controls",
            "_view_module_version": "1.5.0",
            "_view_name": "ProgressView",
            "bar_style": "success",
            "description": "",
            "description_tooltip": null,
            "layout": "IPY_MODEL_9a67af249b5847448e5cfa5a3821eab6",
            "max": 2,
            "min": 0,
            "orientation": "horizontal",
            "style": "IPY_MODEL_130efa98c5de4cdfb4689360d0e1a154",
            "value": 2
          }
        },
        "e7d0e1ec09a34618acf28f510c067de1": {
          "model_module": "@jupyter-widgets/controls",
          "model_name": "HTMLModel",
          "model_module_version": "1.5.0",
          "state": {
            "_dom_classes": [],
            "_model_module": "@jupyter-widgets/controls",
            "_model_module_version": "1.5.0",
            "_model_name": "HTMLModel",
            "_view_count": null,
            "_view_module": "@jupyter-widgets/controls",
            "_view_module_version": "1.5.0",
            "_view_name": "HTMLView",
            "description": "",
            "description_tooltip": null,
            "layout": "IPY_MODEL_6b1a5c65cfde41019035b01634f01bea",
            "placeholder": "​",
            "style": "IPY_MODEL_5a7bac2bcf9641d28bfb7899a2048833",
            "value": " 2/2 [01:31&lt;00:00, 42.95s/it]"
          }
        },
        "e15a1017f7ec4d1998c0ebafa087dd6b": {
          "model_module": "@jupyter-widgets/base",
          "model_name": "LayoutModel",
          "model_module_version": "1.2.0",
          "state": {
            "_model_module": "@jupyter-widgets/base",
            "_model_module_version": "1.2.0",
            "_model_name": "LayoutModel",
            "_view_count": null,
            "_view_module": "@jupyter-widgets/base",
            "_view_module_version": "1.2.0",
            "_view_name": "LayoutView",
            "align_content": null,
            "align_items": null,
            "align_self": null,
            "border": null,
            "bottom": null,
            "display": null,
            "flex": null,
            "flex_flow": null,
            "grid_area": null,
            "grid_auto_columns": null,
            "grid_auto_flow": null,
            "grid_auto_rows": null,
            "grid_column": null,
            "grid_gap": null,
            "grid_row": null,
            "grid_template_areas": null,
            "grid_template_columns": null,
            "grid_template_rows": null,
            "height": null,
            "justify_content": null,
            "justify_items": null,
            "left": null,
            "margin": null,
            "max_height": null,
            "max_width": null,
            "min_height": null,
            "min_width": null,
            "object_fit": null,
            "object_position": null,
            "order": null,
            "overflow": null,
            "overflow_x": null,
            "overflow_y": null,
            "padding": null,
            "right": null,
            "top": null,
            "visibility": null,
            "width": null
          }
        },
        "248196e64d104cb5bd5936deb6a12177": {
          "model_module": "@jupyter-widgets/base",
          "model_name": "LayoutModel",
          "model_module_version": "1.2.0",
          "state": {
            "_model_module": "@jupyter-widgets/base",
            "_model_module_version": "1.2.0",
            "_model_name": "LayoutModel",
            "_view_count": null,
            "_view_module": "@jupyter-widgets/base",
            "_view_module_version": "1.2.0",
            "_view_name": "LayoutView",
            "align_content": null,
            "align_items": null,
            "align_self": null,
            "border": null,
            "bottom": null,
            "display": null,
            "flex": null,
            "flex_flow": null,
            "grid_area": null,
            "grid_auto_columns": null,
            "grid_auto_flow": null,
            "grid_auto_rows": null,
            "grid_column": null,
            "grid_gap": null,
            "grid_row": null,
            "grid_template_areas": null,
            "grid_template_columns": null,
            "grid_template_rows": null,
            "height": null,
            "justify_content": null,
            "justify_items": null,
            "left": null,
            "margin": null,
            "max_height": null,
            "max_width": null,
            "min_height": null,
            "min_width": null,
            "object_fit": null,
            "object_position": null,
            "order": null,
            "overflow": null,
            "overflow_x": null,
            "overflow_y": null,
            "padding": null,
            "right": null,
            "top": null,
            "visibility": null,
            "width": null
          }
        },
        "7aab2e501b714a8e96002a447b332aac": {
          "model_module": "@jupyter-widgets/controls",
          "model_name": "DescriptionStyleModel",
          "model_module_version": "1.5.0",
          "state": {
            "_model_module": "@jupyter-widgets/controls",
            "_model_module_version": "1.5.0",
            "_model_name": "DescriptionStyleModel",
            "_view_count": null,
            "_view_module": "@jupyter-widgets/base",
            "_view_module_version": "1.2.0",
            "_view_name": "StyleView",
            "description_width": ""
          }
        },
        "9a67af249b5847448e5cfa5a3821eab6": {
          "model_module": "@jupyter-widgets/base",
          "model_name": "LayoutModel",
          "model_module_version": "1.2.0",
          "state": {
            "_model_module": "@jupyter-widgets/base",
            "_model_module_version": "1.2.0",
            "_model_name": "LayoutModel",
            "_view_count": null,
            "_view_module": "@jupyter-widgets/base",
            "_view_module_version": "1.2.0",
            "_view_name": "LayoutView",
            "align_content": null,
            "align_items": null,
            "align_self": null,
            "border": null,
            "bottom": null,
            "display": null,
            "flex": null,
            "flex_flow": null,
            "grid_area": null,
            "grid_auto_columns": null,
            "grid_auto_flow": null,
            "grid_auto_rows": null,
            "grid_column": null,
            "grid_gap": null,
            "grid_row": null,
            "grid_template_areas": null,
            "grid_template_columns": null,
            "grid_template_rows": null,
            "height": null,
            "justify_content": null,
            "justify_items": null,
            "left": null,
            "margin": null,
            "max_height": null,
            "max_width": null,
            "min_height": null,
            "min_width": null,
            "object_fit": null,
            "object_position": null,
            "order": null,
            "overflow": null,
            "overflow_x": null,
            "overflow_y": null,
            "padding": null,
            "right": null,
            "top": null,
            "visibility": null,
            "width": null
          }
        },
        "130efa98c5de4cdfb4689360d0e1a154": {
          "model_module": "@jupyter-widgets/controls",
          "model_name": "ProgressStyleModel",
          "model_module_version": "1.5.0",
          "state": {
            "_model_module": "@jupyter-widgets/controls",
            "_model_module_version": "1.5.0",
            "_model_name": "ProgressStyleModel",
            "_view_count": null,
            "_view_module": "@jupyter-widgets/base",
            "_view_module_version": "1.2.0",
            "_view_name": "StyleView",
            "bar_color": null,
            "description_width": ""
          }
        },
        "6b1a5c65cfde41019035b01634f01bea": {
          "model_module": "@jupyter-widgets/base",
          "model_name": "LayoutModel",
          "model_module_version": "1.2.0",
          "state": {
            "_model_module": "@jupyter-widgets/base",
            "_model_module_version": "1.2.0",
            "_model_name": "LayoutModel",
            "_view_count": null,
            "_view_module": "@jupyter-widgets/base",
            "_view_module_version": "1.2.0",
            "_view_name": "LayoutView",
            "align_content": null,
            "align_items": null,
            "align_self": null,
            "border": null,
            "bottom": null,
            "display": null,
            "flex": null,
            "flex_flow": null,
            "grid_area": null,
            "grid_auto_columns": null,
            "grid_auto_flow": null,
            "grid_auto_rows": null,
            "grid_column": null,
            "grid_gap": null,
            "grid_row": null,
            "grid_template_areas": null,
            "grid_template_columns": null,
            "grid_template_rows": null,
            "height": null,
            "justify_content": null,
            "justify_items": null,
            "left": null,
            "margin": null,
            "max_height": null,
            "max_width": null,
            "min_height": null,
            "min_width": null,
            "object_fit": null,
            "object_position": null,
            "order": null,
            "overflow": null,
            "overflow_x": null,
            "overflow_y": null,
            "padding": null,
            "right": null,
            "top": null,
            "visibility": null,
            "width": null
          }
        },
        "5a7bac2bcf9641d28bfb7899a2048833": {
          "model_module": "@jupyter-widgets/controls",
          "model_name": "DescriptionStyleModel",
          "model_module_version": "1.5.0",
          "state": {
            "_model_module": "@jupyter-widgets/controls",
            "_model_module_version": "1.5.0",
            "_model_name": "DescriptionStyleModel",
            "_view_count": null,
            "_view_module": "@jupyter-widgets/base",
            "_view_module_version": "1.2.0",
            "_view_name": "StyleView",
            "description_width": ""
          }
        },
        "7adfb107f3794f17baa01c9824ff7a76": {
          "model_module": "@jupyter-widgets/controls",
          "model_name": "HBoxModel",
          "model_module_version": "1.5.0",
          "state": {
            "_dom_classes": [],
            "_model_module": "@jupyter-widgets/controls",
            "_model_module_version": "1.5.0",
            "_model_name": "HBoxModel",
            "_view_count": null,
            "_view_module": "@jupyter-widgets/controls",
            "_view_module_version": "1.5.0",
            "_view_name": "HBoxView",
            "box_style": "",
            "children": [
              "IPY_MODEL_acd9ce4f43e34ad4babe53b05f892597",
              "IPY_MODEL_77da900b8b7544f0a5f91f5197a62b67",
              "IPY_MODEL_6659abaf3fc64bb89557bdb90ade8551"
            ],
            "layout": "IPY_MODEL_797e5cbbe28e4703a71f1ae7b0a1ffdc"
          }
        },
        "acd9ce4f43e34ad4babe53b05f892597": {
          "model_module": "@jupyter-widgets/controls",
          "model_name": "HTMLModel",
          "model_module_version": "1.5.0",
          "state": {
            "_dom_classes": [],
            "_model_module": "@jupyter-widgets/controls",
            "_model_module_version": "1.5.0",
            "_model_name": "HTMLModel",
            "_view_count": null,
            "_view_module": "@jupyter-widgets/controls",
            "_view_module_version": "1.5.0",
            "_view_name": "HTMLView",
            "description": "",
            "description_tooltip": null,
            "layout": "IPY_MODEL_30af7b0117eb4a39bd42f04a81e09d4e",
            "placeholder": "​",
            "style": "IPY_MODEL_b5db7bf69319446caaddb84beacfa376",
            "value": "Downloading (…)l-00001-of-00002.bin: 100%"
          }
        },
        "77da900b8b7544f0a5f91f5197a62b67": {
          "model_module": "@jupyter-widgets/controls",
          "model_name": "FloatProgressModel",
          "model_module_version": "1.5.0",
          "state": {
            "_dom_classes": [],
            "_model_module": "@jupyter-widgets/controls",
            "_model_module_version": "1.5.0",
            "_model_name": "FloatProgressModel",
            "_view_count": null,
            "_view_module": "@jupyter-widgets/controls",
            "_view_module_version": "1.5.0",
            "_view_name": "ProgressView",
            "bar_style": "success",
            "description": "",
            "description_tooltip": null,
            "layout": "IPY_MODEL_f1f49bdde35044ee9fc9d008c3fdc114",
            "max": 9951028193,
            "min": 0,
            "orientation": "horizontal",
            "style": "IPY_MODEL_bae0912f3ea14cd1b6aafab559ee43ac",
            "value": 9951028193
          }
        },
        "6659abaf3fc64bb89557bdb90ade8551": {
          "model_module": "@jupyter-widgets/controls",
          "model_name": "HTMLModel",
          "model_module_version": "1.5.0",
          "state": {
            "_dom_classes": [],
            "_model_module": "@jupyter-widgets/controls",
            "_model_module_version": "1.5.0",
            "_model_name": "HTMLModel",
            "_view_count": null,
            "_view_module": "@jupyter-widgets/controls",
            "_view_module_version": "1.5.0",
            "_view_name": "HTMLView",
            "description": "",
            "description_tooltip": null,
            "layout": "IPY_MODEL_57d3d4ac5a094fcca501bd0ebbbb51de",
            "placeholder": "​",
            "style": "IPY_MODEL_4eeb3ee47b0449a28c60882d20007e29",
            "value": " 9.95G/9.95G [01:01&lt;00:00, 255MB/s]"
          }
        },
        "797e5cbbe28e4703a71f1ae7b0a1ffdc": {
          "model_module": "@jupyter-widgets/base",
          "model_name": "LayoutModel",
          "model_module_version": "1.2.0",
          "state": {
            "_model_module": "@jupyter-widgets/base",
            "_model_module_version": "1.2.0",
            "_model_name": "LayoutModel",
            "_view_count": null,
            "_view_module": "@jupyter-widgets/base",
            "_view_module_version": "1.2.0",
            "_view_name": "LayoutView",
            "align_content": null,
            "align_items": null,
            "align_self": null,
            "border": null,
            "bottom": null,
            "display": null,
            "flex": null,
            "flex_flow": null,
            "grid_area": null,
            "grid_auto_columns": null,
            "grid_auto_flow": null,
            "grid_auto_rows": null,
            "grid_column": null,
            "grid_gap": null,
            "grid_row": null,
            "grid_template_areas": null,
            "grid_template_columns": null,
            "grid_template_rows": null,
            "height": null,
            "justify_content": null,
            "justify_items": null,
            "left": null,
            "margin": null,
            "max_height": null,
            "max_width": null,
            "min_height": null,
            "min_width": null,
            "object_fit": null,
            "object_position": null,
            "order": null,
            "overflow": null,
            "overflow_x": null,
            "overflow_y": null,
            "padding": null,
            "right": null,
            "top": null,
            "visibility": null,
            "width": null
          }
        },
        "30af7b0117eb4a39bd42f04a81e09d4e": {
          "model_module": "@jupyter-widgets/base",
          "model_name": "LayoutModel",
          "model_module_version": "1.2.0",
          "state": {
            "_model_module": "@jupyter-widgets/base",
            "_model_module_version": "1.2.0",
            "_model_name": "LayoutModel",
            "_view_count": null,
            "_view_module": "@jupyter-widgets/base",
            "_view_module_version": "1.2.0",
            "_view_name": "LayoutView",
            "align_content": null,
            "align_items": null,
            "align_self": null,
            "border": null,
            "bottom": null,
            "display": null,
            "flex": null,
            "flex_flow": null,
            "grid_area": null,
            "grid_auto_columns": null,
            "grid_auto_flow": null,
            "grid_auto_rows": null,
            "grid_column": null,
            "grid_gap": null,
            "grid_row": null,
            "grid_template_areas": null,
            "grid_template_columns": null,
            "grid_template_rows": null,
            "height": null,
            "justify_content": null,
            "justify_items": null,
            "left": null,
            "margin": null,
            "max_height": null,
            "max_width": null,
            "min_height": null,
            "min_width": null,
            "object_fit": null,
            "object_position": null,
            "order": null,
            "overflow": null,
            "overflow_x": null,
            "overflow_y": null,
            "padding": null,
            "right": null,
            "top": null,
            "visibility": null,
            "width": null
          }
        },
        "b5db7bf69319446caaddb84beacfa376": {
          "model_module": "@jupyter-widgets/controls",
          "model_name": "DescriptionStyleModel",
          "model_module_version": "1.5.0",
          "state": {
            "_model_module": "@jupyter-widgets/controls",
            "_model_module_version": "1.5.0",
            "_model_name": "DescriptionStyleModel",
            "_view_count": null,
            "_view_module": "@jupyter-widgets/base",
            "_view_module_version": "1.2.0",
            "_view_name": "StyleView",
            "description_width": ""
          }
        },
        "f1f49bdde35044ee9fc9d008c3fdc114": {
          "model_module": "@jupyter-widgets/base",
          "model_name": "LayoutModel",
          "model_module_version": "1.2.0",
          "state": {
            "_model_module": "@jupyter-widgets/base",
            "_model_module_version": "1.2.0",
            "_model_name": "LayoutModel",
            "_view_count": null,
            "_view_module": "@jupyter-widgets/base",
            "_view_module_version": "1.2.0",
            "_view_name": "LayoutView",
            "align_content": null,
            "align_items": null,
            "align_self": null,
            "border": null,
            "bottom": null,
            "display": null,
            "flex": null,
            "flex_flow": null,
            "grid_area": null,
            "grid_auto_columns": null,
            "grid_auto_flow": null,
            "grid_auto_rows": null,
            "grid_column": null,
            "grid_gap": null,
            "grid_row": null,
            "grid_template_areas": null,
            "grid_template_columns": null,
            "grid_template_rows": null,
            "height": null,
            "justify_content": null,
            "justify_items": null,
            "left": null,
            "margin": null,
            "max_height": null,
            "max_width": null,
            "min_height": null,
            "min_width": null,
            "object_fit": null,
            "object_position": null,
            "order": null,
            "overflow": null,
            "overflow_x": null,
            "overflow_y": null,
            "padding": null,
            "right": null,
            "top": null,
            "visibility": null,
            "width": null
          }
        },
        "bae0912f3ea14cd1b6aafab559ee43ac": {
          "model_module": "@jupyter-widgets/controls",
          "model_name": "ProgressStyleModel",
          "model_module_version": "1.5.0",
          "state": {
            "_model_module": "@jupyter-widgets/controls",
            "_model_module_version": "1.5.0",
            "_model_name": "ProgressStyleModel",
            "_view_count": null,
            "_view_module": "@jupyter-widgets/base",
            "_view_module_version": "1.2.0",
            "_view_name": "StyleView",
            "bar_color": null,
            "description_width": ""
          }
        },
        "57d3d4ac5a094fcca501bd0ebbbb51de": {
          "model_module": "@jupyter-widgets/base",
          "model_name": "LayoutModel",
          "model_module_version": "1.2.0",
          "state": {
            "_model_module": "@jupyter-widgets/base",
            "_model_module_version": "1.2.0",
            "_model_name": "LayoutModel",
            "_view_count": null,
            "_view_module": "@jupyter-widgets/base",
            "_view_module_version": "1.2.0",
            "_view_name": "LayoutView",
            "align_content": null,
            "align_items": null,
            "align_self": null,
            "border": null,
            "bottom": null,
            "display": null,
            "flex": null,
            "flex_flow": null,
            "grid_area": null,
            "grid_auto_columns": null,
            "grid_auto_flow": null,
            "grid_auto_rows": null,
            "grid_column": null,
            "grid_gap": null,
            "grid_row": null,
            "grid_template_areas": null,
            "grid_template_columns": null,
            "grid_template_rows": null,
            "height": null,
            "justify_content": null,
            "justify_items": null,
            "left": null,
            "margin": null,
            "max_height": null,
            "max_width": null,
            "min_height": null,
            "min_width": null,
            "object_fit": null,
            "object_position": null,
            "order": null,
            "overflow": null,
            "overflow_x": null,
            "overflow_y": null,
            "padding": null,
            "right": null,
            "top": null,
            "visibility": null,
            "width": null
          }
        },
        "4eeb3ee47b0449a28c60882d20007e29": {
          "model_module": "@jupyter-widgets/controls",
          "model_name": "DescriptionStyleModel",
          "model_module_version": "1.5.0",
          "state": {
            "_model_module": "@jupyter-widgets/controls",
            "_model_module_version": "1.5.0",
            "_model_name": "DescriptionStyleModel",
            "_view_count": null,
            "_view_module": "@jupyter-widgets/base",
            "_view_module_version": "1.2.0",
            "_view_name": "StyleView",
            "description_width": ""
          }
        },
        "575d5b444cf54ca7984f2e69f1e8b0d4": {
          "model_module": "@jupyter-widgets/controls",
          "model_name": "HBoxModel",
          "model_module_version": "1.5.0",
          "state": {
            "_dom_classes": [],
            "_model_module": "@jupyter-widgets/controls",
            "_model_module_version": "1.5.0",
            "_model_name": "HBoxModel",
            "_view_count": null,
            "_view_module": "@jupyter-widgets/controls",
            "_view_module_version": "1.5.0",
            "_view_name": "HBoxView",
            "box_style": "",
            "children": [
              "IPY_MODEL_9363e70cac564db19fc5a3e597e2e7e9",
              "IPY_MODEL_2caaa15f0b2a4eef9869db5c12ca4188",
              "IPY_MODEL_a3c267b02db743b4bd5a55d3d3757721"
            ],
            "layout": "IPY_MODEL_4c6ea14f8f924aa8b897a12ef4e7bfe6"
          }
        },
        "9363e70cac564db19fc5a3e597e2e7e9": {
          "model_module": "@jupyter-widgets/controls",
          "model_name": "HTMLModel",
          "model_module_version": "1.5.0",
          "state": {
            "_dom_classes": [],
            "_model_module": "@jupyter-widgets/controls",
            "_model_module_version": "1.5.0",
            "_model_name": "HTMLModel",
            "_view_count": null,
            "_view_module": "@jupyter-widgets/controls",
            "_view_module_version": "1.5.0",
            "_view_name": "HTMLView",
            "description": "",
            "description_tooltip": null,
            "layout": "IPY_MODEL_cff18e6eb13b40adb6cccaa97e3c4e64",
            "placeholder": "​",
            "style": "IPY_MODEL_11ec67b5b1964bb69e1de5d41f551a24",
            "value": "Downloading (…)l-00002-of-00002.bin: 100%"
          }
        },
        "2caaa15f0b2a4eef9869db5c12ca4188": {
          "model_module": "@jupyter-widgets/controls",
          "model_name": "FloatProgressModel",
          "model_module_version": "1.5.0",
          "state": {
            "_dom_classes": [],
            "_model_module": "@jupyter-widgets/controls",
            "_model_module_version": "1.5.0",
            "_model_name": "FloatProgressModel",
            "_view_count": null,
            "_view_module": "@jupyter-widgets/controls",
            "_view_module_version": "1.5.0",
            "_view_name": "ProgressView",
            "bar_style": "success",
            "description": "",
            "description_tooltip": null,
            "layout": "IPY_MODEL_eb3b65bb529e4ad6965515652edd0a04",
            "max": 4483421659,
            "min": 0,
            "orientation": "horizontal",
            "style": "IPY_MODEL_3cbb4785187f48879df27988164e1855",
            "value": 4483421659
          }
        },
        "a3c267b02db743b4bd5a55d3d3757721": {
          "model_module": "@jupyter-widgets/controls",
          "model_name": "HTMLModel",
          "model_module_version": "1.5.0",
          "state": {
            "_dom_classes": [],
            "_model_module": "@jupyter-widgets/controls",
            "_model_module_version": "1.5.0",
            "_model_name": "HTMLModel",
            "_view_count": null,
            "_view_module": "@jupyter-widgets/controls",
            "_view_module_version": "1.5.0",
            "_view_name": "HTMLView",
            "description": "",
            "description_tooltip": null,
            "layout": "IPY_MODEL_4d3c1093068b484c86b07873e164ffc1",
            "placeholder": "​",
            "style": "IPY_MODEL_d37d6b3ef19c47e3be34bb30106d06c7",
            "value": " 4.48G/4.48G [00:29&lt;00:00, 275MB/s]"
          }
        },
        "4c6ea14f8f924aa8b897a12ef4e7bfe6": {
          "model_module": "@jupyter-widgets/base",
          "model_name": "LayoutModel",
          "model_module_version": "1.2.0",
          "state": {
            "_model_module": "@jupyter-widgets/base",
            "_model_module_version": "1.2.0",
            "_model_name": "LayoutModel",
            "_view_count": null,
            "_view_module": "@jupyter-widgets/base",
            "_view_module_version": "1.2.0",
            "_view_name": "LayoutView",
            "align_content": null,
            "align_items": null,
            "align_self": null,
            "border": null,
            "bottom": null,
            "display": null,
            "flex": null,
            "flex_flow": null,
            "grid_area": null,
            "grid_auto_columns": null,
            "grid_auto_flow": null,
            "grid_auto_rows": null,
            "grid_column": null,
            "grid_gap": null,
            "grid_row": null,
            "grid_template_areas": null,
            "grid_template_columns": null,
            "grid_template_rows": null,
            "height": null,
            "justify_content": null,
            "justify_items": null,
            "left": null,
            "margin": null,
            "max_height": null,
            "max_width": null,
            "min_height": null,
            "min_width": null,
            "object_fit": null,
            "object_position": null,
            "order": null,
            "overflow": null,
            "overflow_x": null,
            "overflow_y": null,
            "padding": null,
            "right": null,
            "top": null,
            "visibility": null,
            "width": null
          }
        },
        "cff18e6eb13b40adb6cccaa97e3c4e64": {
          "model_module": "@jupyter-widgets/base",
          "model_name": "LayoutModel",
          "model_module_version": "1.2.0",
          "state": {
            "_model_module": "@jupyter-widgets/base",
            "_model_module_version": "1.2.0",
            "_model_name": "LayoutModel",
            "_view_count": null,
            "_view_module": "@jupyter-widgets/base",
            "_view_module_version": "1.2.0",
            "_view_name": "LayoutView",
            "align_content": null,
            "align_items": null,
            "align_self": null,
            "border": null,
            "bottom": null,
            "display": null,
            "flex": null,
            "flex_flow": null,
            "grid_area": null,
            "grid_auto_columns": null,
            "grid_auto_flow": null,
            "grid_auto_rows": null,
            "grid_column": null,
            "grid_gap": null,
            "grid_row": null,
            "grid_template_areas": null,
            "grid_template_columns": null,
            "grid_template_rows": null,
            "height": null,
            "justify_content": null,
            "justify_items": null,
            "left": null,
            "margin": null,
            "max_height": null,
            "max_width": null,
            "min_height": null,
            "min_width": null,
            "object_fit": null,
            "object_position": null,
            "order": null,
            "overflow": null,
            "overflow_x": null,
            "overflow_y": null,
            "padding": null,
            "right": null,
            "top": null,
            "visibility": null,
            "width": null
          }
        },
        "11ec67b5b1964bb69e1de5d41f551a24": {
          "model_module": "@jupyter-widgets/controls",
          "model_name": "DescriptionStyleModel",
          "model_module_version": "1.5.0",
          "state": {
            "_model_module": "@jupyter-widgets/controls",
            "_model_module_version": "1.5.0",
            "_model_name": "DescriptionStyleModel",
            "_view_count": null,
            "_view_module": "@jupyter-widgets/base",
            "_view_module_version": "1.2.0",
            "_view_name": "StyleView",
            "description_width": ""
          }
        },
        "eb3b65bb529e4ad6965515652edd0a04": {
          "model_module": "@jupyter-widgets/base",
          "model_name": "LayoutModel",
          "model_module_version": "1.2.0",
          "state": {
            "_model_module": "@jupyter-widgets/base",
            "_model_module_version": "1.2.0",
            "_model_name": "LayoutModel",
            "_view_count": null,
            "_view_module": "@jupyter-widgets/base",
            "_view_module_version": "1.2.0",
            "_view_name": "LayoutView",
            "align_content": null,
            "align_items": null,
            "align_self": null,
            "border": null,
            "bottom": null,
            "display": null,
            "flex": null,
            "flex_flow": null,
            "grid_area": null,
            "grid_auto_columns": null,
            "grid_auto_flow": null,
            "grid_auto_rows": null,
            "grid_column": null,
            "grid_gap": null,
            "grid_row": null,
            "grid_template_areas": null,
            "grid_template_columns": null,
            "grid_template_rows": null,
            "height": null,
            "justify_content": null,
            "justify_items": null,
            "left": null,
            "margin": null,
            "max_height": null,
            "max_width": null,
            "min_height": null,
            "min_width": null,
            "object_fit": null,
            "object_position": null,
            "order": null,
            "overflow": null,
            "overflow_x": null,
            "overflow_y": null,
            "padding": null,
            "right": null,
            "top": null,
            "visibility": null,
            "width": null
          }
        },
        "3cbb4785187f48879df27988164e1855": {
          "model_module": "@jupyter-widgets/controls",
          "model_name": "ProgressStyleModel",
          "model_module_version": "1.5.0",
          "state": {
            "_model_module": "@jupyter-widgets/controls",
            "_model_module_version": "1.5.0",
            "_model_name": "ProgressStyleModel",
            "_view_count": null,
            "_view_module": "@jupyter-widgets/base",
            "_view_module_version": "1.2.0",
            "_view_name": "StyleView",
            "bar_color": null,
            "description_width": ""
          }
        },
        "4d3c1093068b484c86b07873e164ffc1": {
          "model_module": "@jupyter-widgets/base",
          "model_name": "LayoutModel",
          "model_module_version": "1.2.0",
          "state": {
            "_model_module": "@jupyter-widgets/base",
            "_model_module_version": "1.2.0",
            "_model_name": "LayoutModel",
            "_view_count": null,
            "_view_module": "@jupyter-widgets/base",
            "_view_module_version": "1.2.0",
            "_view_name": "LayoutView",
            "align_content": null,
            "align_items": null,
            "align_self": null,
            "border": null,
            "bottom": null,
            "display": null,
            "flex": null,
            "flex_flow": null,
            "grid_area": null,
            "grid_auto_columns": null,
            "grid_auto_flow": null,
            "grid_auto_rows": null,
            "grid_column": null,
            "grid_gap": null,
            "grid_row": null,
            "grid_template_areas": null,
            "grid_template_columns": null,
            "grid_template_rows": null,
            "height": null,
            "justify_content": null,
            "justify_items": null,
            "left": null,
            "margin": null,
            "max_height": null,
            "max_width": null,
            "min_height": null,
            "min_width": null,
            "object_fit": null,
            "object_position": null,
            "order": null,
            "overflow": null,
            "overflow_x": null,
            "overflow_y": null,
            "padding": null,
            "right": null,
            "top": null,
            "visibility": null,
            "width": null
          }
        },
        "d37d6b3ef19c47e3be34bb30106d06c7": {
          "model_module": "@jupyter-widgets/controls",
          "model_name": "DescriptionStyleModel",
          "model_module_version": "1.5.0",
          "state": {
            "_model_module": "@jupyter-widgets/controls",
            "_model_module_version": "1.5.0",
            "_model_name": "DescriptionStyleModel",
            "_view_count": null,
            "_view_module": "@jupyter-widgets/base",
            "_view_module_version": "1.2.0",
            "_view_name": "StyleView",
            "description_width": ""
          }
        },
        "32f33ef02d6d46219ee5a6a28d6c5e34": {
          "model_module": "@jupyter-widgets/controls",
          "model_name": "HBoxModel",
          "model_module_version": "1.5.0",
          "state": {
            "_dom_classes": [],
            "_model_module": "@jupyter-widgets/controls",
            "_model_module_version": "1.5.0",
            "_model_name": "HBoxModel",
            "_view_count": null,
            "_view_module": "@jupyter-widgets/controls",
            "_view_module_version": "1.5.0",
            "_view_name": "HBoxView",
            "box_style": "",
            "children": [
              "IPY_MODEL_fa016e45dd9a43e783db47af966bb001",
              "IPY_MODEL_f982f99b5ded4f12b27f68acee9e576a",
              "IPY_MODEL_b04505a094124f479fba19a66a41e738"
            ],
            "layout": "IPY_MODEL_177d973c418747d0b519e1f05a5b54f7"
          }
        },
        "fa016e45dd9a43e783db47af966bb001": {
          "model_module": "@jupyter-widgets/controls",
          "model_name": "HTMLModel",
          "model_module_version": "1.5.0",
          "state": {
            "_dom_classes": [],
            "_model_module": "@jupyter-widgets/controls",
            "_model_module_version": "1.5.0",
            "_model_name": "HTMLModel",
            "_view_count": null,
            "_view_module": "@jupyter-widgets/controls",
            "_view_module_version": "1.5.0",
            "_view_name": "HTMLView",
            "description": "",
            "description_tooltip": null,
            "layout": "IPY_MODEL_1c5896268418457ebd35e72b323c793d",
            "placeholder": "​",
            "style": "IPY_MODEL_8f537846c6c540c5b51f4cf4f37e2f44",
            "value": "Loading checkpoint shards: 100%"
          }
        },
        "f982f99b5ded4f12b27f68acee9e576a": {
          "model_module": "@jupyter-widgets/controls",
          "model_name": "FloatProgressModel",
          "model_module_version": "1.5.0",
          "state": {
            "_dom_classes": [],
            "_model_module": "@jupyter-widgets/controls",
            "_model_module_version": "1.5.0",
            "_model_name": "FloatProgressModel",
            "_view_count": null,
            "_view_module": "@jupyter-widgets/controls",
            "_view_module_version": "1.5.0",
            "_view_name": "ProgressView",
            "bar_style": "success",
            "description": "",
            "description_tooltip": null,
            "layout": "IPY_MODEL_b9364ef74329440f8c4636da462f14d0",
            "max": 2,
            "min": 0,
            "orientation": "horizontal",
            "style": "IPY_MODEL_10aaeb7ae88543fab43d4acf2b71dcb5",
            "value": 2
          }
        },
        "b04505a094124f479fba19a66a41e738": {
          "model_module": "@jupyter-widgets/controls",
          "model_name": "HTMLModel",
          "model_module_version": "1.5.0",
          "state": {
            "_dom_classes": [],
            "_model_module": "@jupyter-widgets/controls",
            "_model_module_version": "1.5.0",
            "_model_name": "HTMLModel",
            "_view_count": null,
            "_view_module": "@jupyter-widgets/controls",
            "_view_module_version": "1.5.0",
            "_view_name": "HTMLView",
            "description": "",
            "description_tooltip": null,
            "layout": "IPY_MODEL_838e219893af41d9a890f3b7428988c6",
            "placeholder": "​",
            "style": "IPY_MODEL_56f07faac242432ea41f2c1cbbb10db9",
            "value": " 2/2 [01:17&lt;00:00, 35.92s/it]"
          }
        },
        "177d973c418747d0b519e1f05a5b54f7": {
          "model_module": "@jupyter-widgets/base",
          "model_name": "LayoutModel",
          "model_module_version": "1.2.0",
          "state": {
            "_model_module": "@jupyter-widgets/base",
            "_model_module_version": "1.2.0",
            "_model_name": "LayoutModel",
            "_view_count": null,
            "_view_module": "@jupyter-widgets/base",
            "_view_module_version": "1.2.0",
            "_view_name": "LayoutView",
            "align_content": null,
            "align_items": null,
            "align_self": null,
            "border": null,
            "bottom": null,
            "display": null,
            "flex": null,
            "flex_flow": null,
            "grid_area": null,
            "grid_auto_columns": null,
            "grid_auto_flow": null,
            "grid_auto_rows": null,
            "grid_column": null,
            "grid_gap": null,
            "grid_row": null,
            "grid_template_areas": null,
            "grid_template_columns": null,
            "grid_template_rows": null,
            "height": null,
            "justify_content": null,
            "justify_items": null,
            "left": null,
            "margin": null,
            "max_height": null,
            "max_width": null,
            "min_height": null,
            "min_width": null,
            "object_fit": null,
            "object_position": null,
            "order": null,
            "overflow": null,
            "overflow_x": null,
            "overflow_y": null,
            "padding": null,
            "right": null,
            "top": null,
            "visibility": null,
            "width": null
          }
        },
        "1c5896268418457ebd35e72b323c793d": {
          "model_module": "@jupyter-widgets/base",
          "model_name": "LayoutModel",
          "model_module_version": "1.2.0",
          "state": {
            "_model_module": "@jupyter-widgets/base",
            "_model_module_version": "1.2.0",
            "_model_name": "LayoutModel",
            "_view_count": null,
            "_view_module": "@jupyter-widgets/base",
            "_view_module_version": "1.2.0",
            "_view_name": "LayoutView",
            "align_content": null,
            "align_items": null,
            "align_self": null,
            "border": null,
            "bottom": null,
            "display": null,
            "flex": null,
            "flex_flow": null,
            "grid_area": null,
            "grid_auto_columns": null,
            "grid_auto_flow": null,
            "grid_auto_rows": null,
            "grid_column": null,
            "grid_gap": null,
            "grid_row": null,
            "grid_template_areas": null,
            "grid_template_columns": null,
            "grid_template_rows": null,
            "height": null,
            "justify_content": null,
            "justify_items": null,
            "left": null,
            "margin": null,
            "max_height": null,
            "max_width": null,
            "min_height": null,
            "min_width": null,
            "object_fit": null,
            "object_position": null,
            "order": null,
            "overflow": null,
            "overflow_x": null,
            "overflow_y": null,
            "padding": null,
            "right": null,
            "top": null,
            "visibility": null,
            "width": null
          }
        },
        "8f537846c6c540c5b51f4cf4f37e2f44": {
          "model_module": "@jupyter-widgets/controls",
          "model_name": "DescriptionStyleModel",
          "model_module_version": "1.5.0",
          "state": {
            "_model_module": "@jupyter-widgets/controls",
            "_model_module_version": "1.5.0",
            "_model_name": "DescriptionStyleModel",
            "_view_count": null,
            "_view_module": "@jupyter-widgets/base",
            "_view_module_version": "1.2.0",
            "_view_name": "StyleView",
            "description_width": ""
          }
        },
        "b9364ef74329440f8c4636da462f14d0": {
          "model_module": "@jupyter-widgets/base",
          "model_name": "LayoutModel",
          "model_module_version": "1.2.0",
          "state": {
            "_model_module": "@jupyter-widgets/base",
            "_model_module_version": "1.2.0",
            "_model_name": "LayoutModel",
            "_view_count": null,
            "_view_module": "@jupyter-widgets/base",
            "_view_module_version": "1.2.0",
            "_view_name": "LayoutView",
            "align_content": null,
            "align_items": null,
            "align_self": null,
            "border": null,
            "bottom": null,
            "display": null,
            "flex": null,
            "flex_flow": null,
            "grid_area": null,
            "grid_auto_columns": null,
            "grid_auto_flow": null,
            "grid_auto_rows": null,
            "grid_column": null,
            "grid_gap": null,
            "grid_row": null,
            "grid_template_areas": null,
            "grid_template_columns": null,
            "grid_template_rows": null,
            "height": null,
            "justify_content": null,
            "justify_items": null,
            "left": null,
            "margin": null,
            "max_height": null,
            "max_width": null,
            "min_height": null,
            "min_width": null,
            "object_fit": null,
            "object_position": null,
            "order": null,
            "overflow": null,
            "overflow_x": null,
            "overflow_y": null,
            "padding": null,
            "right": null,
            "top": null,
            "visibility": null,
            "width": null
          }
        },
        "10aaeb7ae88543fab43d4acf2b71dcb5": {
          "model_module": "@jupyter-widgets/controls",
          "model_name": "ProgressStyleModel",
          "model_module_version": "1.5.0",
          "state": {
            "_model_module": "@jupyter-widgets/controls",
            "_model_module_version": "1.5.0",
            "_model_name": "ProgressStyleModel",
            "_view_count": null,
            "_view_module": "@jupyter-widgets/base",
            "_view_module_version": "1.2.0",
            "_view_name": "StyleView",
            "bar_color": null,
            "description_width": ""
          }
        },
        "838e219893af41d9a890f3b7428988c6": {
          "model_module": "@jupyter-widgets/base",
          "model_name": "LayoutModel",
          "model_module_version": "1.2.0",
          "state": {
            "_model_module": "@jupyter-widgets/base",
            "_model_module_version": "1.2.0",
            "_model_name": "LayoutModel",
            "_view_count": null,
            "_view_module": "@jupyter-widgets/base",
            "_view_module_version": "1.2.0",
            "_view_name": "LayoutView",
            "align_content": null,
            "align_items": null,
            "align_self": null,
            "border": null,
            "bottom": null,
            "display": null,
            "flex": null,
            "flex_flow": null,
            "grid_area": null,
            "grid_auto_columns": null,
            "grid_auto_flow": null,
            "grid_auto_rows": null,
            "grid_column": null,
            "grid_gap": null,
            "grid_row": null,
            "grid_template_areas": null,
            "grid_template_columns": null,
            "grid_template_rows": null,
            "height": null,
            "justify_content": null,
            "justify_items": null,
            "left": null,
            "margin": null,
            "max_height": null,
            "max_width": null,
            "min_height": null,
            "min_width": null,
            "object_fit": null,
            "object_position": null,
            "order": null,
            "overflow": null,
            "overflow_x": null,
            "overflow_y": null,
            "padding": null,
            "right": null,
            "top": null,
            "visibility": null,
            "width": null
          }
        },
        "56f07faac242432ea41f2c1cbbb10db9": {
          "model_module": "@jupyter-widgets/controls",
          "model_name": "DescriptionStyleModel",
          "model_module_version": "1.5.0",
          "state": {
            "_model_module": "@jupyter-widgets/controls",
            "_model_module_version": "1.5.0",
            "_model_name": "DescriptionStyleModel",
            "_view_count": null,
            "_view_module": "@jupyter-widgets/base",
            "_view_module_version": "1.2.0",
            "_view_name": "StyleView",
            "description_width": ""
          }
        },
        "109403c36d134ae4961a7dddb287aaba": {
          "model_module": "@jupyter-widgets/controls",
          "model_name": "HBoxModel",
          "model_module_version": "1.5.0",
          "state": {
            "_dom_classes": [],
            "_model_module": "@jupyter-widgets/controls",
            "_model_module_version": "1.5.0",
            "_model_name": "HBoxModel",
            "_view_count": null,
            "_view_module": "@jupyter-widgets/controls",
            "_view_module_version": "1.5.0",
            "_view_name": "HBoxView",
            "box_style": "",
            "children": [
              "IPY_MODEL_931973b9661d449a98658407f3bac1af",
              "IPY_MODEL_ceaddb9708064ce1974095b311a28118",
              "IPY_MODEL_6cc716c277064efeaaaad0c1dcc05a10"
            ],
            "layout": "IPY_MODEL_a12f6a0dc68a4189ae86b60aa6e2625d"
          }
        },
        "931973b9661d449a98658407f3bac1af": {
          "model_module": "@jupyter-widgets/controls",
          "model_name": "HTMLModel",
          "model_module_version": "1.5.0",
          "state": {
            "_dom_classes": [],
            "_model_module": "@jupyter-widgets/controls",
            "_model_module_version": "1.5.0",
            "_model_name": "HTMLModel",
            "_view_count": null,
            "_view_module": "@jupyter-widgets/controls",
            "_view_module_version": "1.5.0",
            "_view_name": "HTMLView",
            "description": "",
            "description_tooltip": null,
            "layout": "IPY_MODEL_5f937b74958f4bcb9b30f468999e1638",
            "placeholder": "​",
            "style": "IPY_MODEL_e3c22e2cb0fb4696a02d3c5c678b18b7",
            "value": "Downloading (…)neration_config.json: 100%"
          }
        },
        "ceaddb9708064ce1974095b311a28118": {
          "model_module": "@jupyter-widgets/controls",
          "model_name": "FloatProgressModel",
          "model_module_version": "1.5.0",
          "state": {
            "_dom_classes": [],
            "_model_module": "@jupyter-widgets/controls",
            "_model_module_version": "1.5.0",
            "_model_name": "FloatProgressModel",
            "_view_count": null,
            "_view_module": "@jupyter-widgets/controls",
            "_view_module_version": "1.5.0",
            "_view_name": "ProgressView",
            "bar_style": "success",
            "description": "",
            "description_tooltip": null,
            "layout": "IPY_MODEL_39ba91f4bf8d499f892da4654a0b1aa3",
            "max": 111,
            "min": 0,
            "orientation": "horizontal",
            "style": "IPY_MODEL_0dc255a62a444adda2c886c81bf184dd",
            "value": 111
          }
        },
        "6cc716c277064efeaaaad0c1dcc05a10": {
          "model_module": "@jupyter-widgets/controls",
          "model_name": "HTMLModel",
          "model_module_version": "1.5.0",
          "state": {
            "_dom_classes": [],
            "_model_module": "@jupyter-widgets/controls",
            "_model_module_version": "1.5.0",
            "_model_name": "HTMLModel",
            "_view_count": null,
            "_view_module": "@jupyter-widgets/controls",
            "_view_module_version": "1.5.0",
            "_view_name": "HTMLView",
            "description": "",
            "description_tooltip": null,
            "layout": "IPY_MODEL_f48e1ef1938440d7ad964c007c8f8195",
            "placeholder": "​",
            "style": "IPY_MODEL_3518ac0bf6824a509c9d5ffcb15afc9b",
            "value": " 111/111 [00:00&lt;00:00, 8.23kB/s]"
          }
        },
        "a12f6a0dc68a4189ae86b60aa6e2625d": {
          "model_module": "@jupyter-widgets/base",
          "model_name": "LayoutModel",
          "model_module_version": "1.2.0",
          "state": {
            "_model_module": "@jupyter-widgets/base",
            "_model_module_version": "1.2.0",
            "_model_name": "LayoutModel",
            "_view_count": null,
            "_view_module": "@jupyter-widgets/base",
            "_view_module_version": "1.2.0",
            "_view_name": "LayoutView",
            "align_content": null,
            "align_items": null,
            "align_self": null,
            "border": null,
            "bottom": null,
            "display": null,
            "flex": null,
            "flex_flow": null,
            "grid_area": null,
            "grid_auto_columns": null,
            "grid_auto_flow": null,
            "grid_auto_rows": null,
            "grid_column": null,
            "grid_gap": null,
            "grid_row": null,
            "grid_template_areas": null,
            "grid_template_columns": null,
            "grid_template_rows": null,
            "height": null,
            "justify_content": null,
            "justify_items": null,
            "left": null,
            "margin": null,
            "max_height": null,
            "max_width": null,
            "min_height": null,
            "min_width": null,
            "object_fit": null,
            "object_position": null,
            "order": null,
            "overflow": null,
            "overflow_x": null,
            "overflow_y": null,
            "padding": null,
            "right": null,
            "top": null,
            "visibility": null,
            "width": null
          }
        },
        "5f937b74958f4bcb9b30f468999e1638": {
          "model_module": "@jupyter-widgets/base",
          "model_name": "LayoutModel",
          "model_module_version": "1.2.0",
          "state": {
            "_model_module": "@jupyter-widgets/base",
            "_model_module_version": "1.2.0",
            "_model_name": "LayoutModel",
            "_view_count": null,
            "_view_module": "@jupyter-widgets/base",
            "_view_module_version": "1.2.0",
            "_view_name": "LayoutView",
            "align_content": null,
            "align_items": null,
            "align_self": null,
            "border": null,
            "bottom": null,
            "display": null,
            "flex": null,
            "flex_flow": null,
            "grid_area": null,
            "grid_auto_columns": null,
            "grid_auto_flow": null,
            "grid_auto_rows": null,
            "grid_column": null,
            "grid_gap": null,
            "grid_row": null,
            "grid_template_areas": null,
            "grid_template_columns": null,
            "grid_template_rows": null,
            "height": null,
            "justify_content": null,
            "justify_items": null,
            "left": null,
            "margin": null,
            "max_height": null,
            "max_width": null,
            "min_height": null,
            "min_width": null,
            "object_fit": null,
            "object_position": null,
            "order": null,
            "overflow": null,
            "overflow_x": null,
            "overflow_y": null,
            "padding": null,
            "right": null,
            "top": null,
            "visibility": null,
            "width": null
          }
        },
        "e3c22e2cb0fb4696a02d3c5c678b18b7": {
          "model_module": "@jupyter-widgets/controls",
          "model_name": "DescriptionStyleModel",
          "model_module_version": "1.5.0",
          "state": {
            "_model_module": "@jupyter-widgets/controls",
            "_model_module_version": "1.5.0",
            "_model_name": "DescriptionStyleModel",
            "_view_count": null,
            "_view_module": "@jupyter-widgets/base",
            "_view_module_version": "1.2.0",
            "_view_name": "StyleView",
            "description_width": ""
          }
        },
        "39ba91f4bf8d499f892da4654a0b1aa3": {
          "model_module": "@jupyter-widgets/base",
          "model_name": "LayoutModel",
          "model_module_version": "1.2.0",
          "state": {
            "_model_module": "@jupyter-widgets/base",
            "_model_module_version": "1.2.0",
            "_model_name": "LayoutModel",
            "_view_count": null,
            "_view_module": "@jupyter-widgets/base",
            "_view_module_version": "1.2.0",
            "_view_name": "LayoutView",
            "align_content": null,
            "align_items": null,
            "align_self": null,
            "border": null,
            "bottom": null,
            "display": null,
            "flex": null,
            "flex_flow": null,
            "grid_area": null,
            "grid_auto_columns": null,
            "grid_auto_flow": null,
            "grid_auto_rows": null,
            "grid_column": null,
            "grid_gap": null,
            "grid_row": null,
            "grid_template_areas": null,
            "grid_template_columns": null,
            "grid_template_rows": null,
            "height": null,
            "justify_content": null,
            "justify_items": null,
            "left": null,
            "margin": null,
            "max_height": null,
            "max_width": null,
            "min_height": null,
            "min_width": null,
            "object_fit": null,
            "object_position": null,
            "order": null,
            "overflow": null,
            "overflow_x": null,
            "overflow_y": null,
            "padding": null,
            "right": null,
            "top": null,
            "visibility": null,
            "width": null
          }
        },
        "0dc255a62a444adda2c886c81bf184dd": {
          "model_module": "@jupyter-widgets/controls",
          "model_name": "ProgressStyleModel",
          "model_module_version": "1.5.0",
          "state": {
            "_model_module": "@jupyter-widgets/controls",
            "_model_module_version": "1.5.0",
            "_model_name": "ProgressStyleModel",
            "_view_count": null,
            "_view_module": "@jupyter-widgets/base",
            "_view_module_version": "1.2.0",
            "_view_name": "StyleView",
            "bar_color": null,
            "description_width": ""
          }
        },
        "f48e1ef1938440d7ad964c007c8f8195": {
          "model_module": "@jupyter-widgets/base",
          "model_name": "LayoutModel",
          "model_module_version": "1.2.0",
          "state": {
            "_model_module": "@jupyter-widgets/base",
            "_model_module_version": "1.2.0",
            "_model_name": "LayoutModel",
            "_view_count": null,
            "_view_module": "@jupyter-widgets/base",
            "_view_module_version": "1.2.0",
            "_view_name": "LayoutView",
            "align_content": null,
            "align_items": null,
            "align_self": null,
            "border": null,
            "bottom": null,
            "display": null,
            "flex": null,
            "flex_flow": null,
            "grid_area": null,
            "grid_auto_columns": null,
            "grid_auto_flow": null,
            "grid_auto_rows": null,
            "grid_column": null,
            "grid_gap": null,
            "grid_row": null,
            "grid_template_areas": null,
            "grid_template_columns": null,
            "grid_template_rows": null,
            "height": null,
            "justify_content": null,
            "justify_items": null,
            "left": null,
            "margin": null,
            "max_height": null,
            "max_width": null,
            "min_height": null,
            "min_width": null,
            "object_fit": null,
            "object_position": null,
            "order": null,
            "overflow": null,
            "overflow_x": null,
            "overflow_y": null,
            "padding": null,
            "right": null,
            "top": null,
            "visibility": null,
            "width": null
          }
        },
        "3518ac0bf6824a509c9d5ffcb15afc9b": {
          "model_module": "@jupyter-widgets/controls",
          "model_name": "DescriptionStyleModel",
          "model_module_version": "1.5.0",
          "state": {
            "_model_module": "@jupyter-widgets/controls",
            "_model_module_version": "1.5.0",
            "_model_name": "DescriptionStyleModel",
            "_view_count": null,
            "_view_module": "@jupyter-widgets/base",
            "_view_module_version": "1.2.0",
            "_view_name": "StyleView",
            "description_width": ""
          }
        },
        "a626a866ce2c43d8b084ba3b98c22958": {
          "model_module": "@jupyter-widgets/controls",
          "model_name": "HBoxModel",
          "model_module_version": "1.5.0",
          "state": {
            "_dom_classes": [],
            "_model_module": "@jupyter-widgets/controls",
            "_model_module_version": "1.5.0",
            "_model_name": "HBoxModel",
            "_view_count": null,
            "_view_module": "@jupyter-widgets/controls",
            "_view_module_version": "1.5.0",
            "_view_name": "HBoxView",
            "box_style": "",
            "children": [
              "IPY_MODEL_8429ff6da4b448b3b2a33218876e18d6",
              "IPY_MODEL_229728bf37e8431ab239e6c2d1355e9f",
              "IPY_MODEL_9fe3b767833945e18dbf7d5f034513f1"
            ],
            "layout": "IPY_MODEL_9844dd9df0024e34af7ad2d4a5a94cba"
          }
        },
        "8429ff6da4b448b3b2a33218876e18d6": {
          "model_module": "@jupyter-widgets/controls",
          "model_name": "HTMLModel",
          "model_module_version": "1.5.0",
          "state": {
            "_dom_classes": [],
            "_model_module": "@jupyter-widgets/controls",
            "_model_module_version": "1.5.0",
            "_model_name": "HTMLModel",
            "_view_count": null,
            "_view_module": "@jupyter-widgets/controls",
            "_view_module_version": "1.5.0",
            "_view_name": "HTMLView",
            "description": "",
            "description_tooltip": null,
            "layout": "IPY_MODEL_6c4f059a347e459a9291b5eafe470a65",
            "placeholder": "​",
            "style": "IPY_MODEL_337432144b7846b7840ab66e5dd7e2e5",
            "value": "Downloading (…)lve/main/config.json: 100%"
          }
        },
        "229728bf37e8431ab239e6c2d1355e9f": {
          "model_module": "@jupyter-widgets/controls",
          "model_name": "FloatProgressModel",
          "model_module_version": "1.5.0",
          "state": {
            "_dom_classes": [],
            "_model_module": "@jupyter-widgets/controls",
            "_model_module_version": "1.5.0",
            "_model_name": "FloatProgressModel",
            "_view_count": null,
            "_view_module": "@jupyter-widgets/controls",
            "_view_module_version": "1.5.0",
            "_view_name": "ProgressView",
            "bar_style": "success",
            "description": "",
            "description_tooltip": null,
            "layout": "IPY_MODEL_b7572306582b43fa83c8b40aaf92ac1f",
            "max": 614,
            "min": 0,
            "orientation": "horizontal",
            "style": "IPY_MODEL_aacbdcbaba4c42a9b703ec6309eafd3c",
            "value": 614
          }
        },
        "9fe3b767833945e18dbf7d5f034513f1": {
          "model_module": "@jupyter-widgets/controls",
          "model_name": "HTMLModel",
          "model_module_version": "1.5.0",
          "state": {
            "_dom_classes": [],
            "_model_module": "@jupyter-widgets/controls",
            "_model_module_version": "1.5.0",
            "_model_name": "HTMLModel",
            "_view_count": null,
            "_view_module": "@jupyter-widgets/controls",
            "_view_module_version": "1.5.0",
            "_view_name": "HTMLView",
            "description": "",
            "description_tooltip": null,
            "layout": "IPY_MODEL_1011bc7ed5a849b19739247e3d2e5498",
            "placeholder": "​",
            "style": "IPY_MODEL_64f19e9b0b7b438c94a791b250e13421",
            "value": " 614/614 [00:00&lt;00:00, 18.7kB/s]"
          }
        },
        "9844dd9df0024e34af7ad2d4a5a94cba": {
          "model_module": "@jupyter-widgets/base",
          "model_name": "LayoutModel",
          "model_module_version": "1.2.0",
          "state": {
            "_model_module": "@jupyter-widgets/base",
            "_model_module_version": "1.2.0",
            "_model_name": "LayoutModel",
            "_view_count": null,
            "_view_module": "@jupyter-widgets/base",
            "_view_module_version": "1.2.0",
            "_view_name": "LayoutView",
            "align_content": null,
            "align_items": null,
            "align_self": null,
            "border": null,
            "bottom": null,
            "display": null,
            "flex": null,
            "flex_flow": null,
            "grid_area": null,
            "grid_auto_columns": null,
            "grid_auto_flow": null,
            "grid_auto_rows": null,
            "grid_column": null,
            "grid_gap": null,
            "grid_row": null,
            "grid_template_areas": null,
            "grid_template_columns": null,
            "grid_template_rows": null,
            "height": null,
            "justify_content": null,
            "justify_items": null,
            "left": null,
            "margin": null,
            "max_height": null,
            "max_width": null,
            "min_height": null,
            "min_width": null,
            "object_fit": null,
            "object_position": null,
            "order": null,
            "overflow": null,
            "overflow_x": null,
            "overflow_y": null,
            "padding": null,
            "right": null,
            "top": null,
            "visibility": null,
            "width": null
          }
        },
        "6c4f059a347e459a9291b5eafe470a65": {
          "model_module": "@jupyter-widgets/base",
          "model_name": "LayoutModel",
          "model_module_version": "1.2.0",
          "state": {
            "_model_module": "@jupyter-widgets/base",
            "_model_module_version": "1.2.0",
            "_model_name": "LayoutModel",
            "_view_count": null,
            "_view_module": "@jupyter-widgets/base",
            "_view_module_version": "1.2.0",
            "_view_name": "LayoutView",
            "align_content": null,
            "align_items": null,
            "align_self": null,
            "border": null,
            "bottom": null,
            "display": null,
            "flex": null,
            "flex_flow": null,
            "grid_area": null,
            "grid_auto_columns": null,
            "grid_auto_flow": null,
            "grid_auto_rows": null,
            "grid_column": null,
            "grid_gap": null,
            "grid_row": null,
            "grid_template_areas": null,
            "grid_template_columns": null,
            "grid_template_rows": null,
            "height": null,
            "justify_content": null,
            "justify_items": null,
            "left": null,
            "margin": null,
            "max_height": null,
            "max_width": null,
            "min_height": null,
            "min_width": null,
            "object_fit": null,
            "object_position": null,
            "order": null,
            "overflow": null,
            "overflow_x": null,
            "overflow_y": null,
            "padding": null,
            "right": null,
            "top": null,
            "visibility": null,
            "width": null
          }
        },
        "337432144b7846b7840ab66e5dd7e2e5": {
          "model_module": "@jupyter-widgets/controls",
          "model_name": "DescriptionStyleModel",
          "model_module_version": "1.5.0",
          "state": {
            "_model_module": "@jupyter-widgets/controls",
            "_model_module_version": "1.5.0",
            "_model_name": "DescriptionStyleModel",
            "_view_count": null,
            "_view_module": "@jupyter-widgets/base",
            "_view_module_version": "1.2.0",
            "_view_name": "StyleView",
            "description_width": ""
          }
        },
        "b7572306582b43fa83c8b40aaf92ac1f": {
          "model_module": "@jupyter-widgets/base",
          "model_name": "LayoutModel",
          "model_module_version": "1.2.0",
          "state": {
            "_model_module": "@jupyter-widgets/base",
            "_model_module_version": "1.2.0",
            "_model_name": "LayoutModel",
            "_view_count": null,
            "_view_module": "@jupyter-widgets/base",
            "_view_module_version": "1.2.0",
            "_view_name": "LayoutView",
            "align_content": null,
            "align_items": null,
            "align_self": null,
            "border": null,
            "bottom": null,
            "display": null,
            "flex": null,
            "flex_flow": null,
            "grid_area": null,
            "grid_auto_columns": null,
            "grid_auto_flow": null,
            "grid_auto_rows": null,
            "grid_column": null,
            "grid_gap": null,
            "grid_row": null,
            "grid_template_areas": null,
            "grid_template_columns": null,
            "grid_template_rows": null,
            "height": null,
            "justify_content": null,
            "justify_items": null,
            "left": null,
            "margin": null,
            "max_height": null,
            "max_width": null,
            "min_height": null,
            "min_width": null,
            "object_fit": null,
            "object_position": null,
            "order": null,
            "overflow": null,
            "overflow_x": null,
            "overflow_y": null,
            "padding": null,
            "right": null,
            "top": null,
            "visibility": null,
            "width": null
          }
        },
        "aacbdcbaba4c42a9b703ec6309eafd3c": {
          "model_module": "@jupyter-widgets/controls",
          "model_name": "ProgressStyleModel",
          "model_module_version": "1.5.0",
          "state": {
            "_model_module": "@jupyter-widgets/controls",
            "_model_module_version": "1.5.0",
            "_model_name": "ProgressStyleModel",
            "_view_count": null,
            "_view_module": "@jupyter-widgets/base",
            "_view_module_version": "1.2.0",
            "_view_name": "StyleView",
            "bar_color": null,
            "description_width": ""
          }
        },
        "1011bc7ed5a849b19739247e3d2e5498": {
          "model_module": "@jupyter-widgets/base",
          "model_name": "LayoutModel",
          "model_module_version": "1.2.0",
          "state": {
            "_model_module": "@jupyter-widgets/base",
            "_model_module_version": "1.2.0",
            "_model_name": "LayoutModel",
            "_view_count": null,
            "_view_module": "@jupyter-widgets/base",
            "_view_module_version": "1.2.0",
            "_view_name": "LayoutView",
            "align_content": null,
            "align_items": null,
            "align_self": null,
            "border": null,
            "bottom": null,
            "display": null,
            "flex": null,
            "flex_flow": null,
            "grid_area": null,
            "grid_auto_columns": null,
            "grid_auto_flow": null,
            "grid_auto_rows": null,
            "grid_column": null,
            "grid_gap": null,
            "grid_row": null,
            "grid_template_areas": null,
            "grid_template_columns": null,
            "grid_template_rows": null,
            "height": null,
            "justify_content": null,
            "justify_items": null,
            "left": null,
            "margin": null,
            "max_height": null,
            "max_width": null,
            "min_height": null,
            "min_width": null,
            "object_fit": null,
            "object_position": null,
            "order": null,
            "overflow": null,
            "overflow_x": null,
            "overflow_y": null,
            "padding": null,
            "right": null,
            "top": null,
            "visibility": null,
            "width": null
          }
        },
        "64f19e9b0b7b438c94a791b250e13421": {
          "model_module": "@jupyter-widgets/controls",
          "model_name": "DescriptionStyleModel",
          "model_module_version": "1.5.0",
          "state": {
            "_model_module": "@jupyter-widgets/controls",
            "_model_module_version": "1.5.0",
            "_model_name": "DescriptionStyleModel",
            "_view_count": null,
            "_view_module": "@jupyter-widgets/base",
            "_view_module_version": "1.2.0",
            "_view_name": "StyleView",
            "description_width": ""
          }
        },
        "7a4ee3fd98c2459cb76aa0dec14a201d": {
          "model_module": "@jupyter-widgets/controls",
          "model_name": "HBoxModel",
          "model_module_version": "1.5.0",
          "state": {
            "_dom_classes": [],
            "_model_module": "@jupyter-widgets/controls",
            "_model_module_version": "1.5.0",
            "_model_name": "HBoxModel",
            "_view_count": null,
            "_view_module": "@jupyter-widgets/controls",
            "_view_module_version": "1.5.0",
            "_view_name": "HBoxView",
            "box_style": "",
            "children": [
              "IPY_MODEL_a6e626edf2ad4887a273d671ba1468e4",
              "IPY_MODEL_aef1a0aff829449083dfedfb70be6193",
              "IPY_MODEL_6ff97292464345d1b482af4d55f21a30"
            ],
            "layout": "IPY_MODEL_1e8b4b43daeb48f7a7e4c218791eaca8"
          }
        },
        "a6e626edf2ad4887a273d671ba1468e4": {
          "model_module": "@jupyter-widgets/controls",
          "model_name": "HTMLModel",
          "model_module_version": "1.5.0",
          "state": {
            "_dom_classes": [],
            "_model_module": "@jupyter-widgets/controls",
            "_model_module_version": "1.5.0",
            "_model_name": "HTMLModel",
            "_view_count": null,
            "_view_module": "@jupyter-widgets/controls",
            "_view_module_version": "1.5.0",
            "_view_name": "HTMLView",
            "description": "",
            "description_tooltip": null,
            "layout": "IPY_MODEL_626e9fd338e640709753a15cbffd13a8",
            "placeholder": "​",
            "style": "IPY_MODEL_b22d366d03514532918f0318c1e6df90",
            "value": "Downloading (…)fetensors.index.json: 100%"
          }
        },
        "aef1a0aff829449083dfedfb70be6193": {
          "model_module": "@jupyter-widgets/controls",
          "model_name": "FloatProgressModel",
          "model_module_version": "1.5.0",
          "state": {
            "_dom_classes": [],
            "_model_module": "@jupyter-widgets/controls",
            "_model_module_version": "1.5.0",
            "_model_name": "FloatProgressModel",
            "_view_count": null,
            "_view_module": "@jupyter-widgets/controls",
            "_view_module_version": "1.5.0",
            "_view_name": "ProgressView",
            "bar_style": "success",
            "description": "",
            "description_tooltip": null,
            "layout": "IPY_MODEL_d639c34553084571a02c141572a5038c",
            "max": 26788,
            "min": 0,
            "orientation": "horizontal",
            "style": "IPY_MODEL_76a663b6a18549e3b0c1909f22e7600c",
            "value": 26788
          }
        },
        "6ff97292464345d1b482af4d55f21a30": {
          "model_module": "@jupyter-widgets/controls",
          "model_name": "HTMLModel",
          "model_module_version": "1.5.0",
          "state": {
            "_dom_classes": [],
            "_model_module": "@jupyter-widgets/controls",
            "_model_module_version": "1.5.0",
            "_model_name": "HTMLModel",
            "_view_count": null,
            "_view_module": "@jupyter-widgets/controls",
            "_view_module_version": "1.5.0",
            "_view_name": "HTMLView",
            "description": "",
            "description_tooltip": null,
            "layout": "IPY_MODEL_aaeb6e569b834b5596c6b5c18cacecf4",
            "placeholder": "​",
            "style": "IPY_MODEL_8353fdecda084372a8635a040d4a51d3",
            "value": " 26.8k/26.8k [00:00&lt;00:00, 451kB/s]"
          }
        },
        "1e8b4b43daeb48f7a7e4c218791eaca8": {
          "model_module": "@jupyter-widgets/base",
          "model_name": "LayoutModel",
          "model_module_version": "1.2.0",
          "state": {
            "_model_module": "@jupyter-widgets/base",
            "_model_module_version": "1.2.0",
            "_model_name": "LayoutModel",
            "_view_count": null,
            "_view_module": "@jupyter-widgets/base",
            "_view_module_version": "1.2.0",
            "_view_name": "LayoutView",
            "align_content": null,
            "align_items": null,
            "align_self": null,
            "border": null,
            "bottom": null,
            "display": null,
            "flex": null,
            "flex_flow": null,
            "grid_area": null,
            "grid_auto_columns": null,
            "grid_auto_flow": null,
            "grid_auto_rows": null,
            "grid_column": null,
            "grid_gap": null,
            "grid_row": null,
            "grid_template_areas": null,
            "grid_template_columns": null,
            "grid_template_rows": null,
            "height": null,
            "justify_content": null,
            "justify_items": null,
            "left": null,
            "margin": null,
            "max_height": null,
            "max_width": null,
            "min_height": null,
            "min_width": null,
            "object_fit": null,
            "object_position": null,
            "order": null,
            "overflow": null,
            "overflow_x": null,
            "overflow_y": null,
            "padding": null,
            "right": null,
            "top": null,
            "visibility": null,
            "width": null
          }
        },
        "626e9fd338e640709753a15cbffd13a8": {
          "model_module": "@jupyter-widgets/base",
          "model_name": "LayoutModel",
          "model_module_version": "1.2.0",
          "state": {
            "_model_module": "@jupyter-widgets/base",
            "_model_module_version": "1.2.0",
            "_model_name": "LayoutModel",
            "_view_count": null,
            "_view_module": "@jupyter-widgets/base",
            "_view_module_version": "1.2.0",
            "_view_name": "LayoutView",
            "align_content": null,
            "align_items": null,
            "align_self": null,
            "border": null,
            "bottom": null,
            "display": null,
            "flex": null,
            "flex_flow": null,
            "grid_area": null,
            "grid_auto_columns": null,
            "grid_auto_flow": null,
            "grid_auto_rows": null,
            "grid_column": null,
            "grid_gap": null,
            "grid_row": null,
            "grid_template_areas": null,
            "grid_template_columns": null,
            "grid_template_rows": null,
            "height": null,
            "justify_content": null,
            "justify_items": null,
            "left": null,
            "margin": null,
            "max_height": null,
            "max_width": null,
            "min_height": null,
            "min_width": null,
            "object_fit": null,
            "object_position": null,
            "order": null,
            "overflow": null,
            "overflow_x": null,
            "overflow_y": null,
            "padding": null,
            "right": null,
            "top": null,
            "visibility": null,
            "width": null
          }
        },
        "b22d366d03514532918f0318c1e6df90": {
          "model_module": "@jupyter-widgets/controls",
          "model_name": "DescriptionStyleModel",
          "model_module_version": "1.5.0",
          "state": {
            "_model_module": "@jupyter-widgets/controls",
            "_model_module_version": "1.5.0",
            "_model_name": "DescriptionStyleModel",
            "_view_count": null,
            "_view_module": "@jupyter-widgets/base",
            "_view_module_version": "1.2.0",
            "_view_name": "StyleView",
            "description_width": ""
          }
        },
        "d639c34553084571a02c141572a5038c": {
          "model_module": "@jupyter-widgets/base",
          "model_name": "LayoutModel",
          "model_module_version": "1.2.0",
          "state": {
            "_model_module": "@jupyter-widgets/base",
            "_model_module_version": "1.2.0",
            "_model_name": "LayoutModel",
            "_view_count": null,
            "_view_module": "@jupyter-widgets/base",
            "_view_module_version": "1.2.0",
            "_view_name": "LayoutView",
            "align_content": null,
            "align_items": null,
            "align_self": null,
            "border": null,
            "bottom": null,
            "display": null,
            "flex": null,
            "flex_flow": null,
            "grid_area": null,
            "grid_auto_columns": null,
            "grid_auto_flow": null,
            "grid_auto_rows": null,
            "grid_column": null,
            "grid_gap": null,
            "grid_row": null,
            "grid_template_areas": null,
            "grid_template_columns": null,
            "grid_template_rows": null,
            "height": null,
            "justify_content": null,
            "justify_items": null,
            "left": null,
            "margin": null,
            "max_height": null,
            "max_width": null,
            "min_height": null,
            "min_width": null,
            "object_fit": null,
            "object_position": null,
            "order": null,
            "overflow": null,
            "overflow_x": null,
            "overflow_y": null,
            "padding": null,
            "right": null,
            "top": null,
            "visibility": null,
            "width": null
          }
        },
        "76a663b6a18549e3b0c1909f22e7600c": {
          "model_module": "@jupyter-widgets/controls",
          "model_name": "ProgressStyleModel",
          "model_module_version": "1.5.0",
          "state": {
            "_model_module": "@jupyter-widgets/controls",
            "_model_module_version": "1.5.0",
            "_model_name": "ProgressStyleModel",
            "_view_count": null,
            "_view_module": "@jupyter-widgets/base",
            "_view_module_version": "1.2.0",
            "_view_name": "StyleView",
            "bar_color": null,
            "description_width": ""
          }
        },
        "aaeb6e569b834b5596c6b5c18cacecf4": {
          "model_module": "@jupyter-widgets/base",
          "model_name": "LayoutModel",
          "model_module_version": "1.2.0",
          "state": {
            "_model_module": "@jupyter-widgets/base",
            "_model_module_version": "1.2.0",
            "_model_name": "LayoutModel",
            "_view_count": null,
            "_view_module": "@jupyter-widgets/base",
            "_view_module_version": "1.2.0",
            "_view_name": "LayoutView",
            "align_content": null,
            "align_items": null,
            "align_self": null,
            "border": null,
            "bottom": null,
            "display": null,
            "flex": null,
            "flex_flow": null,
            "grid_area": null,
            "grid_auto_columns": null,
            "grid_auto_flow": null,
            "grid_auto_rows": null,
            "grid_column": null,
            "grid_gap": null,
            "grid_row": null,
            "grid_template_areas": null,
            "grid_template_columns": null,
            "grid_template_rows": null,
            "height": null,
            "justify_content": null,
            "justify_items": null,
            "left": null,
            "margin": null,
            "max_height": null,
            "max_width": null,
            "min_height": null,
            "min_width": null,
            "object_fit": null,
            "object_position": null,
            "order": null,
            "overflow": null,
            "overflow_x": null,
            "overflow_y": null,
            "padding": null,
            "right": null,
            "top": null,
            "visibility": null,
            "width": null
          }
        },
        "8353fdecda084372a8635a040d4a51d3": {
          "model_module": "@jupyter-widgets/controls",
          "model_name": "DescriptionStyleModel",
          "model_module_version": "1.5.0",
          "state": {
            "_model_module": "@jupyter-widgets/controls",
            "_model_module_version": "1.5.0",
            "_model_name": "DescriptionStyleModel",
            "_view_count": null,
            "_view_module": "@jupyter-widgets/base",
            "_view_module_version": "1.2.0",
            "_view_name": "StyleView",
            "description_width": ""
          }
        },
        "a0859630870049f091a9cd53ae0ce2b5": {
          "model_module": "@jupyter-widgets/controls",
          "model_name": "HBoxModel",
          "model_module_version": "1.5.0",
          "state": {
            "_dom_classes": [],
            "_model_module": "@jupyter-widgets/controls",
            "_model_module_version": "1.5.0",
            "_model_name": "HBoxModel",
            "_view_count": null,
            "_view_module": "@jupyter-widgets/controls",
            "_view_module_version": "1.5.0",
            "_view_name": "HBoxView",
            "box_style": "",
            "children": [
              "IPY_MODEL_4a9e0ee0f3e542f683ec5e3f1137da85",
              "IPY_MODEL_24f2f984a6894747953f2fa35ed7beb0",
              "IPY_MODEL_407858c33e424cd2a568b87fe2372058"
            ],
            "layout": "IPY_MODEL_3bc2f4848ea340bab759c3af626bfd24"
          }
        },
        "4a9e0ee0f3e542f683ec5e3f1137da85": {
          "model_module": "@jupyter-widgets/controls",
          "model_name": "HTMLModel",
          "model_module_version": "1.5.0",
          "state": {
            "_dom_classes": [],
            "_model_module": "@jupyter-widgets/controls",
            "_model_module_version": "1.5.0",
            "_model_name": "HTMLModel",
            "_view_count": null,
            "_view_module": "@jupyter-widgets/controls",
            "_view_module_version": "1.5.0",
            "_view_name": "HTMLView",
            "description": "",
            "description_tooltip": null,
            "layout": "IPY_MODEL_cad54167c9fb413188c91cca0d1300f7",
            "placeholder": "​",
            "style": "IPY_MODEL_7aa15ed2182542f4922063892394e30e",
            "value": "Downloading shards: 100%"
          }
        },
        "24f2f984a6894747953f2fa35ed7beb0": {
          "model_module": "@jupyter-widgets/controls",
          "model_name": "FloatProgressModel",
          "model_module_version": "1.5.0",
          "state": {
            "_dom_classes": [],
            "_model_module": "@jupyter-widgets/controls",
            "_model_module_version": "1.5.0",
            "_model_name": "FloatProgressModel",
            "_view_count": null,
            "_view_module": "@jupyter-widgets/controls",
            "_view_module_version": "1.5.0",
            "_view_name": "ProgressView",
            "bar_style": "success",
            "description": "",
            "description_tooltip": null,
            "layout": "IPY_MODEL_783a1b0f584f4d74b1d4bf8d01295254",
            "max": 2,
            "min": 0,
            "orientation": "horizontal",
            "style": "IPY_MODEL_b81626e0be0e4a8492919ee78a0f482c",
            "value": 2
          }
        },
        "407858c33e424cd2a568b87fe2372058": {
          "model_module": "@jupyter-widgets/controls",
          "model_name": "HTMLModel",
          "model_module_version": "1.5.0",
          "state": {
            "_dom_classes": [],
            "_model_module": "@jupyter-widgets/controls",
            "_model_module_version": "1.5.0",
            "_model_name": "HTMLModel",
            "_view_count": null,
            "_view_module": "@jupyter-widgets/controls",
            "_view_module_version": "1.5.0",
            "_view_name": "HTMLView",
            "description": "",
            "description_tooltip": null,
            "layout": "IPY_MODEL_0bd4c7f03c344b65ac58d6ec8c0f3afa",
            "placeholder": "​",
            "style": "IPY_MODEL_1c61c77ca39d45f89b9594a2bdd9ad42",
            "value": " 2/2 [01:24&lt;00:00, 37.41s/it]"
          }
        },
        "3bc2f4848ea340bab759c3af626bfd24": {
          "model_module": "@jupyter-widgets/base",
          "model_name": "LayoutModel",
          "model_module_version": "1.2.0",
          "state": {
            "_model_module": "@jupyter-widgets/base",
            "_model_module_version": "1.2.0",
            "_model_name": "LayoutModel",
            "_view_count": null,
            "_view_module": "@jupyter-widgets/base",
            "_view_module_version": "1.2.0",
            "_view_name": "LayoutView",
            "align_content": null,
            "align_items": null,
            "align_self": null,
            "border": null,
            "bottom": null,
            "display": null,
            "flex": null,
            "flex_flow": null,
            "grid_area": null,
            "grid_auto_columns": null,
            "grid_auto_flow": null,
            "grid_auto_rows": null,
            "grid_column": null,
            "grid_gap": null,
            "grid_row": null,
            "grid_template_areas": null,
            "grid_template_columns": null,
            "grid_template_rows": null,
            "height": null,
            "justify_content": null,
            "justify_items": null,
            "left": null,
            "margin": null,
            "max_height": null,
            "max_width": null,
            "min_height": null,
            "min_width": null,
            "object_fit": null,
            "object_position": null,
            "order": null,
            "overflow": null,
            "overflow_x": null,
            "overflow_y": null,
            "padding": null,
            "right": null,
            "top": null,
            "visibility": null,
            "width": null
          }
        },
        "cad54167c9fb413188c91cca0d1300f7": {
          "model_module": "@jupyter-widgets/base",
          "model_name": "LayoutModel",
          "model_module_version": "1.2.0",
          "state": {
            "_model_module": "@jupyter-widgets/base",
            "_model_module_version": "1.2.0",
            "_model_name": "LayoutModel",
            "_view_count": null,
            "_view_module": "@jupyter-widgets/base",
            "_view_module_version": "1.2.0",
            "_view_name": "LayoutView",
            "align_content": null,
            "align_items": null,
            "align_self": null,
            "border": null,
            "bottom": null,
            "display": null,
            "flex": null,
            "flex_flow": null,
            "grid_area": null,
            "grid_auto_columns": null,
            "grid_auto_flow": null,
            "grid_auto_rows": null,
            "grid_column": null,
            "grid_gap": null,
            "grid_row": null,
            "grid_template_areas": null,
            "grid_template_columns": null,
            "grid_template_rows": null,
            "height": null,
            "justify_content": null,
            "justify_items": null,
            "left": null,
            "margin": null,
            "max_height": null,
            "max_width": null,
            "min_height": null,
            "min_width": null,
            "object_fit": null,
            "object_position": null,
            "order": null,
            "overflow": null,
            "overflow_x": null,
            "overflow_y": null,
            "padding": null,
            "right": null,
            "top": null,
            "visibility": null,
            "width": null
          }
        },
        "7aa15ed2182542f4922063892394e30e": {
          "model_module": "@jupyter-widgets/controls",
          "model_name": "DescriptionStyleModel",
          "model_module_version": "1.5.0",
          "state": {
            "_model_module": "@jupyter-widgets/controls",
            "_model_module_version": "1.5.0",
            "_model_name": "DescriptionStyleModel",
            "_view_count": null,
            "_view_module": "@jupyter-widgets/base",
            "_view_module_version": "1.2.0",
            "_view_name": "StyleView",
            "description_width": ""
          }
        },
        "783a1b0f584f4d74b1d4bf8d01295254": {
          "model_module": "@jupyter-widgets/base",
          "model_name": "LayoutModel",
          "model_module_version": "1.2.0",
          "state": {
            "_model_module": "@jupyter-widgets/base",
            "_model_module_version": "1.2.0",
            "_model_name": "LayoutModel",
            "_view_count": null,
            "_view_module": "@jupyter-widgets/base",
            "_view_module_version": "1.2.0",
            "_view_name": "LayoutView",
            "align_content": null,
            "align_items": null,
            "align_self": null,
            "border": null,
            "bottom": null,
            "display": null,
            "flex": null,
            "flex_flow": null,
            "grid_area": null,
            "grid_auto_columns": null,
            "grid_auto_flow": null,
            "grid_auto_rows": null,
            "grid_column": null,
            "grid_gap": null,
            "grid_row": null,
            "grid_template_areas": null,
            "grid_template_columns": null,
            "grid_template_rows": null,
            "height": null,
            "justify_content": null,
            "justify_items": null,
            "left": null,
            "margin": null,
            "max_height": null,
            "max_width": null,
            "min_height": null,
            "min_width": null,
            "object_fit": null,
            "object_position": null,
            "order": null,
            "overflow": null,
            "overflow_x": null,
            "overflow_y": null,
            "padding": null,
            "right": null,
            "top": null,
            "visibility": null,
            "width": null
          }
        },
        "b81626e0be0e4a8492919ee78a0f482c": {
          "model_module": "@jupyter-widgets/controls",
          "model_name": "ProgressStyleModel",
          "model_module_version": "1.5.0",
          "state": {
            "_model_module": "@jupyter-widgets/controls",
            "_model_module_version": "1.5.0",
            "_model_name": "ProgressStyleModel",
            "_view_count": null,
            "_view_module": "@jupyter-widgets/base",
            "_view_module_version": "1.2.0",
            "_view_name": "StyleView",
            "bar_color": null,
            "description_width": ""
          }
        },
        "0bd4c7f03c344b65ac58d6ec8c0f3afa": {
          "model_module": "@jupyter-widgets/base",
          "model_name": "LayoutModel",
          "model_module_version": "1.2.0",
          "state": {
            "_model_module": "@jupyter-widgets/base",
            "_model_module_version": "1.2.0",
            "_model_name": "LayoutModel",
            "_view_count": null,
            "_view_module": "@jupyter-widgets/base",
            "_view_module_version": "1.2.0",
            "_view_name": "LayoutView",
            "align_content": null,
            "align_items": null,
            "align_self": null,
            "border": null,
            "bottom": null,
            "display": null,
            "flex": null,
            "flex_flow": null,
            "grid_area": null,
            "grid_auto_columns": null,
            "grid_auto_flow": null,
            "grid_auto_rows": null,
            "grid_column": null,
            "grid_gap": null,
            "grid_row": null,
            "grid_template_areas": null,
            "grid_template_columns": null,
            "grid_template_rows": null,
            "height": null,
            "justify_content": null,
            "justify_items": null,
            "left": null,
            "margin": null,
            "max_height": null,
            "max_width": null,
            "min_height": null,
            "min_width": null,
            "object_fit": null,
            "object_position": null,
            "order": null,
            "overflow": null,
            "overflow_x": null,
            "overflow_y": null,
            "padding": null,
            "right": null,
            "top": null,
            "visibility": null,
            "width": null
          }
        },
        "1c61c77ca39d45f89b9594a2bdd9ad42": {
          "model_module": "@jupyter-widgets/controls",
          "model_name": "DescriptionStyleModel",
          "model_module_version": "1.5.0",
          "state": {
            "_model_module": "@jupyter-widgets/controls",
            "_model_module_version": "1.5.0",
            "_model_name": "DescriptionStyleModel",
            "_view_count": null,
            "_view_module": "@jupyter-widgets/base",
            "_view_module_version": "1.2.0",
            "_view_name": "StyleView",
            "description_width": ""
          }
        },
        "47fcad4993784ffdae15f1715b906b92": {
          "model_module": "@jupyter-widgets/controls",
          "model_name": "HBoxModel",
          "model_module_version": "1.5.0",
          "state": {
            "_dom_classes": [],
            "_model_module": "@jupyter-widgets/controls",
            "_model_module_version": "1.5.0",
            "_model_name": "HBoxModel",
            "_view_count": null,
            "_view_module": "@jupyter-widgets/controls",
            "_view_module_version": "1.5.0",
            "_view_name": "HBoxView",
            "box_style": "",
            "children": [
              "IPY_MODEL_8dd040b387264ab6b7149478640adcbb",
              "IPY_MODEL_aff0502060ed4fe0b66d8d07f96e38e4",
              "IPY_MODEL_d4bc058df3c04a1d944e0ceeacff3f12"
            ],
            "layout": "IPY_MODEL_05cb5041c51845769126e752738bd885"
          }
        },
        "8dd040b387264ab6b7149478640adcbb": {
          "model_module": "@jupyter-widgets/controls",
          "model_name": "HTMLModel",
          "model_module_version": "1.5.0",
          "state": {
            "_dom_classes": [],
            "_model_module": "@jupyter-widgets/controls",
            "_model_module_version": "1.5.0",
            "_model_name": "HTMLModel",
            "_view_count": null,
            "_view_module": "@jupyter-widgets/controls",
            "_view_module_version": "1.5.0",
            "_view_name": "HTMLView",
            "description": "",
            "description_tooltip": null,
            "layout": "IPY_MODEL_bd74a59efbdb4dffb04cbbed930508ea",
            "placeholder": "​",
            "style": "IPY_MODEL_11929efd04714950a1dbd0be459793af",
            "value": "Downloading (…)of-00002.safetensors: 100%"
          }
        },
        "aff0502060ed4fe0b66d8d07f96e38e4": {
          "model_module": "@jupyter-widgets/controls",
          "model_name": "FloatProgressModel",
          "model_module_version": "1.5.0",
          "state": {
            "_dom_classes": [],
            "_model_module": "@jupyter-widgets/controls",
            "_model_module_version": "1.5.0",
            "_model_name": "FloatProgressModel",
            "_view_count": null,
            "_view_module": "@jupyter-widgets/controls",
            "_view_module_version": "1.5.0",
            "_view_name": "ProgressView",
            "bar_style": "success",
            "description": "",
            "description_tooltip": null,
            "layout": "IPY_MODEL_0940f31dad7d4a8a9ee2e656b8784075",
            "max": 9976576152,
            "min": 0,
            "orientation": "horizontal",
            "style": "IPY_MODEL_d887b21dcd934cc6b48df2378cc600f2",
            "value": 9976576152
          }
        },
        "d4bc058df3c04a1d944e0ceeacff3f12": {
          "model_module": "@jupyter-widgets/controls",
          "model_name": "HTMLModel",
          "model_module_version": "1.5.0",
          "state": {
            "_dom_classes": [],
            "_model_module": "@jupyter-widgets/controls",
            "_model_module_version": "1.5.0",
            "_model_name": "HTMLModel",
            "_view_count": null,
            "_view_module": "@jupyter-widgets/controls",
            "_view_module_version": "1.5.0",
            "_view_name": "HTMLView",
            "description": "",
            "description_tooltip": null,
            "layout": "IPY_MODEL_e86ad68c14264f54a9d8e6dff21b85dc",
            "placeholder": "​",
            "style": "IPY_MODEL_ae5db7fab2ff43b0b016965af42add89",
            "value": " 9.98G/9.98G [01:10&lt;00:00, 226MB/s]"
          }
        },
        "05cb5041c51845769126e752738bd885": {
          "model_module": "@jupyter-widgets/base",
          "model_name": "LayoutModel",
          "model_module_version": "1.2.0",
          "state": {
            "_model_module": "@jupyter-widgets/base",
            "_model_module_version": "1.2.0",
            "_model_name": "LayoutModel",
            "_view_count": null,
            "_view_module": "@jupyter-widgets/base",
            "_view_module_version": "1.2.0",
            "_view_name": "LayoutView",
            "align_content": null,
            "align_items": null,
            "align_self": null,
            "border": null,
            "bottom": null,
            "display": null,
            "flex": null,
            "flex_flow": null,
            "grid_area": null,
            "grid_auto_columns": null,
            "grid_auto_flow": null,
            "grid_auto_rows": null,
            "grid_column": null,
            "grid_gap": null,
            "grid_row": null,
            "grid_template_areas": null,
            "grid_template_columns": null,
            "grid_template_rows": null,
            "height": null,
            "justify_content": null,
            "justify_items": null,
            "left": null,
            "margin": null,
            "max_height": null,
            "max_width": null,
            "min_height": null,
            "min_width": null,
            "object_fit": null,
            "object_position": null,
            "order": null,
            "overflow": null,
            "overflow_x": null,
            "overflow_y": null,
            "padding": null,
            "right": null,
            "top": null,
            "visibility": null,
            "width": null
          }
        },
        "bd74a59efbdb4dffb04cbbed930508ea": {
          "model_module": "@jupyter-widgets/base",
          "model_name": "LayoutModel",
          "model_module_version": "1.2.0",
          "state": {
            "_model_module": "@jupyter-widgets/base",
            "_model_module_version": "1.2.0",
            "_model_name": "LayoutModel",
            "_view_count": null,
            "_view_module": "@jupyter-widgets/base",
            "_view_module_version": "1.2.0",
            "_view_name": "LayoutView",
            "align_content": null,
            "align_items": null,
            "align_self": null,
            "border": null,
            "bottom": null,
            "display": null,
            "flex": null,
            "flex_flow": null,
            "grid_area": null,
            "grid_auto_columns": null,
            "grid_auto_flow": null,
            "grid_auto_rows": null,
            "grid_column": null,
            "grid_gap": null,
            "grid_row": null,
            "grid_template_areas": null,
            "grid_template_columns": null,
            "grid_template_rows": null,
            "height": null,
            "justify_content": null,
            "justify_items": null,
            "left": null,
            "margin": null,
            "max_height": null,
            "max_width": null,
            "min_height": null,
            "min_width": null,
            "object_fit": null,
            "object_position": null,
            "order": null,
            "overflow": null,
            "overflow_x": null,
            "overflow_y": null,
            "padding": null,
            "right": null,
            "top": null,
            "visibility": null,
            "width": null
          }
        },
        "11929efd04714950a1dbd0be459793af": {
          "model_module": "@jupyter-widgets/controls",
          "model_name": "DescriptionStyleModel",
          "model_module_version": "1.5.0",
          "state": {
            "_model_module": "@jupyter-widgets/controls",
            "_model_module_version": "1.5.0",
            "_model_name": "DescriptionStyleModel",
            "_view_count": null,
            "_view_module": "@jupyter-widgets/base",
            "_view_module_version": "1.2.0",
            "_view_name": "StyleView",
            "description_width": ""
          }
        },
        "0940f31dad7d4a8a9ee2e656b8784075": {
          "model_module": "@jupyter-widgets/base",
          "model_name": "LayoutModel",
          "model_module_version": "1.2.0",
          "state": {
            "_model_module": "@jupyter-widgets/base",
            "_model_module_version": "1.2.0",
            "_model_name": "LayoutModel",
            "_view_count": null,
            "_view_module": "@jupyter-widgets/base",
            "_view_module_version": "1.2.0",
            "_view_name": "LayoutView",
            "align_content": null,
            "align_items": null,
            "align_self": null,
            "border": null,
            "bottom": null,
            "display": null,
            "flex": null,
            "flex_flow": null,
            "grid_area": null,
            "grid_auto_columns": null,
            "grid_auto_flow": null,
            "grid_auto_rows": null,
            "grid_column": null,
            "grid_gap": null,
            "grid_row": null,
            "grid_template_areas": null,
            "grid_template_columns": null,
            "grid_template_rows": null,
            "height": null,
            "justify_content": null,
            "justify_items": null,
            "left": null,
            "margin": null,
            "max_height": null,
            "max_width": null,
            "min_height": null,
            "min_width": null,
            "object_fit": null,
            "object_position": null,
            "order": null,
            "overflow": null,
            "overflow_x": null,
            "overflow_y": null,
            "padding": null,
            "right": null,
            "top": null,
            "visibility": null,
            "width": null
          }
        },
        "d887b21dcd934cc6b48df2378cc600f2": {
          "model_module": "@jupyter-widgets/controls",
          "model_name": "ProgressStyleModel",
          "model_module_version": "1.5.0",
          "state": {
            "_model_module": "@jupyter-widgets/controls",
            "_model_module_version": "1.5.0",
            "_model_name": "ProgressStyleModel",
            "_view_count": null,
            "_view_module": "@jupyter-widgets/base",
            "_view_module_version": "1.2.0",
            "_view_name": "StyleView",
            "bar_color": null,
            "description_width": ""
          }
        },
        "e86ad68c14264f54a9d8e6dff21b85dc": {
          "model_module": "@jupyter-widgets/base",
          "model_name": "LayoutModel",
          "model_module_version": "1.2.0",
          "state": {
            "_model_module": "@jupyter-widgets/base",
            "_model_module_version": "1.2.0",
            "_model_name": "LayoutModel",
            "_view_count": null,
            "_view_module": "@jupyter-widgets/base",
            "_view_module_version": "1.2.0",
            "_view_name": "LayoutView",
            "align_content": null,
            "align_items": null,
            "align_self": null,
            "border": null,
            "bottom": null,
            "display": null,
            "flex": null,
            "flex_flow": null,
            "grid_area": null,
            "grid_auto_columns": null,
            "grid_auto_flow": null,
            "grid_auto_rows": null,
            "grid_column": null,
            "grid_gap": null,
            "grid_row": null,
            "grid_template_areas": null,
            "grid_template_columns": null,
            "grid_template_rows": null,
            "height": null,
            "justify_content": null,
            "justify_items": null,
            "left": null,
            "margin": null,
            "max_height": null,
            "max_width": null,
            "min_height": null,
            "min_width": null,
            "object_fit": null,
            "object_position": null,
            "order": null,
            "overflow": null,
            "overflow_x": null,
            "overflow_y": null,
            "padding": null,
            "right": null,
            "top": null,
            "visibility": null,
            "width": null
          }
        },
        "ae5db7fab2ff43b0b016965af42add89": {
          "model_module": "@jupyter-widgets/controls",
          "model_name": "DescriptionStyleModel",
          "model_module_version": "1.5.0",
          "state": {
            "_model_module": "@jupyter-widgets/controls",
            "_model_module_version": "1.5.0",
            "_model_name": "DescriptionStyleModel",
            "_view_count": null,
            "_view_module": "@jupyter-widgets/base",
            "_view_module_version": "1.2.0",
            "_view_name": "StyleView",
            "description_width": ""
          }
        },
        "59e6b84f2d8e4a19a06772aa7afa6862": {
          "model_module": "@jupyter-widgets/controls",
          "model_name": "HBoxModel",
          "model_module_version": "1.5.0",
          "state": {
            "_dom_classes": [],
            "_model_module": "@jupyter-widgets/controls",
            "_model_module_version": "1.5.0",
            "_model_name": "HBoxModel",
            "_view_count": null,
            "_view_module": "@jupyter-widgets/controls",
            "_view_module_version": "1.5.0",
            "_view_name": "HBoxView",
            "box_style": "",
            "children": [
              "IPY_MODEL_042c4d95b3114b7db406b8e6c9cf7b34",
              "IPY_MODEL_89e226884ee2446990c8bb6c4685b060",
              "IPY_MODEL_0800c55197d34a3987ab62fe4144b276"
            ],
            "layout": "IPY_MODEL_a3ca99efe846468ab198e60a1a6cc31d"
          }
        },
        "042c4d95b3114b7db406b8e6c9cf7b34": {
          "model_module": "@jupyter-widgets/controls",
          "model_name": "HTMLModel",
          "model_module_version": "1.5.0",
          "state": {
            "_dom_classes": [],
            "_model_module": "@jupyter-widgets/controls",
            "_model_module_version": "1.5.0",
            "_model_name": "HTMLModel",
            "_view_count": null,
            "_view_module": "@jupyter-widgets/controls",
            "_view_module_version": "1.5.0",
            "_view_name": "HTMLView",
            "description": "",
            "description_tooltip": null,
            "layout": "IPY_MODEL_10075c09a96140ae97e8ba66462e0a44",
            "placeholder": "​",
            "style": "IPY_MODEL_092f74cb99cb40f88318745d22e8caff",
            "value": "Downloading (…)of-00002.safetensors: 100%"
          }
        },
        "89e226884ee2446990c8bb6c4685b060": {
          "model_module": "@jupyter-widgets/controls",
          "model_name": "FloatProgressModel",
          "model_module_version": "1.5.0",
          "state": {
            "_dom_classes": [],
            "_model_module": "@jupyter-widgets/controls",
            "_model_module_version": "1.5.0",
            "_model_name": "FloatProgressModel",
            "_view_count": null,
            "_view_module": "@jupyter-widgets/controls",
            "_view_module_version": "1.5.0",
            "_view_name": "ProgressView",
            "bar_style": "success",
            "description": "",
            "description_tooltip": null,
            "layout": "IPY_MODEL_863c437230814773bf7460acc9c26a07",
            "max": 3500296424,
            "min": 0,
            "orientation": "horizontal",
            "style": "IPY_MODEL_56faad56c8334d729781fe144286f36e",
            "value": 3500296424
          }
        },
        "0800c55197d34a3987ab62fe4144b276": {
          "model_module": "@jupyter-widgets/controls",
          "model_name": "HTMLModel",
          "model_module_version": "1.5.0",
          "state": {
            "_dom_classes": [],
            "_model_module": "@jupyter-widgets/controls",
            "_model_module_version": "1.5.0",
            "_model_name": "HTMLModel",
            "_view_count": null,
            "_view_module": "@jupyter-widgets/controls",
            "_view_module_version": "1.5.0",
            "_view_name": "HTMLView",
            "description": "",
            "description_tooltip": null,
            "layout": "IPY_MODEL_3d2db65ca7a44980beeffae6507f4e6e",
            "placeholder": "​",
            "style": "IPY_MODEL_57b30cdbf0d84d2c9eb4e54b55492e1f",
            "value": " 3.50G/3.50G [00:13&lt;00:00, 214MB/s]"
          }
        },
        "a3ca99efe846468ab198e60a1a6cc31d": {
          "model_module": "@jupyter-widgets/base",
          "model_name": "LayoutModel",
          "model_module_version": "1.2.0",
          "state": {
            "_model_module": "@jupyter-widgets/base",
            "_model_module_version": "1.2.0",
            "_model_name": "LayoutModel",
            "_view_count": null,
            "_view_module": "@jupyter-widgets/base",
            "_view_module_version": "1.2.0",
            "_view_name": "LayoutView",
            "align_content": null,
            "align_items": null,
            "align_self": null,
            "border": null,
            "bottom": null,
            "display": null,
            "flex": null,
            "flex_flow": null,
            "grid_area": null,
            "grid_auto_columns": null,
            "grid_auto_flow": null,
            "grid_auto_rows": null,
            "grid_column": null,
            "grid_gap": null,
            "grid_row": null,
            "grid_template_areas": null,
            "grid_template_columns": null,
            "grid_template_rows": null,
            "height": null,
            "justify_content": null,
            "justify_items": null,
            "left": null,
            "margin": null,
            "max_height": null,
            "max_width": null,
            "min_height": null,
            "min_width": null,
            "object_fit": null,
            "object_position": null,
            "order": null,
            "overflow": null,
            "overflow_x": null,
            "overflow_y": null,
            "padding": null,
            "right": null,
            "top": null,
            "visibility": null,
            "width": null
          }
        },
        "10075c09a96140ae97e8ba66462e0a44": {
          "model_module": "@jupyter-widgets/base",
          "model_name": "LayoutModel",
          "model_module_version": "1.2.0",
          "state": {
            "_model_module": "@jupyter-widgets/base",
            "_model_module_version": "1.2.0",
            "_model_name": "LayoutModel",
            "_view_count": null,
            "_view_module": "@jupyter-widgets/base",
            "_view_module_version": "1.2.0",
            "_view_name": "LayoutView",
            "align_content": null,
            "align_items": null,
            "align_self": null,
            "border": null,
            "bottom": null,
            "display": null,
            "flex": null,
            "flex_flow": null,
            "grid_area": null,
            "grid_auto_columns": null,
            "grid_auto_flow": null,
            "grid_auto_rows": null,
            "grid_column": null,
            "grid_gap": null,
            "grid_row": null,
            "grid_template_areas": null,
            "grid_template_columns": null,
            "grid_template_rows": null,
            "height": null,
            "justify_content": null,
            "justify_items": null,
            "left": null,
            "margin": null,
            "max_height": null,
            "max_width": null,
            "min_height": null,
            "min_width": null,
            "object_fit": null,
            "object_position": null,
            "order": null,
            "overflow": null,
            "overflow_x": null,
            "overflow_y": null,
            "padding": null,
            "right": null,
            "top": null,
            "visibility": null,
            "width": null
          }
        },
        "092f74cb99cb40f88318745d22e8caff": {
          "model_module": "@jupyter-widgets/controls",
          "model_name": "DescriptionStyleModel",
          "model_module_version": "1.5.0",
          "state": {
            "_model_module": "@jupyter-widgets/controls",
            "_model_module_version": "1.5.0",
            "_model_name": "DescriptionStyleModel",
            "_view_count": null,
            "_view_module": "@jupyter-widgets/base",
            "_view_module_version": "1.2.0",
            "_view_name": "StyleView",
            "description_width": ""
          }
        },
        "863c437230814773bf7460acc9c26a07": {
          "model_module": "@jupyter-widgets/base",
          "model_name": "LayoutModel",
          "model_module_version": "1.2.0",
          "state": {
            "_model_module": "@jupyter-widgets/base",
            "_model_module_version": "1.2.0",
            "_model_name": "LayoutModel",
            "_view_count": null,
            "_view_module": "@jupyter-widgets/base",
            "_view_module_version": "1.2.0",
            "_view_name": "LayoutView",
            "align_content": null,
            "align_items": null,
            "align_self": null,
            "border": null,
            "bottom": null,
            "display": null,
            "flex": null,
            "flex_flow": null,
            "grid_area": null,
            "grid_auto_columns": null,
            "grid_auto_flow": null,
            "grid_auto_rows": null,
            "grid_column": null,
            "grid_gap": null,
            "grid_row": null,
            "grid_template_areas": null,
            "grid_template_columns": null,
            "grid_template_rows": null,
            "height": null,
            "justify_content": null,
            "justify_items": null,
            "left": null,
            "margin": null,
            "max_height": null,
            "max_width": null,
            "min_height": null,
            "min_width": null,
            "object_fit": null,
            "object_position": null,
            "order": null,
            "overflow": null,
            "overflow_x": null,
            "overflow_y": null,
            "padding": null,
            "right": null,
            "top": null,
            "visibility": null,
            "width": null
          }
        },
        "56faad56c8334d729781fe144286f36e": {
          "model_module": "@jupyter-widgets/controls",
          "model_name": "ProgressStyleModel",
          "model_module_version": "1.5.0",
          "state": {
            "_model_module": "@jupyter-widgets/controls",
            "_model_module_version": "1.5.0",
            "_model_name": "ProgressStyleModel",
            "_view_count": null,
            "_view_module": "@jupyter-widgets/base",
            "_view_module_version": "1.2.0",
            "_view_name": "StyleView",
            "bar_color": null,
            "description_width": ""
          }
        },
        "3d2db65ca7a44980beeffae6507f4e6e": {
          "model_module": "@jupyter-widgets/base",
          "model_name": "LayoutModel",
          "model_module_version": "1.2.0",
          "state": {
            "_model_module": "@jupyter-widgets/base",
            "_model_module_version": "1.2.0",
            "_model_name": "LayoutModel",
            "_view_count": null,
            "_view_module": "@jupyter-widgets/base",
            "_view_module_version": "1.2.0",
            "_view_name": "LayoutView",
            "align_content": null,
            "align_items": null,
            "align_self": null,
            "border": null,
            "bottom": null,
            "display": null,
            "flex": null,
            "flex_flow": null,
            "grid_area": null,
            "grid_auto_columns": null,
            "grid_auto_flow": null,
            "grid_auto_rows": null,
            "grid_column": null,
            "grid_gap": null,
            "grid_row": null,
            "grid_template_areas": null,
            "grid_template_columns": null,
            "grid_template_rows": null,
            "height": null,
            "justify_content": null,
            "justify_items": null,
            "left": null,
            "margin": null,
            "max_height": null,
            "max_width": null,
            "min_height": null,
            "min_width": null,
            "object_fit": null,
            "object_position": null,
            "order": null,
            "overflow": null,
            "overflow_x": null,
            "overflow_y": null,
            "padding": null,
            "right": null,
            "top": null,
            "visibility": null,
            "width": null
          }
        },
        "57b30cdbf0d84d2c9eb4e54b55492e1f": {
          "model_module": "@jupyter-widgets/controls",
          "model_name": "DescriptionStyleModel",
          "model_module_version": "1.5.0",
          "state": {
            "_model_module": "@jupyter-widgets/controls",
            "_model_module_version": "1.5.0",
            "_model_name": "DescriptionStyleModel",
            "_view_count": null,
            "_view_module": "@jupyter-widgets/base",
            "_view_module_version": "1.2.0",
            "_view_name": "StyleView",
            "description_width": ""
          }
        },
        "ed6d97f93d074ea3a852b057aca421aa": {
          "model_module": "@jupyter-widgets/controls",
          "model_name": "HBoxModel",
          "model_module_version": "1.5.0",
          "state": {
            "_dom_classes": [],
            "_model_module": "@jupyter-widgets/controls",
            "_model_module_version": "1.5.0",
            "_model_name": "HBoxModel",
            "_view_count": null,
            "_view_module": "@jupyter-widgets/controls",
            "_view_module_version": "1.5.0",
            "_view_name": "HBoxView",
            "box_style": "",
            "children": [
              "IPY_MODEL_5983c734a3de4001828ccea7225b6d1e",
              "IPY_MODEL_5a778b9d64a344f0974821c4c1106cf8",
              "IPY_MODEL_b7e0133483074cfb83cce625dd7fb21f"
            ],
            "layout": "IPY_MODEL_305d34763d83447ebba0221e5c7008b1"
          }
        },
        "5983c734a3de4001828ccea7225b6d1e": {
          "model_module": "@jupyter-widgets/controls",
          "model_name": "HTMLModel",
          "model_module_version": "1.5.0",
          "state": {
            "_dom_classes": [],
            "_model_module": "@jupyter-widgets/controls",
            "_model_module_version": "1.5.0",
            "_model_name": "HTMLModel",
            "_view_count": null,
            "_view_module": "@jupyter-widgets/controls",
            "_view_module_version": "1.5.0",
            "_view_name": "HTMLView",
            "description": "",
            "description_tooltip": null,
            "layout": "IPY_MODEL_c7fb44bec2bc4892a244b117198843d0",
            "placeholder": "​",
            "style": "IPY_MODEL_4611a5bacc274d18beda5ee3ec7d939c",
            "value": "Loading checkpoint shards: 100%"
          }
        },
        "5a778b9d64a344f0974821c4c1106cf8": {
          "model_module": "@jupyter-widgets/controls",
          "model_name": "FloatProgressModel",
          "model_module_version": "1.5.0",
          "state": {
            "_dom_classes": [],
            "_model_module": "@jupyter-widgets/controls",
            "_model_module_version": "1.5.0",
            "_model_name": "FloatProgressModel",
            "_view_count": null,
            "_view_module": "@jupyter-widgets/controls",
            "_view_module_version": "1.5.0",
            "_view_name": "ProgressView",
            "bar_style": "success",
            "description": "",
            "description_tooltip": null,
            "layout": "IPY_MODEL_e6400526647149668ef76e872f253c02",
            "max": 2,
            "min": 0,
            "orientation": "horizontal",
            "style": "IPY_MODEL_9099e2e4c1f44146a54a22a31c72fc34",
            "value": 2
          }
        },
        "b7e0133483074cfb83cce625dd7fb21f": {
          "model_module": "@jupyter-widgets/controls",
          "model_name": "HTMLModel",
          "model_module_version": "1.5.0",
          "state": {
            "_dom_classes": [],
            "_model_module": "@jupyter-widgets/controls",
            "_model_module_version": "1.5.0",
            "_model_name": "HTMLModel",
            "_view_count": null,
            "_view_module": "@jupyter-widgets/controls",
            "_view_module_version": "1.5.0",
            "_view_name": "HTMLView",
            "description": "",
            "description_tooltip": null,
            "layout": "IPY_MODEL_6382fc7fb3aa492cb248035515a806cc",
            "placeholder": "​",
            "style": "IPY_MODEL_239a543904b1446a88c4b7737e5a6ebd",
            "value": " 2/2 [01:28&lt;00:00, 40.37s/it]"
          }
        },
        "305d34763d83447ebba0221e5c7008b1": {
          "model_module": "@jupyter-widgets/base",
          "model_name": "LayoutModel",
          "model_module_version": "1.2.0",
          "state": {
            "_model_module": "@jupyter-widgets/base",
            "_model_module_version": "1.2.0",
            "_model_name": "LayoutModel",
            "_view_count": null,
            "_view_module": "@jupyter-widgets/base",
            "_view_module_version": "1.2.0",
            "_view_name": "LayoutView",
            "align_content": null,
            "align_items": null,
            "align_self": null,
            "border": null,
            "bottom": null,
            "display": null,
            "flex": null,
            "flex_flow": null,
            "grid_area": null,
            "grid_auto_columns": null,
            "grid_auto_flow": null,
            "grid_auto_rows": null,
            "grid_column": null,
            "grid_gap": null,
            "grid_row": null,
            "grid_template_areas": null,
            "grid_template_columns": null,
            "grid_template_rows": null,
            "height": null,
            "justify_content": null,
            "justify_items": null,
            "left": null,
            "margin": null,
            "max_height": null,
            "max_width": null,
            "min_height": null,
            "min_width": null,
            "object_fit": null,
            "object_position": null,
            "order": null,
            "overflow": null,
            "overflow_x": null,
            "overflow_y": null,
            "padding": null,
            "right": null,
            "top": null,
            "visibility": null,
            "width": null
          }
        },
        "c7fb44bec2bc4892a244b117198843d0": {
          "model_module": "@jupyter-widgets/base",
          "model_name": "LayoutModel",
          "model_module_version": "1.2.0",
          "state": {
            "_model_module": "@jupyter-widgets/base",
            "_model_module_version": "1.2.0",
            "_model_name": "LayoutModel",
            "_view_count": null,
            "_view_module": "@jupyter-widgets/base",
            "_view_module_version": "1.2.0",
            "_view_name": "LayoutView",
            "align_content": null,
            "align_items": null,
            "align_self": null,
            "border": null,
            "bottom": null,
            "display": null,
            "flex": null,
            "flex_flow": null,
            "grid_area": null,
            "grid_auto_columns": null,
            "grid_auto_flow": null,
            "grid_auto_rows": null,
            "grid_column": null,
            "grid_gap": null,
            "grid_row": null,
            "grid_template_areas": null,
            "grid_template_columns": null,
            "grid_template_rows": null,
            "height": null,
            "justify_content": null,
            "justify_items": null,
            "left": null,
            "margin": null,
            "max_height": null,
            "max_width": null,
            "min_height": null,
            "min_width": null,
            "object_fit": null,
            "object_position": null,
            "order": null,
            "overflow": null,
            "overflow_x": null,
            "overflow_y": null,
            "padding": null,
            "right": null,
            "top": null,
            "visibility": null,
            "width": null
          }
        },
        "4611a5bacc274d18beda5ee3ec7d939c": {
          "model_module": "@jupyter-widgets/controls",
          "model_name": "DescriptionStyleModel",
          "model_module_version": "1.5.0",
          "state": {
            "_model_module": "@jupyter-widgets/controls",
            "_model_module_version": "1.5.0",
            "_model_name": "DescriptionStyleModel",
            "_view_count": null,
            "_view_module": "@jupyter-widgets/base",
            "_view_module_version": "1.2.0",
            "_view_name": "StyleView",
            "description_width": ""
          }
        },
        "e6400526647149668ef76e872f253c02": {
          "model_module": "@jupyter-widgets/base",
          "model_name": "LayoutModel",
          "model_module_version": "1.2.0",
          "state": {
            "_model_module": "@jupyter-widgets/base",
            "_model_module_version": "1.2.0",
            "_model_name": "LayoutModel",
            "_view_count": null,
            "_view_module": "@jupyter-widgets/base",
            "_view_module_version": "1.2.0",
            "_view_name": "LayoutView",
            "align_content": null,
            "align_items": null,
            "align_self": null,
            "border": null,
            "bottom": null,
            "display": null,
            "flex": null,
            "flex_flow": null,
            "grid_area": null,
            "grid_auto_columns": null,
            "grid_auto_flow": null,
            "grid_auto_rows": null,
            "grid_column": null,
            "grid_gap": null,
            "grid_row": null,
            "grid_template_areas": null,
            "grid_template_columns": null,
            "grid_template_rows": null,
            "height": null,
            "justify_content": null,
            "justify_items": null,
            "left": null,
            "margin": null,
            "max_height": null,
            "max_width": null,
            "min_height": null,
            "min_width": null,
            "object_fit": null,
            "object_position": null,
            "order": null,
            "overflow": null,
            "overflow_x": null,
            "overflow_y": null,
            "padding": null,
            "right": null,
            "top": null,
            "visibility": null,
            "width": null
          }
        },
        "9099e2e4c1f44146a54a22a31c72fc34": {
          "model_module": "@jupyter-widgets/controls",
          "model_name": "ProgressStyleModel",
          "model_module_version": "1.5.0",
          "state": {
            "_model_module": "@jupyter-widgets/controls",
            "_model_module_version": "1.5.0",
            "_model_name": "ProgressStyleModel",
            "_view_count": null,
            "_view_module": "@jupyter-widgets/base",
            "_view_module_version": "1.2.0",
            "_view_name": "StyleView",
            "bar_color": null,
            "description_width": ""
          }
        },
        "6382fc7fb3aa492cb248035515a806cc": {
          "model_module": "@jupyter-widgets/base",
          "model_name": "LayoutModel",
          "model_module_version": "1.2.0",
          "state": {
            "_model_module": "@jupyter-widgets/base",
            "_model_module_version": "1.2.0",
            "_model_name": "LayoutModel",
            "_view_count": null,
            "_view_module": "@jupyter-widgets/base",
            "_view_module_version": "1.2.0",
            "_view_name": "LayoutView",
            "align_content": null,
            "align_items": null,
            "align_self": null,
            "border": null,
            "bottom": null,
            "display": null,
            "flex": null,
            "flex_flow": null,
            "grid_area": null,
            "grid_auto_columns": null,
            "grid_auto_flow": null,
            "grid_auto_rows": null,
            "grid_column": null,
            "grid_gap": null,
            "grid_row": null,
            "grid_template_areas": null,
            "grid_template_columns": null,
            "grid_template_rows": null,
            "height": null,
            "justify_content": null,
            "justify_items": null,
            "left": null,
            "margin": null,
            "max_height": null,
            "max_width": null,
            "min_height": null,
            "min_width": null,
            "object_fit": null,
            "object_position": null,
            "order": null,
            "overflow": null,
            "overflow_x": null,
            "overflow_y": null,
            "padding": null,
            "right": null,
            "top": null,
            "visibility": null,
            "width": null
          }
        },
        "239a543904b1446a88c4b7737e5a6ebd": {
          "model_module": "@jupyter-widgets/controls",
          "model_name": "DescriptionStyleModel",
          "model_module_version": "1.5.0",
          "state": {
            "_model_module": "@jupyter-widgets/controls",
            "_model_module_version": "1.5.0",
            "_model_name": "DescriptionStyleModel",
            "_view_count": null,
            "_view_module": "@jupyter-widgets/base",
            "_view_module_version": "1.2.0",
            "_view_name": "StyleView",
            "description_width": ""
          }
        },
        "b3f60ba016bb45fa8f2ccad02355f694": {
          "model_module": "@jupyter-widgets/controls",
          "model_name": "HBoxModel",
          "model_module_version": "1.5.0",
          "state": {
            "_dom_classes": [],
            "_model_module": "@jupyter-widgets/controls",
            "_model_module_version": "1.5.0",
            "_model_name": "HBoxModel",
            "_view_count": null,
            "_view_module": "@jupyter-widgets/controls",
            "_view_module_version": "1.5.0",
            "_view_name": "HBoxView",
            "box_style": "",
            "children": [
              "IPY_MODEL_d0ac6c8888614317841db927fa303a4f",
              "IPY_MODEL_951a4c95a0f447999bcb5901fe082c25",
              "IPY_MODEL_0d7b6f376175437293138604c0739d87"
            ],
            "layout": "IPY_MODEL_ea4c59bbd1734d58bcd394f778ecc189"
          }
        },
        "d0ac6c8888614317841db927fa303a4f": {
          "model_module": "@jupyter-widgets/controls",
          "model_name": "HTMLModel",
          "model_module_version": "1.5.0",
          "state": {
            "_dom_classes": [],
            "_model_module": "@jupyter-widgets/controls",
            "_model_module_version": "1.5.0",
            "_model_name": "HTMLModel",
            "_view_count": null,
            "_view_module": "@jupyter-widgets/controls",
            "_view_module_version": "1.5.0",
            "_view_name": "HTMLView",
            "description": "",
            "description_tooltip": null,
            "layout": "IPY_MODEL_e3bcc4ae8bfd45f9ab51a30359cf6ec1",
            "placeholder": "​",
            "style": "IPY_MODEL_8e05dc2b8b25462fa79124fc2048a5c8",
            "value": "Downloading (…)neration_config.json: 100%"
          }
        },
        "951a4c95a0f447999bcb5901fe082c25": {
          "model_module": "@jupyter-widgets/controls",
          "model_name": "FloatProgressModel",
          "model_module_version": "1.5.0",
          "state": {
            "_dom_classes": [],
            "_model_module": "@jupyter-widgets/controls",
            "_model_module_version": "1.5.0",
            "_model_name": "FloatProgressModel",
            "_view_count": null,
            "_view_module": "@jupyter-widgets/controls",
            "_view_module_version": "1.5.0",
            "_view_name": "ProgressView",
            "bar_style": "success",
            "description": "",
            "description_tooltip": null,
            "layout": "IPY_MODEL_f5a16e29b9f04c16bca3fcae0b3e57da",
            "max": 188,
            "min": 0,
            "orientation": "horizontal",
            "style": "IPY_MODEL_9960b0f5422e45798c29bad8ff3b9fe9",
            "value": 188
          }
        },
        "0d7b6f376175437293138604c0739d87": {
          "model_module": "@jupyter-widgets/controls",
          "model_name": "HTMLModel",
          "model_module_version": "1.5.0",
          "state": {
            "_dom_classes": [],
            "_model_module": "@jupyter-widgets/controls",
            "_model_module_version": "1.5.0",
            "_model_name": "HTMLModel",
            "_view_count": null,
            "_view_module": "@jupyter-widgets/controls",
            "_view_module_version": "1.5.0",
            "_view_name": "HTMLView",
            "description": "",
            "description_tooltip": null,
            "layout": "IPY_MODEL_00e4f9e39bb24dcb8e566bd07e2b217b",
            "placeholder": "​",
            "style": "IPY_MODEL_7b7cf113b9c0465d9ff686102dfb633a",
            "value": " 188/188 [00:00&lt;00:00, 11.6kB/s]"
          }
        },
        "ea4c59bbd1734d58bcd394f778ecc189": {
          "model_module": "@jupyter-widgets/base",
          "model_name": "LayoutModel",
          "model_module_version": "1.2.0",
          "state": {
            "_model_module": "@jupyter-widgets/base",
            "_model_module_version": "1.2.0",
            "_model_name": "LayoutModel",
            "_view_count": null,
            "_view_module": "@jupyter-widgets/base",
            "_view_module_version": "1.2.0",
            "_view_name": "LayoutView",
            "align_content": null,
            "align_items": null,
            "align_self": null,
            "border": null,
            "bottom": null,
            "display": null,
            "flex": null,
            "flex_flow": null,
            "grid_area": null,
            "grid_auto_columns": null,
            "grid_auto_flow": null,
            "grid_auto_rows": null,
            "grid_column": null,
            "grid_gap": null,
            "grid_row": null,
            "grid_template_areas": null,
            "grid_template_columns": null,
            "grid_template_rows": null,
            "height": null,
            "justify_content": null,
            "justify_items": null,
            "left": null,
            "margin": null,
            "max_height": null,
            "max_width": null,
            "min_height": null,
            "min_width": null,
            "object_fit": null,
            "object_position": null,
            "order": null,
            "overflow": null,
            "overflow_x": null,
            "overflow_y": null,
            "padding": null,
            "right": null,
            "top": null,
            "visibility": null,
            "width": null
          }
        },
        "e3bcc4ae8bfd45f9ab51a30359cf6ec1": {
          "model_module": "@jupyter-widgets/base",
          "model_name": "LayoutModel",
          "model_module_version": "1.2.0",
          "state": {
            "_model_module": "@jupyter-widgets/base",
            "_model_module_version": "1.2.0",
            "_model_name": "LayoutModel",
            "_view_count": null,
            "_view_module": "@jupyter-widgets/base",
            "_view_module_version": "1.2.0",
            "_view_name": "LayoutView",
            "align_content": null,
            "align_items": null,
            "align_self": null,
            "border": null,
            "bottom": null,
            "display": null,
            "flex": null,
            "flex_flow": null,
            "grid_area": null,
            "grid_auto_columns": null,
            "grid_auto_flow": null,
            "grid_auto_rows": null,
            "grid_column": null,
            "grid_gap": null,
            "grid_row": null,
            "grid_template_areas": null,
            "grid_template_columns": null,
            "grid_template_rows": null,
            "height": null,
            "justify_content": null,
            "justify_items": null,
            "left": null,
            "margin": null,
            "max_height": null,
            "max_width": null,
            "min_height": null,
            "min_width": null,
            "object_fit": null,
            "object_position": null,
            "order": null,
            "overflow": null,
            "overflow_x": null,
            "overflow_y": null,
            "padding": null,
            "right": null,
            "top": null,
            "visibility": null,
            "width": null
          }
        },
        "8e05dc2b8b25462fa79124fc2048a5c8": {
          "model_module": "@jupyter-widgets/controls",
          "model_name": "DescriptionStyleModel",
          "model_module_version": "1.5.0",
          "state": {
            "_model_module": "@jupyter-widgets/controls",
            "_model_module_version": "1.5.0",
            "_model_name": "DescriptionStyleModel",
            "_view_count": null,
            "_view_module": "@jupyter-widgets/base",
            "_view_module_version": "1.2.0",
            "_view_name": "StyleView",
            "description_width": ""
          }
        },
        "f5a16e29b9f04c16bca3fcae0b3e57da": {
          "model_module": "@jupyter-widgets/base",
          "model_name": "LayoutModel",
          "model_module_version": "1.2.0",
          "state": {
            "_model_module": "@jupyter-widgets/base",
            "_model_module_version": "1.2.0",
            "_model_name": "LayoutModel",
            "_view_count": null,
            "_view_module": "@jupyter-widgets/base",
            "_view_module_version": "1.2.0",
            "_view_name": "LayoutView",
            "align_content": null,
            "align_items": null,
            "align_self": null,
            "border": null,
            "bottom": null,
            "display": null,
            "flex": null,
            "flex_flow": null,
            "grid_area": null,
            "grid_auto_columns": null,
            "grid_auto_flow": null,
            "grid_auto_rows": null,
            "grid_column": null,
            "grid_gap": null,
            "grid_row": null,
            "grid_template_areas": null,
            "grid_template_columns": null,
            "grid_template_rows": null,
            "height": null,
            "justify_content": null,
            "justify_items": null,
            "left": null,
            "margin": null,
            "max_height": null,
            "max_width": null,
            "min_height": null,
            "min_width": null,
            "object_fit": null,
            "object_position": null,
            "order": null,
            "overflow": null,
            "overflow_x": null,
            "overflow_y": null,
            "padding": null,
            "right": null,
            "top": null,
            "visibility": null,
            "width": null
          }
        },
        "9960b0f5422e45798c29bad8ff3b9fe9": {
          "model_module": "@jupyter-widgets/controls",
          "model_name": "ProgressStyleModel",
          "model_module_version": "1.5.0",
          "state": {
            "_model_module": "@jupyter-widgets/controls",
            "_model_module_version": "1.5.0",
            "_model_name": "ProgressStyleModel",
            "_view_count": null,
            "_view_module": "@jupyter-widgets/base",
            "_view_module_version": "1.2.0",
            "_view_name": "StyleView",
            "bar_color": null,
            "description_width": ""
          }
        },
        "00e4f9e39bb24dcb8e566bd07e2b217b": {
          "model_module": "@jupyter-widgets/base",
          "model_name": "LayoutModel",
          "model_module_version": "1.2.0",
          "state": {
            "_model_module": "@jupyter-widgets/base",
            "_model_module_version": "1.2.0",
            "_model_name": "LayoutModel",
            "_view_count": null,
            "_view_module": "@jupyter-widgets/base",
            "_view_module_version": "1.2.0",
            "_view_name": "LayoutView",
            "align_content": null,
            "align_items": null,
            "align_self": null,
            "border": null,
            "bottom": null,
            "display": null,
            "flex": null,
            "flex_flow": null,
            "grid_area": null,
            "grid_auto_columns": null,
            "grid_auto_flow": null,
            "grid_auto_rows": null,
            "grid_column": null,
            "grid_gap": null,
            "grid_row": null,
            "grid_template_areas": null,
            "grid_template_columns": null,
            "grid_template_rows": null,
            "height": null,
            "justify_content": null,
            "justify_items": null,
            "left": null,
            "margin": null,
            "max_height": null,
            "max_width": null,
            "min_height": null,
            "min_width": null,
            "object_fit": null,
            "object_position": null,
            "order": null,
            "overflow": null,
            "overflow_x": null,
            "overflow_y": null,
            "padding": null,
            "right": null,
            "top": null,
            "visibility": null,
            "width": null
          }
        },
        "7b7cf113b9c0465d9ff686102dfb633a": {
          "model_module": "@jupyter-widgets/controls",
          "model_name": "DescriptionStyleModel",
          "model_module_version": "1.5.0",
          "state": {
            "_model_module": "@jupyter-widgets/controls",
            "_model_module_version": "1.5.0",
            "_model_name": "DescriptionStyleModel",
            "_view_count": null,
            "_view_module": "@jupyter-widgets/base",
            "_view_module_version": "1.2.0",
            "_view_name": "StyleView",
            "description_width": ""
          }
        },
        "1852efabc47245788dbe0a9feea44391": {
          "model_module": "@jupyter-widgets/controls",
          "model_name": "HBoxModel",
          "model_module_version": "1.5.0",
          "state": {
            "_dom_classes": [],
            "_model_module": "@jupyter-widgets/controls",
            "_model_module_version": "1.5.0",
            "_model_name": "HBoxModel",
            "_view_count": null,
            "_view_module": "@jupyter-widgets/controls",
            "_view_module_version": "1.5.0",
            "_view_name": "HBoxView",
            "box_style": "",
            "children": [
              "IPY_MODEL_838f90a6c6ee415799ace0f6b81278b8",
              "IPY_MODEL_331f09436d3d49d4bea52428f41fa388",
              "IPY_MODEL_cbe9be6b0bfa4d1e9e417fd3f602cfca"
            ],
            "layout": "IPY_MODEL_abd96481322b4dc886821845eb921953"
          }
        },
        "838f90a6c6ee415799ace0f6b81278b8": {
          "model_module": "@jupyter-widgets/controls",
          "model_name": "HTMLModel",
          "model_module_version": "1.5.0",
          "state": {
            "_dom_classes": [],
            "_model_module": "@jupyter-widgets/controls",
            "_model_module_version": "1.5.0",
            "_model_name": "HTMLModel",
            "_view_count": null,
            "_view_module": "@jupyter-widgets/controls",
            "_view_module_version": "1.5.0",
            "_view_name": "HTMLView",
            "description": "",
            "description_tooltip": null,
            "layout": "IPY_MODEL_3b4cc962c4e94ba0a93ef3c81ae125dc",
            "placeholder": "​",
            "style": "IPY_MODEL_3023094aaf3241d99d5c23990208bbcd",
            "value": "Downloading (…)okenizer_config.json: 100%"
          }
        },
        "331f09436d3d49d4bea52428f41fa388": {
          "model_module": "@jupyter-widgets/controls",
          "model_name": "FloatProgressModel",
          "model_module_version": "1.5.0",
          "state": {
            "_dom_classes": [],
            "_model_module": "@jupyter-widgets/controls",
            "_model_module_version": "1.5.0",
            "_model_name": "FloatProgressModel",
            "_view_count": null,
            "_view_module": "@jupyter-widgets/controls",
            "_view_module_version": "1.5.0",
            "_view_name": "ProgressView",
            "bar_style": "success",
            "description": "",
            "description_tooltip": null,
            "layout": "IPY_MODEL_8861f49919cb491e84dcb4c114a7501f",
            "max": 776,
            "min": 0,
            "orientation": "horizontal",
            "style": "IPY_MODEL_2c0aa3c6dda9411381085e08772a7b04",
            "value": 776
          }
        },
        "cbe9be6b0bfa4d1e9e417fd3f602cfca": {
          "model_module": "@jupyter-widgets/controls",
          "model_name": "HTMLModel",
          "model_module_version": "1.5.0",
          "state": {
            "_dom_classes": [],
            "_model_module": "@jupyter-widgets/controls",
            "_model_module_version": "1.5.0",
            "_model_name": "HTMLModel",
            "_view_count": null,
            "_view_module": "@jupyter-widgets/controls",
            "_view_module_version": "1.5.0",
            "_view_name": "HTMLView",
            "description": "",
            "description_tooltip": null,
            "layout": "IPY_MODEL_91b621aeb55c4f08a31f5870511ff56a",
            "placeholder": "​",
            "style": "IPY_MODEL_a64295937c514b85b80de4f1a079ae38",
            "value": " 776/776 [00:00&lt;00:00, 35.0kB/s]"
          }
        },
        "abd96481322b4dc886821845eb921953": {
          "model_module": "@jupyter-widgets/base",
          "model_name": "LayoutModel",
          "model_module_version": "1.2.0",
          "state": {
            "_model_module": "@jupyter-widgets/base",
            "_model_module_version": "1.2.0",
            "_model_name": "LayoutModel",
            "_view_count": null,
            "_view_module": "@jupyter-widgets/base",
            "_view_module_version": "1.2.0",
            "_view_name": "LayoutView",
            "align_content": null,
            "align_items": null,
            "align_self": null,
            "border": null,
            "bottom": null,
            "display": null,
            "flex": null,
            "flex_flow": null,
            "grid_area": null,
            "grid_auto_columns": null,
            "grid_auto_flow": null,
            "grid_auto_rows": null,
            "grid_column": null,
            "grid_gap": null,
            "grid_row": null,
            "grid_template_areas": null,
            "grid_template_columns": null,
            "grid_template_rows": null,
            "height": null,
            "justify_content": null,
            "justify_items": null,
            "left": null,
            "margin": null,
            "max_height": null,
            "max_width": null,
            "min_height": null,
            "min_width": null,
            "object_fit": null,
            "object_position": null,
            "order": null,
            "overflow": null,
            "overflow_x": null,
            "overflow_y": null,
            "padding": null,
            "right": null,
            "top": null,
            "visibility": null,
            "width": null
          }
        },
        "3b4cc962c4e94ba0a93ef3c81ae125dc": {
          "model_module": "@jupyter-widgets/base",
          "model_name": "LayoutModel",
          "model_module_version": "1.2.0",
          "state": {
            "_model_module": "@jupyter-widgets/base",
            "_model_module_version": "1.2.0",
            "_model_name": "LayoutModel",
            "_view_count": null,
            "_view_module": "@jupyter-widgets/base",
            "_view_module_version": "1.2.0",
            "_view_name": "LayoutView",
            "align_content": null,
            "align_items": null,
            "align_self": null,
            "border": null,
            "bottom": null,
            "display": null,
            "flex": null,
            "flex_flow": null,
            "grid_area": null,
            "grid_auto_columns": null,
            "grid_auto_flow": null,
            "grid_auto_rows": null,
            "grid_column": null,
            "grid_gap": null,
            "grid_row": null,
            "grid_template_areas": null,
            "grid_template_columns": null,
            "grid_template_rows": null,
            "height": null,
            "justify_content": null,
            "justify_items": null,
            "left": null,
            "margin": null,
            "max_height": null,
            "max_width": null,
            "min_height": null,
            "min_width": null,
            "object_fit": null,
            "object_position": null,
            "order": null,
            "overflow": null,
            "overflow_x": null,
            "overflow_y": null,
            "padding": null,
            "right": null,
            "top": null,
            "visibility": null,
            "width": null
          }
        },
        "3023094aaf3241d99d5c23990208bbcd": {
          "model_module": "@jupyter-widgets/controls",
          "model_name": "DescriptionStyleModel",
          "model_module_version": "1.5.0",
          "state": {
            "_model_module": "@jupyter-widgets/controls",
            "_model_module_version": "1.5.0",
            "_model_name": "DescriptionStyleModel",
            "_view_count": null,
            "_view_module": "@jupyter-widgets/base",
            "_view_module_version": "1.2.0",
            "_view_name": "StyleView",
            "description_width": ""
          }
        },
        "8861f49919cb491e84dcb4c114a7501f": {
          "model_module": "@jupyter-widgets/base",
          "model_name": "LayoutModel",
          "model_module_version": "1.2.0",
          "state": {
            "_model_module": "@jupyter-widgets/base",
            "_model_module_version": "1.2.0",
            "_model_name": "LayoutModel",
            "_view_count": null,
            "_view_module": "@jupyter-widgets/base",
            "_view_module_version": "1.2.0",
            "_view_name": "LayoutView",
            "align_content": null,
            "align_items": null,
            "align_self": null,
            "border": null,
            "bottom": null,
            "display": null,
            "flex": null,
            "flex_flow": null,
            "grid_area": null,
            "grid_auto_columns": null,
            "grid_auto_flow": null,
            "grid_auto_rows": null,
            "grid_column": null,
            "grid_gap": null,
            "grid_row": null,
            "grid_template_areas": null,
            "grid_template_columns": null,
            "grid_template_rows": null,
            "height": null,
            "justify_content": null,
            "justify_items": null,
            "left": null,
            "margin": null,
            "max_height": null,
            "max_width": null,
            "min_height": null,
            "min_width": null,
            "object_fit": null,
            "object_position": null,
            "order": null,
            "overflow": null,
            "overflow_x": null,
            "overflow_y": null,
            "padding": null,
            "right": null,
            "top": null,
            "visibility": null,
            "width": null
          }
        },
        "2c0aa3c6dda9411381085e08772a7b04": {
          "model_module": "@jupyter-widgets/controls",
          "model_name": "ProgressStyleModel",
          "model_module_version": "1.5.0",
          "state": {
            "_model_module": "@jupyter-widgets/controls",
            "_model_module_version": "1.5.0",
            "_model_name": "ProgressStyleModel",
            "_view_count": null,
            "_view_module": "@jupyter-widgets/base",
            "_view_module_version": "1.2.0",
            "_view_name": "StyleView",
            "bar_color": null,
            "description_width": ""
          }
        },
        "91b621aeb55c4f08a31f5870511ff56a": {
          "model_module": "@jupyter-widgets/base",
          "model_name": "LayoutModel",
          "model_module_version": "1.2.0",
          "state": {
            "_model_module": "@jupyter-widgets/base",
            "_model_module_version": "1.2.0",
            "_model_name": "LayoutModel",
            "_view_count": null,
            "_view_module": "@jupyter-widgets/base",
            "_view_module_version": "1.2.0",
            "_view_name": "LayoutView",
            "align_content": null,
            "align_items": null,
            "align_self": null,
            "border": null,
            "bottom": null,
            "display": null,
            "flex": null,
            "flex_flow": null,
            "grid_area": null,
            "grid_auto_columns": null,
            "grid_auto_flow": null,
            "grid_auto_rows": null,
            "grid_column": null,
            "grid_gap": null,
            "grid_row": null,
            "grid_template_areas": null,
            "grid_template_columns": null,
            "grid_template_rows": null,
            "height": null,
            "justify_content": null,
            "justify_items": null,
            "left": null,
            "margin": null,
            "max_height": null,
            "max_width": null,
            "min_height": null,
            "min_width": null,
            "object_fit": null,
            "object_position": null,
            "order": null,
            "overflow": null,
            "overflow_x": null,
            "overflow_y": null,
            "padding": null,
            "right": null,
            "top": null,
            "visibility": null,
            "width": null
          }
        },
        "a64295937c514b85b80de4f1a079ae38": {
          "model_module": "@jupyter-widgets/controls",
          "model_name": "DescriptionStyleModel",
          "model_module_version": "1.5.0",
          "state": {
            "_model_module": "@jupyter-widgets/controls",
            "_model_module_version": "1.5.0",
            "_model_name": "DescriptionStyleModel",
            "_view_count": null,
            "_view_module": "@jupyter-widgets/base",
            "_view_module_version": "1.2.0",
            "_view_name": "StyleView",
            "description_width": ""
          }
        },
        "b500b5ca2f654bcd81e21863eb076789": {
          "model_module": "@jupyter-widgets/controls",
          "model_name": "HBoxModel",
          "model_module_version": "1.5.0",
          "state": {
            "_dom_classes": [],
            "_model_module": "@jupyter-widgets/controls",
            "_model_module_version": "1.5.0",
            "_model_name": "HBoxModel",
            "_view_count": null,
            "_view_module": "@jupyter-widgets/controls",
            "_view_module_version": "1.5.0",
            "_view_name": "HBoxView",
            "box_style": "",
            "children": [
              "IPY_MODEL_2513e44e16044ef186be57920e99dd56",
              "IPY_MODEL_627abf21954e401fabff2435198bb0a0",
              "IPY_MODEL_91b5b74cd0dd4eea970ea533d88b73a7"
            ],
            "layout": "IPY_MODEL_a31b67dd6a574bdbb5294933c4838943"
          }
        },
        "2513e44e16044ef186be57920e99dd56": {
          "model_module": "@jupyter-widgets/controls",
          "model_name": "HTMLModel",
          "model_module_version": "1.5.0",
          "state": {
            "_dom_classes": [],
            "_model_module": "@jupyter-widgets/controls",
            "_model_module_version": "1.5.0",
            "_model_name": "HTMLModel",
            "_view_count": null,
            "_view_module": "@jupyter-widgets/controls",
            "_view_module_version": "1.5.0",
            "_view_name": "HTMLView",
            "description": "",
            "description_tooltip": null,
            "layout": "IPY_MODEL_d71b6fc7f499498abb22195033054fea",
            "placeholder": "​",
            "style": "IPY_MODEL_4992b25606e6458c9e966579817e0922",
            "value": "Downloading tokenizer.model: 100%"
          }
        },
        "627abf21954e401fabff2435198bb0a0": {
          "model_module": "@jupyter-widgets/controls",
          "model_name": "FloatProgressModel",
          "model_module_version": "1.5.0",
          "state": {
            "_dom_classes": [],
            "_model_module": "@jupyter-widgets/controls",
            "_model_module_version": "1.5.0",
            "_model_name": "FloatProgressModel",
            "_view_count": null,
            "_view_module": "@jupyter-widgets/controls",
            "_view_module_version": "1.5.0",
            "_view_name": "ProgressView",
            "bar_style": "success",
            "description": "",
            "description_tooltip": null,
            "layout": "IPY_MODEL_7ab34603cac7482bb97031dac2c34376",
            "max": 499723,
            "min": 0,
            "orientation": "horizontal",
            "style": "IPY_MODEL_d8eaa330242541fbbc2fa7458180627f",
            "value": 499723
          }
        },
        "91b5b74cd0dd4eea970ea533d88b73a7": {
          "model_module": "@jupyter-widgets/controls",
          "model_name": "HTMLModel",
          "model_module_version": "1.5.0",
          "state": {
            "_dom_classes": [],
            "_model_module": "@jupyter-widgets/controls",
            "_model_module_version": "1.5.0",
            "_model_name": "HTMLModel",
            "_view_count": null,
            "_view_module": "@jupyter-widgets/controls",
            "_view_module_version": "1.5.0",
            "_view_name": "HTMLView",
            "description": "",
            "description_tooltip": null,
            "layout": "IPY_MODEL_a5ca476edc03423aa7ab07a427118b4f",
            "placeholder": "​",
            "style": "IPY_MODEL_ada708fd07b742b880114ccd380f905c",
            "value": " 500k/500k [00:00&lt;00:00, 23.9MB/s]"
          }
        },
        "a31b67dd6a574bdbb5294933c4838943": {
          "model_module": "@jupyter-widgets/base",
          "model_name": "LayoutModel",
          "model_module_version": "1.2.0",
          "state": {
            "_model_module": "@jupyter-widgets/base",
            "_model_module_version": "1.2.0",
            "_model_name": "LayoutModel",
            "_view_count": null,
            "_view_module": "@jupyter-widgets/base",
            "_view_module_version": "1.2.0",
            "_view_name": "LayoutView",
            "align_content": null,
            "align_items": null,
            "align_self": null,
            "border": null,
            "bottom": null,
            "display": null,
            "flex": null,
            "flex_flow": null,
            "grid_area": null,
            "grid_auto_columns": null,
            "grid_auto_flow": null,
            "grid_auto_rows": null,
            "grid_column": null,
            "grid_gap": null,
            "grid_row": null,
            "grid_template_areas": null,
            "grid_template_columns": null,
            "grid_template_rows": null,
            "height": null,
            "justify_content": null,
            "justify_items": null,
            "left": null,
            "margin": null,
            "max_height": null,
            "max_width": null,
            "min_height": null,
            "min_width": null,
            "object_fit": null,
            "object_position": null,
            "order": null,
            "overflow": null,
            "overflow_x": null,
            "overflow_y": null,
            "padding": null,
            "right": null,
            "top": null,
            "visibility": null,
            "width": null
          }
        },
        "d71b6fc7f499498abb22195033054fea": {
          "model_module": "@jupyter-widgets/base",
          "model_name": "LayoutModel",
          "model_module_version": "1.2.0",
          "state": {
            "_model_module": "@jupyter-widgets/base",
            "_model_module_version": "1.2.0",
            "_model_name": "LayoutModel",
            "_view_count": null,
            "_view_module": "@jupyter-widgets/base",
            "_view_module_version": "1.2.0",
            "_view_name": "LayoutView",
            "align_content": null,
            "align_items": null,
            "align_self": null,
            "border": null,
            "bottom": null,
            "display": null,
            "flex": null,
            "flex_flow": null,
            "grid_area": null,
            "grid_auto_columns": null,
            "grid_auto_flow": null,
            "grid_auto_rows": null,
            "grid_column": null,
            "grid_gap": null,
            "grid_row": null,
            "grid_template_areas": null,
            "grid_template_columns": null,
            "grid_template_rows": null,
            "height": null,
            "justify_content": null,
            "justify_items": null,
            "left": null,
            "margin": null,
            "max_height": null,
            "max_width": null,
            "min_height": null,
            "min_width": null,
            "object_fit": null,
            "object_position": null,
            "order": null,
            "overflow": null,
            "overflow_x": null,
            "overflow_y": null,
            "padding": null,
            "right": null,
            "top": null,
            "visibility": null,
            "width": null
          }
        },
        "4992b25606e6458c9e966579817e0922": {
          "model_module": "@jupyter-widgets/controls",
          "model_name": "DescriptionStyleModel",
          "model_module_version": "1.5.0",
          "state": {
            "_model_module": "@jupyter-widgets/controls",
            "_model_module_version": "1.5.0",
            "_model_name": "DescriptionStyleModel",
            "_view_count": null,
            "_view_module": "@jupyter-widgets/base",
            "_view_module_version": "1.2.0",
            "_view_name": "StyleView",
            "description_width": ""
          }
        },
        "7ab34603cac7482bb97031dac2c34376": {
          "model_module": "@jupyter-widgets/base",
          "model_name": "LayoutModel",
          "model_module_version": "1.2.0",
          "state": {
            "_model_module": "@jupyter-widgets/base",
            "_model_module_version": "1.2.0",
            "_model_name": "LayoutModel",
            "_view_count": null,
            "_view_module": "@jupyter-widgets/base",
            "_view_module_version": "1.2.0",
            "_view_name": "LayoutView",
            "align_content": null,
            "align_items": null,
            "align_self": null,
            "border": null,
            "bottom": null,
            "display": null,
            "flex": null,
            "flex_flow": null,
            "grid_area": null,
            "grid_auto_columns": null,
            "grid_auto_flow": null,
            "grid_auto_rows": null,
            "grid_column": null,
            "grid_gap": null,
            "grid_row": null,
            "grid_template_areas": null,
            "grid_template_columns": null,
            "grid_template_rows": null,
            "height": null,
            "justify_content": null,
            "justify_items": null,
            "left": null,
            "margin": null,
            "max_height": null,
            "max_width": null,
            "min_height": null,
            "min_width": null,
            "object_fit": null,
            "object_position": null,
            "order": null,
            "overflow": null,
            "overflow_x": null,
            "overflow_y": null,
            "padding": null,
            "right": null,
            "top": null,
            "visibility": null,
            "width": null
          }
        },
        "d8eaa330242541fbbc2fa7458180627f": {
          "model_module": "@jupyter-widgets/controls",
          "model_name": "ProgressStyleModel",
          "model_module_version": "1.5.0",
          "state": {
            "_model_module": "@jupyter-widgets/controls",
            "_model_module_version": "1.5.0",
            "_model_name": "ProgressStyleModel",
            "_view_count": null,
            "_view_module": "@jupyter-widgets/base",
            "_view_module_version": "1.2.0",
            "_view_name": "StyleView",
            "bar_color": null,
            "description_width": ""
          }
        },
        "a5ca476edc03423aa7ab07a427118b4f": {
          "model_module": "@jupyter-widgets/base",
          "model_name": "LayoutModel",
          "model_module_version": "1.2.0",
          "state": {
            "_model_module": "@jupyter-widgets/base",
            "_model_module_version": "1.2.0",
            "_model_name": "LayoutModel",
            "_view_count": null,
            "_view_module": "@jupyter-widgets/base",
            "_view_module_version": "1.2.0",
            "_view_name": "LayoutView",
            "align_content": null,
            "align_items": null,
            "align_self": null,
            "border": null,
            "bottom": null,
            "display": null,
            "flex": null,
            "flex_flow": null,
            "grid_area": null,
            "grid_auto_columns": null,
            "grid_auto_flow": null,
            "grid_auto_rows": null,
            "grid_column": null,
            "grid_gap": null,
            "grid_row": null,
            "grid_template_areas": null,
            "grid_template_columns": null,
            "grid_template_rows": null,
            "height": null,
            "justify_content": null,
            "justify_items": null,
            "left": null,
            "margin": null,
            "max_height": null,
            "max_width": null,
            "min_height": null,
            "min_width": null,
            "object_fit": null,
            "object_position": null,
            "order": null,
            "overflow": null,
            "overflow_x": null,
            "overflow_y": null,
            "padding": null,
            "right": null,
            "top": null,
            "visibility": null,
            "width": null
          }
        },
        "ada708fd07b742b880114ccd380f905c": {
          "model_module": "@jupyter-widgets/controls",
          "model_name": "DescriptionStyleModel",
          "model_module_version": "1.5.0",
          "state": {
            "_model_module": "@jupyter-widgets/controls",
            "_model_module_version": "1.5.0",
            "_model_name": "DescriptionStyleModel",
            "_view_count": null,
            "_view_module": "@jupyter-widgets/base",
            "_view_module_version": "1.2.0",
            "_view_name": "StyleView",
            "description_width": ""
          }
        },
        "23739f3bb3884bf29b07b0ae54d1d315": {
          "model_module": "@jupyter-widgets/controls",
          "model_name": "HBoxModel",
          "model_module_version": "1.5.0",
          "state": {
            "_dom_classes": [],
            "_model_module": "@jupyter-widgets/controls",
            "_model_module_version": "1.5.0",
            "_model_name": "HBoxModel",
            "_view_count": null,
            "_view_module": "@jupyter-widgets/controls",
            "_view_module_version": "1.5.0",
            "_view_name": "HBoxView",
            "box_style": "",
            "children": [
              "IPY_MODEL_504e734cd2a04609bbe64841da6fed9a",
              "IPY_MODEL_46f4b607d2d249a690a61bdcff0f13a3",
              "IPY_MODEL_0437acee3f53472f9c8d02566298da79"
            ],
            "layout": "IPY_MODEL_2005b8e4d5fa42d7874df87ae0e05765"
          }
        },
        "504e734cd2a04609bbe64841da6fed9a": {
          "model_module": "@jupyter-widgets/controls",
          "model_name": "HTMLModel",
          "model_module_version": "1.5.0",
          "state": {
            "_dom_classes": [],
            "_model_module": "@jupyter-widgets/controls",
            "_model_module_version": "1.5.0",
            "_model_name": "HTMLModel",
            "_view_count": null,
            "_view_module": "@jupyter-widgets/controls",
            "_view_module_version": "1.5.0",
            "_view_name": "HTMLView",
            "description": "",
            "description_tooltip": null,
            "layout": "IPY_MODEL_2d80d3131b4c4aa5b83a273ff5535b84",
            "placeholder": "​",
            "style": "IPY_MODEL_1ab57891f99e420d9ee1daf9852cf933",
            "value": "Downloading (…)/main/tokenizer.json: 100%"
          }
        },
        "46f4b607d2d249a690a61bdcff0f13a3": {
          "model_module": "@jupyter-widgets/controls",
          "model_name": "FloatProgressModel",
          "model_module_version": "1.5.0",
          "state": {
            "_dom_classes": [],
            "_model_module": "@jupyter-widgets/controls",
            "_model_module_version": "1.5.0",
            "_model_name": "FloatProgressModel",
            "_view_count": null,
            "_view_module": "@jupyter-widgets/controls",
            "_view_module_version": "1.5.0",
            "_view_name": "ProgressView",
            "bar_style": "success",
            "description": "",
            "description_tooltip": null,
            "layout": "IPY_MODEL_abaa0fec2ab54ccaa7374beab4956402",
            "max": 1842767,
            "min": 0,
            "orientation": "horizontal",
            "style": "IPY_MODEL_a6d2e206b36b471ca781f80f2373c8a7",
            "value": 1842767
          }
        },
        "0437acee3f53472f9c8d02566298da79": {
          "model_module": "@jupyter-widgets/controls",
          "model_name": "HTMLModel",
          "model_module_version": "1.5.0",
          "state": {
            "_dom_classes": [],
            "_model_module": "@jupyter-widgets/controls",
            "_model_module_version": "1.5.0",
            "_model_name": "HTMLModel",
            "_view_count": null,
            "_view_module": "@jupyter-widgets/controls",
            "_view_module_version": "1.5.0",
            "_view_name": "HTMLView",
            "description": "",
            "description_tooltip": null,
            "layout": "IPY_MODEL_eb9e4a9a991e4bd79e491c17c8f315b4",
            "placeholder": "​",
            "style": "IPY_MODEL_2bce1b2a81244ad291ab1c901dd2b3bc",
            "value": " 1.84M/1.84M [00:00&lt;00:00, 1.95MB/s]"
          }
        },
        "2005b8e4d5fa42d7874df87ae0e05765": {
          "model_module": "@jupyter-widgets/base",
          "model_name": "LayoutModel",
          "model_module_version": "1.2.0",
          "state": {
            "_model_module": "@jupyter-widgets/base",
            "_model_module_version": "1.2.0",
            "_model_name": "LayoutModel",
            "_view_count": null,
            "_view_module": "@jupyter-widgets/base",
            "_view_module_version": "1.2.0",
            "_view_name": "LayoutView",
            "align_content": null,
            "align_items": null,
            "align_self": null,
            "border": null,
            "bottom": null,
            "display": null,
            "flex": null,
            "flex_flow": null,
            "grid_area": null,
            "grid_auto_columns": null,
            "grid_auto_flow": null,
            "grid_auto_rows": null,
            "grid_column": null,
            "grid_gap": null,
            "grid_row": null,
            "grid_template_areas": null,
            "grid_template_columns": null,
            "grid_template_rows": null,
            "height": null,
            "justify_content": null,
            "justify_items": null,
            "left": null,
            "margin": null,
            "max_height": null,
            "max_width": null,
            "min_height": null,
            "min_width": null,
            "object_fit": null,
            "object_position": null,
            "order": null,
            "overflow": null,
            "overflow_x": null,
            "overflow_y": null,
            "padding": null,
            "right": null,
            "top": null,
            "visibility": null,
            "width": null
          }
        },
        "2d80d3131b4c4aa5b83a273ff5535b84": {
          "model_module": "@jupyter-widgets/base",
          "model_name": "LayoutModel",
          "model_module_version": "1.2.0",
          "state": {
            "_model_module": "@jupyter-widgets/base",
            "_model_module_version": "1.2.0",
            "_model_name": "LayoutModel",
            "_view_count": null,
            "_view_module": "@jupyter-widgets/base",
            "_view_module_version": "1.2.0",
            "_view_name": "LayoutView",
            "align_content": null,
            "align_items": null,
            "align_self": null,
            "border": null,
            "bottom": null,
            "display": null,
            "flex": null,
            "flex_flow": null,
            "grid_area": null,
            "grid_auto_columns": null,
            "grid_auto_flow": null,
            "grid_auto_rows": null,
            "grid_column": null,
            "grid_gap": null,
            "grid_row": null,
            "grid_template_areas": null,
            "grid_template_columns": null,
            "grid_template_rows": null,
            "height": null,
            "justify_content": null,
            "justify_items": null,
            "left": null,
            "margin": null,
            "max_height": null,
            "max_width": null,
            "min_height": null,
            "min_width": null,
            "object_fit": null,
            "object_position": null,
            "order": null,
            "overflow": null,
            "overflow_x": null,
            "overflow_y": null,
            "padding": null,
            "right": null,
            "top": null,
            "visibility": null,
            "width": null
          }
        },
        "1ab57891f99e420d9ee1daf9852cf933": {
          "model_module": "@jupyter-widgets/controls",
          "model_name": "DescriptionStyleModel",
          "model_module_version": "1.5.0",
          "state": {
            "_model_module": "@jupyter-widgets/controls",
            "_model_module_version": "1.5.0",
            "_model_name": "DescriptionStyleModel",
            "_view_count": null,
            "_view_module": "@jupyter-widgets/base",
            "_view_module_version": "1.2.0",
            "_view_name": "StyleView",
            "description_width": ""
          }
        },
        "abaa0fec2ab54ccaa7374beab4956402": {
          "model_module": "@jupyter-widgets/base",
          "model_name": "LayoutModel",
          "model_module_version": "1.2.0",
          "state": {
            "_model_module": "@jupyter-widgets/base",
            "_model_module_version": "1.2.0",
            "_model_name": "LayoutModel",
            "_view_count": null,
            "_view_module": "@jupyter-widgets/base",
            "_view_module_version": "1.2.0",
            "_view_name": "LayoutView",
            "align_content": null,
            "align_items": null,
            "align_self": null,
            "border": null,
            "bottom": null,
            "display": null,
            "flex": null,
            "flex_flow": null,
            "grid_area": null,
            "grid_auto_columns": null,
            "grid_auto_flow": null,
            "grid_auto_rows": null,
            "grid_column": null,
            "grid_gap": null,
            "grid_row": null,
            "grid_template_areas": null,
            "grid_template_columns": null,
            "grid_template_rows": null,
            "height": null,
            "justify_content": null,
            "justify_items": null,
            "left": null,
            "margin": null,
            "max_height": null,
            "max_width": null,
            "min_height": null,
            "min_width": null,
            "object_fit": null,
            "object_position": null,
            "order": null,
            "overflow": null,
            "overflow_x": null,
            "overflow_y": null,
            "padding": null,
            "right": null,
            "top": null,
            "visibility": null,
            "width": null
          }
        },
        "a6d2e206b36b471ca781f80f2373c8a7": {
          "model_module": "@jupyter-widgets/controls",
          "model_name": "ProgressStyleModel",
          "model_module_version": "1.5.0",
          "state": {
            "_model_module": "@jupyter-widgets/controls",
            "_model_module_version": "1.5.0",
            "_model_name": "ProgressStyleModel",
            "_view_count": null,
            "_view_module": "@jupyter-widgets/base",
            "_view_module_version": "1.2.0",
            "_view_name": "StyleView",
            "bar_color": null,
            "description_width": ""
          }
        },
        "eb9e4a9a991e4bd79e491c17c8f315b4": {
          "model_module": "@jupyter-widgets/base",
          "model_name": "LayoutModel",
          "model_module_version": "1.2.0",
          "state": {
            "_model_module": "@jupyter-widgets/base",
            "_model_module_version": "1.2.0",
            "_model_name": "LayoutModel",
            "_view_count": null,
            "_view_module": "@jupyter-widgets/base",
            "_view_module_version": "1.2.0",
            "_view_name": "LayoutView",
            "align_content": null,
            "align_items": null,
            "align_self": null,
            "border": null,
            "bottom": null,
            "display": null,
            "flex": null,
            "flex_flow": null,
            "grid_area": null,
            "grid_auto_columns": null,
            "grid_auto_flow": null,
            "grid_auto_rows": null,
            "grid_column": null,
            "grid_gap": null,
            "grid_row": null,
            "grid_template_areas": null,
            "grid_template_columns": null,
            "grid_template_rows": null,
            "height": null,
            "justify_content": null,
            "justify_items": null,
            "left": null,
            "margin": null,
            "max_height": null,
            "max_width": null,
            "min_height": null,
            "min_width": null,
            "object_fit": null,
            "object_position": null,
            "order": null,
            "overflow": null,
            "overflow_x": null,
            "overflow_y": null,
            "padding": null,
            "right": null,
            "top": null,
            "visibility": null,
            "width": null
          }
        },
        "2bce1b2a81244ad291ab1c901dd2b3bc": {
          "model_module": "@jupyter-widgets/controls",
          "model_name": "DescriptionStyleModel",
          "model_module_version": "1.5.0",
          "state": {
            "_model_module": "@jupyter-widgets/controls",
            "_model_module_version": "1.5.0",
            "_model_name": "DescriptionStyleModel",
            "_view_count": null,
            "_view_module": "@jupyter-widgets/base",
            "_view_module_version": "1.2.0",
            "_view_name": "StyleView",
            "description_width": ""
          }
        },
        "b71a502ec2ac471ba1ad675d8926096e": {
          "model_module": "@jupyter-widgets/controls",
          "model_name": "HBoxModel",
          "model_module_version": "1.5.0",
          "state": {
            "_dom_classes": [],
            "_model_module": "@jupyter-widgets/controls",
            "_model_module_version": "1.5.0",
            "_model_name": "HBoxModel",
            "_view_count": null,
            "_view_module": "@jupyter-widgets/controls",
            "_view_module_version": "1.5.0",
            "_view_name": "HBoxView",
            "box_style": "",
            "children": [
              "IPY_MODEL_1f292516d8c24eee8a70075778978451",
              "IPY_MODEL_0b54e2ca7da34c9494307c0e3038cdc0",
              "IPY_MODEL_aa6c3530c20b4c80a04b34e21fc91d21"
            ],
            "layout": "IPY_MODEL_9af777b31e6a48bb9e649e93878a7658"
          }
        },
        "1f292516d8c24eee8a70075778978451": {
          "model_module": "@jupyter-widgets/controls",
          "model_name": "HTMLModel",
          "model_module_version": "1.5.0",
          "state": {
            "_dom_classes": [],
            "_model_module": "@jupyter-widgets/controls",
            "_model_module_version": "1.5.0",
            "_model_name": "HTMLModel",
            "_view_count": null,
            "_view_module": "@jupyter-widgets/controls",
            "_view_module_version": "1.5.0",
            "_view_name": "HTMLView",
            "description": "",
            "description_tooltip": null,
            "layout": "IPY_MODEL_13e11bfcee9149578e8d8ffbd5ffee98",
            "placeholder": "​",
            "style": "IPY_MODEL_ef657eacdd3643cb86121271a598b182",
            "value": "Downloading (…)cial_tokens_map.json: 100%"
          }
        },
        "0b54e2ca7da34c9494307c0e3038cdc0": {
          "model_module": "@jupyter-widgets/controls",
          "model_name": "FloatProgressModel",
          "model_module_version": "1.5.0",
          "state": {
            "_dom_classes": [],
            "_model_module": "@jupyter-widgets/controls",
            "_model_module_version": "1.5.0",
            "_model_name": "FloatProgressModel",
            "_view_count": null,
            "_view_module": "@jupyter-widgets/controls",
            "_view_module_version": "1.5.0",
            "_view_name": "ProgressView",
            "bar_style": "success",
            "description": "",
            "description_tooltip": null,
            "layout": "IPY_MODEL_806b0b1db0e448cc86fe4994e7387ad9",
            "max": 414,
            "min": 0,
            "orientation": "horizontal",
            "style": "IPY_MODEL_7edec86f8217482086bf64427986df28",
            "value": 414
          }
        },
        "aa6c3530c20b4c80a04b34e21fc91d21": {
          "model_module": "@jupyter-widgets/controls",
          "model_name": "HTMLModel",
          "model_module_version": "1.5.0",
          "state": {
            "_dom_classes": [],
            "_model_module": "@jupyter-widgets/controls",
            "_model_module_version": "1.5.0",
            "_model_name": "HTMLModel",
            "_view_count": null,
            "_view_module": "@jupyter-widgets/controls",
            "_view_module_version": "1.5.0",
            "_view_name": "HTMLView",
            "description": "",
            "description_tooltip": null,
            "layout": "IPY_MODEL_a1dbb0c62fb14050bf5e412b1c87d137",
            "placeholder": "​",
            "style": "IPY_MODEL_1ca920874c564e00b5f5925dd3f4db1a",
            "value": " 414/414 [00:00&lt;00:00, 16.9kB/s]"
          }
        },
        "9af777b31e6a48bb9e649e93878a7658": {
          "model_module": "@jupyter-widgets/base",
          "model_name": "LayoutModel",
          "model_module_version": "1.2.0",
          "state": {
            "_model_module": "@jupyter-widgets/base",
            "_model_module_version": "1.2.0",
            "_model_name": "LayoutModel",
            "_view_count": null,
            "_view_module": "@jupyter-widgets/base",
            "_view_module_version": "1.2.0",
            "_view_name": "LayoutView",
            "align_content": null,
            "align_items": null,
            "align_self": null,
            "border": null,
            "bottom": null,
            "display": null,
            "flex": null,
            "flex_flow": null,
            "grid_area": null,
            "grid_auto_columns": null,
            "grid_auto_flow": null,
            "grid_auto_rows": null,
            "grid_column": null,
            "grid_gap": null,
            "grid_row": null,
            "grid_template_areas": null,
            "grid_template_columns": null,
            "grid_template_rows": null,
            "height": null,
            "justify_content": null,
            "justify_items": null,
            "left": null,
            "margin": null,
            "max_height": null,
            "max_width": null,
            "min_height": null,
            "min_width": null,
            "object_fit": null,
            "object_position": null,
            "order": null,
            "overflow": null,
            "overflow_x": null,
            "overflow_y": null,
            "padding": null,
            "right": null,
            "top": null,
            "visibility": null,
            "width": null
          }
        },
        "13e11bfcee9149578e8d8ffbd5ffee98": {
          "model_module": "@jupyter-widgets/base",
          "model_name": "LayoutModel",
          "model_module_version": "1.2.0",
          "state": {
            "_model_module": "@jupyter-widgets/base",
            "_model_module_version": "1.2.0",
            "_model_name": "LayoutModel",
            "_view_count": null,
            "_view_module": "@jupyter-widgets/base",
            "_view_module_version": "1.2.0",
            "_view_name": "LayoutView",
            "align_content": null,
            "align_items": null,
            "align_self": null,
            "border": null,
            "bottom": null,
            "display": null,
            "flex": null,
            "flex_flow": null,
            "grid_area": null,
            "grid_auto_columns": null,
            "grid_auto_flow": null,
            "grid_auto_rows": null,
            "grid_column": null,
            "grid_gap": null,
            "grid_row": null,
            "grid_template_areas": null,
            "grid_template_columns": null,
            "grid_template_rows": null,
            "height": null,
            "justify_content": null,
            "justify_items": null,
            "left": null,
            "margin": null,
            "max_height": null,
            "max_width": null,
            "min_height": null,
            "min_width": null,
            "object_fit": null,
            "object_position": null,
            "order": null,
            "overflow": null,
            "overflow_x": null,
            "overflow_y": null,
            "padding": null,
            "right": null,
            "top": null,
            "visibility": null,
            "width": null
          }
        },
        "ef657eacdd3643cb86121271a598b182": {
          "model_module": "@jupyter-widgets/controls",
          "model_name": "DescriptionStyleModel",
          "model_module_version": "1.5.0",
          "state": {
            "_model_module": "@jupyter-widgets/controls",
            "_model_module_version": "1.5.0",
            "_model_name": "DescriptionStyleModel",
            "_view_count": null,
            "_view_module": "@jupyter-widgets/base",
            "_view_module_version": "1.2.0",
            "_view_name": "StyleView",
            "description_width": ""
          }
        },
        "806b0b1db0e448cc86fe4994e7387ad9": {
          "model_module": "@jupyter-widgets/base",
          "model_name": "LayoutModel",
          "model_module_version": "1.2.0",
          "state": {
            "_model_module": "@jupyter-widgets/base",
            "_model_module_version": "1.2.0",
            "_model_name": "LayoutModel",
            "_view_count": null,
            "_view_module": "@jupyter-widgets/base",
            "_view_module_version": "1.2.0",
            "_view_name": "LayoutView",
            "align_content": null,
            "align_items": null,
            "align_self": null,
            "border": null,
            "bottom": null,
            "display": null,
            "flex": null,
            "flex_flow": null,
            "grid_area": null,
            "grid_auto_columns": null,
            "grid_auto_flow": null,
            "grid_auto_rows": null,
            "grid_column": null,
            "grid_gap": null,
            "grid_row": null,
            "grid_template_areas": null,
            "grid_template_columns": null,
            "grid_template_rows": null,
            "height": null,
            "justify_content": null,
            "justify_items": null,
            "left": null,
            "margin": null,
            "max_height": null,
            "max_width": null,
            "min_height": null,
            "min_width": null,
            "object_fit": null,
            "object_position": null,
            "order": null,
            "overflow": null,
            "overflow_x": null,
            "overflow_y": null,
            "padding": null,
            "right": null,
            "top": null,
            "visibility": null,
            "width": null
          }
        },
        "7edec86f8217482086bf64427986df28": {
          "model_module": "@jupyter-widgets/controls",
          "model_name": "ProgressStyleModel",
          "model_module_version": "1.5.0",
          "state": {
            "_model_module": "@jupyter-widgets/controls",
            "_model_module_version": "1.5.0",
            "_model_name": "ProgressStyleModel",
            "_view_count": null,
            "_view_module": "@jupyter-widgets/base",
            "_view_module_version": "1.2.0",
            "_view_name": "StyleView",
            "bar_color": null,
            "description_width": ""
          }
        },
        "a1dbb0c62fb14050bf5e412b1c87d137": {
          "model_module": "@jupyter-widgets/base",
          "model_name": "LayoutModel",
          "model_module_version": "1.2.0",
          "state": {
            "_model_module": "@jupyter-widgets/base",
            "_model_module_version": "1.2.0",
            "_model_name": "LayoutModel",
            "_view_count": null,
            "_view_module": "@jupyter-widgets/base",
            "_view_module_version": "1.2.0",
            "_view_name": "LayoutView",
            "align_content": null,
            "align_items": null,
            "align_self": null,
            "border": null,
            "bottom": null,
            "display": null,
            "flex": null,
            "flex_flow": null,
            "grid_area": null,
            "grid_auto_columns": null,
            "grid_auto_flow": null,
            "grid_auto_rows": null,
            "grid_column": null,
            "grid_gap": null,
            "grid_row": null,
            "grid_template_areas": null,
            "grid_template_columns": null,
            "grid_template_rows": null,
            "height": null,
            "justify_content": null,
            "justify_items": null,
            "left": null,
            "margin": null,
            "max_height": null,
            "max_width": null,
            "min_height": null,
            "min_width": null,
            "object_fit": null,
            "object_position": null,
            "order": null,
            "overflow": null,
            "overflow_x": null,
            "overflow_y": null,
            "padding": null,
            "right": null,
            "top": null,
            "visibility": null,
            "width": null
          }
        },
        "1ca920874c564e00b5f5925dd3f4db1a": {
          "model_module": "@jupyter-widgets/controls",
          "model_name": "DescriptionStyleModel",
          "model_module_version": "1.5.0",
          "state": {
            "_model_module": "@jupyter-widgets/controls",
            "_model_module_version": "1.5.0",
            "_model_name": "DescriptionStyleModel",
            "_view_count": null,
            "_view_module": "@jupyter-widgets/base",
            "_view_module_version": "1.2.0",
            "_view_name": "StyleView",
            "description_width": ""
          }
        },
        "b1f11934501745aca64766c7cb02f9eb": {
          "model_module": "@jupyter-widgets/controls",
          "model_name": "HBoxModel",
          "model_module_version": "1.5.0",
          "state": {
            "_dom_classes": [],
            "_model_module": "@jupyter-widgets/controls",
            "_model_module_version": "1.5.0",
            "_model_name": "HBoxModel",
            "_view_count": null,
            "_view_module": "@jupyter-widgets/controls",
            "_view_module_version": "1.5.0",
            "_view_name": "HBoxView",
            "box_style": "",
            "children": [
              "IPY_MODEL_6ffec9af15304d51b2f72f42418a4840",
              "IPY_MODEL_d6e8883ce93944d18360e13efc137aab",
              "IPY_MODEL_ccef4319ad3d453e81726671b50d40f8"
            ],
            "layout": "IPY_MODEL_4a73ee07252a456ea75363354dce17c3"
          }
        },
        "6ffec9af15304d51b2f72f42418a4840": {
          "model_module": "@jupyter-widgets/controls",
          "model_name": "HTMLModel",
          "model_module_version": "1.5.0",
          "state": {
            "_dom_classes": [],
            "_model_module": "@jupyter-widgets/controls",
            "_model_module_version": "1.5.0",
            "_model_name": "HTMLModel",
            "_view_count": null,
            "_view_module": "@jupyter-widgets/controls",
            "_view_module_version": "1.5.0",
            "_view_name": "HTMLView",
            "description": "",
            "description_tooltip": null,
            "layout": "IPY_MODEL_35ab5e95f3134b0a8dba553069201912",
            "placeholder": "​",
            "style": "IPY_MODEL_ca0c0204f0974fe696d35608fe2f1c76",
            "value": "Downloading (…)lve/main/config.json: 100%"
          }
        },
        "d6e8883ce93944d18360e13efc137aab": {
          "model_module": "@jupyter-widgets/controls",
          "model_name": "FloatProgressModel",
          "model_module_version": "1.5.0",
          "state": {
            "_dom_classes": [],
            "_model_module": "@jupyter-widgets/controls",
            "_model_module_version": "1.5.0",
            "_model_name": "FloatProgressModel",
            "_view_count": null,
            "_view_module": "@jupyter-widgets/controls",
            "_view_module_version": "1.5.0",
            "_view_name": "ProgressView",
            "bar_style": "success",
            "description": "",
            "description_tooltip": null,
            "layout": "IPY_MODEL_db090cf89ae240f1838a173cd2c56cb2",
            "max": 587,
            "min": 0,
            "orientation": "horizontal",
            "style": "IPY_MODEL_4ae88a713b3d48cca9a65c5a9bd8e570",
            "value": 587
          }
        },
        "ccef4319ad3d453e81726671b50d40f8": {
          "model_module": "@jupyter-widgets/controls",
          "model_name": "HTMLModel",
          "model_module_version": "1.5.0",
          "state": {
            "_dom_classes": [],
            "_model_module": "@jupyter-widgets/controls",
            "_model_module_version": "1.5.0",
            "_model_name": "HTMLModel",
            "_view_count": null,
            "_view_module": "@jupyter-widgets/controls",
            "_view_module_version": "1.5.0",
            "_view_name": "HTMLView",
            "description": "",
            "description_tooltip": null,
            "layout": "IPY_MODEL_950d9e6ed2864aa6abfc370418659ed5",
            "placeholder": "​",
            "style": "IPY_MODEL_8f3188fcbb1f45a9b4f8f3568ea39516",
            "value": " 587/587 [00:00&lt;00:00, 23.7kB/s]"
          }
        },
        "4a73ee07252a456ea75363354dce17c3": {
          "model_module": "@jupyter-widgets/base",
          "model_name": "LayoutModel",
          "model_module_version": "1.2.0",
          "state": {
            "_model_module": "@jupyter-widgets/base",
            "_model_module_version": "1.2.0",
            "_model_name": "LayoutModel",
            "_view_count": null,
            "_view_module": "@jupyter-widgets/base",
            "_view_module_version": "1.2.0",
            "_view_name": "LayoutView",
            "align_content": null,
            "align_items": null,
            "align_self": null,
            "border": null,
            "bottom": null,
            "display": null,
            "flex": null,
            "flex_flow": null,
            "grid_area": null,
            "grid_auto_columns": null,
            "grid_auto_flow": null,
            "grid_auto_rows": null,
            "grid_column": null,
            "grid_gap": null,
            "grid_row": null,
            "grid_template_areas": null,
            "grid_template_columns": null,
            "grid_template_rows": null,
            "height": null,
            "justify_content": null,
            "justify_items": null,
            "left": null,
            "margin": null,
            "max_height": null,
            "max_width": null,
            "min_height": null,
            "min_width": null,
            "object_fit": null,
            "object_position": null,
            "order": null,
            "overflow": null,
            "overflow_x": null,
            "overflow_y": null,
            "padding": null,
            "right": null,
            "top": null,
            "visibility": null,
            "width": null
          }
        },
        "35ab5e95f3134b0a8dba553069201912": {
          "model_module": "@jupyter-widgets/base",
          "model_name": "LayoutModel",
          "model_module_version": "1.2.0",
          "state": {
            "_model_module": "@jupyter-widgets/base",
            "_model_module_version": "1.2.0",
            "_model_name": "LayoutModel",
            "_view_count": null,
            "_view_module": "@jupyter-widgets/base",
            "_view_module_version": "1.2.0",
            "_view_name": "LayoutView",
            "align_content": null,
            "align_items": null,
            "align_self": null,
            "border": null,
            "bottom": null,
            "display": null,
            "flex": null,
            "flex_flow": null,
            "grid_area": null,
            "grid_auto_columns": null,
            "grid_auto_flow": null,
            "grid_auto_rows": null,
            "grid_column": null,
            "grid_gap": null,
            "grid_row": null,
            "grid_template_areas": null,
            "grid_template_columns": null,
            "grid_template_rows": null,
            "height": null,
            "justify_content": null,
            "justify_items": null,
            "left": null,
            "margin": null,
            "max_height": null,
            "max_width": null,
            "min_height": null,
            "min_width": null,
            "object_fit": null,
            "object_position": null,
            "order": null,
            "overflow": null,
            "overflow_x": null,
            "overflow_y": null,
            "padding": null,
            "right": null,
            "top": null,
            "visibility": null,
            "width": null
          }
        },
        "ca0c0204f0974fe696d35608fe2f1c76": {
          "model_module": "@jupyter-widgets/controls",
          "model_name": "DescriptionStyleModel",
          "model_module_version": "1.5.0",
          "state": {
            "_model_module": "@jupyter-widgets/controls",
            "_model_module_version": "1.5.0",
            "_model_name": "DescriptionStyleModel",
            "_view_count": null,
            "_view_module": "@jupyter-widgets/base",
            "_view_module_version": "1.2.0",
            "_view_name": "StyleView",
            "description_width": ""
          }
        },
        "db090cf89ae240f1838a173cd2c56cb2": {
          "model_module": "@jupyter-widgets/base",
          "model_name": "LayoutModel",
          "model_module_version": "1.2.0",
          "state": {
            "_model_module": "@jupyter-widgets/base",
            "_model_module_version": "1.2.0",
            "_model_name": "LayoutModel",
            "_view_count": null,
            "_view_module": "@jupyter-widgets/base",
            "_view_module_version": "1.2.0",
            "_view_name": "LayoutView",
            "align_content": null,
            "align_items": null,
            "align_self": null,
            "border": null,
            "bottom": null,
            "display": null,
            "flex": null,
            "flex_flow": null,
            "grid_area": null,
            "grid_auto_columns": null,
            "grid_auto_flow": null,
            "grid_auto_rows": null,
            "grid_column": null,
            "grid_gap": null,
            "grid_row": null,
            "grid_template_areas": null,
            "grid_template_columns": null,
            "grid_template_rows": null,
            "height": null,
            "justify_content": null,
            "justify_items": null,
            "left": null,
            "margin": null,
            "max_height": null,
            "max_width": null,
            "min_height": null,
            "min_width": null,
            "object_fit": null,
            "object_position": null,
            "order": null,
            "overflow": null,
            "overflow_x": null,
            "overflow_y": null,
            "padding": null,
            "right": null,
            "top": null,
            "visibility": null,
            "width": null
          }
        },
        "4ae88a713b3d48cca9a65c5a9bd8e570": {
          "model_module": "@jupyter-widgets/controls",
          "model_name": "ProgressStyleModel",
          "model_module_version": "1.5.0",
          "state": {
            "_model_module": "@jupyter-widgets/controls",
            "_model_module_version": "1.5.0",
            "_model_name": "ProgressStyleModel",
            "_view_count": null,
            "_view_module": "@jupyter-widgets/base",
            "_view_module_version": "1.2.0",
            "_view_name": "StyleView",
            "bar_color": null,
            "description_width": ""
          }
        },
        "950d9e6ed2864aa6abfc370418659ed5": {
          "model_module": "@jupyter-widgets/base",
          "model_name": "LayoutModel",
          "model_module_version": "1.2.0",
          "state": {
            "_model_module": "@jupyter-widgets/base",
            "_model_module_version": "1.2.0",
            "_model_name": "LayoutModel",
            "_view_count": null,
            "_view_module": "@jupyter-widgets/base",
            "_view_module_version": "1.2.0",
            "_view_name": "LayoutView",
            "align_content": null,
            "align_items": null,
            "align_self": null,
            "border": null,
            "bottom": null,
            "display": null,
            "flex": null,
            "flex_flow": null,
            "grid_area": null,
            "grid_auto_columns": null,
            "grid_auto_flow": null,
            "grid_auto_rows": null,
            "grid_column": null,
            "grid_gap": null,
            "grid_row": null,
            "grid_template_areas": null,
            "grid_template_columns": null,
            "grid_template_rows": null,
            "height": null,
            "justify_content": null,
            "justify_items": null,
            "left": null,
            "margin": null,
            "max_height": null,
            "max_width": null,
            "min_height": null,
            "min_width": null,
            "object_fit": null,
            "object_position": null,
            "order": null,
            "overflow": null,
            "overflow_x": null,
            "overflow_y": null,
            "padding": null,
            "right": null,
            "top": null,
            "visibility": null,
            "width": null
          }
        },
        "8f3188fcbb1f45a9b4f8f3568ea39516": {
          "model_module": "@jupyter-widgets/controls",
          "model_name": "DescriptionStyleModel",
          "model_module_version": "1.5.0",
          "state": {
            "_model_module": "@jupyter-widgets/controls",
            "_model_module_version": "1.5.0",
            "_model_name": "DescriptionStyleModel",
            "_view_count": null,
            "_view_module": "@jupyter-widgets/base",
            "_view_module_version": "1.2.0",
            "_view_name": "StyleView",
            "description_width": ""
          }
        },
        "649a6f773a774f70888d3e4ed756b499": {
          "model_module": "@jupyter-widgets/controls",
          "model_name": "HBoxModel",
          "model_module_version": "1.5.0",
          "state": {
            "_dom_classes": [],
            "_model_module": "@jupyter-widgets/controls",
            "_model_module_version": "1.5.0",
            "_model_name": "HBoxModel",
            "_view_count": null,
            "_view_module": "@jupyter-widgets/controls",
            "_view_module_version": "1.5.0",
            "_view_name": "HBoxView",
            "box_style": "",
            "children": [
              "IPY_MODEL_bcbfa6453e464aff8208d7dea249640b",
              "IPY_MODEL_89994350ea3848f49aefdeb20664d9db",
              "IPY_MODEL_80aab07c14dd4bbc83e9ac4278ffcc0f"
            ],
            "layout": "IPY_MODEL_b6ce224c7e1447378217d7471c87d850"
          }
        },
        "bcbfa6453e464aff8208d7dea249640b": {
          "model_module": "@jupyter-widgets/controls",
          "model_name": "HTMLModel",
          "model_module_version": "1.5.0",
          "state": {
            "_dom_classes": [],
            "_model_module": "@jupyter-widgets/controls",
            "_model_module_version": "1.5.0",
            "_model_name": "HTMLModel",
            "_view_count": null,
            "_view_module": "@jupyter-widgets/controls",
            "_view_module_version": "1.5.0",
            "_view_name": "HTMLView",
            "description": "",
            "description_tooltip": null,
            "layout": "IPY_MODEL_a42ca67667a24a398751318c808a010e",
            "placeholder": "​",
            "style": "IPY_MODEL_2f30ff706573464ba7ca3242a86a9f58",
            "value": "Downloading (…)fetensors.index.json: 100%"
          }
        },
        "89994350ea3848f49aefdeb20664d9db": {
          "model_module": "@jupyter-widgets/controls",
          "model_name": "FloatProgressModel",
          "model_module_version": "1.5.0",
          "state": {
            "_dom_classes": [],
            "_model_module": "@jupyter-widgets/controls",
            "_model_module_version": "1.5.0",
            "_model_name": "FloatProgressModel",
            "_view_count": null,
            "_view_module": "@jupyter-widgets/controls",
            "_view_module_version": "1.5.0",
            "_view_name": "ProgressView",
            "bar_style": "success",
            "description": "",
            "description_tooltip": null,
            "layout": "IPY_MODEL_db1a3321c717418f8bb54ad673298b68",
            "max": 33444,
            "min": 0,
            "orientation": "horizontal",
            "style": "IPY_MODEL_1f259270aba44c3f881ffc369847beb5",
            "value": 33444
          }
        },
        "80aab07c14dd4bbc83e9ac4278ffcc0f": {
          "model_module": "@jupyter-widgets/controls",
          "model_name": "HTMLModel",
          "model_module_version": "1.5.0",
          "state": {
            "_dom_classes": [],
            "_model_module": "@jupyter-widgets/controls",
            "_model_module_version": "1.5.0",
            "_model_name": "HTMLModel",
            "_view_count": null,
            "_view_module": "@jupyter-widgets/controls",
            "_view_module_version": "1.5.0",
            "_view_name": "HTMLView",
            "description": "",
            "description_tooltip": null,
            "layout": "IPY_MODEL_b36c9de2bfd049e8aba40fb88ac0196e",
            "placeholder": "​",
            "style": "IPY_MODEL_2a31e0229a984510a4f663d8bc65be2d",
            "value": " 33.4k/33.4k [00:00&lt;00:00, 1.48MB/s]"
          }
        },
        "b6ce224c7e1447378217d7471c87d850": {
          "model_module": "@jupyter-widgets/base",
          "model_name": "LayoutModel",
          "model_module_version": "1.2.0",
          "state": {
            "_model_module": "@jupyter-widgets/base",
            "_model_module_version": "1.2.0",
            "_model_name": "LayoutModel",
            "_view_count": null,
            "_view_module": "@jupyter-widgets/base",
            "_view_module_version": "1.2.0",
            "_view_name": "LayoutView",
            "align_content": null,
            "align_items": null,
            "align_self": null,
            "border": null,
            "bottom": null,
            "display": null,
            "flex": null,
            "flex_flow": null,
            "grid_area": null,
            "grid_auto_columns": null,
            "grid_auto_flow": null,
            "grid_auto_rows": null,
            "grid_column": null,
            "grid_gap": null,
            "grid_row": null,
            "grid_template_areas": null,
            "grid_template_columns": null,
            "grid_template_rows": null,
            "height": null,
            "justify_content": null,
            "justify_items": null,
            "left": null,
            "margin": null,
            "max_height": null,
            "max_width": null,
            "min_height": null,
            "min_width": null,
            "object_fit": null,
            "object_position": null,
            "order": null,
            "overflow": null,
            "overflow_x": null,
            "overflow_y": null,
            "padding": null,
            "right": null,
            "top": null,
            "visibility": null,
            "width": null
          }
        },
        "a42ca67667a24a398751318c808a010e": {
          "model_module": "@jupyter-widgets/base",
          "model_name": "LayoutModel",
          "model_module_version": "1.2.0",
          "state": {
            "_model_module": "@jupyter-widgets/base",
            "_model_module_version": "1.2.0",
            "_model_name": "LayoutModel",
            "_view_count": null,
            "_view_module": "@jupyter-widgets/base",
            "_view_module_version": "1.2.0",
            "_view_name": "LayoutView",
            "align_content": null,
            "align_items": null,
            "align_self": null,
            "border": null,
            "bottom": null,
            "display": null,
            "flex": null,
            "flex_flow": null,
            "grid_area": null,
            "grid_auto_columns": null,
            "grid_auto_flow": null,
            "grid_auto_rows": null,
            "grid_column": null,
            "grid_gap": null,
            "grid_row": null,
            "grid_template_areas": null,
            "grid_template_columns": null,
            "grid_template_rows": null,
            "height": null,
            "justify_content": null,
            "justify_items": null,
            "left": null,
            "margin": null,
            "max_height": null,
            "max_width": null,
            "min_height": null,
            "min_width": null,
            "object_fit": null,
            "object_position": null,
            "order": null,
            "overflow": null,
            "overflow_x": null,
            "overflow_y": null,
            "padding": null,
            "right": null,
            "top": null,
            "visibility": null,
            "width": null
          }
        },
        "2f30ff706573464ba7ca3242a86a9f58": {
          "model_module": "@jupyter-widgets/controls",
          "model_name": "DescriptionStyleModel",
          "model_module_version": "1.5.0",
          "state": {
            "_model_module": "@jupyter-widgets/controls",
            "_model_module_version": "1.5.0",
            "_model_name": "DescriptionStyleModel",
            "_view_count": null,
            "_view_module": "@jupyter-widgets/base",
            "_view_module_version": "1.2.0",
            "_view_name": "StyleView",
            "description_width": ""
          }
        },
        "db1a3321c717418f8bb54ad673298b68": {
          "model_module": "@jupyter-widgets/base",
          "model_name": "LayoutModel",
          "model_module_version": "1.2.0",
          "state": {
            "_model_module": "@jupyter-widgets/base",
            "_model_module_version": "1.2.0",
            "_model_name": "LayoutModel",
            "_view_count": null,
            "_view_module": "@jupyter-widgets/base",
            "_view_module_version": "1.2.0",
            "_view_name": "LayoutView",
            "align_content": null,
            "align_items": null,
            "align_self": null,
            "border": null,
            "bottom": null,
            "display": null,
            "flex": null,
            "flex_flow": null,
            "grid_area": null,
            "grid_auto_columns": null,
            "grid_auto_flow": null,
            "grid_auto_rows": null,
            "grid_column": null,
            "grid_gap": null,
            "grid_row": null,
            "grid_template_areas": null,
            "grid_template_columns": null,
            "grid_template_rows": null,
            "height": null,
            "justify_content": null,
            "justify_items": null,
            "left": null,
            "margin": null,
            "max_height": null,
            "max_width": null,
            "min_height": null,
            "min_width": null,
            "object_fit": null,
            "object_position": null,
            "order": null,
            "overflow": null,
            "overflow_x": null,
            "overflow_y": null,
            "padding": null,
            "right": null,
            "top": null,
            "visibility": null,
            "width": null
          }
        },
        "1f259270aba44c3f881ffc369847beb5": {
          "model_module": "@jupyter-widgets/controls",
          "model_name": "ProgressStyleModel",
          "model_module_version": "1.5.0",
          "state": {
            "_model_module": "@jupyter-widgets/controls",
            "_model_module_version": "1.5.0",
            "_model_name": "ProgressStyleModel",
            "_view_count": null,
            "_view_module": "@jupyter-widgets/base",
            "_view_module_version": "1.2.0",
            "_view_name": "StyleView",
            "bar_color": null,
            "description_width": ""
          }
        },
        "b36c9de2bfd049e8aba40fb88ac0196e": {
          "model_module": "@jupyter-widgets/base",
          "model_name": "LayoutModel",
          "model_module_version": "1.2.0",
          "state": {
            "_model_module": "@jupyter-widgets/base",
            "_model_module_version": "1.2.0",
            "_model_name": "LayoutModel",
            "_view_count": null,
            "_view_module": "@jupyter-widgets/base",
            "_view_module_version": "1.2.0",
            "_view_name": "LayoutView",
            "align_content": null,
            "align_items": null,
            "align_self": null,
            "border": null,
            "bottom": null,
            "display": null,
            "flex": null,
            "flex_flow": null,
            "grid_area": null,
            "grid_auto_columns": null,
            "grid_auto_flow": null,
            "grid_auto_rows": null,
            "grid_column": null,
            "grid_gap": null,
            "grid_row": null,
            "grid_template_areas": null,
            "grid_template_columns": null,
            "grid_template_rows": null,
            "height": null,
            "justify_content": null,
            "justify_items": null,
            "left": null,
            "margin": null,
            "max_height": null,
            "max_width": null,
            "min_height": null,
            "min_width": null,
            "object_fit": null,
            "object_position": null,
            "order": null,
            "overflow": null,
            "overflow_x": null,
            "overflow_y": null,
            "padding": null,
            "right": null,
            "top": null,
            "visibility": null,
            "width": null
          }
        },
        "2a31e0229a984510a4f663d8bc65be2d": {
          "model_module": "@jupyter-widgets/controls",
          "model_name": "DescriptionStyleModel",
          "model_module_version": "1.5.0",
          "state": {
            "_model_module": "@jupyter-widgets/controls",
            "_model_module_version": "1.5.0",
            "_model_name": "DescriptionStyleModel",
            "_view_count": null,
            "_view_module": "@jupyter-widgets/base",
            "_view_module_version": "1.2.0",
            "_view_name": "StyleView",
            "description_width": ""
          }
        },
        "6dac17720bc344078287751ebdb1f144": {
          "model_module": "@jupyter-widgets/controls",
          "model_name": "HBoxModel",
          "model_module_version": "1.5.0",
          "state": {
            "_dom_classes": [],
            "_model_module": "@jupyter-widgets/controls",
            "_model_module_version": "1.5.0",
            "_model_name": "HBoxModel",
            "_view_count": null,
            "_view_module": "@jupyter-widgets/controls",
            "_view_module_version": "1.5.0",
            "_view_name": "HBoxView",
            "box_style": "",
            "children": [
              "IPY_MODEL_5240756ac0fd447d9ce1962c8011366f",
              "IPY_MODEL_af423577b8fa4143a1009f576e0fdb93",
              "IPY_MODEL_5b2e2837d04d44f8920fd229a92cb96c"
            ],
            "layout": "IPY_MODEL_eed1c487b6454e449a1131ad9339a85c"
          }
        },
        "5240756ac0fd447d9ce1962c8011366f": {
          "model_module": "@jupyter-widgets/controls",
          "model_name": "HTMLModel",
          "model_module_version": "1.5.0",
          "state": {
            "_dom_classes": [],
            "_model_module": "@jupyter-widgets/controls",
            "_model_module_version": "1.5.0",
            "_model_name": "HTMLModel",
            "_view_count": null,
            "_view_module": "@jupyter-widgets/controls",
            "_view_module_version": "1.5.0",
            "_view_name": "HTMLView",
            "description": "",
            "description_tooltip": null,
            "layout": "IPY_MODEL_c30cb208b5f24e12b6f4a61d14d173a3",
            "placeholder": "​",
            "style": "IPY_MODEL_cd3e3684815d497bb5766a8a5d8eaa59",
            "value": "Downloading shards: 100%"
          }
        },
        "af423577b8fa4143a1009f576e0fdb93": {
          "model_module": "@jupyter-widgets/controls",
          "model_name": "FloatProgressModel",
          "model_module_version": "1.5.0",
          "state": {
            "_dom_classes": [],
            "_model_module": "@jupyter-widgets/controls",
            "_model_module_version": "1.5.0",
            "_model_name": "FloatProgressModel",
            "_view_count": null,
            "_view_module": "@jupyter-widgets/controls",
            "_view_module_version": "1.5.0",
            "_view_name": "ProgressView",
            "bar_style": "success",
            "description": "",
            "description_tooltip": null,
            "layout": "IPY_MODEL_abbc30c137514431902f37158d0a255f",
            "max": 3,
            "min": 0,
            "orientation": "horizontal",
            "style": "IPY_MODEL_8aee01463ee7441b85e16a8db1e85939",
            "value": 3
          }
        },
        "5b2e2837d04d44f8920fd229a92cb96c": {
          "model_module": "@jupyter-widgets/controls",
          "model_name": "HTMLModel",
          "model_module_version": "1.5.0",
          "state": {
            "_dom_classes": [],
            "_model_module": "@jupyter-widgets/controls",
            "_model_module_version": "1.5.0",
            "_model_name": "HTMLModel",
            "_view_count": null,
            "_view_module": "@jupyter-widgets/controls",
            "_view_module_version": "1.5.0",
            "_view_name": "HTMLView",
            "description": "",
            "description_tooltip": null,
            "layout": "IPY_MODEL_6213e0e22cd544f8b0c315538c14f707",
            "placeholder": "​",
            "style": "IPY_MODEL_019ce78549234a1c91a5b8c192c04ce3",
            "value": " 3/3 [03:04&lt;00:00, 58.41s/it]"
          }
        },
        "eed1c487b6454e449a1131ad9339a85c": {
          "model_module": "@jupyter-widgets/base",
          "model_name": "LayoutModel",
          "model_module_version": "1.2.0",
          "state": {
            "_model_module": "@jupyter-widgets/base",
            "_model_module_version": "1.2.0",
            "_model_name": "LayoutModel",
            "_view_count": null,
            "_view_module": "@jupyter-widgets/base",
            "_view_module_version": "1.2.0",
            "_view_name": "LayoutView",
            "align_content": null,
            "align_items": null,
            "align_self": null,
            "border": null,
            "bottom": null,
            "display": null,
            "flex": null,
            "flex_flow": null,
            "grid_area": null,
            "grid_auto_columns": null,
            "grid_auto_flow": null,
            "grid_auto_rows": null,
            "grid_column": null,
            "grid_gap": null,
            "grid_row": null,
            "grid_template_areas": null,
            "grid_template_columns": null,
            "grid_template_rows": null,
            "height": null,
            "justify_content": null,
            "justify_items": null,
            "left": null,
            "margin": null,
            "max_height": null,
            "max_width": null,
            "min_height": null,
            "min_width": null,
            "object_fit": null,
            "object_position": null,
            "order": null,
            "overflow": null,
            "overflow_x": null,
            "overflow_y": null,
            "padding": null,
            "right": null,
            "top": null,
            "visibility": null,
            "width": null
          }
        },
        "c30cb208b5f24e12b6f4a61d14d173a3": {
          "model_module": "@jupyter-widgets/base",
          "model_name": "LayoutModel",
          "model_module_version": "1.2.0",
          "state": {
            "_model_module": "@jupyter-widgets/base",
            "_model_module_version": "1.2.0",
            "_model_name": "LayoutModel",
            "_view_count": null,
            "_view_module": "@jupyter-widgets/base",
            "_view_module_version": "1.2.0",
            "_view_name": "LayoutView",
            "align_content": null,
            "align_items": null,
            "align_self": null,
            "border": null,
            "bottom": null,
            "display": null,
            "flex": null,
            "flex_flow": null,
            "grid_area": null,
            "grid_auto_columns": null,
            "grid_auto_flow": null,
            "grid_auto_rows": null,
            "grid_column": null,
            "grid_gap": null,
            "grid_row": null,
            "grid_template_areas": null,
            "grid_template_columns": null,
            "grid_template_rows": null,
            "height": null,
            "justify_content": null,
            "justify_items": null,
            "left": null,
            "margin": null,
            "max_height": null,
            "max_width": null,
            "min_height": null,
            "min_width": null,
            "object_fit": null,
            "object_position": null,
            "order": null,
            "overflow": null,
            "overflow_x": null,
            "overflow_y": null,
            "padding": null,
            "right": null,
            "top": null,
            "visibility": null,
            "width": null
          }
        },
        "cd3e3684815d497bb5766a8a5d8eaa59": {
          "model_module": "@jupyter-widgets/controls",
          "model_name": "DescriptionStyleModel",
          "model_module_version": "1.5.0",
          "state": {
            "_model_module": "@jupyter-widgets/controls",
            "_model_module_version": "1.5.0",
            "_model_name": "DescriptionStyleModel",
            "_view_count": null,
            "_view_module": "@jupyter-widgets/base",
            "_view_module_version": "1.2.0",
            "_view_name": "StyleView",
            "description_width": ""
          }
        },
        "abbc30c137514431902f37158d0a255f": {
          "model_module": "@jupyter-widgets/base",
          "model_name": "LayoutModel",
          "model_module_version": "1.2.0",
          "state": {
            "_model_module": "@jupyter-widgets/base",
            "_model_module_version": "1.2.0",
            "_model_name": "LayoutModel",
            "_view_count": null,
            "_view_module": "@jupyter-widgets/base",
            "_view_module_version": "1.2.0",
            "_view_name": "LayoutView",
            "align_content": null,
            "align_items": null,
            "align_self": null,
            "border": null,
            "bottom": null,
            "display": null,
            "flex": null,
            "flex_flow": null,
            "grid_area": null,
            "grid_auto_columns": null,
            "grid_auto_flow": null,
            "grid_auto_rows": null,
            "grid_column": null,
            "grid_gap": null,
            "grid_row": null,
            "grid_template_areas": null,
            "grid_template_columns": null,
            "grid_template_rows": null,
            "height": null,
            "justify_content": null,
            "justify_items": null,
            "left": null,
            "margin": null,
            "max_height": null,
            "max_width": null,
            "min_height": null,
            "min_width": null,
            "object_fit": null,
            "object_position": null,
            "order": null,
            "overflow": null,
            "overflow_x": null,
            "overflow_y": null,
            "padding": null,
            "right": null,
            "top": null,
            "visibility": null,
            "width": null
          }
        },
        "8aee01463ee7441b85e16a8db1e85939": {
          "model_module": "@jupyter-widgets/controls",
          "model_name": "ProgressStyleModel",
          "model_module_version": "1.5.0",
          "state": {
            "_model_module": "@jupyter-widgets/controls",
            "_model_module_version": "1.5.0",
            "_model_name": "ProgressStyleModel",
            "_view_count": null,
            "_view_module": "@jupyter-widgets/base",
            "_view_module_version": "1.2.0",
            "_view_name": "StyleView",
            "bar_color": null,
            "description_width": ""
          }
        },
        "6213e0e22cd544f8b0c315538c14f707": {
          "model_module": "@jupyter-widgets/base",
          "model_name": "LayoutModel",
          "model_module_version": "1.2.0",
          "state": {
            "_model_module": "@jupyter-widgets/base",
            "_model_module_version": "1.2.0",
            "_model_name": "LayoutModel",
            "_view_count": null,
            "_view_module": "@jupyter-widgets/base",
            "_view_module_version": "1.2.0",
            "_view_name": "LayoutView",
            "align_content": null,
            "align_items": null,
            "align_self": null,
            "border": null,
            "bottom": null,
            "display": null,
            "flex": null,
            "flex_flow": null,
            "grid_area": null,
            "grid_auto_columns": null,
            "grid_auto_flow": null,
            "grid_auto_rows": null,
            "grid_column": null,
            "grid_gap": null,
            "grid_row": null,
            "grid_template_areas": null,
            "grid_template_columns": null,
            "grid_template_rows": null,
            "height": null,
            "justify_content": null,
            "justify_items": null,
            "left": null,
            "margin": null,
            "max_height": null,
            "max_width": null,
            "min_height": null,
            "min_width": null,
            "object_fit": null,
            "object_position": null,
            "order": null,
            "overflow": null,
            "overflow_x": null,
            "overflow_y": null,
            "padding": null,
            "right": null,
            "top": null,
            "visibility": null,
            "width": null
          }
        },
        "019ce78549234a1c91a5b8c192c04ce3": {
          "model_module": "@jupyter-widgets/controls",
          "model_name": "DescriptionStyleModel",
          "model_module_version": "1.5.0",
          "state": {
            "_model_module": "@jupyter-widgets/controls",
            "_model_module_version": "1.5.0",
            "_model_name": "DescriptionStyleModel",
            "_view_count": null,
            "_view_module": "@jupyter-widgets/base",
            "_view_module_version": "1.2.0",
            "_view_name": "StyleView",
            "description_width": ""
          }
        },
        "dbdf487b30e241cdb2441f46e4958179": {
          "model_module": "@jupyter-widgets/controls",
          "model_name": "HBoxModel",
          "model_module_version": "1.5.0",
          "state": {
            "_dom_classes": [],
            "_model_module": "@jupyter-widgets/controls",
            "_model_module_version": "1.5.0",
            "_model_name": "HBoxModel",
            "_view_count": null,
            "_view_module": "@jupyter-widgets/controls",
            "_view_module_version": "1.5.0",
            "_view_name": "HBoxView",
            "box_style": "",
            "children": [
              "IPY_MODEL_1438f2ae818b40ca8772890ca4a8e0cc",
              "IPY_MODEL_92e042f27c8146158174fb805c6c150f",
              "IPY_MODEL_4c1f9c5df8074276adc1f14ce03d6dbc"
            ],
            "layout": "IPY_MODEL_be09a249add4431dbbd21b276c744361"
          }
        },
        "1438f2ae818b40ca8772890ca4a8e0cc": {
          "model_module": "@jupyter-widgets/controls",
          "model_name": "HTMLModel",
          "model_module_version": "1.5.0",
          "state": {
            "_dom_classes": [],
            "_model_module": "@jupyter-widgets/controls",
            "_model_module_version": "1.5.0",
            "_model_name": "HTMLModel",
            "_view_count": null,
            "_view_module": "@jupyter-widgets/controls",
            "_view_module_version": "1.5.0",
            "_view_name": "HTMLView",
            "description": "",
            "description_tooltip": null,
            "layout": "IPY_MODEL_c1d79f5adf38481c8be3bd871156a781",
            "placeholder": "​",
            "style": "IPY_MODEL_e86fb31c6fd2400d8976541ffd7d5f54",
            "value": "Downloading (…)of-00003.safetensors: 100%"
          }
        },
        "92e042f27c8146158174fb805c6c150f": {
          "model_module": "@jupyter-widgets/controls",
          "model_name": "FloatProgressModel",
          "model_module_version": "1.5.0",
          "state": {
            "_dom_classes": [],
            "_model_module": "@jupyter-widgets/controls",
            "_model_module_version": "1.5.0",
            "_model_name": "FloatProgressModel",
            "_view_count": null,
            "_view_module": "@jupyter-widgets/controls",
            "_view_module_version": "1.5.0",
            "_view_name": "ProgressView",
            "bar_style": "success",
            "description": "",
            "description_tooltip": null,
            "layout": "IPY_MODEL_b16dd5edca3b4b6b80816a75a0ceaa0f",
            "max": 9948693272,
            "min": 0,
            "orientation": "horizontal",
            "style": "IPY_MODEL_c86c923f2c28402ebf0b8cb41f653334",
            "value": 9948693272
          }
        },
        "4c1f9c5df8074276adc1f14ce03d6dbc": {
          "model_module": "@jupyter-widgets/controls",
          "model_name": "HTMLModel",
          "model_module_version": "1.5.0",
          "state": {
            "_dom_classes": [],
            "_model_module": "@jupyter-widgets/controls",
            "_model_module_version": "1.5.0",
            "_model_name": "HTMLModel",
            "_view_count": null,
            "_view_module": "@jupyter-widgets/controls",
            "_view_module_version": "1.5.0",
            "_view_name": "HTMLView",
            "description": "",
            "description_tooltip": null,
            "layout": "IPY_MODEL_09159c80245448ceb8de8b8ac712d810",
            "placeholder": "​",
            "style": "IPY_MODEL_bc0ddbd509ca4a00913c2bb7958cac71",
            "value": " 9.95G/9.95G [01:05&lt;00:00, 74.2MB/s]"
          }
        },
        "be09a249add4431dbbd21b276c744361": {
          "model_module": "@jupyter-widgets/base",
          "model_name": "LayoutModel",
          "model_module_version": "1.2.0",
          "state": {
            "_model_module": "@jupyter-widgets/base",
            "_model_module_version": "1.2.0",
            "_model_name": "LayoutModel",
            "_view_count": null,
            "_view_module": "@jupyter-widgets/base",
            "_view_module_version": "1.2.0",
            "_view_name": "LayoutView",
            "align_content": null,
            "align_items": null,
            "align_self": null,
            "border": null,
            "bottom": null,
            "display": null,
            "flex": null,
            "flex_flow": null,
            "grid_area": null,
            "grid_auto_columns": null,
            "grid_auto_flow": null,
            "grid_auto_rows": null,
            "grid_column": null,
            "grid_gap": null,
            "grid_row": null,
            "grid_template_areas": null,
            "grid_template_columns": null,
            "grid_template_rows": null,
            "height": null,
            "justify_content": null,
            "justify_items": null,
            "left": null,
            "margin": null,
            "max_height": null,
            "max_width": null,
            "min_height": null,
            "min_width": null,
            "object_fit": null,
            "object_position": null,
            "order": null,
            "overflow": null,
            "overflow_x": null,
            "overflow_y": null,
            "padding": null,
            "right": null,
            "top": null,
            "visibility": null,
            "width": null
          }
        },
        "c1d79f5adf38481c8be3bd871156a781": {
          "model_module": "@jupyter-widgets/base",
          "model_name": "LayoutModel",
          "model_module_version": "1.2.0",
          "state": {
            "_model_module": "@jupyter-widgets/base",
            "_model_module_version": "1.2.0",
            "_model_name": "LayoutModel",
            "_view_count": null,
            "_view_module": "@jupyter-widgets/base",
            "_view_module_version": "1.2.0",
            "_view_name": "LayoutView",
            "align_content": null,
            "align_items": null,
            "align_self": null,
            "border": null,
            "bottom": null,
            "display": null,
            "flex": null,
            "flex_flow": null,
            "grid_area": null,
            "grid_auto_columns": null,
            "grid_auto_flow": null,
            "grid_auto_rows": null,
            "grid_column": null,
            "grid_gap": null,
            "grid_row": null,
            "grid_template_areas": null,
            "grid_template_columns": null,
            "grid_template_rows": null,
            "height": null,
            "justify_content": null,
            "justify_items": null,
            "left": null,
            "margin": null,
            "max_height": null,
            "max_width": null,
            "min_height": null,
            "min_width": null,
            "object_fit": null,
            "object_position": null,
            "order": null,
            "overflow": null,
            "overflow_x": null,
            "overflow_y": null,
            "padding": null,
            "right": null,
            "top": null,
            "visibility": null,
            "width": null
          }
        },
        "e86fb31c6fd2400d8976541ffd7d5f54": {
          "model_module": "@jupyter-widgets/controls",
          "model_name": "DescriptionStyleModel",
          "model_module_version": "1.5.0",
          "state": {
            "_model_module": "@jupyter-widgets/controls",
            "_model_module_version": "1.5.0",
            "_model_name": "DescriptionStyleModel",
            "_view_count": null,
            "_view_module": "@jupyter-widgets/base",
            "_view_module_version": "1.2.0",
            "_view_name": "StyleView",
            "description_width": ""
          }
        },
        "b16dd5edca3b4b6b80816a75a0ceaa0f": {
          "model_module": "@jupyter-widgets/base",
          "model_name": "LayoutModel",
          "model_module_version": "1.2.0",
          "state": {
            "_model_module": "@jupyter-widgets/base",
            "_model_module_version": "1.2.0",
            "_model_name": "LayoutModel",
            "_view_count": null,
            "_view_module": "@jupyter-widgets/base",
            "_view_module_version": "1.2.0",
            "_view_name": "LayoutView",
            "align_content": null,
            "align_items": null,
            "align_self": null,
            "border": null,
            "bottom": null,
            "display": null,
            "flex": null,
            "flex_flow": null,
            "grid_area": null,
            "grid_auto_columns": null,
            "grid_auto_flow": null,
            "grid_auto_rows": null,
            "grid_column": null,
            "grid_gap": null,
            "grid_row": null,
            "grid_template_areas": null,
            "grid_template_columns": null,
            "grid_template_rows": null,
            "height": null,
            "justify_content": null,
            "justify_items": null,
            "left": null,
            "margin": null,
            "max_height": null,
            "max_width": null,
            "min_height": null,
            "min_width": null,
            "object_fit": null,
            "object_position": null,
            "order": null,
            "overflow": null,
            "overflow_x": null,
            "overflow_y": null,
            "padding": null,
            "right": null,
            "top": null,
            "visibility": null,
            "width": null
          }
        },
        "c86c923f2c28402ebf0b8cb41f653334": {
          "model_module": "@jupyter-widgets/controls",
          "model_name": "ProgressStyleModel",
          "model_module_version": "1.5.0",
          "state": {
            "_model_module": "@jupyter-widgets/controls",
            "_model_module_version": "1.5.0",
            "_model_name": "ProgressStyleModel",
            "_view_count": null,
            "_view_module": "@jupyter-widgets/base",
            "_view_module_version": "1.2.0",
            "_view_name": "StyleView",
            "bar_color": null,
            "description_width": ""
          }
        },
        "09159c80245448ceb8de8b8ac712d810": {
          "model_module": "@jupyter-widgets/base",
          "model_name": "LayoutModel",
          "model_module_version": "1.2.0",
          "state": {
            "_model_module": "@jupyter-widgets/base",
            "_model_module_version": "1.2.0",
            "_model_name": "LayoutModel",
            "_view_count": null,
            "_view_module": "@jupyter-widgets/base",
            "_view_module_version": "1.2.0",
            "_view_name": "LayoutView",
            "align_content": null,
            "align_items": null,
            "align_self": null,
            "border": null,
            "bottom": null,
            "display": null,
            "flex": null,
            "flex_flow": null,
            "grid_area": null,
            "grid_auto_columns": null,
            "grid_auto_flow": null,
            "grid_auto_rows": null,
            "grid_column": null,
            "grid_gap": null,
            "grid_row": null,
            "grid_template_areas": null,
            "grid_template_columns": null,
            "grid_template_rows": null,
            "height": null,
            "justify_content": null,
            "justify_items": null,
            "left": null,
            "margin": null,
            "max_height": null,
            "max_width": null,
            "min_height": null,
            "min_width": null,
            "object_fit": null,
            "object_position": null,
            "order": null,
            "overflow": null,
            "overflow_x": null,
            "overflow_y": null,
            "padding": null,
            "right": null,
            "top": null,
            "visibility": null,
            "width": null
          }
        },
        "bc0ddbd509ca4a00913c2bb7958cac71": {
          "model_module": "@jupyter-widgets/controls",
          "model_name": "DescriptionStyleModel",
          "model_module_version": "1.5.0",
          "state": {
            "_model_module": "@jupyter-widgets/controls",
            "_model_module_version": "1.5.0",
            "_model_name": "DescriptionStyleModel",
            "_view_count": null,
            "_view_module": "@jupyter-widgets/base",
            "_view_module_version": "1.2.0",
            "_view_name": "StyleView",
            "description_width": ""
          }
        },
        "469cefc8fa2a44c3a7b904c79d7456e6": {
          "model_module": "@jupyter-widgets/controls",
          "model_name": "HBoxModel",
          "model_module_version": "1.5.0",
          "state": {
            "_dom_classes": [],
            "_model_module": "@jupyter-widgets/controls",
            "_model_module_version": "1.5.0",
            "_model_name": "HBoxModel",
            "_view_count": null,
            "_view_module": "@jupyter-widgets/controls",
            "_view_module_version": "1.5.0",
            "_view_name": "HBoxView",
            "box_style": "",
            "children": [
              "IPY_MODEL_f0af1553791f4c2794728e642d095b67",
              "IPY_MODEL_fe69ddda64ce400f9a67dfee18777d30",
              "IPY_MODEL_1bcbad27eed14567b72b7a7a12872596"
            ],
            "layout": "IPY_MODEL_f29f8e8fbfce4f21bd91e5da33834802"
          }
        },
        "f0af1553791f4c2794728e642d095b67": {
          "model_module": "@jupyter-widgets/controls",
          "model_name": "HTMLModel",
          "model_module_version": "1.5.0",
          "state": {
            "_dom_classes": [],
            "_model_module": "@jupyter-widgets/controls",
            "_model_module_version": "1.5.0",
            "_model_name": "HTMLModel",
            "_view_count": null,
            "_view_module": "@jupyter-widgets/controls",
            "_view_module_version": "1.5.0",
            "_view_name": "HTMLView",
            "description": "",
            "description_tooltip": null,
            "layout": "IPY_MODEL_ee893dc70dd84e38abc3b85d6f898e2b",
            "placeholder": "​",
            "style": "IPY_MODEL_7a96aa7eda73411a98d5966eaad11559",
            "value": "Downloading (…)of-00003.safetensors: 100%"
          }
        },
        "fe69ddda64ce400f9a67dfee18777d30": {
          "model_module": "@jupyter-widgets/controls",
          "model_name": "FloatProgressModel",
          "model_module_version": "1.5.0",
          "state": {
            "_dom_classes": [],
            "_model_module": "@jupyter-widgets/controls",
            "_model_module_version": "1.5.0",
            "_model_name": "FloatProgressModel",
            "_view_count": null,
            "_view_module": "@jupyter-widgets/controls",
            "_view_module_version": "1.5.0",
            "_view_name": "ProgressView",
            "bar_style": "success",
            "description": "",
            "description_tooltip": null,
            "layout": "IPY_MODEL_583328cd5dd94742986a978d176e3a1b",
            "max": 9904129368,
            "min": 0,
            "orientation": "horizontal",
            "style": "IPY_MODEL_bde1dcdc8ddc446f8c3453ea48d5378b",
            "value": 9904129368
          }
        },
        "1bcbad27eed14567b72b7a7a12872596": {
          "model_module": "@jupyter-widgets/controls",
          "model_name": "HTMLModel",
          "model_module_version": "1.5.0",
          "state": {
            "_dom_classes": [],
            "_model_module": "@jupyter-widgets/controls",
            "_model_module_version": "1.5.0",
            "_model_name": "HTMLModel",
            "_view_count": null,
            "_view_module": "@jupyter-widgets/controls",
            "_view_module_version": "1.5.0",
            "_view_name": "HTMLView",
            "description": "",
            "description_tooltip": null,
            "layout": "IPY_MODEL_b8f957b776fa450990c053c271215c26",
            "placeholder": "​",
            "style": "IPY_MODEL_c8fcf73c4ffa47349b9d5fc0761f95ef",
            "value": " 9.90G/9.90G [01:15&lt;00:00, 201MB/s]"
          }
        },
        "f29f8e8fbfce4f21bd91e5da33834802": {
          "model_module": "@jupyter-widgets/base",
          "model_name": "LayoutModel",
          "model_module_version": "1.2.0",
          "state": {
            "_model_module": "@jupyter-widgets/base",
            "_model_module_version": "1.2.0",
            "_model_name": "LayoutModel",
            "_view_count": null,
            "_view_module": "@jupyter-widgets/base",
            "_view_module_version": "1.2.0",
            "_view_name": "LayoutView",
            "align_content": null,
            "align_items": null,
            "align_self": null,
            "border": null,
            "bottom": null,
            "display": null,
            "flex": null,
            "flex_flow": null,
            "grid_area": null,
            "grid_auto_columns": null,
            "grid_auto_flow": null,
            "grid_auto_rows": null,
            "grid_column": null,
            "grid_gap": null,
            "grid_row": null,
            "grid_template_areas": null,
            "grid_template_columns": null,
            "grid_template_rows": null,
            "height": null,
            "justify_content": null,
            "justify_items": null,
            "left": null,
            "margin": null,
            "max_height": null,
            "max_width": null,
            "min_height": null,
            "min_width": null,
            "object_fit": null,
            "object_position": null,
            "order": null,
            "overflow": null,
            "overflow_x": null,
            "overflow_y": null,
            "padding": null,
            "right": null,
            "top": null,
            "visibility": null,
            "width": null
          }
        },
        "ee893dc70dd84e38abc3b85d6f898e2b": {
          "model_module": "@jupyter-widgets/base",
          "model_name": "LayoutModel",
          "model_module_version": "1.2.0",
          "state": {
            "_model_module": "@jupyter-widgets/base",
            "_model_module_version": "1.2.0",
            "_model_name": "LayoutModel",
            "_view_count": null,
            "_view_module": "@jupyter-widgets/base",
            "_view_module_version": "1.2.0",
            "_view_name": "LayoutView",
            "align_content": null,
            "align_items": null,
            "align_self": null,
            "border": null,
            "bottom": null,
            "display": null,
            "flex": null,
            "flex_flow": null,
            "grid_area": null,
            "grid_auto_columns": null,
            "grid_auto_flow": null,
            "grid_auto_rows": null,
            "grid_column": null,
            "grid_gap": null,
            "grid_row": null,
            "grid_template_areas": null,
            "grid_template_columns": null,
            "grid_template_rows": null,
            "height": null,
            "justify_content": null,
            "justify_items": null,
            "left": null,
            "margin": null,
            "max_height": null,
            "max_width": null,
            "min_height": null,
            "min_width": null,
            "object_fit": null,
            "object_position": null,
            "order": null,
            "overflow": null,
            "overflow_x": null,
            "overflow_y": null,
            "padding": null,
            "right": null,
            "top": null,
            "visibility": null,
            "width": null
          }
        },
        "7a96aa7eda73411a98d5966eaad11559": {
          "model_module": "@jupyter-widgets/controls",
          "model_name": "DescriptionStyleModel",
          "model_module_version": "1.5.0",
          "state": {
            "_model_module": "@jupyter-widgets/controls",
            "_model_module_version": "1.5.0",
            "_model_name": "DescriptionStyleModel",
            "_view_count": null,
            "_view_module": "@jupyter-widgets/base",
            "_view_module_version": "1.2.0",
            "_view_name": "StyleView",
            "description_width": ""
          }
        },
        "583328cd5dd94742986a978d176e3a1b": {
          "model_module": "@jupyter-widgets/base",
          "model_name": "LayoutModel",
          "model_module_version": "1.2.0",
          "state": {
            "_model_module": "@jupyter-widgets/base",
            "_model_module_version": "1.2.0",
            "_model_name": "LayoutModel",
            "_view_count": null,
            "_view_module": "@jupyter-widgets/base",
            "_view_module_version": "1.2.0",
            "_view_name": "LayoutView",
            "align_content": null,
            "align_items": null,
            "align_self": null,
            "border": null,
            "bottom": null,
            "display": null,
            "flex": null,
            "flex_flow": null,
            "grid_area": null,
            "grid_auto_columns": null,
            "grid_auto_flow": null,
            "grid_auto_rows": null,
            "grid_column": null,
            "grid_gap": null,
            "grid_row": null,
            "grid_template_areas": null,
            "grid_template_columns": null,
            "grid_template_rows": null,
            "height": null,
            "justify_content": null,
            "justify_items": null,
            "left": null,
            "margin": null,
            "max_height": null,
            "max_width": null,
            "min_height": null,
            "min_width": null,
            "object_fit": null,
            "object_position": null,
            "order": null,
            "overflow": null,
            "overflow_x": null,
            "overflow_y": null,
            "padding": null,
            "right": null,
            "top": null,
            "visibility": null,
            "width": null
          }
        },
        "bde1dcdc8ddc446f8c3453ea48d5378b": {
          "model_module": "@jupyter-widgets/controls",
          "model_name": "ProgressStyleModel",
          "model_module_version": "1.5.0",
          "state": {
            "_model_module": "@jupyter-widgets/controls",
            "_model_module_version": "1.5.0",
            "_model_name": "ProgressStyleModel",
            "_view_count": null,
            "_view_module": "@jupyter-widgets/base",
            "_view_module_version": "1.2.0",
            "_view_name": "StyleView",
            "bar_color": null,
            "description_width": ""
          }
        },
        "b8f957b776fa450990c053c271215c26": {
          "model_module": "@jupyter-widgets/base",
          "model_name": "LayoutModel",
          "model_module_version": "1.2.0",
          "state": {
            "_model_module": "@jupyter-widgets/base",
            "_model_module_version": "1.2.0",
            "_model_name": "LayoutModel",
            "_view_count": null,
            "_view_module": "@jupyter-widgets/base",
            "_view_module_version": "1.2.0",
            "_view_name": "LayoutView",
            "align_content": null,
            "align_items": null,
            "align_self": null,
            "border": null,
            "bottom": null,
            "display": null,
            "flex": null,
            "flex_flow": null,
            "grid_area": null,
            "grid_auto_columns": null,
            "grid_auto_flow": null,
            "grid_auto_rows": null,
            "grid_column": null,
            "grid_gap": null,
            "grid_row": null,
            "grid_template_areas": null,
            "grid_template_columns": null,
            "grid_template_rows": null,
            "height": null,
            "justify_content": null,
            "justify_items": null,
            "left": null,
            "margin": null,
            "max_height": null,
            "max_width": null,
            "min_height": null,
            "min_width": null,
            "object_fit": null,
            "object_position": null,
            "order": null,
            "overflow": null,
            "overflow_x": null,
            "overflow_y": null,
            "padding": null,
            "right": null,
            "top": null,
            "visibility": null,
            "width": null
          }
        },
        "c8fcf73c4ffa47349b9d5fc0761f95ef": {
          "model_module": "@jupyter-widgets/controls",
          "model_name": "DescriptionStyleModel",
          "model_module_version": "1.5.0",
          "state": {
            "_model_module": "@jupyter-widgets/controls",
            "_model_module_version": "1.5.0",
            "_model_name": "DescriptionStyleModel",
            "_view_count": null,
            "_view_module": "@jupyter-widgets/base",
            "_view_module_version": "1.2.0",
            "_view_name": "StyleView",
            "description_width": ""
          }
        },
        "7fe3a77781384a8490bd5a1f754c9d2c": {
          "model_module": "@jupyter-widgets/controls",
          "model_name": "HBoxModel",
          "model_module_version": "1.5.0",
          "state": {
            "_dom_classes": [],
            "_model_module": "@jupyter-widgets/controls",
            "_model_module_version": "1.5.0",
            "_model_name": "HBoxModel",
            "_view_count": null,
            "_view_module": "@jupyter-widgets/controls",
            "_view_module_version": "1.5.0",
            "_view_name": "HBoxView",
            "box_style": "",
            "children": [
              "IPY_MODEL_e3969da9b4e144e489d5a132ecb3a1be",
              "IPY_MODEL_be384025c1dd433e9760496cf1d97314",
              "IPY_MODEL_b1e8bdd4a228430b86d0eae057151145"
            ],
            "layout": "IPY_MODEL_5e21c8e6702840cba4a559b8c61cf9e6"
          }
        },
        "e3969da9b4e144e489d5a132ecb3a1be": {
          "model_module": "@jupyter-widgets/controls",
          "model_name": "HTMLModel",
          "model_module_version": "1.5.0",
          "state": {
            "_dom_classes": [],
            "_model_module": "@jupyter-widgets/controls",
            "_model_module_version": "1.5.0",
            "_model_name": "HTMLModel",
            "_view_count": null,
            "_view_module": "@jupyter-widgets/controls",
            "_view_module_version": "1.5.0",
            "_view_name": "HTMLView",
            "description": "",
            "description_tooltip": null,
            "layout": "IPY_MODEL_8e979af3d68a4b1fb5b762c2fe4aabe7",
            "placeholder": "​",
            "style": "IPY_MODEL_e717543f760e445a8c9aca571def6976",
            "value": "Downloading (…)of-00003.safetensors: 100%"
          }
        },
        "be384025c1dd433e9760496cf1d97314": {
          "model_module": "@jupyter-widgets/controls",
          "model_name": "FloatProgressModel",
          "model_module_version": "1.5.0",
          "state": {
            "_dom_classes": [],
            "_model_module": "@jupyter-widgets/controls",
            "_model_module_version": "1.5.0",
            "_model_name": "FloatProgressModel",
            "_view_count": null,
            "_view_module": "@jupyter-widgets/controls",
            "_view_module_version": "1.5.0",
            "_view_name": "ProgressView",
            "bar_style": "success",
            "description": "",
            "description_tooltip": null,
            "layout": "IPY_MODEL_f96cc2b97cd148328e3bfbf0e7c8c679",
            "max": 6178962272,
            "min": 0,
            "orientation": "horizontal",
            "style": "IPY_MODEL_b9edfa316b274b8b9825098ba31b5c66",
            "value": 6178962272
          }
        },
        "b1e8bdd4a228430b86d0eae057151145": {
          "model_module": "@jupyter-widgets/controls",
          "model_name": "HTMLModel",
          "model_module_version": "1.5.0",
          "state": {
            "_dom_classes": [],
            "_model_module": "@jupyter-widgets/controls",
            "_model_module_version": "1.5.0",
            "_model_name": "HTMLModel",
            "_view_count": null,
            "_view_module": "@jupyter-widgets/controls",
            "_view_module_version": "1.5.0",
            "_view_name": "HTMLView",
            "description": "",
            "description_tooltip": null,
            "layout": "IPY_MODEL_3c5caee118894388962590c7bf8ef1e6",
            "placeholder": "​",
            "style": "IPY_MODEL_645f6575bbe4436e886a1c8629a0992d",
            "value": " 6.18G/6.18G [00:41&lt;00:00, 100MB/s]"
          }
        },
        "5e21c8e6702840cba4a559b8c61cf9e6": {
          "model_module": "@jupyter-widgets/base",
          "model_name": "LayoutModel",
          "model_module_version": "1.2.0",
          "state": {
            "_model_module": "@jupyter-widgets/base",
            "_model_module_version": "1.2.0",
            "_model_name": "LayoutModel",
            "_view_count": null,
            "_view_module": "@jupyter-widgets/base",
            "_view_module_version": "1.2.0",
            "_view_name": "LayoutView",
            "align_content": null,
            "align_items": null,
            "align_self": null,
            "border": null,
            "bottom": null,
            "display": null,
            "flex": null,
            "flex_flow": null,
            "grid_area": null,
            "grid_auto_columns": null,
            "grid_auto_flow": null,
            "grid_auto_rows": null,
            "grid_column": null,
            "grid_gap": null,
            "grid_row": null,
            "grid_template_areas": null,
            "grid_template_columns": null,
            "grid_template_rows": null,
            "height": null,
            "justify_content": null,
            "justify_items": null,
            "left": null,
            "margin": null,
            "max_height": null,
            "max_width": null,
            "min_height": null,
            "min_width": null,
            "object_fit": null,
            "object_position": null,
            "order": null,
            "overflow": null,
            "overflow_x": null,
            "overflow_y": null,
            "padding": null,
            "right": null,
            "top": null,
            "visibility": null,
            "width": null
          }
        },
        "8e979af3d68a4b1fb5b762c2fe4aabe7": {
          "model_module": "@jupyter-widgets/base",
          "model_name": "LayoutModel",
          "model_module_version": "1.2.0",
          "state": {
            "_model_module": "@jupyter-widgets/base",
            "_model_module_version": "1.2.0",
            "_model_name": "LayoutModel",
            "_view_count": null,
            "_view_module": "@jupyter-widgets/base",
            "_view_module_version": "1.2.0",
            "_view_name": "LayoutView",
            "align_content": null,
            "align_items": null,
            "align_self": null,
            "border": null,
            "bottom": null,
            "display": null,
            "flex": null,
            "flex_flow": null,
            "grid_area": null,
            "grid_auto_columns": null,
            "grid_auto_flow": null,
            "grid_auto_rows": null,
            "grid_column": null,
            "grid_gap": null,
            "grid_row": null,
            "grid_template_areas": null,
            "grid_template_columns": null,
            "grid_template_rows": null,
            "height": null,
            "justify_content": null,
            "justify_items": null,
            "left": null,
            "margin": null,
            "max_height": null,
            "max_width": null,
            "min_height": null,
            "min_width": null,
            "object_fit": null,
            "object_position": null,
            "order": null,
            "overflow": null,
            "overflow_x": null,
            "overflow_y": null,
            "padding": null,
            "right": null,
            "top": null,
            "visibility": null,
            "width": null
          }
        },
        "e717543f760e445a8c9aca571def6976": {
          "model_module": "@jupyter-widgets/controls",
          "model_name": "DescriptionStyleModel",
          "model_module_version": "1.5.0",
          "state": {
            "_model_module": "@jupyter-widgets/controls",
            "_model_module_version": "1.5.0",
            "_model_name": "DescriptionStyleModel",
            "_view_count": null,
            "_view_module": "@jupyter-widgets/base",
            "_view_module_version": "1.2.0",
            "_view_name": "StyleView",
            "description_width": ""
          }
        },
        "f96cc2b97cd148328e3bfbf0e7c8c679": {
          "model_module": "@jupyter-widgets/base",
          "model_name": "LayoutModel",
          "model_module_version": "1.2.0",
          "state": {
            "_model_module": "@jupyter-widgets/base",
            "_model_module_version": "1.2.0",
            "_model_name": "LayoutModel",
            "_view_count": null,
            "_view_module": "@jupyter-widgets/base",
            "_view_module_version": "1.2.0",
            "_view_name": "LayoutView",
            "align_content": null,
            "align_items": null,
            "align_self": null,
            "border": null,
            "bottom": null,
            "display": null,
            "flex": null,
            "flex_flow": null,
            "grid_area": null,
            "grid_auto_columns": null,
            "grid_auto_flow": null,
            "grid_auto_rows": null,
            "grid_column": null,
            "grid_gap": null,
            "grid_row": null,
            "grid_template_areas": null,
            "grid_template_columns": null,
            "grid_template_rows": null,
            "height": null,
            "justify_content": null,
            "justify_items": null,
            "left": null,
            "margin": null,
            "max_height": null,
            "max_width": null,
            "min_height": null,
            "min_width": null,
            "object_fit": null,
            "object_position": null,
            "order": null,
            "overflow": null,
            "overflow_x": null,
            "overflow_y": null,
            "padding": null,
            "right": null,
            "top": null,
            "visibility": null,
            "width": null
          }
        },
        "b9edfa316b274b8b9825098ba31b5c66": {
          "model_module": "@jupyter-widgets/controls",
          "model_name": "ProgressStyleModel",
          "model_module_version": "1.5.0",
          "state": {
            "_model_module": "@jupyter-widgets/controls",
            "_model_module_version": "1.5.0",
            "_model_name": "ProgressStyleModel",
            "_view_count": null,
            "_view_module": "@jupyter-widgets/base",
            "_view_module_version": "1.2.0",
            "_view_name": "StyleView",
            "bar_color": null,
            "description_width": ""
          }
        },
        "3c5caee118894388962590c7bf8ef1e6": {
          "model_module": "@jupyter-widgets/base",
          "model_name": "LayoutModel",
          "model_module_version": "1.2.0",
          "state": {
            "_model_module": "@jupyter-widgets/base",
            "_model_module_version": "1.2.0",
            "_model_name": "LayoutModel",
            "_view_count": null,
            "_view_module": "@jupyter-widgets/base",
            "_view_module_version": "1.2.0",
            "_view_name": "LayoutView",
            "align_content": null,
            "align_items": null,
            "align_self": null,
            "border": null,
            "bottom": null,
            "display": null,
            "flex": null,
            "flex_flow": null,
            "grid_area": null,
            "grid_auto_columns": null,
            "grid_auto_flow": null,
            "grid_auto_rows": null,
            "grid_column": null,
            "grid_gap": null,
            "grid_row": null,
            "grid_template_areas": null,
            "grid_template_columns": null,
            "grid_template_rows": null,
            "height": null,
            "justify_content": null,
            "justify_items": null,
            "left": null,
            "margin": null,
            "max_height": null,
            "max_width": null,
            "min_height": null,
            "min_width": null,
            "object_fit": null,
            "object_position": null,
            "order": null,
            "overflow": null,
            "overflow_x": null,
            "overflow_y": null,
            "padding": null,
            "right": null,
            "top": null,
            "visibility": null,
            "width": null
          }
        },
        "645f6575bbe4436e886a1c8629a0992d": {
          "model_module": "@jupyter-widgets/controls",
          "model_name": "DescriptionStyleModel",
          "model_module_version": "1.5.0",
          "state": {
            "_model_module": "@jupyter-widgets/controls",
            "_model_module_version": "1.5.0",
            "_model_name": "DescriptionStyleModel",
            "_view_count": null,
            "_view_module": "@jupyter-widgets/base",
            "_view_module_version": "1.2.0",
            "_view_name": "StyleView",
            "description_width": ""
          }
        },
        "6d63a6b1cf004d4784021ad9336166ca": {
          "model_module": "@jupyter-widgets/controls",
          "model_name": "HBoxModel",
          "model_module_version": "1.5.0",
          "state": {
            "_dom_classes": [],
            "_model_module": "@jupyter-widgets/controls",
            "_model_module_version": "1.5.0",
            "_model_name": "HBoxModel",
            "_view_count": null,
            "_view_module": "@jupyter-widgets/controls",
            "_view_module_version": "1.5.0",
            "_view_name": "HBoxView",
            "box_style": "",
            "children": [
              "IPY_MODEL_19243c7d22514ea889172a28aa9ed14e",
              "IPY_MODEL_6526d72489b841429dd0726fd3451281",
              "IPY_MODEL_8acc4872cd184fafb7106bb456f59271"
            ],
            "layout": "IPY_MODEL_853c46bd558f4d05adc1746a235faf26"
          }
        },
        "19243c7d22514ea889172a28aa9ed14e": {
          "model_module": "@jupyter-widgets/controls",
          "model_name": "HTMLModel",
          "model_module_version": "1.5.0",
          "state": {
            "_dom_classes": [],
            "_model_module": "@jupyter-widgets/controls",
            "_model_module_version": "1.5.0",
            "_model_name": "HTMLModel",
            "_view_count": null,
            "_view_module": "@jupyter-widgets/controls",
            "_view_module_version": "1.5.0",
            "_view_name": "HTMLView",
            "description": "",
            "description_tooltip": null,
            "layout": "IPY_MODEL_c207fe140b8d4176ba5c7f6fdaa9097e",
            "placeholder": "​",
            "style": "IPY_MODEL_dc70fb8e4f1c4b588983784407f3a1a6",
            "value": "Loading checkpoint shards: 100%"
          }
        },
        "6526d72489b841429dd0726fd3451281": {
          "model_module": "@jupyter-widgets/controls",
          "model_name": "FloatProgressModel",
          "model_module_version": "1.5.0",
          "state": {
            "_dom_classes": [],
            "_model_module": "@jupyter-widgets/controls",
            "_model_module_version": "1.5.0",
            "_model_name": "FloatProgressModel",
            "_view_count": null,
            "_view_module": "@jupyter-widgets/controls",
            "_view_module_version": "1.5.0",
            "_view_name": "ProgressView",
            "bar_style": "success",
            "description": "",
            "description_tooltip": null,
            "layout": "IPY_MODEL_c3f8120c1eb04391b23cc8b0ec2566c8",
            "max": 3,
            "min": 0,
            "orientation": "horizontal",
            "style": "IPY_MODEL_b3c11107c66f49989bbebc86e5f05040",
            "value": 3
          }
        },
        "8acc4872cd184fafb7106bb456f59271": {
          "model_module": "@jupyter-widgets/controls",
          "model_name": "HTMLModel",
          "model_module_version": "1.5.0",
          "state": {
            "_dom_classes": [],
            "_model_module": "@jupyter-widgets/controls",
            "_model_module_version": "1.5.0",
            "_model_name": "HTMLModel",
            "_view_count": null,
            "_view_module": "@jupyter-widgets/controls",
            "_view_module_version": "1.5.0",
            "_view_name": "HTMLView",
            "description": "",
            "description_tooltip": null,
            "layout": "IPY_MODEL_7d14650183664fb08993a76daacdd4c1",
            "placeholder": "​",
            "style": "IPY_MODEL_3c36c09c78004229892b2ba28d3fc465",
            "value": " 3/3 [02:05&lt;00:00, 39.52s/it]"
          }
        },
        "853c46bd558f4d05adc1746a235faf26": {
          "model_module": "@jupyter-widgets/base",
          "model_name": "LayoutModel",
          "model_module_version": "1.2.0",
          "state": {
            "_model_module": "@jupyter-widgets/base",
            "_model_module_version": "1.2.0",
            "_model_name": "LayoutModel",
            "_view_count": null,
            "_view_module": "@jupyter-widgets/base",
            "_view_module_version": "1.2.0",
            "_view_name": "LayoutView",
            "align_content": null,
            "align_items": null,
            "align_self": null,
            "border": null,
            "bottom": null,
            "display": null,
            "flex": null,
            "flex_flow": null,
            "grid_area": null,
            "grid_auto_columns": null,
            "grid_auto_flow": null,
            "grid_auto_rows": null,
            "grid_column": null,
            "grid_gap": null,
            "grid_row": null,
            "grid_template_areas": null,
            "grid_template_columns": null,
            "grid_template_rows": null,
            "height": null,
            "justify_content": null,
            "justify_items": null,
            "left": null,
            "margin": null,
            "max_height": null,
            "max_width": null,
            "min_height": null,
            "min_width": null,
            "object_fit": null,
            "object_position": null,
            "order": null,
            "overflow": null,
            "overflow_x": null,
            "overflow_y": null,
            "padding": null,
            "right": null,
            "top": null,
            "visibility": null,
            "width": null
          }
        },
        "c207fe140b8d4176ba5c7f6fdaa9097e": {
          "model_module": "@jupyter-widgets/base",
          "model_name": "LayoutModel",
          "model_module_version": "1.2.0",
          "state": {
            "_model_module": "@jupyter-widgets/base",
            "_model_module_version": "1.2.0",
            "_model_name": "LayoutModel",
            "_view_count": null,
            "_view_module": "@jupyter-widgets/base",
            "_view_module_version": "1.2.0",
            "_view_name": "LayoutView",
            "align_content": null,
            "align_items": null,
            "align_self": null,
            "border": null,
            "bottom": null,
            "display": null,
            "flex": null,
            "flex_flow": null,
            "grid_area": null,
            "grid_auto_columns": null,
            "grid_auto_flow": null,
            "grid_auto_rows": null,
            "grid_column": null,
            "grid_gap": null,
            "grid_row": null,
            "grid_template_areas": null,
            "grid_template_columns": null,
            "grid_template_rows": null,
            "height": null,
            "justify_content": null,
            "justify_items": null,
            "left": null,
            "margin": null,
            "max_height": null,
            "max_width": null,
            "min_height": null,
            "min_width": null,
            "object_fit": null,
            "object_position": null,
            "order": null,
            "overflow": null,
            "overflow_x": null,
            "overflow_y": null,
            "padding": null,
            "right": null,
            "top": null,
            "visibility": null,
            "width": null
          }
        },
        "dc70fb8e4f1c4b588983784407f3a1a6": {
          "model_module": "@jupyter-widgets/controls",
          "model_name": "DescriptionStyleModel",
          "model_module_version": "1.5.0",
          "state": {
            "_model_module": "@jupyter-widgets/controls",
            "_model_module_version": "1.5.0",
            "_model_name": "DescriptionStyleModel",
            "_view_count": null,
            "_view_module": "@jupyter-widgets/base",
            "_view_module_version": "1.2.0",
            "_view_name": "StyleView",
            "description_width": ""
          }
        },
        "c3f8120c1eb04391b23cc8b0ec2566c8": {
          "model_module": "@jupyter-widgets/base",
          "model_name": "LayoutModel",
          "model_module_version": "1.2.0",
          "state": {
            "_model_module": "@jupyter-widgets/base",
            "_model_module_version": "1.2.0",
            "_model_name": "LayoutModel",
            "_view_count": null,
            "_view_module": "@jupyter-widgets/base",
            "_view_module_version": "1.2.0",
            "_view_name": "LayoutView",
            "align_content": null,
            "align_items": null,
            "align_self": null,
            "border": null,
            "bottom": null,
            "display": null,
            "flex": null,
            "flex_flow": null,
            "grid_area": null,
            "grid_auto_columns": null,
            "grid_auto_flow": null,
            "grid_auto_rows": null,
            "grid_column": null,
            "grid_gap": null,
            "grid_row": null,
            "grid_template_areas": null,
            "grid_template_columns": null,
            "grid_template_rows": null,
            "height": null,
            "justify_content": null,
            "justify_items": null,
            "left": null,
            "margin": null,
            "max_height": null,
            "max_width": null,
            "min_height": null,
            "min_width": null,
            "object_fit": null,
            "object_position": null,
            "order": null,
            "overflow": null,
            "overflow_x": null,
            "overflow_y": null,
            "padding": null,
            "right": null,
            "top": null,
            "visibility": null,
            "width": null
          }
        },
        "b3c11107c66f49989bbebc86e5f05040": {
          "model_module": "@jupyter-widgets/controls",
          "model_name": "ProgressStyleModel",
          "model_module_version": "1.5.0",
          "state": {
            "_model_module": "@jupyter-widgets/controls",
            "_model_module_version": "1.5.0",
            "_model_name": "ProgressStyleModel",
            "_view_count": null,
            "_view_module": "@jupyter-widgets/base",
            "_view_module_version": "1.2.0",
            "_view_name": "StyleView",
            "bar_color": null,
            "description_width": ""
          }
        },
        "7d14650183664fb08993a76daacdd4c1": {
          "model_module": "@jupyter-widgets/base",
          "model_name": "LayoutModel",
          "model_module_version": "1.2.0",
          "state": {
            "_model_module": "@jupyter-widgets/base",
            "_model_module_version": "1.2.0",
            "_model_name": "LayoutModel",
            "_view_count": null,
            "_view_module": "@jupyter-widgets/base",
            "_view_module_version": "1.2.0",
            "_view_name": "LayoutView",
            "align_content": null,
            "align_items": null,
            "align_self": null,
            "border": null,
            "bottom": null,
            "display": null,
            "flex": null,
            "flex_flow": null,
            "grid_area": null,
            "grid_auto_columns": null,
            "grid_auto_flow": null,
            "grid_auto_rows": null,
            "grid_column": null,
            "grid_gap": null,
            "grid_row": null,
            "grid_template_areas": null,
            "grid_template_columns": null,
            "grid_template_rows": null,
            "height": null,
            "justify_content": null,
            "justify_items": null,
            "left": null,
            "margin": null,
            "max_height": null,
            "max_width": null,
            "min_height": null,
            "min_width": null,
            "object_fit": null,
            "object_position": null,
            "order": null,
            "overflow": null,
            "overflow_x": null,
            "overflow_y": null,
            "padding": null,
            "right": null,
            "top": null,
            "visibility": null,
            "width": null
          }
        },
        "3c36c09c78004229892b2ba28d3fc465": {
          "model_module": "@jupyter-widgets/controls",
          "model_name": "DescriptionStyleModel",
          "model_module_version": "1.5.0",
          "state": {
            "_model_module": "@jupyter-widgets/controls",
            "_model_module_version": "1.5.0",
            "_model_name": "DescriptionStyleModel",
            "_view_count": null,
            "_view_module": "@jupyter-widgets/base",
            "_view_module_version": "1.2.0",
            "_view_name": "StyleView",
            "description_width": ""
          }
        },
        "9af0a81bd1594fc6a76b79303dd00f80": {
          "model_module": "@jupyter-widgets/controls",
          "model_name": "HBoxModel",
          "model_module_version": "1.5.0",
          "state": {
            "_dom_classes": [],
            "_model_module": "@jupyter-widgets/controls",
            "_model_module_version": "1.5.0",
            "_model_name": "HBoxModel",
            "_view_count": null,
            "_view_module": "@jupyter-widgets/controls",
            "_view_module_version": "1.5.0",
            "_view_name": "HBoxView",
            "box_style": "",
            "children": [
              "IPY_MODEL_47a7fae311784c99b2ad79bb10f330cb",
              "IPY_MODEL_4e480a8c8e4f4a50ad527a52f6c9bdbb",
              "IPY_MODEL_4f674a997b7d4b9f8afd4f2f72633d7e"
            ],
            "layout": "IPY_MODEL_fcd00afb34a04b81b1e3404f02e6f5fa"
          }
        },
        "47a7fae311784c99b2ad79bb10f330cb": {
          "model_module": "@jupyter-widgets/controls",
          "model_name": "HTMLModel",
          "model_module_version": "1.5.0",
          "state": {
            "_dom_classes": [],
            "_model_module": "@jupyter-widgets/controls",
            "_model_module_version": "1.5.0",
            "_model_name": "HTMLModel",
            "_view_count": null,
            "_view_module": "@jupyter-widgets/controls",
            "_view_module_version": "1.5.0",
            "_view_name": "HTMLView",
            "description": "",
            "description_tooltip": null,
            "layout": "IPY_MODEL_c1927a2665014f819adf1ce10abf6b66",
            "placeholder": "​",
            "style": "IPY_MODEL_5ca1b17d482e4f8b91320f51090d2103",
            "value": "Downloading (…)neration_config.json: 100%"
          }
        },
        "4e480a8c8e4f4a50ad527a52f6c9bdbb": {
          "model_module": "@jupyter-widgets/controls",
          "model_name": "FloatProgressModel",
          "model_module_version": "1.5.0",
          "state": {
            "_dom_classes": [],
            "_model_module": "@jupyter-widgets/controls",
            "_model_module_version": "1.5.0",
            "_model_name": "FloatProgressModel",
            "_view_count": null,
            "_view_module": "@jupyter-widgets/controls",
            "_view_module_version": "1.5.0",
            "_view_name": "ProgressView",
            "bar_style": "success",
            "description": "",
            "description_tooltip": null,
            "layout": "IPY_MODEL_cf109d6441db4efbbe2fdb0377aea461",
            "max": 188,
            "min": 0,
            "orientation": "horizontal",
            "style": "IPY_MODEL_69e08ae8f7e845539e2bef21f4f43618",
            "value": 188
          }
        },
        "4f674a997b7d4b9f8afd4f2f72633d7e": {
          "model_module": "@jupyter-widgets/controls",
          "model_name": "HTMLModel",
          "model_module_version": "1.5.0",
          "state": {
            "_dom_classes": [],
            "_model_module": "@jupyter-widgets/controls",
            "_model_module_version": "1.5.0",
            "_model_name": "HTMLModel",
            "_view_count": null,
            "_view_module": "@jupyter-widgets/controls",
            "_view_module_version": "1.5.0",
            "_view_name": "HTMLView",
            "description": "",
            "description_tooltip": null,
            "layout": "IPY_MODEL_8927ddea13b846129cbf32efd503b2e8",
            "placeholder": "​",
            "style": "IPY_MODEL_4bf09370b16141828c83adc7512fb505",
            "value": " 188/188 [00:00&lt;00:00, 9.45kB/s]"
          }
        },
        "fcd00afb34a04b81b1e3404f02e6f5fa": {
          "model_module": "@jupyter-widgets/base",
          "model_name": "LayoutModel",
          "model_module_version": "1.2.0",
          "state": {
            "_model_module": "@jupyter-widgets/base",
            "_model_module_version": "1.2.0",
            "_model_name": "LayoutModel",
            "_view_count": null,
            "_view_module": "@jupyter-widgets/base",
            "_view_module_version": "1.2.0",
            "_view_name": "LayoutView",
            "align_content": null,
            "align_items": null,
            "align_self": null,
            "border": null,
            "bottom": null,
            "display": null,
            "flex": null,
            "flex_flow": null,
            "grid_area": null,
            "grid_auto_columns": null,
            "grid_auto_flow": null,
            "grid_auto_rows": null,
            "grid_column": null,
            "grid_gap": null,
            "grid_row": null,
            "grid_template_areas": null,
            "grid_template_columns": null,
            "grid_template_rows": null,
            "height": null,
            "justify_content": null,
            "justify_items": null,
            "left": null,
            "margin": null,
            "max_height": null,
            "max_width": null,
            "min_height": null,
            "min_width": null,
            "object_fit": null,
            "object_position": null,
            "order": null,
            "overflow": null,
            "overflow_x": null,
            "overflow_y": null,
            "padding": null,
            "right": null,
            "top": null,
            "visibility": null,
            "width": null
          }
        },
        "c1927a2665014f819adf1ce10abf6b66": {
          "model_module": "@jupyter-widgets/base",
          "model_name": "LayoutModel",
          "model_module_version": "1.2.0",
          "state": {
            "_model_module": "@jupyter-widgets/base",
            "_model_module_version": "1.2.0",
            "_model_name": "LayoutModel",
            "_view_count": null,
            "_view_module": "@jupyter-widgets/base",
            "_view_module_version": "1.2.0",
            "_view_name": "LayoutView",
            "align_content": null,
            "align_items": null,
            "align_self": null,
            "border": null,
            "bottom": null,
            "display": null,
            "flex": null,
            "flex_flow": null,
            "grid_area": null,
            "grid_auto_columns": null,
            "grid_auto_flow": null,
            "grid_auto_rows": null,
            "grid_column": null,
            "grid_gap": null,
            "grid_row": null,
            "grid_template_areas": null,
            "grid_template_columns": null,
            "grid_template_rows": null,
            "height": null,
            "justify_content": null,
            "justify_items": null,
            "left": null,
            "margin": null,
            "max_height": null,
            "max_width": null,
            "min_height": null,
            "min_width": null,
            "object_fit": null,
            "object_position": null,
            "order": null,
            "overflow": null,
            "overflow_x": null,
            "overflow_y": null,
            "padding": null,
            "right": null,
            "top": null,
            "visibility": null,
            "width": null
          }
        },
        "5ca1b17d482e4f8b91320f51090d2103": {
          "model_module": "@jupyter-widgets/controls",
          "model_name": "DescriptionStyleModel",
          "model_module_version": "1.5.0",
          "state": {
            "_model_module": "@jupyter-widgets/controls",
            "_model_module_version": "1.5.0",
            "_model_name": "DescriptionStyleModel",
            "_view_count": null,
            "_view_module": "@jupyter-widgets/base",
            "_view_module_version": "1.2.0",
            "_view_name": "StyleView",
            "description_width": ""
          }
        },
        "cf109d6441db4efbbe2fdb0377aea461": {
          "model_module": "@jupyter-widgets/base",
          "model_name": "LayoutModel",
          "model_module_version": "1.2.0",
          "state": {
            "_model_module": "@jupyter-widgets/base",
            "_model_module_version": "1.2.0",
            "_model_name": "LayoutModel",
            "_view_count": null,
            "_view_module": "@jupyter-widgets/base",
            "_view_module_version": "1.2.0",
            "_view_name": "LayoutView",
            "align_content": null,
            "align_items": null,
            "align_self": null,
            "border": null,
            "bottom": null,
            "display": null,
            "flex": null,
            "flex_flow": null,
            "grid_area": null,
            "grid_auto_columns": null,
            "grid_auto_flow": null,
            "grid_auto_rows": null,
            "grid_column": null,
            "grid_gap": null,
            "grid_row": null,
            "grid_template_areas": null,
            "grid_template_columns": null,
            "grid_template_rows": null,
            "height": null,
            "justify_content": null,
            "justify_items": null,
            "left": null,
            "margin": null,
            "max_height": null,
            "max_width": null,
            "min_height": null,
            "min_width": null,
            "object_fit": null,
            "object_position": null,
            "order": null,
            "overflow": null,
            "overflow_x": null,
            "overflow_y": null,
            "padding": null,
            "right": null,
            "top": null,
            "visibility": null,
            "width": null
          }
        },
        "69e08ae8f7e845539e2bef21f4f43618": {
          "model_module": "@jupyter-widgets/controls",
          "model_name": "ProgressStyleModel",
          "model_module_version": "1.5.0",
          "state": {
            "_model_module": "@jupyter-widgets/controls",
            "_model_module_version": "1.5.0",
            "_model_name": "ProgressStyleModel",
            "_view_count": null,
            "_view_module": "@jupyter-widgets/base",
            "_view_module_version": "1.2.0",
            "_view_name": "StyleView",
            "bar_color": null,
            "description_width": ""
          }
        },
        "8927ddea13b846129cbf32efd503b2e8": {
          "model_module": "@jupyter-widgets/base",
          "model_name": "LayoutModel",
          "model_module_version": "1.2.0",
          "state": {
            "_model_module": "@jupyter-widgets/base",
            "_model_module_version": "1.2.0",
            "_model_name": "LayoutModel",
            "_view_count": null,
            "_view_module": "@jupyter-widgets/base",
            "_view_module_version": "1.2.0",
            "_view_name": "LayoutView",
            "align_content": null,
            "align_items": null,
            "align_self": null,
            "border": null,
            "bottom": null,
            "display": null,
            "flex": null,
            "flex_flow": null,
            "grid_area": null,
            "grid_auto_columns": null,
            "grid_auto_flow": null,
            "grid_auto_rows": null,
            "grid_column": null,
            "grid_gap": null,
            "grid_row": null,
            "grid_template_areas": null,
            "grid_template_columns": null,
            "grid_template_rows": null,
            "height": null,
            "justify_content": null,
            "justify_items": null,
            "left": null,
            "margin": null,
            "max_height": null,
            "max_width": null,
            "min_height": null,
            "min_width": null,
            "object_fit": null,
            "object_position": null,
            "order": null,
            "overflow": null,
            "overflow_x": null,
            "overflow_y": null,
            "padding": null,
            "right": null,
            "top": null,
            "visibility": null,
            "width": null
          }
        },
        "4bf09370b16141828c83adc7512fb505": {
          "model_module": "@jupyter-widgets/controls",
          "model_name": "DescriptionStyleModel",
          "model_module_version": "1.5.0",
          "state": {
            "_model_module": "@jupyter-widgets/controls",
            "_model_module_version": "1.5.0",
            "_model_name": "DescriptionStyleModel",
            "_view_count": null,
            "_view_module": "@jupyter-widgets/base",
            "_view_module_version": "1.2.0",
            "_view_name": "StyleView",
            "description_width": ""
          }
        }
      }
    }
  },
  "cells": [
    {
      "cell_type": "markdown",
      "source": [
        "#Comparison of LLama-2 / Falcon / MPT models - assess similarity of movies recommendations"
      ],
      "metadata": {
        "id": "BpnXbPp7xCCV"
      }
    },
    {
      "cell_type": "markdown",
      "source": [
        "We're going to compare a couple of most prominent open source LLMs on the task of assessing if two movie recommendation requests are similar or not. Llama-2 has been praised as achieving high level of general language understanding\n",
        "*MMLU* (the benchmark measures a text model’s multitask accuracy), but reports on a par with MPT and Falcon on tasks like:\n",
        "- *HellaSwag* (commonsense inference),\n",
        "- *BoolQA* (question-answering dataset for yes/no questions) or\n",
        "- *WinoGrande* (where the goal is to choose the right option for a given sentence that requires commonsense reasoning).\n",
        "Check latest comparison from [Meta's benchmark results for Llama-2 and other models here](https://ai.meta.com/resources/models-and-libraries/llama/).\n",
        "\n",
        "We're going to compare capabilities of the 3 small (7B) models and also try out Llama-2-13B to see if it improves on the results. The models are going to be compared in *zero-shot* manner."
      ],
      "metadata": {
        "id": "KiN2va2u882e"
      }
    },
    {
      "cell_type": "code",
      "execution_count": 1,
      "metadata": {
        "colab": {
          "base_uri": "https://localhost:8080/"
        },
        "id": "-gOoUc14wjOg",
        "outputId": "c29e26ec-844f-47bc-e770-82f3c224ec50"
      },
      "outputs": [
        {
          "output_type": "stream",
          "name": "stdout",
          "text": [
            "\u001b[2K     \u001b[90m━━━━━━━━━━━━━━━━━━━━━━━━━━━━━━━━━━━━━━━━\u001b[0m \u001b[32m7.6/7.6 MB\u001b[0m \u001b[31m48.6 MB/s\u001b[0m eta \u001b[36m0:00:00\u001b[0m\n",
            "\u001b[2K     \u001b[90m━━━━━━━━━━━━━━━━━━━━━━━━━━━━━━━━━━━━━━\u001b[0m \u001b[32m251.2/251.2 kB\u001b[0m \u001b[31m24.8 MB/s\u001b[0m eta \u001b[36m0:00:00\u001b[0m\n",
            "\u001b[2K     \u001b[90m━━━━━━━━━━━━━━━━━━━━━━━━━━━━━━━━━━━━━━━━\u001b[0m \u001b[32m42.2/42.2 kB\u001b[0m \u001b[31m4.2 MB/s\u001b[0m eta \u001b[36m0:00:00\u001b[0m\n",
            "\u001b[2K     \u001b[90m━━━━━━━━━━━━━━━━━━━━━━━━━━━━━━━━━━━━━━━\u001b[0m \u001b[32m167.0/167.0 MB\u001b[0m \u001b[31m6.6 MB/s\u001b[0m eta \u001b[36m0:00:00\u001b[0m\n",
            "\u001b[2K     \u001b[90m━━━━━━━━━━━━━━━━━━━━━━━━━━━━━━━━━━━━━━━━\u001b[0m \u001b[32m92.6/92.6 MB\u001b[0m \u001b[31m8.5 MB/s\u001b[0m eta \u001b[36m0:00:00\u001b[0m\n",
            "\u001b[2K     \u001b[90m━━━━━━━━━━━━━━━━━━━━━━━━━━━━━━━━━━━━━━\u001b[0m \u001b[32m519.6/519.6 kB\u001b[0m \u001b[31m30.8 MB/s\u001b[0m eta \u001b[36m0:00:00\u001b[0m\n",
            "\u001b[2K     \u001b[90m━━━━━━━━━━━━━━━━━━━━━━━━━━━━━━━━━━━━━━\u001b[0m \u001b[32m268.8/268.8 kB\u001b[0m \u001b[31m13.6 MB/s\u001b[0m eta \u001b[36m0:00:00\u001b[0m\n",
            "\u001b[2K     \u001b[90m━━━━━━━━━━━━━━━━━━━━━━━━━━━━━━━━━━━━━━━━\u001b[0m \u001b[32m7.8/7.8 MB\u001b[0m \u001b[31m63.8 MB/s\u001b[0m eta \u001b[36m0:00:00\u001b[0m\n",
            "\u001b[2K     \u001b[90m━━━━━━━━━━━━━━━━━━━━━━━━━━━━━━━━━━━━━━━━\u001b[0m \u001b[32m1.3/1.3 MB\u001b[0m \u001b[31m37.2 MB/s\u001b[0m eta \u001b[36m0:00:00\u001b[0m\n",
            "\u001b[2K     \u001b[90m━━━━━━━━━━━━━━━━━━━━━━━━━━━━━━━━━━━━━━\u001b[0m \u001b[32m115.3/115.3 kB\u001b[0m \u001b[31m10.5 MB/s\u001b[0m eta \u001b[36m0:00:00\u001b[0m\n",
            "\u001b[2K     \u001b[90m━━━━━━━━━━━━━━━━━━━━━━━━━━━━━━━━━━━━━━\u001b[0m \u001b[32m194.1/194.1 kB\u001b[0m \u001b[31m13.9 MB/s\u001b[0m eta \u001b[36m0:00:00\u001b[0m\n",
            "\u001b[2K     \u001b[90m━━━━━━━━━━━━━━━━━━━━━━━━━━━━━━━━━━━━━━\u001b[0m \u001b[32m134.8/134.8 kB\u001b[0m \u001b[31m11.1 MB/s\u001b[0m eta \u001b[36m0:00:00\u001b[0m\n",
            "\u001b[?25h"
          ]
        }
      ],
      "source": [
        "!pip install -qU transformers accelerate einops xformers bitsandbytes datasets"
      ]
    },
    {
      "cell_type": "markdown",
      "source": [
        "### Get data"
      ],
      "metadata": {
        "id": "T8asZNahziaY"
      }
    },
    {
      "cell_type": "code",
      "source": [
        "import pickle\n",
        "\n",
        "with open('/content/drive/MyDrive/ML/data/movies/reddit/bert_final_dataset.pkl', 'rb') as f:\n",
        "    data = pickle.load(f)\n",
        "    training_pairs = data['training_pairs']\n",
        "    val_set = data['val_set']\n",
        "len(val_set)"
      ],
      "metadata": {
        "colab": {
          "base_uri": "https://localhost:8080/"
        },
        "id": "gsy4E2ZfznED",
        "outputId": "da935c55-30a4-435e-8424-dce9368be793"
      },
      "execution_count": 2,
      "outputs": [
        {
          "output_type": "execute_result",
          "data": {
            "text/plain": [
              "1816"
            ]
          },
          "metadata": {},
          "execution_count": 2
        }
      ]
    },
    {
      "cell_type": "markdown",
      "source": [
        "Let's see an example of positive matching between two movie requests recommendations, as well as a negative example.\n",
        "\n",
        "POSITIVE:"
      ],
      "metadata": {
        "id": "f6OYa5sg2g51"
      }
    },
    {
      "cell_type": "code",
      "source": [
        "training_pairs[101]['query'], training_pairs[101]['submission']"
      ],
      "metadata": {
        "colab": {
          "base_uri": "https://localhost:8080/"
        },
        "id": "wcUMZU0V1edi",
        "outputId": "32e6db01-98e9-44ea-e9e5-3aba03a823b7"
      },
      "execution_count": 6,
      "outputs": [
        {
          "output_type": "execute_result",
          "data": {
            "text/plain": [
              "('Any movie that has elements of gambling in it or based on it. Just watched the hangover (ikr) and the scene were there was a montage of alan was gambling made me wonder if there are any films that is based on that or has elements of it like casino royale. Any suggestions?',\n",
              " \"Fun movies taking place in a casino?I recently watched the 2006 Casino Royale, and really loved the middle ~45 minutes in which it is a glitzy thriller of simply trying to win a card game surrounded by decadence. It's an itch I want to scratch, but pretty much every movie about gambling tries to push the (albeit correct) message that gambling is a social blight, harmful, addictive, exploitative, etc.\\nAre there any movies that just *have fun* with the gaudy excess of it all? Maybe movies that simply use the casino as a setting rather than a theme?\\nThanks!\")"
            ]
          },
          "metadata": {},
          "execution_count": 6
        }
      ]
    },
    {
      "cell_type": "markdown",
      "source": [
        "NEGATIVE:"
      ],
      "metadata": {
        "id": "SuXHHDRR23yk"
      }
    },
    {
      "cell_type": "code",
      "source": [
        "training_pairs[102]['query'], training_pairs[102]['submission']"
      ],
      "metadata": {
        "colab": {
          "base_uri": "https://localhost:8080/"
        },
        "id": "_eyiB45j25cZ",
        "outputId": "7e7643b0-9e48-4991-e070-9c68399b3ecd"
      },
      "execution_count": 7,
      "outputs": [
        {
          "output_type": "execute_result",
          "data": {
            "text/plain": [
              "('Any movie that has elements of gambling in it or based on it. Just watched the hangover (ikr) and the scene were there was a montage of alan was gambling made me wonder if there are any films that is based on that or has elements of it like casino royale. Any suggestions?',\n",
              " 'Looking for a serious movie about gambling addiction. Hi all - without naming names, too many movies about gambling involve the main character putting in one last bet and winning it all and having a happy ending. Does anyone have any recommendations for movies that look at gambling addiction in a much more realistic, darker view?')"
            ]
          },
          "metadata": {},
          "execution_count": 7
        }
      ]
    },
    {
      "cell_type": "code",
      "source": [
        "import datasets\n",
        "import pandas as pd\n",
        "\n",
        "def get_query(sample):\n",
        "    return f\"\"\"There are two movie recommendation requests from two users:\n",
        "Request from User 1: \"{sample['query']}\"\n",
        "Request from User 2: \"{sample['submission']}\"\n",
        "Answer the following yes/no question.\n",
        "Question: Can these two users be recommended similar titles?\n",
        "Answer:\"\"\"\n",
        "\n",
        "SAMPLE_SIZE = 88\n",
        "\n",
        "def get_datapoint(sample):\n",
        "    q = get_query(sample)\n",
        "    return {'text': q}\n",
        "\n",
        "val_set_queries = list(map(get_datapoint, val_set[:SAMPLE_SIZE]))\n",
        "\n",
        "val_ds = datasets.Dataset.from_pandas(pd.DataFrame(data = val_set_queries))\n",
        "print(val_set_queries[0]['text']), val_ds"
      ],
      "metadata": {
        "colab": {
          "base_uri": "https://localhost:8080/"
        },
        "id": "8JMU5K7r23Cd",
        "outputId": "4b017e09-2b1a-47ad-b438-572044923248"
      },
      "execution_count": null,
      "outputs": [
        {
          "output_type": "stream",
          "name": "stdout",
          "text": [
            "There are two movie recommendation requests from two users:\n",
            "Request from User 1: \"Movies exactly like Fantastic Mr Ripley and Match Point?Looking for movies where the main character is an impostor/liar/con man who cheats, lies, manipulates his way into a wealthy family. Exactly like that.\n",
            " \n",
            "(Please do not suggest Parasite cause it's not the same movie. Once in every 24 hours, somebody recommends Parasite in this sub even if it's an unrelated movie)\"\n",
            "Request from User 2: \"Movies where the protagonist is a con artist. Suggest me some movies where the protagonist is a con artist. Movies like Catch me if you can, Matchstick Men, The Wolf of Wall Street, The Imposter, etc. Thanks a lot!!\"\n",
            "Answer the following yes/no question.\n",
            "Question: Can these two users be recommended similar titles?\n",
            "Answer:\n"
          ]
        },
        {
          "output_type": "execute_result",
          "data": {
            "text/plain": [
              "(None,\n",
              " Dataset({\n",
              "     features: ['text'],\n",
              "     num_rows: 88\n",
              " }))"
            ]
          },
          "metadata": {},
          "execution_count": 3
        }
      ]
    },
    {
      "cell_type": "markdown",
      "source": [
        "Prepare also some few-shot prompts for comparison:"
      ],
      "metadata": {
        "id": "kuJaZslr1v_z"
      }
    },
    {
      "cell_type": "code",
      "source": [
        "def get_incontext_query(sample):\n",
        "    return f'''Example1: There are two movie recommendation requests from two users:\n",
        "Request 1: \"Lighthearted movies, about love or friendship, I don't want it to contain any violence.\"\n",
        "Request 2: \"Please recommend me some good action-packed or war movies. No romances pls!\"\n",
        "Answer the following yes/no question in a precise and short style.\n",
        "Question: Can these two users be recommended similar titles?\n",
        "Answer: No\n",
        "\n",
        "Example 2: There are two movie recommendation requests from two users:\n",
        "Request 1: \"Lighthearted movies, about love or friendship, I don't want it to contain any violence.\"\n",
        "Request 2: \"Please recommend me some funny romcom or a feel good movie to watch with my gf!\"\n",
        "Answer the following yes/no question in a precise and short style.\n",
        "Question: Can these two users be recommended similar titles?\n",
        "Answer: Yes\n",
        "\n",
        "Example 3: There are two movie recommendation requests from two users:\n",
        "Request from User 1: \"{sample['query']}\"\n",
        "Request from User 2: \"{sample['submission']}\"\n",
        "Answer the following yes/no question.\n",
        "Question: Can these two users be recommended similar titles?\n",
        "Answer: '''\n"
      ],
      "metadata": {
        "colab": {
          "base_uri": "https://localhost:8080/"
        },
        "id": "ic8ooeTD04Ei",
        "outputId": "70d87897-74ac-4b13-adb1-c1e26534b9d9"
      },
      "execution_count": null,
      "outputs": [
        {
          "output_type": "stream",
          "name": "stdout",
          "text": [
            "Example1: There are two movie recommendation requests from two users:\n",
            "Request 1: \"Lighthearted movies, about love or friendship, I don't want it to contain any violence.\"\n",
            "Request 2: \"Please recommend me some good action-packed or war movies. No romances pls!\"\n",
            "Answer the following yes/no question in a precise and short style.\n",
            "Question: Can these two users be recommended similar titles?\n",
            "Answer: No\n",
            "\n",
            "Example 2: There are two movie recommendation requests from two users:\n",
            "Request 1: \"Lighthearted movies, about love or friendship, I don't want it to contain any violence.\"\n",
            "Request 2: \"Please recommend me some funny romcom or a feel good movie to watch with my gf!\"\n",
            "Answer the following yes/no question in a precise and short style.\n",
            "Question: Can these two users be recommended similar titles?\n",
            "Answer: Yes\n",
            "\n",
            "Example 3: There are two movie recommendation requests from two users:\n",
            "Request from User 1: \"Movies exactly like Fantastic Mr Ripley and Match Point?Looking for movies where the main character is an impostor/liar/con man who cheats, lies, manipulates his way into a wealthy family. Exactly like that.\n",
            " \n",
            "(Please do not suggest Parasite cause it's not the same movie. Once in every 24 hours, somebody recommends Parasite in this sub even if it's an unrelated movie)\"\n",
            "Request from User 2: \"Movies where the protagonist is a con artist. Suggest me some movies where the protagonist is a con artist. Movies like Catch me if you can, Matchstick Men, The Wolf of Wall Street, The Imposter, etc. Thanks a lot!!\"\n",
            "Answer the following yes/no question.\n",
            "Question: Can these two users be recommended similar titles?\n",
            "Answer: \n"
          ]
        },
        {
          "output_type": "execute_result",
          "data": {
            "text/plain": [
              "(None,\n",
              " Dataset({\n",
              "     features: ['text'],\n",
              "     num_rows: 88\n",
              " }))"
            ]
          },
          "metadata": {},
          "execution_count": 27
        }
      ]
    },
    {
      "cell_type": "code",
      "source": [
        "def get_incontext_query2(sample):\n",
        "    return f'''EXAMPLE 1: There are two movie recommendation REQUESTS from two users:\n",
        "\n",
        "REQUEST 1: \"Any movie that has elements of gambling in it or based on it.\n",
        "Just watched the hangover (ikr) and the scene were there was a montage of alan was gambling made me wonder if there are any films that is based on that or has elements of it like casino royale. Any suggestions?\"\n",
        "\n",
        "REQUEST 2: \"Looking for a serious movie about gambling addiction.\n",
        "Too many movies about gambling involve the main character putting in one last bet and winning it all and having a happy ending.\n",
        "Does anyone have any recommendations for movies that look at gambling addiction in a much more realistic, darker view?\"\n",
        "\n",
        "Answer the following yes/no question.\n",
        "Question: Can these two users be recommended similar titles?\n",
        "\n",
        "ANSWER: No\n",
        "\n",
        "\n",
        "EXAMPLE 2: There are two movie recommendation REQUESTS from two users:\n",
        "\n",
        "REQUEST 1: \"Any movie that has elements of gambling in it or based on it.\n",
        "Just watched the hangover (ikr) and the scene were there was a montage of alan was gambling made me wonder if there are any films that is based on that or has elements of it like casino royale. Any suggestions?\"\n",
        "\n",
        "REQUEST 2: \"Fun movies taking place in a casino?\n",
        "I recently watched the 2006 Casino Royale, and really loved the middle ~45 minutes in which it is a glitzy thriller of simply trying to win a card game surrounded by decadence.\n",
        "Pretty much every movie about gambling tries to push the (albeit correct) message that gambling is a social blight, harmful, addictive, exploitative, etc.\n",
        "Are there any movies that just *have fun* with the gaudy excess of it all? Maybe movies that simply use the casino as a setting rather than a theme?\"\n",
        "\n",
        "Answer the following yes/no question.\n",
        "Question: Can these two users be recommended similar titles?\n",
        "\n",
        "ANSWER: Yes\n",
        "\n",
        "\n",
        "EXAMPLE 3: There are two movie recommendation REQUESTS from two users:\n",
        "\n",
        "REQUEST 1: \"{sample['query']}\"\n",
        "\n",
        "REQUEST 2: \"{sample['submission']}\"\n",
        "\n",
        "Answer the following yes/no question.\n",
        "Question: Can these two users be recommended similar titles?\n",
        "\n",
        "ANSWER: '''\n"
      ],
      "metadata": {
        "colab": {
          "base_uri": "https://localhost:8080/"
        },
        "id": "kIjS2L1b7_m4",
        "outputId": "83a380fe-ab73-4eff-b337-4db932f79b8a"
      },
      "execution_count": 10,
      "outputs": [
        {
          "output_type": "stream",
          "name": "stdout",
          "text": [
            "EXAMPLE 1: There are two movie recommendation REQUESTS from two users:\n",
            "\n",
            "REQUEST 1: \"Any movie that has elements of gambling in it or based on it.\n",
            "Just watched the hangover (ikr) and the scene were there was a montage of alan was gambling made me wonder if there are any films that is based on that or has elements of it like casino royale. Any suggestions?\"\n",
            "\n",
            "REQUEST 2: \"Looking for a serious movie about gambling addiction.\n",
            "Too many movies about gambling involve the main character putting in one last bet and winning it all and having a happy ending.\n",
            "Does anyone have any recommendations for movies that look at gambling addiction in a much more realistic, darker view?\"\n",
            "\n",
            "Answer the following yes/no question.\n",
            "Question: Can these two users be recommended similar titles?\n",
            "\n",
            "ANSWER: No\n",
            "\n",
            "\n",
            "EXAMPLE 2: There are two movie recommendation REQUESTS from two users:\n",
            "\n",
            "REQUEST 1: \"Any movie that has elements of gambling in it or based on it.\n",
            "Just watched the hangover (ikr) and the scene were there was a montage of alan was gambling made me wonder if there are any films that is based on that or has elements of it like casino royale. Any suggestions?\"\n",
            "\n",
            "REQUEST 2: \"Fun movies taking place in a casino?\n",
            "I recently watched the 2006 Casino Royale, and really loved the middle ~45 minutes in which it is a glitzy thriller of simply trying to win a card game surrounded by decadence. \n",
            "Pretty much every movie about gambling tries to push the (albeit correct) message that gambling is a social blight, harmful, addictive, exploitative, etc.\n",
            "Are there any movies that just *have fun* with the gaudy excess of it all? Maybe movies that simply use the casino as a setting rather than a theme?\"\n",
            "\n",
            "Answer the following yes/no question.\n",
            "Question: Can these two users be recommended similar titles?\n",
            "\n",
            "ANSWER: Yes\n",
            "\n",
            "\n",
            "EXAMPLE 3: There are two movie recommendation REQUESTS from two users:\n",
            "\n",
            "REQUEST 1: \"Movies exactly like Fantastic Mr Ripley and Match Point?Looking for movies where the main character is an impostor/liar/con man who cheats, lies, manipulates his way into a wealthy family. Exactly like that.\n",
            " \n",
            "(Please do not suggest Parasite cause it's not the same movie. Once in every 24 hours, somebody recommends Parasite in this sub even if it's an unrelated movie)\"\n",
            "\n",
            "REQUEST 2: \"Movies where the protagonist is a con artist. Suggest me some movies where the protagonist is a con artist. Movies like Catch me if you can, Matchstick Men, The Wolf of Wall Street, The Imposter, etc. Thanks a lot!!\"\n",
            "\n",
            "Answer the following yes/no question.\n",
            "Question: Can these two users be recommended similar titles?\n",
            "\n",
            "ANSWER: \n"
          ]
        },
        {
          "output_type": "execute_result",
          "data": {
            "text/plain": [
              "(None,\n",
              " Dataset({\n",
              "     features: ['text'],\n",
              "     num_rows: 88\n",
              " }))"
            ]
          },
          "metadata": {},
          "execution_count": 10
        }
      ]
    },
    {
      "cell_type": "code",
      "source": [
        "def get_incontext_query3(sample):\n",
        "    return f'''EXAMPLE 1: There are two movie recommendation REQUESTS from two users:\n",
        "\n",
        "REQUEST 1: \"Post 2010 good movies to watch alone.\n",
        "Many cinephiles tend to recommend older movies like Fight Club, American Psycho, 12 Angry Men etc. I like new movies like Good Time, The Lighthouse, 1917, Spree etc.\n",
        "Recommend me some movies that I could watch while enjoying my day off. Basically something to make my day exciting.\"\n",
        "\n",
        "REQUEST 2: \"Stuck at home,suggest me a movie.So I am in isolation for a next few days.I am not looking any specific genres.\n",
        "I prefer newer movies,comedy,mystery,thriller,horror.Some stuff I watched in recent time and liked:Brick,In Bruges, The lighthouse, Donnie Darko,Captian phillips,Oldboy.\n",
        "I watched most of the most popular stuff.\"\n",
        "\n",
        "Answer the following yes/no question.\n",
        "Question: Can these two users be recommended similar titles?\n",
        "\n",
        "ANSWER: Yes\n",
        "\n",
        "\n",
        "EXAMPLE 2:  There are two movie recommendation REQUESTS from two users:\n",
        "\n",
        "REQUEST 1: \"Post 2010 good movies to watch alone.\n",
        "Many cinephiles tend to recommend older movies like Fight Club, American Psycho, 12 Angry Men etc. I like new movies like Good Time, The Lighthouse, 1917, Spree etc.\n",
        "Recommend me some movies that I could watch while enjoying my day off. Basically something to make my day exciting.\"\n",
        "\n",
        "REQUEST 2: \"Lazy Saturday Afternoon Movie suggestions- Ideally where the protagonists get their shit together by the end(examples added).\n",
        "Examples of the top of my head-that I have seen and liked are: Brittany Runs a Marathon or maybe Yes Man (with Jim Carrey).\n",
        "Any other movie suggestions for a lazy Saturday regardless of the genre are also most welcome.\"\n",
        "\n",
        "Answer the following yes/no question.\n",
        "Question: Can these two users be recommended similar titles?\n",
        "\n",
        "ANSWER:  No\n",
        "\n",
        "\n",
        "EXAMPLE 3: There are two movie recommendation REQUESTS from two users:\n",
        "\n",
        "REQUEST 1: \"{sample['query']}\"\n",
        "\n",
        "REQUEST 2: \"{sample['submission']}\"\n",
        "\n",
        "Answer the following yes/no question.\n",
        "Question: Can these two users be recommended similar titles?\n",
        "\n",
        "ANSWER: '''\n"
      ],
      "metadata": {
        "colab": {
          "base_uri": "https://localhost:8080/"
        },
        "id": "Yc63Kb5kBg_i",
        "outputId": "0a18b329-078a-42a2-dd14-9eab73529d8e"
      },
      "execution_count": 36,
      "outputs": [
        {
          "output_type": "stream",
          "name": "stdout",
          "text": [
            "EXAMPLE 1: There are two movie recommendation REQUESTS from two users:\n",
            "\n",
            "REQUEST 1: \"Post 2010 good movies to watch alone.\n",
            "Many cinephiles tend to recommend older movies like Fight Club, American Psycho, 12 Angry Men etc. I like new movies like Good Time, The Lighthouse, 1917, Spree etc.\n",
            "Recommend me some movies that I could watch while enjoying my day off. Basically something to make my day exciting.\"\n",
            "\n",
            "REQUEST 2: \"Stuck at home,suggest me a movie.So I am in isolation for a next few days.I am not looking any specific genres.\n",
            "I prefer newer movies,comedy,mystery,thriller,horror.Some stuff I watched in recent time and liked:Brick,In Bruges, The lighthouse, Donnie Darko,Captian phillips,Oldboy.\n",
            "I watched most of the most popular stuff.\"\n",
            "\n",
            "Answer the following yes/no question.\n",
            "Question: Can these two users be recommended similar titles?\n",
            "\n",
            "ANSWER: Yes\n",
            "\n",
            "\n",
            "EXAMPLE 2:  There are two movie recommendation REQUESTS from two users:\n",
            "\n",
            "REQUEST 1: \"Post 2010 good movies to watch alone.\n",
            "Many cinephiles tend to recommend older movies like Fight Club, American Psycho, 12 Angry Men etc. I like new movies like Good Time, The Lighthouse, 1917, Spree etc.\n",
            "Recommend me some movies that I could watch while enjoying my day off. Basically something to make my day exciting.\"\n",
            "\n",
            "REQUEST 2: \"Lazy Saturday Afternoon Movie suggestions- Ideally where the protagonists get their shit together by the end(examples added).\n",
            "Examples of the top of my head-that I have seen and liked are: Brittany Runs a Marathon or maybe Yes Man (with Jim Carrey).\n",
            "Any other movie suggestions for a lazy Saturday regardless of the genre are also most welcome.\"\n",
            "\n",
            "Answer the following yes/no question.\n",
            "Question: Can these two users be recommended similar titles?\n",
            "\n",
            "ANSWER:  No\n",
            "\n",
            "\n",
            "EXAMPLE 3: There are two movie recommendation REQUESTS from two users:\n",
            "\n",
            "REQUEST 1: \"Movies exactly like Fantastic Mr Ripley and Match Point?Looking for movies where the main character is an impostor/liar/con man who cheats, lies, manipulates his way into a wealthy family. Exactly like that.\n",
            " \n",
            "(Please do not suggest Parasite cause it's not the same movie. Once in every 24 hours, somebody recommends Parasite in this sub even if it's an unrelated movie)\"\n",
            "\n",
            "REQUEST 2: \"Movies where the protagonist is a con artist. Suggest me some movies where the protagonist is a con artist. Movies like Catch me if you can, Matchstick Men, The Wolf of Wall Street, The Imposter, etc. Thanks a lot!!\"\n",
            "\n",
            "Answer the following yes/no question.\n",
            "Question: Can these two users be recommended similar titles?\n",
            "\n",
            "ANSWER: \n"
          ]
        },
        {
          "output_type": "execute_result",
          "data": {
            "text/plain": [
              "(None,\n",
              " Dataset({\n",
              "     features: ['text'],\n",
              "     num_rows: 88\n",
              " }))"
            ]
          },
          "metadata": {},
          "execution_count": 36
        }
      ]
    },
    {
      "cell_type": "code",
      "source": [
        "import datasets\n",
        "import pandas as pd\n",
        "\n",
        "SAMPLE_SIZE = 88\n",
        "\n",
        "def get_datapoint(sample):\n",
        "    q = get_incontext_query(sample)\n",
        "    return {'text': q}\n",
        "\n",
        "val_set_queries = list(map(get_datapoint, val_set[:SAMPLE_SIZE]))\n",
        "\n",
        "val_ds = datasets.Dataset.from_pandas(pd.DataFrame(data = val_set_queries))\n",
        "print(val_set_queries[0]['text']), val_ds"
      ],
      "metadata": {
        "id": "8G32rTFdOLXL"
      },
      "execution_count": null,
      "outputs": []
    },
    {
      "cell_type": "markdown",
      "source": [
        "##2. Llama2-7B-instruct"
      ],
      "metadata": {
        "id": "bDSu9IJtyH92"
      }
    },
    {
      "cell_type": "code",
      "source": [
        "%%time\n",
        "import torch\n",
        "from torch import cuda, bfloat16\n",
        "import transformers\n",
        "\n",
        "model_name = \"meta-llama/Llama-2-7b-chat-hf\" #chat-hf (hugging face wrapper version)\n",
        "\n",
        "device = f'cuda:{cuda.current_device()}' if cuda.is_available() else 'cpu'\n",
        "\n",
        "\n",
        "hf_auth =  # '<LLAMA_HF_AUTH_TOKEN>'\n",
        "model_config = transformers.AutoConfig.from_pretrained(\n",
        "    model_name,\n",
        "    use_auth_token=hf_auth\n",
        ")\n",
        "\n",
        "model = transformers.AutoModelForCausalLM.from_pretrained(\n",
        "    model_name,\n",
        "    trust_remote_code=True,\n",
        "    config=model_config,\n",
        "    torch_dtype=torch.bfloat16,\n",
        "    device_map='auto',\n",
        "    use_auth_token=hf_auth\n",
        ")\n",
        "model.eval()\n",
        "print(f\"Model loaded on {device}\")"
      ],
      "metadata": {
        "colab": {
          "base_uri": "https://localhost:8080/",
          "height": 417,
          "referenced_widgets": [
            "a626a866ce2c43d8b084ba3b98c22958",
            "8429ff6da4b448b3b2a33218876e18d6",
            "229728bf37e8431ab239e6c2d1355e9f",
            "9fe3b767833945e18dbf7d5f034513f1",
            "9844dd9df0024e34af7ad2d4a5a94cba",
            "6c4f059a347e459a9291b5eafe470a65",
            "337432144b7846b7840ab66e5dd7e2e5",
            "b7572306582b43fa83c8b40aaf92ac1f",
            "aacbdcbaba4c42a9b703ec6309eafd3c",
            "1011bc7ed5a849b19739247e3d2e5498",
            "64f19e9b0b7b438c94a791b250e13421",
            "7a4ee3fd98c2459cb76aa0dec14a201d",
            "a6e626edf2ad4887a273d671ba1468e4",
            "aef1a0aff829449083dfedfb70be6193",
            "6ff97292464345d1b482af4d55f21a30",
            "1e8b4b43daeb48f7a7e4c218791eaca8",
            "626e9fd338e640709753a15cbffd13a8",
            "b22d366d03514532918f0318c1e6df90",
            "d639c34553084571a02c141572a5038c",
            "76a663b6a18549e3b0c1909f22e7600c",
            "aaeb6e569b834b5596c6b5c18cacecf4",
            "8353fdecda084372a8635a040d4a51d3",
            "a0859630870049f091a9cd53ae0ce2b5",
            "4a9e0ee0f3e542f683ec5e3f1137da85",
            "24f2f984a6894747953f2fa35ed7beb0",
            "407858c33e424cd2a568b87fe2372058",
            "3bc2f4848ea340bab759c3af626bfd24",
            "cad54167c9fb413188c91cca0d1300f7",
            "7aa15ed2182542f4922063892394e30e",
            "783a1b0f584f4d74b1d4bf8d01295254",
            "b81626e0be0e4a8492919ee78a0f482c",
            "0bd4c7f03c344b65ac58d6ec8c0f3afa",
            "1c61c77ca39d45f89b9594a2bdd9ad42",
            "47fcad4993784ffdae15f1715b906b92",
            "8dd040b387264ab6b7149478640adcbb",
            "aff0502060ed4fe0b66d8d07f96e38e4",
            "d4bc058df3c04a1d944e0ceeacff3f12",
            "05cb5041c51845769126e752738bd885",
            "bd74a59efbdb4dffb04cbbed930508ea",
            "11929efd04714950a1dbd0be459793af",
            "0940f31dad7d4a8a9ee2e656b8784075",
            "d887b21dcd934cc6b48df2378cc600f2",
            "e86ad68c14264f54a9d8e6dff21b85dc",
            "ae5db7fab2ff43b0b016965af42add89",
            "59e6b84f2d8e4a19a06772aa7afa6862",
            "042c4d95b3114b7db406b8e6c9cf7b34",
            "89e226884ee2446990c8bb6c4685b060",
            "0800c55197d34a3987ab62fe4144b276",
            "a3ca99efe846468ab198e60a1a6cc31d",
            "10075c09a96140ae97e8ba66462e0a44",
            "092f74cb99cb40f88318745d22e8caff",
            "863c437230814773bf7460acc9c26a07",
            "56faad56c8334d729781fe144286f36e",
            "3d2db65ca7a44980beeffae6507f4e6e",
            "57b30cdbf0d84d2c9eb4e54b55492e1f",
            "ed6d97f93d074ea3a852b057aca421aa",
            "5983c734a3de4001828ccea7225b6d1e",
            "5a778b9d64a344f0974821c4c1106cf8",
            "b7e0133483074cfb83cce625dd7fb21f",
            "305d34763d83447ebba0221e5c7008b1",
            "c7fb44bec2bc4892a244b117198843d0",
            "4611a5bacc274d18beda5ee3ec7d939c",
            "e6400526647149668ef76e872f253c02",
            "9099e2e4c1f44146a54a22a31c72fc34",
            "6382fc7fb3aa492cb248035515a806cc",
            "239a543904b1446a88c4b7737e5a6ebd",
            "b3f60ba016bb45fa8f2ccad02355f694",
            "d0ac6c8888614317841db927fa303a4f",
            "951a4c95a0f447999bcb5901fe082c25",
            "0d7b6f376175437293138604c0739d87",
            "ea4c59bbd1734d58bcd394f778ecc189",
            "e3bcc4ae8bfd45f9ab51a30359cf6ec1",
            "8e05dc2b8b25462fa79124fc2048a5c8",
            "f5a16e29b9f04c16bca3fcae0b3e57da",
            "9960b0f5422e45798c29bad8ff3b9fe9",
            "00e4f9e39bb24dcb8e566bd07e2b217b",
            "7b7cf113b9c0465d9ff686102dfb633a"
          ]
        },
        "id": "YZoIuskF8fzf",
        "outputId": "e8af99a1-56df-4d5a-9d60-892d75727421"
      },
      "execution_count": null,
      "outputs": [
        {
          "output_type": "stream",
          "name": "stderr",
          "text": [
            "/usr/local/lib/python3.10/dist-packages/transformers/models/auto/configuration_auto.py:1006: FutureWarning: The `use_auth_token` argument is deprecated and will be removed in v5 of Transformers.\n",
            "  warnings.warn(\n"
          ]
        },
        {
          "output_type": "display_data",
          "data": {
            "text/plain": [
              "Downloading (…)lve/main/config.json:   0%|          | 0.00/614 [00:00<?, ?B/s]"
            ],
            "application/vnd.jupyter.widget-view+json": {
              "version_major": 2,
              "version_minor": 0,
              "model_id": "a626a866ce2c43d8b084ba3b98c22958"
            }
          },
          "metadata": {}
        },
        {
          "output_type": "stream",
          "name": "stderr",
          "text": [
            "/usr/local/lib/python3.10/dist-packages/transformers/models/auto/auto_factory.py:479: FutureWarning: The `use_auth_token` argument is deprecated and will be removed in v5 of Transformers.\n",
            "  warnings.warn(\n"
          ]
        },
        {
          "output_type": "display_data",
          "data": {
            "text/plain": [
              "Downloading (…)fetensors.index.json:   0%|          | 0.00/26.8k [00:00<?, ?B/s]"
            ],
            "application/vnd.jupyter.widget-view+json": {
              "version_major": 2,
              "version_minor": 0,
              "model_id": "7a4ee3fd98c2459cb76aa0dec14a201d"
            }
          },
          "metadata": {}
        },
        {
          "output_type": "display_data",
          "data": {
            "text/plain": [
              "Downloading shards:   0%|          | 0/2 [00:00<?, ?it/s]"
            ],
            "application/vnd.jupyter.widget-view+json": {
              "version_major": 2,
              "version_minor": 0,
              "model_id": "a0859630870049f091a9cd53ae0ce2b5"
            }
          },
          "metadata": {}
        },
        {
          "output_type": "display_data",
          "data": {
            "text/plain": [
              "Downloading (…)of-00002.safetensors:   0%|          | 0.00/9.98G [00:00<?, ?B/s]"
            ],
            "application/vnd.jupyter.widget-view+json": {
              "version_major": 2,
              "version_minor": 0,
              "model_id": "47fcad4993784ffdae15f1715b906b92"
            }
          },
          "metadata": {}
        },
        {
          "output_type": "display_data",
          "data": {
            "text/plain": [
              "Downloading (…)of-00002.safetensors:   0%|          | 0.00/3.50G [00:00<?, ?B/s]"
            ],
            "application/vnd.jupyter.widget-view+json": {
              "version_major": 2,
              "version_minor": 0,
              "model_id": "59e6b84f2d8e4a19a06772aa7afa6862"
            }
          },
          "metadata": {}
        },
        {
          "output_type": "display_data",
          "data": {
            "text/plain": [
              "Loading checkpoint shards:   0%|          | 0/2 [00:00<?, ?it/s]"
            ],
            "application/vnd.jupyter.widget-view+json": {
              "version_major": 2,
              "version_minor": 0,
              "model_id": "ed6d97f93d074ea3a852b057aca421aa"
            }
          },
          "metadata": {}
        },
        {
          "output_type": "stream",
          "name": "stderr",
          "text": [
            "/usr/local/lib/python3.10/dist-packages/transformers/utils/hub.py:374: FutureWarning: The `use_auth_token` argument is deprecated and will be removed in v5 of Transformers.\n",
            "  warnings.warn(\n"
          ]
        },
        {
          "output_type": "display_data",
          "data": {
            "text/plain": [
              "Downloading (…)neration_config.json:   0%|          | 0.00/188 [00:00<?, ?B/s]"
            ],
            "application/vnd.jupyter.widget-view+json": {
              "version_major": 2,
              "version_minor": 0,
              "model_id": "b3f60ba016bb45fa8f2ccad02355f694"
            }
          },
          "metadata": {}
        },
        {
          "output_type": "stream",
          "name": "stdout",
          "text": [
            "Model loaded on cuda:0\n",
            "CPU times: user 35.9 s, sys: 33.4 s, total: 1min 9s\n",
            "Wall time: 3min 23s\n"
          ]
        }
      ]
    },
    {
      "cell_type": "code",
      "source": [
        "%%time\n",
        "import torch\n",
        "\n",
        "tokenizer = transformers.AutoTokenizer.from_pretrained(\n",
        "    model_name,\n",
        "    use_auth_token=hf_auth\n",
        ")\n",
        "\n",
        "pipeline = transformers.pipeline(\n",
        "    model=model,\n",
        "    tokenizer=tokenizer,\n",
        "    task='text-generation',\n",
        "    do_sample=False,\n",
        "    torch_dtype=torch.bfloat16,\n",
        "    temperature=0.0,\n",
        "    max_new_tokens=100,\n",
        "    repetition_penalty=1.1,\n",
        "    device_map=\"auto\" # if you have GPU\n",
        ")"
      ],
      "metadata": {
        "colab": {
          "base_uri": "https://localhost:8080/",
          "height": 234,
          "referenced_widgets": [
            "1852efabc47245788dbe0a9feea44391",
            "838f90a6c6ee415799ace0f6b81278b8",
            "331f09436d3d49d4bea52428f41fa388",
            "cbe9be6b0bfa4d1e9e417fd3f602cfca",
            "abd96481322b4dc886821845eb921953",
            "3b4cc962c4e94ba0a93ef3c81ae125dc",
            "3023094aaf3241d99d5c23990208bbcd",
            "8861f49919cb491e84dcb4c114a7501f",
            "2c0aa3c6dda9411381085e08772a7b04",
            "91b621aeb55c4f08a31f5870511ff56a",
            "a64295937c514b85b80de4f1a079ae38",
            "b500b5ca2f654bcd81e21863eb076789",
            "2513e44e16044ef186be57920e99dd56",
            "627abf21954e401fabff2435198bb0a0",
            "91b5b74cd0dd4eea970ea533d88b73a7",
            "a31b67dd6a574bdbb5294933c4838943",
            "d71b6fc7f499498abb22195033054fea",
            "4992b25606e6458c9e966579817e0922",
            "7ab34603cac7482bb97031dac2c34376",
            "d8eaa330242541fbbc2fa7458180627f",
            "a5ca476edc03423aa7ab07a427118b4f",
            "ada708fd07b742b880114ccd380f905c",
            "23739f3bb3884bf29b07b0ae54d1d315",
            "504e734cd2a04609bbe64841da6fed9a",
            "46f4b607d2d249a690a61bdcff0f13a3",
            "0437acee3f53472f9c8d02566298da79",
            "2005b8e4d5fa42d7874df87ae0e05765",
            "2d80d3131b4c4aa5b83a273ff5535b84",
            "1ab57891f99e420d9ee1daf9852cf933",
            "abaa0fec2ab54ccaa7374beab4956402",
            "a6d2e206b36b471ca781f80f2373c8a7",
            "eb9e4a9a991e4bd79e491c17c8f315b4",
            "2bce1b2a81244ad291ab1c901dd2b3bc",
            "b71a502ec2ac471ba1ad675d8926096e",
            "1f292516d8c24eee8a70075778978451",
            "0b54e2ca7da34c9494307c0e3038cdc0",
            "aa6c3530c20b4c80a04b34e21fc91d21",
            "9af777b31e6a48bb9e649e93878a7658",
            "13e11bfcee9149578e8d8ffbd5ffee98",
            "ef657eacdd3643cb86121271a598b182",
            "806b0b1db0e448cc86fe4994e7387ad9",
            "7edec86f8217482086bf64427986df28",
            "a1dbb0c62fb14050bf5e412b1c87d137",
            "1ca920874c564e00b5f5925dd3f4db1a"
          ]
        },
        "id": "R3iEr5qMMADk",
        "outputId": "e08a87fa-9406-45f0-c9c6-8324638a7258"
      },
      "execution_count": 6,
      "outputs": [
        {
          "output_type": "stream",
          "name": "stderr",
          "text": [
            "/usr/local/lib/python3.10/dist-packages/transformers/models/auto/tokenization_auto.py:640: FutureWarning: The `use_auth_token` argument is deprecated and will be removed in v5 of Transformers.\n",
            "  warnings.warn(\n"
          ]
        },
        {
          "output_type": "display_data",
          "data": {
            "text/plain": [
              "Downloading (…)okenizer_config.json:   0%|          | 0.00/776 [00:00<?, ?B/s]"
            ],
            "application/vnd.jupyter.widget-view+json": {
              "version_major": 2,
              "version_minor": 0,
              "model_id": "1852efabc47245788dbe0a9feea44391"
            }
          },
          "metadata": {}
        },
        {
          "output_type": "display_data",
          "data": {
            "text/plain": [
              "Downloading tokenizer.model:   0%|          | 0.00/500k [00:00<?, ?B/s]"
            ],
            "application/vnd.jupyter.widget-view+json": {
              "version_major": 2,
              "version_minor": 0,
              "model_id": "b500b5ca2f654bcd81e21863eb076789"
            }
          },
          "metadata": {}
        },
        {
          "output_type": "display_data",
          "data": {
            "text/plain": [
              "Downloading (…)/main/tokenizer.json:   0%|          | 0.00/1.84M [00:00<?, ?B/s]"
            ],
            "application/vnd.jupyter.widget-view+json": {
              "version_major": 2,
              "version_minor": 0,
              "model_id": "23739f3bb3884bf29b07b0ae54d1d315"
            }
          },
          "metadata": {}
        },
        {
          "output_type": "display_data",
          "data": {
            "text/plain": [
              "Downloading (…)cial_tokens_map.json:   0%|          | 0.00/414 [00:00<?, ?B/s]"
            ],
            "application/vnd.jupyter.widget-view+json": {
              "version_major": 2,
              "version_minor": 0,
              "model_id": "b71a502ec2ac471ba1ad675d8926096e"
            }
          },
          "metadata": {}
        },
        {
          "output_type": "stream",
          "name": "stdout",
          "text": [
            "CPU times: user 905 ms, sys: 163 ms, total: 1.07 s\n",
            "Wall time: 4.67 s\n"
          ]
        }
      ]
    },
    {
      "cell_type": "code",
      "source": [
        "import re\n",
        "\n",
        "def remove_emojis(text):\n",
        "    emoji_pattern = re.compile(\"[\"\n",
        "                           u\"\\U0001F600-\\U0001F64F\"  # emoticons\n",
        "                           u\"\\U0001F300-\\U0001F5FF\"  # symbols & pictographs\n",
        "                           u\"\\U0001F680-\\U0001F6FF\"  # transport & map symbols\n",
        "                           u\"\\U0001F1E0-\\U0001F1FF\"  # flags (iOS)\n",
        "                           u\"\\U00002702-\\U000027B0\"\n",
        "                           u\"\\U000024C2-\\U0001F251\"\n",
        "                           \"]+\", flags=re.UNICODE)\n",
        "    return emoji_pattern.sub(r'', text)\n"
      ],
      "metadata": {
        "id": "lufjYqfSv-vD"
      },
      "execution_count": null,
      "outputs": []
    },
    {
      "cell_type": "code",
      "source": [
        "from transformers import AutoTokenizer\n",
        "import transformers\n",
        "import torch\n",
        "\n",
        "\n",
        "sequences = pipeline(\n",
        "    ['''There are two movie recommendation requests from two users:\n",
        "Request 1: \"Lighthearted movies, about love or friendship, I don't want it to contain any violence.\"\n",
        "Request 2: \"Please recommend me some good action-packed or war movies. No romances pls!\"\n",
        "Answer the following yes/no question in a precise and short style.\n",
        "Question: Can these two users be recommended similar titles?\n",
        "Answer: ''',\n",
        "     '''There are two movie recommendation requests from two users:\n",
        "Request 1: \"Lighthearted movies, about love or friendship, I don't want it to contain any violence.\"\n",
        "Request 2: \"Please recommend me some funny romcom or a feel good movie to watch with my gf!\"\n",
        "Answer the following yes/no question in a precise and short style.\n",
        "Question: Can these two users be recommended similar titles?\n",
        "Answer: '''],\n",
        "    eos_token_id=tokenizer.eos_token_id,\n",
        ")\n",
        "\n",
        "for seq in sequences:\n",
        "    print(f\"Result: {seq[0]['generated_text']}\")"
      ],
      "metadata": {
        "colab": {
          "base_uri": "https://localhost:8080/"
        },
        "id": "auaHCQkedwXH",
        "outputId": "2257dae4-f1c2-492f-8a9e-7e2f89202584"
      },
      "execution_count": null,
      "outputs": [
        {
          "output_type": "stream",
          "name": "stdout",
          "text": [
            "Result: There are two movie recommendation requests from two users:\n",
            "Request 1: \"Lighthearted movies, about love or friendship, I don't want it to contain any violence.\"\n",
            "Request 2: \"Please recommend me some good action-packed or war movies. No romances pls!\"\n",
            "Answer the following yes/no question in a precise and short style.\n",
            "Question: Can these two users be recommended similar titles?\n",
            "Answer: 👍 Yes\n",
            "Result: There are two movie recommendation requests from two users:\n",
            "Request 1: \"Lighthearted movies, about love or friendship, I don't want it to contain any violence.\"\n",
            "Request 2: \"Please recommend me some funny romcom or a feel good movie to watch with my gf!\"\n",
            "Answer the following yes/no question in a precise and short style.\n",
            "Question: Can these two users be recommended similar titles?\n",
            "Answer: 👍 Yes\n"
          ]
        }
      ]
    },
    {
      "cell_type": "markdown",
      "source": [
        "This doesn't look good. The model can't discern between clearly different requests..."
      ],
      "metadata": {
        "id": "bMFH-hiy3YNt"
      }
    },
    {
      "cell_type": "markdown",
      "source": [
        "Let's run inference on a sample of 88 datapoints to be sure:"
      ],
      "metadata": {
        "id": "Fv1fRGfzM-my"
      }
    },
    {
      "cell_type": "code",
      "source": [
        "def run_inference(seq, results, answer_key = 'Answer:', remove_emoji = False):\n",
        "    ans = seq[0]['generated_text']\n",
        "    if remove_emoji:\n",
        "        ans = remove_emojis(ans)\n",
        "\n",
        "    ind = ans.rfind(answer_key)\n",
        "    if ind != -1:\n",
        "        ans = ans[ind+len(answer_key):]\n",
        "        print(ans)\n",
        "        if ans.strip().lower().startswith('yes'):\n",
        "            results.append(1)\n",
        "        elif ans.strip().lower().startswith('no'):\n",
        "            results.append(0)\n",
        "        else:\n",
        "            results.append(-1)\n",
        "    else:\n",
        "        results.append(-1)"
      ],
      "metadata": {
        "id": "z66CB3nAOXbW"
      },
      "execution_count": 7,
      "outputs": []
    },
    {
      "cell_type": "code",
      "source": [
        "%%time\n",
        "from transformers.pipelines.pt_utils import KeyDataset\n",
        "tokenizer.pad_token_id = tokenizer.eos_token_id\n",
        "\n",
        "sequences = pipeline(KeyDataset(val_ds, 'text'),\n",
        "    # batch_size=4,\n",
        "    # max_length=100,\n",
        "    eos_token_id=tokenizer.eos_token_id\n",
        ")\n",
        "responses = []\n",
        "for seq in sequences:\n",
        "    run_inference(seq, responses, answer_key = 'Answer:', remove_emoji= True)\n",
        "    if len(responses) % 10 == 0:\n",
        "        print(responses)\n",
        "\n",
        "print(responses)"
      ],
      "metadata": {
        "id": "yjcMjtWD8f4N"
      },
      "execution_count": null,
      "outputs": []
    },
    {
      "cell_type": "code",
      "source": [
        "from sklearn import metrics as mcs\n",
        "y_true = [v['MATCH'] for v in val_set[:88]]\n",
        "print(mcs.classification_report(y_true, responses, digits = 4))"
      ],
      "metadata": {
        "colab": {
          "base_uri": "https://localhost:8080/"
        },
        "id": "6VvX3IoPVJlf",
        "outputId": "89a69f61-0077-44ec-c133-776a7dfd40f3"
      },
      "execution_count": null,
      "outputs": [
        {
          "output_type": "stream",
          "name": "stdout",
          "text": [
            "              precision    recall  f1-score   support\n",
            "\n",
            "           0     0.0000    0.0000    0.0000        39\n",
            "           1     0.5568    1.0000    0.7153        49\n",
            "\n",
            "    accuracy                         0.5568        88\n",
            "   macro avg     0.2784    0.5000    0.3577        88\n",
            "weighted avg     0.3100    0.5568    0.3983        88\n",
            "\n"
          ]
        },
        {
          "output_type": "stream",
          "name": "stderr",
          "text": [
            "/usr/local/lib/python3.10/dist-packages/sklearn/metrics/_classification.py:1344: UndefinedMetricWarning: Precision and F-score are ill-defined and being set to 0.0 in labels with no predicted samples. Use `zero_division` parameter to control this behavior.\n",
            "  _warn_prf(average, modifier, msg_start, len(result))\n",
            "/usr/local/lib/python3.10/dist-packages/sklearn/metrics/_classification.py:1344: UndefinedMetricWarning: Precision and F-score are ill-defined and being set to 0.0 in labels with no predicted samples. Use `zero_division` parameter to control this behavior.\n",
            "  _warn_prf(average, modifier, msg_start, len(result))\n",
            "/usr/local/lib/python3.10/dist-packages/sklearn/metrics/_classification.py:1344: UndefinedMetricWarning: Precision and F-score are ill-defined and being set to 0.0 in labels with no predicted samples. Use `zero_division` parameter to control this behavior.\n",
            "  _warn_prf(average, modifier, msg_start, len(result))\n"
          ]
        }
      ]
    },
    {
      "cell_type": "markdown",
      "source": [
        "As suspected, the models answers \"YEs\" to every question."
      ],
      "metadata": {
        "id": "ajgprPQs5HeA"
      }
    },
    {
      "cell_type": "code",
      "source": [
        "print(val_ds[1]['text'])"
      ],
      "metadata": {
        "colab": {
          "base_uri": "https://localhost:8080/"
        },
        "id": "crudo3uH1maW",
        "outputId": "c31e346c-f5ff-41f1-ad06-a05df218c884"
      },
      "execution_count": null,
      "outputs": [
        {
          "output_type": "stream",
          "name": "stdout",
          "text": [
            "Example1: There are two movie recommendation requests from two users:\n",
            "Request 1: \"Lighthearted movies, about love or friendship, I don't want it to contain any violence.\"\n",
            "Request 2: \"Please recommend me some good action-packed or war movies. No romances pls!\"\n",
            "Answer the following yes/no question in a precise and short style.\n",
            "Question: Can these two users be recommended similar titles?\n",
            "Answer: No\n",
            "\n",
            "Example 2: There are two movie recommendation requests from two users:\n",
            "Request 1: \"Lighthearted movies, about love or friendship, I don't want it to contain any violence.\"\n",
            "Request 2: \"Please recommend me some funny romcom or a feel good movie to watch with my gf!\"\n",
            "Answer the following yes/no question in a precise and short style.\n",
            "Question: Can these two users be recommended similar titles?\n",
            "Answer: Yes\n",
            "\n",
            "There are two movie recommendation requests from two users:\n",
            "Request from User 1: \"Movies exactly like Fantastic Mr Ripley and Match Point?Looking for movies where the main character is an impostor/liar/con man who cheats, lies, manipulates his way into a wealthy family. Exactly like that.\n",
            " \n",
            "(Please do not suggest Parasite cause it's not the same movie. Once in every 24 hours, somebody recommends Parasite in this sub even if it's an unrelated movie)\"\n",
            "Request from User 2: \"Looking for movies where main character is the victim of an elaborate ruse, where everyone they know is eventually revealed to have been an actor after they’ve been fooled/manipulated/entrapped.Bonus points if the main character’s reputation is ruined as a result of the actions they took under these false pretenses.\"\n",
            "Answer the following yes/no question.\n",
            "Question: Can these two users be recommended similar titles?\n",
            "Answer: \n"
          ]
        }
      ]
    },
    {
      "cell_type": "markdown",
      "source": [
        "Try inference on a few-shot learning prompts:"
      ],
      "metadata": {
        "id": "iKBJssAU4aj1"
      }
    },
    {
      "cell_type": "code",
      "source": [
        "%%time\n",
        "from transformers.pipelines.pt_utils import KeyDataset\n",
        "tokenizer.pad_token_id = tokenizer.eos_token_id\n",
        "\n",
        "sequences = pipeline(KeyDataset(val_ds, 'text'),\n",
        "    # batch_size=4,\n",
        "    # max_length=100,\n",
        "    eos_token_id=tokenizer.eos_token_id\n",
        ")\n",
        "responses = []\n",
        "for seq in sequences:\n",
        "    run_inference(seq, responses, answer_key = 'Answer:')\n",
        "    if len(responses) % 10 == 0:\n",
        "        print(responses)\n",
        "\n",
        "print(responses)"
      ],
      "metadata": {
        "id": "H9zEN47U1m6J"
      },
      "execution_count": null,
      "outputs": []
    },
    {
      "cell_type": "code",
      "source": [
        "from sklearn import metrics as mcs\n",
        "y_true = [v['MATCH'] for v in val_set[:88]]\n",
        "print(mcs.classification_report(y_true, responses, digits = 4))"
      ],
      "metadata": {
        "colab": {
          "base_uri": "https://localhost:8080/"
        },
        "id": "9qL0Q3Hz1nF6",
        "outputId": "b24130b5-b8a8-4bb6-9629-330ed1154722"
      },
      "execution_count": null,
      "outputs": [
        {
          "output_type": "stream",
          "name": "stdout",
          "text": [
            "              precision    recall  f1-score   support\n",
            "\n",
            "           0     1.0000    0.1026    0.1860        39\n",
            "           1     0.5833    1.0000    0.7368        49\n",
            "\n",
            "    accuracy                         0.6023        88\n",
            "   macro avg     0.7917    0.5513    0.4614        88\n",
            "weighted avg     0.7680    0.6023    0.4927        88\n",
            "\n"
          ]
        }
      ]
    },
    {
      "cell_type": "markdown",
      "source": [
        "With two examples given in the prompt the model was able to correctly recognize only 3 negative examples (out of 39)."
      ],
      "metadata": {
        "id": "rtptacWP512o"
      }
    },
    {
      "cell_type": "markdown",
      "source": [
        "#### Run Llama-2-13B\n",
        "\n",
        "Compare with bigger model. Load with quantization using bitsandbytes."
      ],
      "metadata": {
        "id": "yY5fKxILU_HW"
      }
    },
    {
      "cell_type": "code",
      "source": [
        "%%time\n",
        "from torch import cuda, bfloat16\n",
        "import transformers\n",
        "\n",
        "model_name = \"meta-llama/Llama-2-13b-chat-hf\"\n",
        "# set quantization configuration using bitsandbytes lib\n",
        "bnb_config = transformers.BitsAndBytesConfig(\n",
        "    load_in_4bit=True,\n",
        "    bnb_4bit_quant_type='nf4',\n",
        "    bnb_4bit_use_double_quant=True,\n",
        "    bnb_4bit_compute_dtype=bfloat16\n",
        ")\n",
        "\n",
        "\n",
        "hf_auth = # '<LLAMA_HF_AUTH_TOKEN>'\n",
        "model_config = transformers.AutoConfig.from_pretrained(\n",
        "    model_name,\n",
        "    use_auth_token=hf_auth\n",
        ")\n",
        "\n",
        "model = transformers.AutoModelForCausalLM.from_pretrained(\n",
        "    model_name,\n",
        "    trust_remote_code=True,\n",
        "    config=model_config,\n",
        "    quantization_config=bnb_config,\n",
        "    device_map='auto',\n",
        "    use_auth_token=hf_auth\n",
        ")\n",
        "model.eval()"
      ],
      "metadata": {
        "colab": {
          "base_uri": "https://localhost:8080/",
          "height": 883,
          "referenced_widgets": [
            "b1f11934501745aca64766c7cb02f9eb",
            "6ffec9af15304d51b2f72f42418a4840",
            "d6e8883ce93944d18360e13efc137aab",
            "ccef4319ad3d453e81726671b50d40f8",
            "4a73ee07252a456ea75363354dce17c3",
            "35ab5e95f3134b0a8dba553069201912",
            "ca0c0204f0974fe696d35608fe2f1c76",
            "db090cf89ae240f1838a173cd2c56cb2",
            "4ae88a713b3d48cca9a65c5a9bd8e570",
            "950d9e6ed2864aa6abfc370418659ed5",
            "8f3188fcbb1f45a9b4f8f3568ea39516",
            "649a6f773a774f70888d3e4ed756b499",
            "bcbfa6453e464aff8208d7dea249640b",
            "89994350ea3848f49aefdeb20664d9db",
            "80aab07c14dd4bbc83e9ac4278ffcc0f",
            "b6ce224c7e1447378217d7471c87d850",
            "a42ca67667a24a398751318c808a010e",
            "2f30ff706573464ba7ca3242a86a9f58",
            "db1a3321c717418f8bb54ad673298b68",
            "1f259270aba44c3f881ffc369847beb5",
            "b36c9de2bfd049e8aba40fb88ac0196e",
            "2a31e0229a984510a4f663d8bc65be2d",
            "6dac17720bc344078287751ebdb1f144",
            "5240756ac0fd447d9ce1962c8011366f",
            "af423577b8fa4143a1009f576e0fdb93",
            "5b2e2837d04d44f8920fd229a92cb96c",
            "eed1c487b6454e449a1131ad9339a85c",
            "c30cb208b5f24e12b6f4a61d14d173a3",
            "cd3e3684815d497bb5766a8a5d8eaa59",
            "abbc30c137514431902f37158d0a255f",
            "8aee01463ee7441b85e16a8db1e85939",
            "6213e0e22cd544f8b0c315538c14f707",
            "019ce78549234a1c91a5b8c192c04ce3",
            "dbdf487b30e241cdb2441f46e4958179",
            "1438f2ae818b40ca8772890ca4a8e0cc",
            "92e042f27c8146158174fb805c6c150f",
            "4c1f9c5df8074276adc1f14ce03d6dbc",
            "be09a249add4431dbbd21b276c744361",
            "c1d79f5adf38481c8be3bd871156a781",
            "e86fb31c6fd2400d8976541ffd7d5f54",
            "b16dd5edca3b4b6b80816a75a0ceaa0f",
            "c86c923f2c28402ebf0b8cb41f653334",
            "09159c80245448ceb8de8b8ac712d810",
            "bc0ddbd509ca4a00913c2bb7958cac71",
            "469cefc8fa2a44c3a7b904c79d7456e6",
            "f0af1553791f4c2794728e642d095b67",
            "fe69ddda64ce400f9a67dfee18777d30",
            "1bcbad27eed14567b72b7a7a12872596",
            "f29f8e8fbfce4f21bd91e5da33834802",
            "ee893dc70dd84e38abc3b85d6f898e2b",
            "7a96aa7eda73411a98d5966eaad11559",
            "583328cd5dd94742986a978d176e3a1b",
            "bde1dcdc8ddc446f8c3453ea48d5378b",
            "b8f957b776fa450990c053c271215c26",
            "c8fcf73c4ffa47349b9d5fc0761f95ef",
            "7fe3a77781384a8490bd5a1f754c9d2c",
            "e3969da9b4e144e489d5a132ecb3a1be",
            "be384025c1dd433e9760496cf1d97314",
            "b1e8bdd4a228430b86d0eae057151145",
            "5e21c8e6702840cba4a559b8c61cf9e6",
            "8e979af3d68a4b1fb5b762c2fe4aabe7",
            "e717543f760e445a8c9aca571def6976",
            "f96cc2b97cd148328e3bfbf0e7c8c679",
            "b9edfa316b274b8b9825098ba31b5c66",
            "3c5caee118894388962590c7bf8ef1e6",
            "645f6575bbe4436e886a1c8629a0992d",
            "6d63a6b1cf004d4784021ad9336166ca",
            "19243c7d22514ea889172a28aa9ed14e",
            "6526d72489b841429dd0726fd3451281",
            "8acc4872cd184fafb7106bb456f59271",
            "853c46bd558f4d05adc1746a235faf26",
            "c207fe140b8d4176ba5c7f6fdaa9097e",
            "dc70fb8e4f1c4b588983784407f3a1a6",
            "c3f8120c1eb04391b23cc8b0ec2566c8",
            "b3c11107c66f49989bbebc86e5f05040",
            "7d14650183664fb08993a76daacdd4c1",
            "3c36c09c78004229892b2ba28d3fc465",
            "9af0a81bd1594fc6a76b79303dd00f80",
            "47a7fae311784c99b2ad79bb10f330cb",
            "4e480a8c8e4f4a50ad527a52f6c9bdbb",
            "4f674a997b7d4b9f8afd4f2f72633d7e",
            "fcd00afb34a04b81b1e3404f02e6f5fa",
            "c1927a2665014f819adf1ce10abf6b66",
            "5ca1b17d482e4f8b91320f51090d2103",
            "cf109d6441db4efbbe2fdb0377aea461",
            "69e08ae8f7e845539e2bef21f4f43618",
            "8927ddea13b846129cbf32efd503b2e8",
            "4bf09370b16141828c83adc7512fb505"
          ]
        },
        "id": "eg4ScYyxVJi7",
        "outputId": "d0c0d948-0696-4eca-e9e7-80ab8fe97427"
      },
      "execution_count": 5,
      "outputs": [
        {
          "output_type": "stream",
          "name": "stderr",
          "text": [
            "/usr/local/lib/python3.10/dist-packages/transformers/models/auto/configuration_auto.py:1006: FutureWarning: The `use_auth_token` argument is deprecated and will be removed in v5 of Transformers.\n",
            "  warnings.warn(\n"
          ]
        },
        {
          "output_type": "display_data",
          "data": {
            "text/plain": [
              "Downloading (…)lve/main/config.json:   0%|          | 0.00/587 [00:00<?, ?B/s]"
            ],
            "application/vnd.jupyter.widget-view+json": {
              "version_major": 2,
              "version_minor": 0,
              "model_id": "b1f11934501745aca64766c7cb02f9eb"
            }
          },
          "metadata": {}
        },
        {
          "output_type": "stream",
          "name": "stderr",
          "text": [
            "/usr/local/lib/python3.10/dist-packages/transformers/models/auto/auto_factory.py:479: FutureWarning: The `use_auth_token` argument is deprecated and will be removed in v5 of Transformers.\n",
            "  warnings.warn(\n"
          ]
        },
        {
          "output_type": "display_data",
          "data": {
            "text/plain": [
              "Downloading (…)fetensors.index.json:   0%|          | 0.00/33.4k [00:00<?, ?B/s]"
            ],
            "application/vnd.jupyter.widget-view+json": {
              "version_major": 2,
              "version_minor": 0,
              "model_id": "649a6f773a774f70888d3e4ed756b499"
            }
          },
          "metadata": {}
        },
        {
          "output_type": "display_data",
          "data": {
            "text/plain": [
              "Downloading shards:   0%|          | 0/3 [00:00<?, ?it/s]"
            ],
            "application/vnd.jupyter.widget-view+json": {
              "version_major": 2,
              "version_minor": 0,
              "model_id": "6dac17720bc344078287751ebdb1f144"
            }
          },
          "metadata": {}
        },
        {
          "output_type": "display_data",
          "data": {
            "text/plain": [
              "Downloading (…)of-00003.safetensors:   0%|          | 0.00/9.95G [00:00<?, ?B/s]"
            ],
            "application/vnd.jupyter.widget-view+json": {
              "version_major": 2,
              "version_minor": 0,
              "model_id": "dbdf487b30e241cdb2441f46e4958179"
            }
          },
          "metadata": {}
        },
        {
          "output_type": "display_data",
          "data": {
            "text/plain": [
              "Downloading (…)of-00003.safetensors:   0%|          | 0.00/9.90G [00:00<?, ?B/s]"
            ],
            "application/vnd.jupyter.widget-view+json": {
              "version_major": 2,
              "version_minor": 0,
              "model_id": "469cefc8fa2a44c3a7b904c79d7456e6"
            }
          },
          "metadata": {}
        },
        {
          "output_type": "display_data",
          "data": {
            "text/plain": [
              "Downloading (…)of-00003.safetensors:   0%|          | 0.00/6.18G [00:00<?, ?B/s]"
            ],
            "application/vnd.jupyter.widget-view+json": {
              "version_major": 2,
              "version_minor": 0,
              "model_id": "7fe3a77781384a8490bd5a1f754c9d2c"
            }
          },
          "metadata": {}
        },
        {
          "output_type": "display_data",
          "data": {
            "text/plain": [
              "Loading checkpoint shards:   0%|          | 0/3 [00:00<?, ?it/s]"
            ],
            "application/vnd.jupyter.widget-view+json": {
              "version_major": 2,
              "version_minor": 0,
              "model_id": "6d63a6b1cf004d4784021ad9336166ca"
            }
          },
          "metadata": {}
        },
        {
          "output_type": "stream",
          "name": "stderr",
          "text": [
            "/usr/local/lib/python3.10/dist-packages/transformers/utils/hub.py:374: FutureWarning: The `use_auth_token` argument is deprecated and will be removed in v5 of Transformers.\n",
            "  warnings.warn(\n"
          ]
        },
        {
          "output_type": "display_data",
          "data": {
            "text/plain": [
              "Downloading (…)neration_config.json:   0%|          | 0.00/188 [00:00<?, ?B/s]"
            ],
            "application/vnd.jupyter.widget-view+json": {
              "version_major": 2,
              "version_minor": 0,
              "model_id": "9af0a81bd1594fc6a76b79303dd00f80"
            }
          },
          "metadata": {}
        },
        {
          "output_type": "stream",
          "name": "stdout",
          "text": [
            "CPU times: user 54.5 s, sys: 1min, total: 1min 54s\n",
            "Wall time: 5min 37s\n"
          ]
        },
        {
          "output_type": "execute_result",
          "data": {
            "text/plain": [
              "LlamaForCausalLM(\n",
              "  (model): LlamaModel(\n",
              "    (embed_tokens): Embedding(32000, 5120)\n",
              "    (layers): ModuleList(\n",
              "      (0-39): 40 x LlamaDecoderLayer(\n",
              "        (self_attn): LlamaAttention(\n",
              "          (q_proj): Linear4bit(in_features=5120, out_features=5120, bias=False)\n",
              "          (k_proj): Linear4bit(in_features=5120, out_features=5120, bias=False)\n",
              "          (v_proj): Linear4bit(in_features=5120, out_features=5120, bias=False)\n",
              "          (o_proj): Linear4bit(in_features=5120, out_features=5120, bias=False)\n",
              "          (rotary_emb): LlamaRotaryEmbedding()\n",
              "        )\n",
              "        (mlp): LlamaMLP(\n",
              "          (gate_proj): Linear4bit(in_features=5120, out_features=13824, bias=False)\n",
              "          (up_proj): Linear4bit(in_features=5120, out_features=13824, bias=False)\n",
              "          (down_proj): Linear4bit(in_features=13824, out_features=5120, bias=False)\n",
              "          (act_fn): SiLUActivation()\n",
              "        )\n",
              "        (input_layernorm): LlamaRMSNorm()\n",
              "        (post_attention_layernorm): LlamaRMSNorm()\n",
              "      )\n",
              "    )\n",
              "    (norm): LlamaRMSNorm()\n",
              "  )\n",
              "  (lm_head): Linear(in_features=5120, out_features=32000, bias=False)\n",
              ")"
            ]
          },
          "metadata": {},
          "execution_count": 5
        }
      ]
    },
    {
      "cell_type": "code",
      "source": [
        "from transformers import AutoTokenizer\n",
        "import transformers\n",
        "import torch\n",
        "\n",
        "\n",
        "sequences = pipeline(\n",
        "    ['''There are two movie recommendation requests from two users:\n",
        "Request 1: \"Lighthearted movies, about love or friendship, I don't want it to contain any violence.\"\n",
        "Request 2: \"Please recommend me some good action-packed or war movies. No romances pls!\"\n",
        "Answer the following yes/no question.\n",
        "Question: Can these two users be recommended similar titles?\n",
        "Answer: ''',\n",
        "     '''There are two movie recommendation requests from two users:\n",
        "Request 1: \"Lighthearted movies, about love or friendship, I don't want it to contain any violence.\"\n",
        "Request 2: \"Please recommend me some funny romcom or a feel good movie to watch with my gf!\"\n",
        "Answer the following yes/no question.\n",
        "Question: Can these two users be recommended similar titles?\n",
        "Answer: '''],\n",
        "    eos_token_id=tokenizer.eos_token_id,\n",
        ")\n",
        "\n",
        "for seq in sequences:\n",
        "    print(f\"Result: {seq[0]['generated_text']}\")"
      ],
      "metadata": {
        "colab": {
          "base_uri": "https://localhost:8080/"
        },
        "id": "C2PqPYRA8f1c",
        "outputId": "6f54b29d-8c46-4f0e-e57b-485f96d9cd19"
      },
      "execution_count": null,
      "outputs": [
        {
          "output_type": "stream",
          "name": "stderr",
          "text": [
            "/usr/local/lib/python3.10/dist-packages/transformers/generation/configuration_utils.py:362: UserWarning: `do_sample` is set to `False`. However, `temperature` is set to `0.0` -- this flag is only used in sample-based generation modes. You should set `do_sample=True` or unset `temperature`.\n",
            "  warnings.warn(\n",
            "/usr/local/lib/python3.10/dist-packages/transformers/generation/configuration_utils.py:367: UserWarning: `do_sample` is set to `False`. However, `top_p` is set to `0.9` -- this flag is only used in sample-based generation modes. You should set `do_sample=True` or unset `top_p`.\n",
            "  warnings.warn(\n"
          ]
        },
        {
          "output_type": "stream",
          "name": "stdout",
          "text": [
            "Result: There are two movie recommendation requests from two users:\n",
            "Request 1: \"Lighthearted movies, about love or friendship, I don't want it to contain any violence.\"\n",
            "Request 2: \"Please recommend me some good action-packed or war movies. No romances pls!\"\n",
            "Answer the following yes/no question.\n",
            "Question: Can these two users be recommended similar titles?\n",
            "Answer:  No. The first user is looking for lighthearted movies with no violence, while the second user wants action-packed or war movies with no romance. These two requests have conflicting preferences and cannot be recommended similar titles.\n",
            "Result: There are two movie recommendation requests from two users:\n",
            "Request 1: \"Lighthearted movies, about love or friendship, I don't want it to contain any violence.\"\n",
            "Request 2: \"Please recommend me some funny romcom or a feel good movie to watch with my gf!\"\n",
            "Answer the following yes/no question.\n",
            "Question: Can these two users be recommended similar titles?\n",
            "Answer:  Yes. Both users are looking for lighthearted movies that focus on love or friendship and have a positive tone. Therefore, similar titles can be recommended to both users.\n"
          ]
        }
      ]
    },
    {
      "cell_type": "markdown",
      "source": [
        "This looks very promising! This is the only model so far (compared to 7B versions of Llama-2, Falcon and MPT) where the model was able to discern between the two requests.\n",
        "The requets, however, are pretty naive and the dataset contains more nuanced comaparisons. Let's see how Llama-13B does."
      ],
      "metadata": {
        "id": "dAI7LBJW0Gub"
      }
    },
    {
      "cell_type": "markdown",
      "source": [
        "Let's try some more nuanced requests and see if Llama-13B can recognize the differences:"
      ],
      "metadata": {
        "id": "yupGe7As5Z0E"
      }
    },
    {
      "cell_type": "code",
      "source": [
        "from transformers import AutoTokenizer\n",
        "import transformers\n",
        "import torch\n",
        "\n",
        "\n",
        "sequences = pipeline(\n",
        "    ['''There are two movie recommendation REQUESTS from two users:\n",
        "\n",
        "REQUEST 1: \"Any movie that has elements of gambling in it or based on it. Just watched the hangover (ikr) and the scene were there was a montage of alan was gambling made me wonder if there are any films that is based on that or has elements of it like casino royale. Any suggestions?\"\n",
        "\n",
        "REQUEST 2: \"Looking for a serious movie about gambling addiction. Hi all - without naming names, too many movies about gambling involve the main character putting in one last bet and winning it all and having a happy ending. Does anyone have any recommendations for movies that look at gambling addiction in a much more realistic, darker view?\"\n",
        "\n",
        "Answer the following yes/no question.\n",
        "Question: Can these two users be recommended similar titles?\n",
        "\n",
        "ANSWER: ''',\n",
        "'''There are two movie recommendation REQUESTS from two users:\n",
        "\n",
        "REQUEST 1: \"Any movie that has elements of gambling in it or based on it. Just watched the hangover (ikr) and the scene were there was a montage of alan was gambling made me wonder if there are any films that is based on that or has elements of it like casino royale. Any suggestions?\"\n",
        "\n",
        "REQUEST 2: \"Fun movies taking place in a casino?I recently watched the 2006 Casino Royale, and really loved the middle ~45 minutes in which it is a glitzy thriller of simply trying to win a card game surrounded by decadence. It's an itch I want to scratch, but pretty much every movie about gambling tries to push the (albeit correct) message that gambling is a social blight, harmful, addictive, exploitative, etc.\\nAre there any movies that just *have fun* with the gaudy excess of it all? Maybe movies that simply use the casino as a setting rather than a theme?\\nThanks!\"\n",
        "\n",
        "Answer the following yes/no question.\n",
        "Question: Can these two users be recommended similar titles?\n",
        "\n",
        "ANSWER: '''],\n",
        "    eos_token_id=tokenizer.eos_token_id,\n",
        ")\n",
        "\n",
        "for seq in sequences:\n",
        "    print(f\"Result: {seq[0]['generated_text']}\")"
      ],
      "metadata": {
        "colab": {
          "base_uri": "https://localhost:8080/"
        },
        "id": "eaDpjhpY5XxH",
        "outputId": "db5b8a7a-4747-4058-d2e0-7d0fbfb1667b"
      },
      "execution_count": 8,
      "outputs": [
        {
          "output_type": "stream",
          "name": "stderr",
          "text": [
            "/usr/local/lib/python3.10/dist-packages/transformers/generation/configuration_utils.py:362: UserWarning: `do_sample` is set to `False`. However, `temperature` is set to `0.0` -- this flag is only used in sample-based generation modes. You should set `do_sample=True` or unset `temperature`.\n",
            "  warnings.warn(\n",
            "/usr/local/lib/python3.10/dist-packages/transformers/generation/configuration_utils.py:367: UserWarning: `do_sample` is set to `False`. However, `top_p` is set to `0.9` -- this flag is only used in sample-based generation modes. You should set `do_sample=True` or unset `top_p`.\n",
            "  warnings.warn(\n"
          ]
        },
        {
          "output_type": "stream",
          "name": "stdout",
          "text": [
            "Result: There are two movie recommendation REQUESTS from two users:\n",
            "\n",
            "REQUEST 1: \"Any movie that has elements of gambling in it or based on it. Just watched the hangover (ikr) and the scene were there was a montage of alan was gambling made me wonder if there are any films that is based on that or has elements of it like casino royale. Any suggestions?\"\n",
            "\n",
            "REQUEST 2: \"Looking for a serious movie about gambling addiction. Hi all - without naming names, too many movies about gambling involve the main character putting in one last bet and winning it all and having a happy ending. Does anyone have any recommendations for movies that look at gambling addiction in a much more realistic, darker view?\"\n",
            "\n",
            "Answer the following yes/no question.\n",
            "Question: Can these two users be recommended similar titles?\n",
            "\n",
            "ANSWER:  No. The first user is looking for movies with elements of gambling, while the second user is looking for a serious movie about gambling addiction. These requests do not align well, as the former is interested in lighthearted movies with gambling elements, while the latter wants a darker, more realistic portrayal of gambling addiction. Therefore, recommending similar titles to both users would not be appropriate.\n",
            "Result: There are two movie recommendation REQUESTS from two users:\n",
            "\n",
            "REQUEST 1: \"Any movie that has elements of gambling in it or based on it. Just watched the hangover (ikr) and the scene were there was a montage of alan was gambling made me wonder if there are any films that is based on that or has elements of it like casino royale. Any suggestions?\"\n",
            "\n",
            "REQUEST 2: \"Fun movies taking place in a casino?I recently watched the 2006 Casino Royale, and really loved the middle ~45 minutes in which it is a glitzy thriller of simply trying to win a card game surrounded by decadence. It's an itch I want to scratch, but pretty much every movie about gambling tries to push the (albeit correct) message that gambling is a social blight, harmful, addictive, exploitative, etc.\n",
            "Are there any movies that just *have fun* with the gaudy excess of it all? Maybe movies that simply use the casino as a setting rather than a theme?\n",
            "Thanks!\"\n",
            "\n",
            "Answer the following yes/no question.\n",
            "Question: Can these two users be recommended similar titles?\n",
            "\n",
            "ANSWER:  Yes. Both requests are looking for movies with elements of gambling and fun, glitzy settings, so they can be recommended similar titles.\n"
          ]
        }
      ]
    },
    {
      "cell_type": "markdown",
      "source": [
        "Cool! This is still good results from Llama 13B!"
      ],
      "metadata": {
        "id": "FuTTJGpiLNz8"
      }
    },
    {
      "cell_type": "code",
      "source": [
        "%%time\n",
        "from tqdm import tqdm\n",
        "from transformers.pipelines.pt_utils import KeyDataset\n",
        "\n",
        "tokenizer.pad_token_id = tokenizer.eos_token_id\n",
        "\n",
        "sequences = pipeline(KeyDataset(val_ds, 'text'),\n",
        "    # batch_size=4,\n",
        "    temperature=None,\n",
        "    top_p=0.0,\n",
        "    eos_token_id=tokenizer.eos_token_id\n",
        ")\n",
        "\n",
        "responses = []\n",
        "# for i in tqdm(range(len(val_ds))):\n",
        "for seq in sequences:\n",
        "    run_inference(seq, responses, answer_key = 'ANSWER:')\n",
        "    if len(responses) % 10 == 0:\n",
        "        print(responses)\n",
        "\n",
        "print(responses)"
      ],
      "metadata": {
        "id": "Wstfzd1_Vp32"
      },
      "execution_count": null,
      "outputs": []
    },
    {
      "cell_type": "markdown",
      "source": [
        "Results for few-shot task:"
      ],
      "metadata": {
        "id": "yjRJEIXC_Jd1"
      }
    },
    {
      "cell_type": "code",
      "source": [
        "from sklearn import metrics as mcs\n",
        "y_true = [v['MATCH'] for v in val_set[:SAMPLE_SIZE]]\n",
        "print(mcs.classification_report(y_true, responses, digits = 4))"
      ],
      "metadata": {
        "colab": {
          "base_uri": "https://localhost:8080/"
        },
        "id": "4ihC1M-w-88u",
        "outputId": "95c0441c-e721-4338-a209-d443c4f53da0"
      },
      "execution_count": 39,
      "outputs": [
        {
          "output_type": "stream",
          "name": "stdout",
          "text": [
            "              precision    recall  f1-score   support\n",
            "\n",
            "           0     1.0000    0.0513    0.0976        39\n",
            "           1     0.5698    1.0000    0.7259        49\n",
            "\n",
            "    accuracy                         0.5795        88\n",
            "   macro avg     0.7849    0.5256    0.4117        88\n",
            "weighted avg     0.7604    0.5795    0.4474        88\n",
            "\n"
          ]
        }
      ]
    },
    {
      "cell_type": "markdown",
      "source": [
        "The results are even worse. The reason is the used prompt was encouraging the model say \"yes\" to the example where it gave otherwise \"no\" answer.\n",
        "TODO: More complex \"no\" type of prompts need to be prepared and tried."
      ],
      "metadata": {
        "id": "rlq33kLHJmpZ"
      }
    },
    {
      "cell_type": "markdown",
      "source": [
        "Results for zero-shot task:"
      ],
      "metadata": {
        "id": "-c_VIRs6--Ig"
      }
    },
    {
      "cell_type": "code",
      "source": [
        "from sklearn import metrics as mcs\n",
        "y_true = [v['MATCH'] for v in val_set[:SAMPLE_SIZE]]\n",
        "print(mcs.classification_report(y_true, responses, digits = 4))"
      ],
      "metadata": {
        "colab": {
          "base_uri": "https://localhost:8080/"
        },
        "id": "5sn0oFNS8gBb",
        "outputId": "55c87126-7d0b-4d62-cb85-0794492a73c8"
      },
      "execution_count": null,
      "outputs": [
        {
          "output_type": "stream",
          "name": "stdout",
          "text": [
            "              precision    recall  f1-score   support\n",
            "\n",
            "           0     1.0000    0.0769    0.1429        39\n",
            "           1     0.5765    1.0000    0.7313        49\n",
            "\n",
            "    accuracy                         0.5909        88\n",
            "   macro avg     0.7882    0.5385    0.4371        88\n",
            "weighted avg     0.7642    0.5909    0.4705        88\n",
            "\n"
          ]
        }
      ]
    },
    {
      "cell_type": "markdown",
      "source": [
        "Llama-2-13B gave predominantly \"Yes\" answers. The two \"No\" answers in the result set were correct, but from looking at the produced answers it seems like the model was trying to find far-fetched similarities between the requests.\n",
        "\n",
        "Several prompts were tried and overall performance was disappointing. It seems that the questions are too nuanced for the 13B model. Bigger model or *in-context learning* could be tried going further."
      ],
      "metadata": {
        "id": "MIejFTajzRlx"
      }
    },
    {
      "cell_type": "markdown",
      "source": [
        "##1. Falcon-7B-instruct"
      ],
      "metadata": {
        "id": "ENXMTM6HyC14"
      }
    },
    {
      "cell_type": "code",
      "source": [
        "from transformers import AutoTokenizer, AutoModelForCausalLM\n",
        "from transformers.pipelines.pt_utils import KeyDataset\n",
        "import transformers\n",
        "import torch\n",
        "\n",
        "def init_model():\n",
        "    model_name = \"tiiuae/falcon-7b-instruct\"\n",
        "\n",
        "    tokenizer = AutoTokenizer.from_pretrained(model_name, padding_side='left')\n",
        "    pipeline = transformers.pipeline(\n",
        "        \"text-generation\",\n",
        "        model=model_name,\n",
        "        tokenizer=tokenizer,\n",
        "        torch_dtype=torch.bfloat16,\n",
        "        trust_remote_code=True,\n",
        "        device_map=\"auto\",\n",
        "        # batch_size=8\n",
        "    )\n",
        "    return pipeline, tokenizer\n",
        "\n",
        "\n",
        "pipeline, tokenizer = init_model()\n"
      ],
      "metadata": {
        "colab": {
          "base_uri": "https://localhost:8080/",
          "height": 505,
          "referenced_widgets": [
            "4ce9b1cf00c9428889e3718e6b97410a",
            "e729c3c0e27442029aac61360c54a5db",
            "ee552b7cc9c741059ec72b59c8fdaafe",
            "362417a1bdb3467194bdb86c91905d9b",
            "b18b5bcb326f4c53bc5de04f1f4bd9c1",
            "c82be5f23a6a40ce9a4be0a4b549a2c5",
            "817d7cfcba614464ad5a088735dd1f55",
            "c51c159c32d9446693ad2ebbf542bfc0",
            "2f0a184c4a0843f1bfbd6a4f8a93f283",
            "711b181015904ef6911067c919f355da",
            "8e2ff5ed66b1419685fafcab0cf172aa",
            "74692bb47fec44d29185ea4c201b2c17",
            "343eb45f91814a8cb46e3a7e49f58908",
            "55f931e9b72b43858f4adf142119dce7",
            "d3b57018a2444a7da6cab0f346b12838",
            "4458e898465a40c095b2f97c617e0f3f",
            "34235d69cf034c5e8d340acded3381ff",
            "358639929d494f31ab71cc5218d8ebc7",
            "9fbd49b76087434a8aa11ce2ae33986c",
            "4c69d168eb3640ad9e39ce3439d0ea46",
            "60bc4703052541a8a17692357d939b45",
            "2c9e7308b9f4490f89017726d94b0af8",
            "33a21e1cdbd44f60961487eec2ded7ff",
            "c8cfbde3f93e40c1af3ec75151e684e1",
            "d75ce7974bd94283ab014cae18bbc137",
            "b998be1d668f4f2389bc5204095193ae",
            "868c6cc7a32249e1a5ba784768dd48ee",
            "86a1a95013554d9aa272710bcb555176",
            "7250d8fb646e44da8b0ebe45d78f1044",
            "74ed227ee6974ca88455b3dfc5bb2a50",
            "b78d68ac36704e859d52fdbab11cb5bb",
            "ece4d79ff6f64d3582df950076ef779f",
            "6d7c24e62a734e4b85c86cb2ff3165ee",
            "de973b6724044bdba7ba8358460993b6",
            "df25eb01b6c04a4da1c4217011a9b3a7",
            "b3bf46af814a4637903035599fc6053a",
            "a774685b034c4682a25ae80a10807d4a",
            "fad90929dd8949f4805c48a8f766b13d",
            "1581b1c8b3f14b5ea69d45511f9e915d",
            "47b2b779b2b846649701f05fa070fcd7",
            "1968ab912a594f749c34d752f3e75a34",
            "639ca62014fb4073b92fbad5af5ad6bc",
            "20ee771d78c448e5b755e814f9590238",
            "ccfd29334af748ad8e3546419ee4d241",
            "4db0ac6b892245d28821315d850a1778",
            "76055e0851fb4fe5b30f91fa52dd26d6",
            "b2a3b74bbafc447c92b35d6b000b84b2",
            "e3e929d5224147f89825dc3fe40fb0ba",
            "5d33d59fc3f54dec8b15c487b0cfa763",
            "9bec121f9e724f16889140b64bac0e70",
            "dd3e8cbf628f4afa97b8c4492af8c92e",
            "a399a990450841fda9daf81086bce84a",
            "51b83fe250194040847921f096bb35e0",
            "86a87c03e9554845bee5a612c258f8b8",
            "fb528e15ee1d4398868aa68d45029812",
            "5b58882a50084ba89a03fb6bffaea51c",
            "20e892246b214abfa63ebc25306bb104",
            "fd08694108eb421fabe30171de38ca87",
            "5b502e61ef8d419db42a28afc7debc86",
            "23c485e755ad462baccb9e6446246459",
            "13124b6f625b4e3db148fae105b00f51",
            "cadb5b9b33be4c65a049d1651dff7e11",
            "2cc618c811bd438ea2eb8984320342c6",
            "a820489e20f445108a919e239e98dae3",
            "14421766cb7f4dc58b13ca7152af0557",
            "6fe73f3f8e424bdc82ddce1dd304ddf4",
            "f97c8a198f2b49c8b3f5df6c26680616",
            "203eb3cf05ae44ddbc24e7a8c7b665a3",
            "96a90dcb130d4621aae5ba9bf79ee641",
            "7b3d643097f9433e9a7b0c442daa2843",
            "b79f7f06bcb34bdead91a9779568cbab",
            "6f7c5ad60d1c417dae3424775c02e2b9",
            "5b8e3c60ecc04fb8958793df625e48fa",
            "dfda9c2640644f7fb29843db4119ff7d",
            "dc6a9bca7e524e2280a725dba161c9d6",
            "707a9e3d555a4bffb5a54afbd2caed78",
            "0cf90afec5b248d9b7e5677ee6cd21a7",
            "141493243e0d4e22ae550038db94f8f8",
            "ecc116945e1447a580e762bb85108d8c",
            "8bc4b3878852419fbf15936b055f5477",
            "e7d0e1ec09a34618acf28f510c067de1",
            "e15a1017f7ec4d1998c0ebafa087dd6b",
            "248196e64d104cb5bd5936deb6a12177",
            "7aab2e501b714a8e96002a447b332aac",
            "9a67af249b5847448e5cfa5a3821eab6",
            "130efa98c5de4cdfb4689360d0e1a154",
            "6b1a5c65cfde41019035b01634f01bea",
            "5a7bac2bcf9641d28bfb7899a2048833",
            "7adfb107f3794f17baa01c9824ff7a76",
            "acd9ce4f43e34ad4babe53b05f892597",
            "77da900b8b7544f0a5f91f5197a62b67",
            "6659abaf3fc64bb89557bdb90ade8551",
            "797e5cbbe28e4703a71f1ae7b0a1ffdc",
            "30af7b0117eb4a39bd42f04a81e09d4e",
            "b5db7bf69319446caaddb84beacfa376",
            "f1f49bdde35044ee9fc9d008c3fdc114",
            "bae0912f3ea14cd1b6aafab559ee43ac",
            "57d3d4ac5a094fcca501bd0ebbbb51de",
            "4eeb3ee47b0449a28c60882d20007e29",
            "575d5b444cf54ca7984f2e69f1e8b0d4",
            "9363e70cac564db19fc5a3e597e2e7e9",
            "2caaa15f0b2a4eef9869db5c12ca4188",
            "a3c267b02db743b4bd5a55d3d3757721",
            "4c6ea14f8f924aa8b897a12ef4e7bfe6",
            "cff18e6eb13b40adb6cccaa97e3c4e64",
            "11ec67b5b1964bb69e1de5d41f551a24",
            "eb3b65bb529e4ad6965515652edd0a04",
            "3cbb4785187f48879df27988164e1855",
            "4d3c1093068b484c86b07873e164ffc1",
            "d37d6b3ef19c47e3be34bb30106d06c7",
            "32f33ef02d6d46219ee5a6a28d6c5e34",
            "fa016e45dd9a43e783db47af966bb001",
            "f982f99b5ded4f12b27f68acee9e576a",
            "b04505a094124f479fba19a66a41e738",
            "177d973c418747d0b519e1f05a5b54f7",
            "1c5896268418457ebd35e72b323c793d",
            "8f537846c6c540c5b51f4cf4f37e2f44",
            "b9364ef74329440f8c4636da462f14d0",
            "10aaeb7ae88543fab43d4acf2b71dcb5",
            "838e219893af41d9a890f3b7428988c6",
            "56f07faac242432ea41f2c1cbbb10db9",
            "109403c36d134ae4961a7dddb287aaba",
            "931973b9661d449a98658407f3bac1af",
            "ceaddb9708064ce1974095b311a28118",
            "6cc716c277064efeaaaad0c1dcc05a10",
            "a12f6a0dc68a4189ae86b60aa6e2625d",
            "5f937b74958f4bcb9b30f468999e1638",
            "e3c22e2cb0fb4696a02d3c5c678b18b7",
            "39ba91f4bf8d499f892da4654a0b1aa3",
            "0dc255a62a444adda2c886c81bf184dd",
            "f48e1ef1938440d7ad964c007c8f8195",
            "3518ac0bf6824a509c9d5ffcb15afc9b"
          ]
        },
        "id": "KP2m2GFmxJ5w",
        "outputId": "10abadfe-0c20-4da0-a294-3c6ab6095c0a"
      },
      "execution_count": null,
      "outputs": [
        {
          "output_type": "display_data",
          "data": {
            "text/plain": [
              "Downloading (…)okenizer_config.json:   0%|          | 0.00/220 [00:00<?, ?B/s]"
            ],
            "application/vnd.jupyter.widget-view+json": {
              "version_major": 2,
              "version_minor": 0,
              "model_id": "4ce9b1cf00c9428889e3718e6b97410a"
            }
          },
          "metadata": {}
        },
        {
          "output_type": "display_data",
          "data": {
            "text/plain": [
              "Downloading (…)/main/tokenizer.json:   0%|          | 0.00/2.73M [00:00<?, ?B/s]"
            ],
            "application/vnd.jupyter.widget-view+json": {
              "version_major": 2,
              "version_minor": 0,
              "model_id": "74692bb47fec44d29185ea4c201b2c17"
            }
          },
          "metadata": {}
        },
        {
          "output_type": "display_data",
          "data": {
            "text/plain": [
              "Downloading (…)cial_tokens_map.json:   0%|          | 0.00/281 [00:00<?, ?B/s]"
            ],
            "application/vnd.jupyter.widget-view+json": {
              "version_major": 2,
              "version_minor": 0,
              "model_id": "33a21e1cdbd44f60961487eec2ded7ff"
            }
          },
          "metadata": {}
        },
        {
          "output_type": "display_data",
          "data": {
            "text/plain": [
              "Downloading (…)lve/main/config.json:   0%|          | 0.00/667 [00:00<?, ?B/s]"
            ],
            "application/vnd.jupyter.widget-view+json": {
              "version_major": 2,
              "version_minor": 0,
              "model_id": "de973b6724044bdba7ba8358460993b6"
            }
          },
          "metadata": {}
        },
        {
          "output_type": "display_data",
          "data": {
            "text/plain": [
              "Downloading (…)/configuration_RW.py:   0%|          | 0.00/2.61k [00:00<?, ?B/s]"
            ],
            "application/vnd.jupyter.widget-view+json": {
              "version_major": 2,
              "version_minor": 0,
              "model_id": "4db0ac6b892245d28821315d850a1778"
            }
          },
          "metadata": {}
        },
        {
          "output_type": "stream",
          "name": "stderr",
          "text": [
            "A new version of the following files was downloaded from https://huggingface.co/tiiuae/falcon-7b-instruct:\n",
            "- configuration_RW.py\n",
            ". Make sure to double-check they do not contain any added malicious code. To avoid downloading new versions of the code file, you can pin a revision.\n"
          ]
        },
        {
          "output_type": "display_data",
          "data": {
            "text/plain": [
              "Downloading (…)main/modelling_RW.py:   0%|          | 0.00/47.5k [00:00<?, ?B/s]"
            ],
            "application/vnd.jupyter.widget-view+json": {
              "version_major": 2,
              "version_minor": 0,
              "model_id": "5b58882a50084ba89a03fb6bffaea51c"
            }
          },
          "metadata": {}
        },
        {
          "output_type": "stream",
          "name": "stderr",
          "text": [
            "A new version of the following files was downloaded from https://huggingface.co/tiiuae/falcon-7b-instruct:\n",
            "- modelling_RW.py\n",
            ". Make sure to double-check they do not contain any added malicious code. To avoid downloading new versions of the code file, you can pin a revision.\n"
          ]
        },
        {
          "output_type": "display_data",
          "data": {
            "text/plain": [
              "Downloading (…)model.bin.index.json:   0%|          | 0.00/16.9k [00:00<?, ?B/s]"
            ],
            "application/vnd.jupyter.widget-view+json": {
              "version_major": 2,
              "version_minor": 0,
              "model_id": "f97c8a198f2b49c8b3f5df6c26680616"
            }
          },
          "metadata": {}
        },
        {
          "output_type": "display_data",
          "data": {
            "text/plain": [
              "Downloading shards:   0%|          | 0/2 [00:00<?, ?it/s]"
            ],
            "application/vnd.jupyter.widget-view+json": {
              "version_major": 2,
              "version_minor": 0,
              "model_id": "141493243e0d4e22ae550038db94f8f8"
            }
          },
          "metadata": {}
        },
        {
          "output_type": "display_data",
          "data": {
            "text/plain": [
              "Downloading (…)l-00001-of-00002.bin:   0%|          | 0.00/9.95G [00:00<?, ?B/s]"
            ],
            "application/vnd.jupyter.widget-view+json": {
              "version_major": 2,
              "version_minor": 0,
              "model_id": "7adfb107f3794f17baa01c9824ff7a76"
            }
          },
          "metadata": {}
        },
        {
          "output_type": "display_data",
          "data": {
            "text/plain": [
              "Downloading (…)l-00002-of-00002.bin:   0%|          | 0.00/4.48G [00:00<?, ?B/s]"
            ],
            "application/vnd.jupyter.widget-view+json": {
              "version_major": 2,
              "version_minor": 0,
              "model_id": "575d5b444cf54ca7984f2e69f1e8b0d4"
            }
          },
          "metadata": {}
        },
        {
          "output_type": "display_data",
          "data": {
            "text/plain": [
              "Loading checkpoint shards:   0%|          | 0/2 [00:00<?, ?it/s]"
            ],
            "application/vnd.jupyter.widget-view+json": {
              "version_major": 2,
              "version_minor": 0,
              "model_id": "32f33ef02d6d46219ee5a6a28d6c5e34"
            }
          },
          "metadata": {}
        },
        {
          "output_type": "display_data",
          "data": {
            "text/plain": [
              "Downloading (…)neration_config.json:   0%|          | 0.00/111 [00:00<?, ?B/s]"
            ],
            "application/vnd.jupyter.widget-view+json": {
              "version_major": 2,
              "version_minor": 0,
              "model_id": "109403c36d134ae4961a7dddb287aaba"
            }
          },
          "metadata": {}
        }
      ]
    },
    {
      "cell_type": "code",
      "source": [
        "pipeline.model.config.pad_token_id"
      ],
      "metadata": {
        "id": "1CWOT2UHCkWB"
      },
      "execution_count": null,
      "outputs": []
    },
    {
      "cell_type": "code",
      "source": [
        "tokenizer.pad_token_id = tokenizer.eos_token_id\n",
        "\n",
        "sequences = pipeline(KeyDataset(val_ds, 'text'),\n",
        "    batch_size=4,\n",
        "    max_length=255,\n",
        "    do_sample=False,\n",
        "    # top_p = 0.25,\n",
        "    temperature = 0,\n",
        "    # top_k=0,\n",
        "    num_return_sequences=1,\n",
        "    eos_token_id=tokenizer.eos_token_id\n",
        ")\n",
        "responses = []\n",
        "for seq in sequences:\n",
        "   run_inference(seq, responses, answer_key = 'Answer:')\n",
        "\n",
        "print(responses)\n"
      ],
      "metadata": {
        "id": "BUrZfEQ0yHGI"
      },
      "execution_count": null,
      "outputs": []
    },
    {
      "cell_type": "code",
      "source": [
        "len(responses)"
      ],
      "metadata": {
        "colab": {
          "base_uri": "https://localhost:8080/"
        },
        "id": "ZVraHCuWNxcu",
        "outputId": "c7755b45-e744-49bc-f7fb-fa06b8416e09"
      },
      "execution_count": null,
      "outputs": [
        {
          "output_type": "execute_result",
          "data": {
            "text/plain": [
              "88"
            ]
          },
          "metadata": {},
          "execution_count": 7
        }
      ]
    },
    {
      "cell_type": "code",
      "source": [
        "from sklearn import metrics as mcs\n",
        "y_true = [v['MATCH'] for v in val_set[:88]]\n",
        "print(mcs.classification_report(y_true, responses, digits = 4))"
      ],
      "metadata": {
        "colab": {
          "base_uri": "https://localhost:8080/"
        },
        "id": "uFHkoeanKaw0",
        "outputId": "5c84c897-53c4-4a23-974e-503e3165b8f2"
      },
      "execution_count": null,
      "outputs": [
        {
          "output_type": "stream",
          "name": "stdout",
          "text": [
            "              precision    recall  f1-score   support\n",
            "\n",
            "           0     0.4706    0.4103    0.4384        39\n",
            "           1     0.5741    0.6327    0.6019        49\n",
            "\n",
            "    accuracy                         0.5341        88\n",
            "   macro avg     0.5223    0.5215    0.5201        88\n",
            "weighted avg     0.5282    0.5341    0.5294        88\n",
            "\n"
          ]
        }
      ]
    },
    {
      "cell_type": "markdown",
      "source": [
        "Cross check with results from HuggingFace inference endpoint:"
      ],
      "metadata": {
        "id": "2bZNbjON4Q2c"
      }
    },
    {
      "cell_type": "code",
      "source": [
        "import requests\n",
        "\n",
        "API_URL = \"https://api-inference.huggingface.co/models/tiiuae/falcon-7b-instruct\"\n",
        "API_TOKEN = #\"<YOUR_HF_KEY_HERE>\"\n",
        "headers = {\"Authorization\": f\"Bearer {API_TOKEN}\"}\n",
        "\n",
        "def query(payload):\n",
        "\tresponse = requests.post(API_URL, headers=headers, json=payload)\n",
        "\treturn response.json()\n",
        "\n",
        "output1 = query({\n",
        "\t\"inputs\": ''''There are two movie recommendation requests from two users:\n",
        "Request 1: \"Lighthearted movies, about love or friendship, I don't want it to contain any violence.\"\n",
        "Request 2: \"Please recommend me some funny romcom or a feel good movie to watch with my gf!\"\n",
        "Answer the following yes/no question.\n",
        "Question: Can these two users be recommended similar titles?\n",
        "Answer: ''',\n",
        "})\n",
        "output2 = query({\n",
        "\t\"inputs\": '''There are two movie recommendation requests from two users:\n",
        "Request 1: \"Lighthearted movies, about love or friendship, I don't want it to contain any violence.\"\n",
        "Request 2: \"Please recommend me some good action-packed or war movies. No romances pls!\"\n",
        "Answer the following yes/no question.\n",
        "Question: Can these two users be recommended similar titles?\n",
        "Answer: ''',\n",
        "})\n",
        "output1, output2"
      ],
      "metadata": {
        "colab": {
          "base_uri": "https://localhost:8080/"
        },
        "id": "ubwy3AZz6sv3",
        "outputId": "f6b239b8-7311-4198-a60d-c9a760e8532b"
      },
      "execution_count": null,
      "outputs": [
        {
          "output_type": "execute_result",
          "data": {
            "text/plain": [
              "([{'generated_text': '\\'There are two movie recommendation requests from two users:\\nRequest 1: \"Lighthearted movies, about love or friendship, I don\\'t want it to contain any violence.\"\\nRequest 2: \"Please recommend me some funny romcom or a feel good movie to watch with my gf!\"\\nAnswer the following yes/no question.\\nQuestion: Can these two users be recommended similar titles?\\nAnswer: \"Yes\"'}],\n",
              " [{'generated_text': 'There are two movie recommendation requests from two users:\\nRequest 1: \"Lighthearted movies, about love or friendship, I don\\'t want it to contain any violence.\"\\nRequest 2: \"Please recommend me some good action-packed or war movies. No romances pls!\"\\nAnswer the following yes/no question.\\nQuestion: Can these two users be recommended similar titles?\\nAnswer: \"Yes\"'}])"
            ]
          },
          "metadata": {},
          "execution_count": 35
        }
      ]
    },
    {
      "cell_type": "markdown",
      "source": [
        "Falcon-7B is unable to discern between two different requests."
      ],
      "metadata": {
        "id": "L-m8jtFd41Tc"
      }
    },
    {
      "cell_type": "markdown",
      "source": [
        "### Results:\n",
        "On small sample of 88 examples it seems that the small Falcon model does not comprehend the text and is not able to differentiate between two different movie request recommendations."
      ],
      "metadata": {
        "id": "V30H-k_v38Ic"
      }
    },
    {
      "cell_type": "markdown",
      "source": [
        "##2. MPT-7B-instruct\n",
        "\n",
        "The model was trained on data formatted in the dolly-15k format, like below:"
      ],
      "metadata": {
        "id": "rS83-TkJ92Eg"
      }
    },
    {
      "cell_type": "code",
      "source": [
        "INSTRUCTION_KEY = \"### Instruction:\"\n",
        "RESPONSE_KEY = \"### Response:\"\n",
        "INTRO_BLURB = \"Below is an instruction that describes a task. Write a response that appropriately completes the request.\"\n",
        "PROMPT_FOR_GENERATION_FORMAT = \"\"\"{intro}\n",
        "{instruction_key}\n",
        "{instruction}\n",
        "{response_key}\n",
        "\"\"\".format(\n",
        "    intro=INTRO_BLURB,\n",
        "    instruction_key=INSTRUCTION_KEY,\n",
        "    instruction=\"{instruction}\",\n",
        "    response_key=RESPONSE_KEY,\n",
        ")\n",
        "\n",
        "example = '''There are two movie recommendation requests from two users:\n",
        "Request from User 1: \"Lighthearted movies, about love or friendship, I don't want it to contain any violence.\"\n",
        "Request from User 2: \"Please recommend me some good action-packed or war movies. No romances pls!\"\n",
        "Answer the following yes/no question. Can these two users be recommended similar titles?\n",
        "'''\n",
        "fmt_ex = PROMPT_FOR_GENERATION_FORMAT.format(instruction=example)\n",
        "print(fmt_ex)"
      ],
      "metadata": {
        "colab": {
          "base_uri": "https://localhost:8080/"
        },
        "id": "9_e9-Ky0_8Wo",
        "outputId": "7d03ae4c-c2b5-4346-dfeb-383ba10cab85"
      },
      "execution_count": null,
      "outputs": [
        {
          "output_type": "stream",
          "name": "stdout",
          "text": [
            "Below is an instruction that describes a task. Write a response that appropriately completes the request.\n",
            "### Instruction:\n",
            "There are two movie recommendation requests from two users:\n",
            "Request from User 1: \"Lighthearted movies, about love or friendship, I don't want it to contain any violence.\"\n",
            "Request from User 2: \"Please recommend me some good action-packed or war movies. No romances pls!\"\n",
            "Answer the following yes/no question. Can these two users be recommended similar titles?\n",
            "\n",
            "### Response:\n",
            "\n"
          ]
        }
      ]
    },
    {
      "cell_type": "code",
      "source": [
        "import datasets\n",
        "import pandas as pd\n",
        "\n",
        "SAMPLE_NUM = 88 #1816\n",
        "\n",
        "def get_query(sample):\n",
        "    example = f'''There are two movie recommendation requests from two users:\n",
        "Request from User 1: \"{sample['query']}\"\n",
        "Request from User 2: \"{sample['submission']}\"\n",
        "Answer the following yes/no question. Can these two users be recommended similar titles?\n",
        "Answer:'''\n",
        "    return example #PROMPT_FOR_GENERATION_FORMAT.format(instruction=example)\n",
        "\n",
        "def get_datapoint(sample):\n",
        "    q = get_query(sample)\n",
        "    return {'text': q}\n",
        "\n",
        "val_set_queries = list(map(get_datapoint, val_set[:SAMPLE_NUM]))\n",
        "val_ds = datasets.Dataset.from_pandas(pd.DataFrame(data = val_set_queries))\n",
        "print(val_set_queries[0]['text']), val_ds"
      ],
      "metadata": {
        "colab": {
          "base_uri": "https://localhost:8080/"
        },
        "id": "QDl8ZGZXBgez",
        "outputId": "4c52e3ff-c278-4b78-89d2-5200707fda4f"
      },
      "execution_count": null,
      "outputs": [
        {
          "output_type": "stream",
          "name": "stdout",
          "text": [
            "There are two movie recommendation requests from two users:\n",
            "Request from User 1: \"Movies exactly like Fantastic Mr Ripley and Match Point?Looking for movies where the main character is an impostor/liar/con man who cheats, lies, manipulates his way into a wealthy family. Exactly like that.\n",
            " \n",
            "(Please do not suggest Parasite cause it's not the same movie. Once in every 24 hours, somebody recommends Parasite in this sub even if it's an unrelated movie)\"\n",
            "Request from User 2: \"Movies where the protagonist is a con artist. Suggest me some movies where the protagonist is a con artist. Movies like Catch me if you can, Matchstick Men, The Wolf of Wall Street, The Imposter, etc. Thanks a lot!!\"\n",
            "Answer the following yes/no question. Can these two users be recommended similar titles?\n",
            "Answer:\n"
          ]
        },
        {
          "output_type": "execute_result",
          "data": {
            "text/plain": [
              "(None,\n",
              " Dataset({\n",
              "     features: ['text'],\n",
              "     num_rows: 88\n",
              " }))"
            ]
          },
          "metadata": {},
          "execution_count": 39
        }
      ]
    },
    {
      "cell_type": "code",
      "source": [
        "from transformers import AutoTokenizer, AutoModelForCausalLM\n",
        "from transformers.pipelines.pt_utils import KeyDataset\n",
        "import transformers\n",
        "import torch\n",
        "\n",
        "def init_model():\n",
        "    model_name = \"mosaicml/mpt-7b-instruct\"\n",
        "    config = transformers.AutoConfig.from_pretrained(model_name, trust_remote_code=True)\n",
        "    config.attn_config['attn_impl'] = 'triton'\n",
        "    config.init_device = 'cuda:0' # For fast initialization directly on GPU!\n",
        "\n",
        "\n",
        "    tokenizer = AutoTokenizer.from_pretrained(\"EleutherAI/gpt-neox-20b\")\n",
        "\n",
        "    pipeline = transformers.pipeline(\n",
        "        \"text-generation\",\n",
        "        model=model_name,\n",
        "        tokenizer=tokenizer,\n",
        "        torch_dtype=torch.bfloat16,\n",
        "        trust_remote_code=True,\n",
        "        device_map=\"auto\",\n",
        "        # batch_size=8\n",
        "    )\n",
        "    return pipeline, tokenizer\n",
        "\n",
        "\n",
        "pipeline, tokenizer = init_model()"
      ],
      "metadata": {
        "id": "gsbJOaCv6tEP"
      },
      "execution_count": null,
      "outputs": []
    },
    {
      "cell_type": "code",
      "source": [
        "tokenizer.pad_token_id = tokenizer.eos_token_id\n",
        "\n",
        "sequences = pipeline(KeyDataset(val_ds, 'text'),\n",
        "    # batch_size=4,\n",
        "    max_length=100,\n",
        "    do_sample=False,\n",
        "    # top_p = 0.25,\n",
        "    temperature = 0,\n",
        "    # top_k=0,\n",
        "    num_return_sequences=1,\n",
        "    use_cache=True,\n",
        "    eos_token_id=tokenizer.eos_token_id\n",
        ")\n",
        "\n",
        "responses = []\n",
        "for seq in sequences:\n",
        "    run_inference(seq, responses, answer_key = 'Answer:')\n",
        "\n",
        "print(responses)\n"
      ],
      "metadata": {
        "colab": {
          "base_uri": "https://localhost:8080/"
        },
        "id": "3uWWRM226tGc",
        "outputId": "39d4de6f-e909-44a4-c023-9790f400cee0"
      },
      "execution_count": null,
      "outputs": [
        {
          "output_type": "stream",
          "name": "stderr",
          "text": [
            "Setting `pad_token_id` to `eos_token_id`:0 for open-end generation.\n",
            "Setting `pad_token_id` to `eos_token_id`:0 for open-end generation.\n"
          ]
        },
        {
          "output_type": "stream",
          "name": "stdout",
          "text": [
            "There are two movie recommendation requests from two users:\n",
            "Request from User 1: \"Movies exactly like Fantastic Mr Ripley and Match Point?Looking for movies where the main character is an impostor/liar/con man who cheats, lies, manipulates his way into a wealthy family. Exactly like that.\n",
            " \n",
            "(Please do not suggest Parasite cause it's not the same movie. Once in every 24 hours, somebody recommends Parasite in this sub even if it's an unrelated movie)\"\n",
            "Request from User 2: \"Movies where the protagonist is a con artist. Suggest me some movies where the protagonist is a con artist. Movies like Catch me if you can, Matchstick Men, The Wolf of Wall Street, The Imposter, etc. Thanks a lot!!\"\n",
            "Answer the following yes/no question. Can these two users be recommended similar titles?\n",
            "Answer: No\n",
            " No\n"
          ]
        },
        {
          "output_type": "stream",
          "name": "stderr",
          "text": [
            "Setting `pad_token_id` to `eos_token_id`:0 for open-end generation.\n"
          ]
        },
        {
          "output_type": "stream",
          "name": "stdout",
          "text": [
            "There are two movie recommendation requests from two users:\n",
            "Request from User 1: \"Movies exactly like Fantastic Mr Ripley and Match Point?Looking for movies where the main character is an impostor/liar/con man who cheats, lies, manipulates his way into a wealthy family. Exactly like that.\n",
            " \n",
            "(Please do not suggest Parasite cause it's not the same movie. Once in every 24 hours, somebody recommends Parasite in this sub even if it's an unrelated movie)\"\n",
            "Request from User 2: \"Looking for movies where main character is the victim of an elaborate ruse, where everyone they know is eventually revealed to have been an actor after they’ve been fooled/manipulated/entrapped.Bonus points if the main character’s reputation is ruined as a result of the actions they took under these false pretenses.\"\n",
            "Answer the following yes/no question. Can these two users be recommended similar titles?\n",
            "Answer: No\n",
            " No\n"
          ]
        },
        {
          "output_type": "stream",
          "name": "stderr",
          "text": [
            "Setting `pad_token_id` to `eos_token_id`:0 for open-end generation.\n"
          ]
        },
        {
          "output_type": "stream",
          "name": "stdout",
          "text": [
            "There are two movie recommendation requests from two users:\n",
            "Request from User 1: \"movies with strong sibling relationships. either already established or developing throughout the movie\"\n",
            "Request from User 2: \"MOVIES/DRAMAS WITH AMAZING BROTHER BROTHER/ SIBLING RELATIONSHIPS. I'm desperately looking for dramas/movies about the older brother taking the parent role after the death of parents or because of having abusive parents, having to protect and deeply care for his siblings. I've enjoyed the outsiders, for my brother, Tex.\n",
            "Please recommend any movies with amazing brotherly/sibling relationships the more tragic the better xD\"\n",
            "Answer the following yes/no question. Can these two users be recommended similar titles?\n",
            "Answer: No\n",
            " No\n"
          ]
        },
        {
          "output_type": "stream",
          "name": "stderr",
          "text": [
            "Setting `pad_token_id` to `eos_token_id`:0 for open-end generation.\n"
          ]
        },
        {
          "output_type": "stream",
          "name": "stdout",
          "text": [
            "There are two movie recommendation requests from two users:\n",
            "Request from User 1: \"movies with strong sibling relationships. either already established or developing throughout the movie\"\n",
            "Request from User 2: \"Best films about rich kids and heirs?I want movies that involve children of rich people in the style of gossip girl and other family intrigues\"\n",
            "Answer the following yes/no question. Can these two users be recommended similar titles?\n",
            "Answer: No, these two users have very different tastes.\n",
            " No, these two users have very different tastes.\n"
          ]
        },
        {
          "output_type": "stream",
          "name": "stderr",
          "text": [
            "Setting `pad_token_id` to `eos_token_id`:0 for open-end generation.\n"
          ]
        },
        {
          "output_type": "stream",
          "name": "stdout",
          "text": [
            "There are two movie recommendation requests from two users:\n",
            "Request from User 1: \"films that will ruin me. Im looking for an emotionally destructive film, one that will make me cry n consume me for days, other films like what im looking for are donnie darko, submarine and beautiful boy hmm, any suggestions are welcome!\"\n",
            "Request from User 2: \"A movie that will emotionally destroy me. Recommendations for any film that will leave me in floods of tears and emotionally distraught please.\"\n",
            "Answer the following yes/no question. Can these two users be recommended similar titles?\n",
            "Answer: No\n",
            " No\n"
          ]
        },
        {
          "output_type": "stream",
          "name": "stderr",
          "text": [
            "Setting `pad_token_id` to `eos_token_id`:0 for open-end generation.\n"
          ]
        },
        {
          "output_type": "stream",
          "name": "stdout",
          "text": [
            "There are two movie recommendation requests from two users:\n",
            "Request from User 1: \"films that will ruin me. Im looking for an emotionally destructive film, one that will make me cry n consume me for days, other films like what im looking for are donnie darko, submarine and beautiful boy hmm, any suggestions are welcome!\"\n",
            "Request from User 2: \"Movies similar to Vivarium (2020). Just watched Vivarium and it broke my mind, suggestions to films just as good? \n",
            "Doesn't have to be the same genre but something just as life ruining would be great thanks\"\n",
            "Answer the following yes/no question. Can these two users be recommended similar titles?\n",
            "Answer: No\n",
            " No\n"
          ]
        },
        {
          "output_type": "stream",
          "name": "stderr",
          "text": [
            "Setting `pad_token_id` to `eos_token_id`:0 for open-end generation.\n"
          ]
        },
        {
          "output_type": "stream",
          "name": "stdout",
          "text": [
            "There are two movie recommendation requests from two users:\n",
            "Request from User 1: \"Netflix (au) movie suggestions. Hey all, looking for some movies that my mother would be interested in watching, since she's always asking me to put films to watch but our tastes are way different. Movies she enjoys are usually war-related or finance related or are realistic really.\n",
            "\\- Darkest Hour (2017)\n",
            "\\- 1917\n",
            "\\- Jojo Rabbit\n",
            "\\- Saving Private Ryan\n",
            "\\- The Big Short (2015)\n",
            "\\- The Irishman\n",
            " \n",
            "Or movies similar to Hot Fuzz, The Hitman's Bodyguard, The Nice Guys, The Other Guys, Focus. Thanks in advance.\"\n",
            "Request from User 2: \"Looking for movies that my mother will actually think are super good. Over the past month or so, I've shown my mom a number of different movies. I've shown her some of my favorites such as JoJo Rabbit (She wasn't against it, but thought it was way out there), Her (also thought it was way out there, she didn't even finish it), Snowpiercer (thought it was aight), Uncut Gems (liked it a bit), Knives Out (this one might've been her favorite of these), 1917 (thought it was out there and didn't really get it, but she liked it), and Little Women (neither of us liked this one).\n",
            "On top of these films, I've gotten her to watch the Netflix series Dark (which she enjoyed the mystery aspect of it), and we just finished HBO's Chernobyl (appreciated the way it was created, but found it a bit confusing to follow along because of the dialogue and dialects).\n",
            "I'm planning on showing her Sicario and 21 Bridges next as she seems to have a fondness for grounded in reality action-ey type films. I will gladly take any other suggestions that probably shouldn't be foreign because she isn't too big of a fan of subtitles.\n",
            "Note: She actively watches Hallmark movies so there is definitely a chance she has a bad movie taste.\n",
            "Thank you in advance!\"\n",
            "Answer the following yes/no question. Can these two users be recommended similar titles?\n",
            "Answer: No\n",
            " No\n"
          ]
        },
        {
          "output_type": "stream",
          "name": "stderr",
          "text": [
            "Setting `pad_token_id` to `eos_token_id`:0 for open-end generation.\n"
          ]
        },
        {
          "output_type": "stream",
          "name": "stdout",
          "text": [
            "There are two movie recommendation requests from two users:\n",
            "Request from User 1: \"Netflix (au) movie suggestions. Hey all, looking for some movies that my mother would be interested in watching, since she's always asking me to put films to watch but our tastes are way different. Movies she enjoys are usually war-related or finance related or are realistic really.\n",
            "\\- Darkest Hour (2017)\n",
            "\\- 1917\n",
            "\\- Jojo Rabbit\n",
            "\\- Saving Private Ryan\n",
            "\\- The Big Short (2015)\n",
            "\\- The Irishman\n",
            " \n",
            "Or movies similar to Hot Fuzz, The Hitman's Bodyguard, The Nice Guys, The Other Guys, Focus. Thanks in advance.\"\n",
            "Request from User 2: \"Looking for a thriller/drama type movie to look with my mum. Hey!\n",
            "I am looking for a fun movie to watch with my mum. She's a very sweet woman who is closing her eyes on brutal scenes or monsters so it can't be anything in that direction.\n",
            "I also don't wanna bore myself with romantic/comedy type movies so I kinda struggle to find a good one.\n",
            "I'm thinking about a movie like Green Book for example. Preferably available on Netflix (Germany) as the offer varies between countries.\n",
            "Any ideas?\"\n",
            "Answer the following yes/no question. Can these two users be recommended similar titles?\n",
            "Answer: No\n",
            " No\n"
          ]
        },
        {
          "output_type": "stream",
          "name": "stderr",
          "text": [
            "/usr/local/lib/python3.10/dist-packages/transformers/generation/utils.py:1268: UserWarning: Input length of input_ids is 362, but `max_length` is set to 100. This can lead to unexpected behavior. You should consider increasing `max_new_tokens`.\n",
            "  warnings.warn(\n",
            "Setting `pad_token_id` to `eos_token_id`:0 for open-end generation.\n"
          ]
        },
        {
          "output_type": "stream",
          "name": "stdout",
          "text": [
            "There are two movie recommendation requests from two users:\n",
            "Request from User 1: \"Best movies to watch while on a cardio machine:. What are some good and fun movies to watch while doing cardio on a machine:\n",
            "Requirements:\n",
            "- Tone: upbeat, fun, lighthearted, adventurous, bright, Inspiring, Motivational, etc\n",
            "- Genre(s) : Action/Adventure, Sports, Dum- Fun blockbusters, Inspirational, Motivational, Little-Bit of comedy, Superhero(though have watched a lot of them), or anything else amongst those lines...\n",
            "- Where they don’t require a huge attention span, easy to follow, are engaging, or even films you guys watch if you do cardio\n",
            "- Has to be on Netflix and am interested in ones that are constantly playing on Cable, please label either Netflix , Cable, or both.\"\n",
            "Request from User 2: \"Looking for movies to watch while working out. Due to time constraints most of my movie watching time gets combined with exercise but I'm open to a pretty wide range of potential stuff. Doesn't have to be limited to action/violent movies, thrillers or ones with sports or other extreme athletic feats. From a physiological perspective having an activated sympathetic nervous system usually makes the 3 F's (fight, flight and fornicate) more intriguing but something that is really good and engrossing always works. For example I was running while being blow away by Whiplash the other day and that doesn't really fit the typical mold. \n",
            "Thanks in advance for suggestions and I'm excited to hear what you guys come up with.\"\n",
            "Answer the following yes/no question. Can these two users be recommended similar titles?\n",
            "Answer: No\n",
            " No\n"
          ]
        },
        {
          "output_type": "stream",
          "name": "stderr",
          "text": [
            "/usr/local/lib/python3.10/dist-packages/transformers/generation/utils.py:1268: UserWarning: Input length of input_ids is 329, but `max_length` is set to 100. This can lead to unexpected behavior. You should consider increasing `max_new_tokens`.\n",
            "  warnings.warn(\n",
            "Setting `pad_token_id` to `eos_token_id`:0 for open-end generation.\n"
          ]
        },
        {
          "output_type": "stream",
          "name": "stdout",
          "text": [
            "There are two movie recommendation requests from two users:\n",
            "Request from User 1: \"Best movies to watch while on a cardio machine:. What are some good and fun movies to watch while doing cardio on a machine:\n",
            "Requirements:\n",
            "- Tone: upbeat, fun, lighthearted, adventurous, bright, Inspiring, Motivational, etc\n",
            "- Genre(s) : Action/Adventure, Sports, Dum- Fun blockbusters, Inspirational, Motivational, Little-Bit of comedy, Superhero(though have watched a lot of them), or anything else amongst those lines...\n",
            "- Where they don’t require a huge attention span, easy to follow, are engaging, or even films you guys watch if you do cardio\n",
            "- Has to be on Netflix and am interested in ones that are constantly playing on Cable, please label either Netflix , Cable, or both.\"\n",
            "Request from User 2: \"Best movies to watch while multitasking?One thing I'm really guilty of sometimes is doing something else while I watch movies. I read up or do some work while a movie is streaming on my laptop (the movie takes up half the screen while the other half is used to do pretty much anything). \n",
            "I'm looking for some recommendations on easy watches that are multitasking-friendly. With that, I try to avoid foreign language films or movies with really complex plots. I've tried those movies but I ended up rewinding every minute.\"\n",
            "Answer the following yes/no question. Can these two users be recommended similar titles?\n",
            "Answer: No\n",
            " No\n"
          ]
        },
        {
          "output_type": "stream",
          "name": "stderr",
          "text": [
            "/usr/local/lib/python3.10/dist-packages/transformers/generation/utils.py:1268: UserWarning: Input length of input_ids is 180, but `max_length` is set to 100. This can lead to unexpected behavior. You should consider increasing `max_new_tokens`.\n",
            "  warnings.warn(\n",
            "Setting `pad_token_id` to `eos_token_id`:0 for open-end generation.\n"
          ]
        },
        {
          "output_type": "stream",
          "name": "stdout",
          "text": [
            "There are two movie recommendation requests from two users:\n",
            "Request from User 1: \"Any suggestions for good psychological thrillers like Requiem for a Dream? Or something like Fight Club?I like thrillers that are fast paced. They can be dark but not in the usual horror movie way.\"\n",
            "Request from User 2: \"Psychological Thriller Movies. So I have watched: The identity, The Primal Fear, Usual Suspects, American Psycho, The Game, Fight Club, Vanilla Sky, Side Effects, Fracture, Fractured.\n",
            "I'm looking for movies similar to any of these. A hi t of mystery is also good. I really liked Primal Fear, though!\n",
            "All suggestions are welcome.\n",
            "Cheers.\"\n",
            "Answer the following yes/no question. Can these two users be recommended similar titles?\n",
            "Answer: No\n",
            " No\n"
          ]
        },
        {
          "output_type": "stream",
          "name": "stderr",
          "text": [
            "/usr/local/lib/python3.10/dist-packages/transformers/generation/utils.py:1268: UserWarning: Input length of input_ids is 143, but `max_length` is set to 100. This can lead to unexpected behavior. You should consider increasing `max_new_tokens`.\n",
            "  warnings.warn(\n",
            "Setting `pad_token_id` to `eos_token_id`:0 for open-end generation.\n"
          ]
        },
        {
          "output_type": "stream",
          "name": "stdout",
          "text": [
            "There are two movie recommendation requests from two users:\n",
            "Request from User 1: \"Survival movies?Hey, I want to see some survival movies like cast away or maybe even life if pi\"\n",
            "Request from User 2: \"i just basically want survival movies. For example like space movies like\n",
            ">Interstellar\n",
            ">The martian\n",
            " \n",
            "Or escaping from disasters like\n",
            ">Geostorm\n",
            ">Green land\n",
            "Or fighting something for example like\n",
            ">The tomorrow war\n",
            ">Bird box\n",
            ">The 5th wave\n",
            "I think by those examples you can understand what am looking for...\"\n",
            "Answer the following yes/no question. Can these two users be recommended similar titles?\n",
            "Answer: No\n",
            " No\n"
          ]
        },
        {
          "output_type": "stream",
          "name": "stderr",
          "text": [
            "/usr/local/lib/python3.10/dist-packages/transformers/generation/utils.py:1268: UserWarning: Input length of input_ids is 209, but `max_length` is set to 100. This can lead to unexpected behavior. You should consider increasing `max_new_tokens`.\n",
            "  warnings.warn(\n",
            "Setting `pad_token_id` to `eos_token_id`:0 for open-end generation.\n"
          ]
        },
        {
          "output_type": "stream",
          "name": "stdout",
          "text": [
            "There are two movie recommendation requests from two users:\n",
            "Request from User 1: \"Looking for a well directed Japanese or Korean buddy cop film. I recently watched Memories of Murder, and was looking for something similar. I also recalled watching a Japanese film called something like 'Battle without honor or humanity' (It had the song used in Kill Bill, its the main theme of this movie). If anyone knows something like this any help would be great.\"\n",
            "Request from User 2: \"Non-horror movies where the villain hunts down the main characters without any help?Just finished a netflix Korean movie called Time to Hunt and I was wondering if there are other movies that are similar that aren't horror. Doesn't have to be Korean but I would prefer if the villain worked alone. Its ok if they are part of some organization, but they should not use any nameless henchmen to do their dirty work.\"\n",
            "Answer the following yes/no question. Can these two users be recommended similar titles?\n",
            "Answer: No\n",
            " No\n"
          ]
        },
        {
          "output_type": "stream",
          "name": "stderr",
          "text": [
            "/usr/local/lib/python3.10/dist-packages/transformers/generation/utils.py:1268: UserWarning: Input length of input_ids is 177, but `max_length` is set to 100. This can lead to unexpected behavior. You should consider increasing `max_new_tokens`.\n",
            "  warnings.warn(\n",
            "Setting `pad_token_id` to `eos_token_id`:0 for open-end generation.\n"
          ]
        },
        {
          "output_type": "stream",
          "name": "stdout",
          "text": [
            "There are two movie recommendation requests from two users:\n",
            "Request from User 1: \"Looking for a well directed Japanese or Korean buddy cop film. I recently watched Memories of Murder, and was looking for something similar. I also recalled watching a Japanese film called something like 'Battle without honor or humanity' (It had the song used in Kill Bill, its the main theme of this movie). If anyone knows something like this any help would be great.\"\n",
            "Request from User 2: \"Hong Kong buddy cop movies.What are some good Hong Kong buddy cop movies? I don't know why but I have the urge to watch a buddy cop set in Hong Kong. Preferably vintage but I don't mind either way. Any suggestion would be helpful, thank you.\"\n",
            "Answer the following yes/no question. Can these two users be recommended similar titles?\n",
            "Answer: No\n",
            " No\n"
          ]
        },
        {
          "output_type": "stream",
          "name": "stderr",
          "text": [
            "/usr/local/lib/python3.10/dist-packages/transformers/generation/utils.py:1268: UserWarning: Input length of input_ids is 150, but `max_length` is set to 100. This can lead to unexpected behavior. You should consider increasing `max_new_tokens`.\n",
            "  warnings.warn(\n",
            "Setting `pad_token_id` to `eos_token_id`:0 for open-end generation.\n"
          ]
        },
        {
          "output_type": "stream",
          "name": "stdout",
          "text": [
            "There are two movie recommendation requests from two users:\n",
            "Request from User 1: \"Had a few drinks. Smart comedy film?Had some great selections earlier from this community. \n",
            "Had a few drinks and fancy watching something funny. \n",
            "In the realm of Four Lions or In the loop please. \n",
            "Doesn't have to British.\n",
            "Something dry, cringe and witty maybe?\"\n",
            "Request from User 2: \"Anyone have any good brutish comedy movie recommendations?I’ve already watched the inbetweeners movie, mike Bassett English manager and others especially anything niche \n",
            "Movies like brassed off\"\n",
            "Answer the following yes/no question. Can these two users be recommended similar titles?\n",
            "Answer: No\n",
            " No\n"
          ]
        },
        {
          "output_type": "stream",
          "name": "stderr",
          "text": [
            "/usr/local/lib/python3.10/dist-packages/transformers/generation/utils.py:1268: UserWarning: Input length of input_ids is 173, but `max_length` is set to 100. This can lead to unexpected behavior. You should consider increasing `max_new_tokens`.\n",
            "  warnings.warn(\n",
            "Setting `pad_token_id` to `eos_token_id`:0 for open-end generation.\n"
          ]
        },
        {
          "output_type": "stream",
          "name": "stdout",
          "text": [
            "There are two movie recommendation requests from two users:\n",
            "Request from User 1: \"Had a few drinks. Smart comedy film?Had some great selections earlier from this community. \n",
            "Had a few drinks and fancy watching something funny. \n",
            "In the realm of Four Lions or In the loop please. \n",
            "Doesn't have to British.\n",
            "Something dry, cringe and witty maybe?\"\n",
            "Request from User 2: \"Looking for a movie to get drunk to. Looking for a movie for me and my friend to get drunk to and pass the time. Doesn’t have to be good. Just good enough to keep our interest while we drink. Something funny preferable. For context we just watched velocipastor yesterday and loved it\"\n",
            "Answer the following yes/no question. Can these two users be recommended similar titles?\n",
            "Answer: No\n",
            " No\n"
          ]
        },
        {
          "output_type": "stream",
          "name": "stderr",
          "text": [
            "/usr/local/lib/python3.10/dist-packages/transformers/generation/utils.py:1268: UserWarning: Input length of input_ids is 152, but `max_length` is set to 100. This can lead to unexpected behavior. You should consider increasing `max_new_tokens`.\n",
            "  warnings.warn(\n",
            "Setting `pad_token_id` to `eos_token_id`:0 for open-end generation.\n"
          ]
        },
        {
          "output_type": "stream",
          "name": "stdout",
          "text": [
            "There are two movie recommendation requests from two users:\n",
            "Request from User 1: \"Movies with lesser known events of wars that changed the course of the war. Recently i have watched two movies The imitation Game and the Courier both were depicting some lesser known events during the WW2 and Cold War respectively that changed the course of war\n",
            "Please suggest some more such movies\"\n",
            "Request from User 2: \"Pivotal War Moments. More movies like The Imitation Game or A Beautiful Mind where it’s behind the scenes or behind the front lines that the tide turns. (Doesn’t have to be based on true stories)\"\n",
            "Answer the following yes/no question. Can these two users be recommended similar titles?\n",
            "Answer: No\n",
            " No\n"
          ]
        },
        {
          "output_type": "stream",
          "name": "stderr",
          "text": [
            "/usr/local/lib/python3.10/dist-packages/transformers/generation/utils.py:1268: UserWarning: Input length of input_ids is 137, but `max_length` is set to 100. This can lead to unexpected behavior. You should consider increasing `max_new_tokens`.\n",
            "  warnings.warn(\n",
            "Setting `pad_token_id` to `eos_token_id`:0 for open-end generation.\n"
          ]
        },
        {
          "output_type": "stream",
          "name": "stdout",
          "text": [
            "There are two movie recommendation requests from two users:\n",
            "Request from User 1: \"Movies with lesser known events of wars that changed the course of the war. Recently i have watched two movies The imitation Game and the Courier both were depicting some lesser known events during the WW2 and Cold War respectively that changed the course of war\n",
            "Please suggest some more such movies\"\n",
            "Request from User 2: \"SciFi movies that take place during real historical events (ex: Kong skull island takes place during the vietnam war!) thank you for your suggestions :). \"\n",
            "Answer the following yes/no question. Can these two users be recommended similar titles?\n",
            "Answer: No\n",
            " No\n"
          ]
        },
        {
          "output_type": "stream",
          "name": "stderr",
          "text": [
            "/usr/local/lib/python3.10/dist-packages/transformers/generation/utils.py:1268: UserWarning: Input length of input_ids is 142, but `max_length` is set to 100. This can lead to unexpected behavior. You should consider increasing `max_new_tokens`.\n",
            "  warnings.warn(\n",
            "Setting `pad_token_id` to `eos_token_id`:0 for open-end generation.\n"
          ]
        },
        {
          "output_type": "stream",
          "name": "stdout",
          "text": [
            "There are two movie recommendation requests from two users:\n",
            "Request from User 1: \"Can anyone recommend me a really good British tv/web series that i could binge watch on?Not a crime drama/thriller but something light  romcoms etc. Something like Emily in Paris but more like Emily in London kinda theme.\"\n",
            "Request from User 2: \"Any suggestions for British themed romantic comedies ?Im looking to watch movies like Bridget Jones, About a Boy, The Holiday, and Notting Hill. I love British TV shows but haven’t watched many British movies.\"\n",
            "Answer the following yes/no question. Can these two users be recommended similar titles?\n",
            "Answer: No\n",
            " No\n"
          ]
        },
        {
          "output_type": "stream",
          "name": "stderr",
          "text": [
            "Setting `pad_token_id` to `eos_token_id`:0 for open-end generation.\n"
          ]
        },
        {
          "output_type": "stream",
          "name": "stdout",
          "text": [
            "There are two movie recommendation requests from two users:\n",
            "Request from User 1: \"Can anyone recommend me a really good British tv/web series that i could binge watch on?Not a crime drama/thriller but something light  romcoms etc. Something like Emily in Paris but more like Emily in London kinda theme.\"\n",
            "Request from User 2: \"TV shows like HIMYM. Can someone please suggest romantic web series/sitcoms like friends, how I met your mother?\n",
            "I am basically lokloking for a romantic sitcoms with mature themes. Please don't suggest teens romantic  shows.\"\n",
            "Answer the following yes/no question. Can these two users be recommended similar titles?\n",
            "Answer: No\n",
            " No\n"
          ]
        },
        {
          "output_type": "stream",
          "name": "stderr",
          "text": [
            "Setting `pad_token_id` to `eos_token_id`:0 for open-end generation.\n"
          ]
        },
        {
          "output_type": "stream",
          "name": "stdout",
          "text": [
            "There are two movie recommendation requests from two users:\n",
            "Request from User 1: \"Comedies about people who fight back against the rat race or their demeaning jobs. Like Office Space, Fun with Dick and Jane, Horrible Bosses\"\n",
            "Request from User 2: \"Movies about hating the job, getting negative thoughts. Hey\n",
            "I'm looking for movies where the main character is fed up with their job, perhaps hates it or gets negative thoughts about it. Or is just stuck in life. Because that's exactly what I'm currently feeling and going through.\n",
            "Perhaps something in the style of Office Space or Garden State.\"\n",
            "Answer the following yes/no question. Can these two users be recommended similar titles?\n",
            "Answer: No\n",
            " No\n"
          ]
        },
        {
          "output_type": "stream",
          "name": "stderr",
          "text": [
            "Setting `pad_token_id` to `eos_token_id`:0 for open-end generation.\n"
          ]
        },
        {
          "output_type": "stream",
          "name": "stdout",
          "text": [
            "There are two movie recommendation requests from two users:\n",
            "Request from User 1: \"Comedies about people who fight back against the rat race or their demeaning jobs. Like Office Space, Fun with Dick and Jane, Horrible Bosses\"\n",
            "Request from User 2: \"Movies to inspire productivity?Kind of an odd request, but I'm looking for movies that will get me excited or at least in the right mindset to get some boring work done. Maybe movies with rocky-esque training montages but with people buckling down and writing or something. Any help is appreciated. (And I understand the irony of watching a movie about working instead of just getting to work!)\"\n",
            "Answer the following yes/no question. Can these two users be recommended similar titles?\n",
            "Answer: No\n",
            " No\n"
          ]
        },
        {
          "output_type": "stream",
          "name": "stderr",
          "text": [
            "/usr/local/lib/python3.10/dist-packages/transformers/generation/utils.py:1268: UserWarning: Input length of input_ids is 148, but `max_length` is set to 100. This can lead to unexpected behavior. You should consider increasing `max_new_tokens`.\n",
            "  warnings.warn(\n",
            "Setting `pad_token_id` to `eos_token_id`:0 for open-end generation.\n"
          ]
        },
        {
          "output_type": "stream",
          "name": "stdout",
          "text": [
            "There are two movie recommendation requests from two users:\n",
            "Request from User 1: \"What Movies You Are Eagerly Waiting For To Get Release.I am personally waiting for the release of John Wick Chapter 4 and Fantastic Beasts 3. Please tell me yours.\"\n",
            "Request from User 2: \"Epic action movies that aren't Marvel. I am in the mood for a kick ass action/adventure flick that isn't Marvel. I love stuff like the John Wick movies. We wanted to see *Dune* in theaters but its been postponed forever, and nothing else looks enticing. TIA!\"\n",
            "Answer the following yes/no question. Can these two users be recommended similar titles?\n",
            "Answer: No\n",
            " No\n"
          ]
        },
        {
          "output_type": "stream",
          "name": "stderr",
          "text": [
            "/usr/local/lib/python3.10/dist-packages/transformers/generation/utils.py:1268: UserWarning: Input length of input_ids is 159, but `max_length` is set to 100. This can lead to unexpected behavior. You should consider increasing `max_new_tokens`.\n",
            "  warnings.warn(\n",
            "Setting `pad_token_id` to `eos_token_id`:0 for open-end generation.\n"
          ]
        },
        {
          "output_type": "stream",
          "name": "stdout",
          "text": [
            "There are two movie recommendation requests from two users:\n",
            "Request from User 1: \"What Movies You Are Eagerly Waiting For To Get Release.I am personally waiting for the release of John Wick Chapter 4 and Fantastic Beasts 3. Please tell me yours.\"\n",
            "Request from User 2: \"What’re your most anticipated 2022 movies?When does an upcoming movie get announced and how do I keep track? \n",
            "The last ones a dumb question but how exactly do y’all know if you’re looking forward to a certain movie if the trailer hasn’t dropped yet? Do y’all just read up on it’s director and production company?\"\n",
            "Answer the following yes/no question. Can these two users be recommended similar titles?\n",
            "Answer: No\n",
            " No\n"
          ]
        },
        {
          "output_type": "stream",
          "name": "stderr",
          "text": [
            "/usr/local/lib/python3.10/dist-packages/transformers/generation/utils.py:1268: UserWarning: Input length of input_ids is 156, but `max_length` is set to 100. This can lead to unexpected behavior. You should consider increasing `max_new_tokens`.\n",
            "  warnings.warn(\n",
            "Setting `pad_token_id` to `eos_token_id`:0 for open-end generation.\n"
          ]
        },
        {
          "output_type": "stream",
          "name": "stdout",
          "text": [
            "There are two movie recommendation requests from two users:\n",
            "Request from User 1: \"Looking for raunchy comedy movies or horror movies with ghosts, demons, possession.Looking for newer stuff from the past few years. Adam Sandler, Seth Rogan, Ben stiller type silly raunchy comedy etc. As far as horror not looking for slasher or zombie movies at the moment.\"\n",
            "Request from User 2: \"fun comedy, horror movies.  any movies similar to vicious fun(2020), villains (2019),  porno (2019),you might be the killer (2018),  satanic panic (2019)? like less known hidden gems\"\n",
            "Answer the following yes/no question. Can these two users be recommended similar titles?\n",
            "Answer: No\n",
            " No\n"
          ]
        },
        {
          "output_type": "stream",
          "name": "stderr",
          "text": [
            "/usr/local/lib/python3.10/dist-packages/transformers/generation/utils.py:1268: UserWarning: Input length of input_ids is 310, but `max_length` is set to 100. This can lead to unexpected behavior. You should consider increasing `max_new_tokens`.\n",
            "  warnings.warn(\n",
            "Setting `pad_token_id` to `eos_token_id`:0 for open-end generation.\n"
          ]
        },
        {
          "output_type": "stream",
          "name": "stdout",
          "text": [
            "There are two movie recommendation requests from two users:\n",
            "Request from User 1: \"Good horror, thriller and mystery movies. I need help finding some movies for my Mom and stepdad. My mom isn’t a fan of watching tv but when she does she tends to watch shows from when she was growing up (so older stuff). My stepdad likes more of Mystery, Horror, Thriller, and supernatural stuff. The thing is her and my stepdad have really different taste in movies so they don’t watch a lot together. One show I have noticed they enjoyed together is “Bates Motel”. I never saw Bates motel but from what I kind of know is that it’s a mix of Horror, Thriller, and mystery. So if anyone know any good shows/movies similar to Bates motel can you please recommend me some or any Horror, Thriller and Mystery shows. Also something in that category that is good from the beginning to start.\"\n",
            "Request from User 2: \"Psychological thrillers/mystery. Hey guys I always have movie night with with stepdad and we have run out of movies to watch. We mostly watch horror but ANY recommendations will be awesome. Comedy, Romance, family, or movies similar to like “Blood in Blood out” or “The godfather” or “American Me”. But I would like psychological thrillers. Again ANY is welcomed :)\"\n",
            "Answer the following yes/no question. Can these two users be recommended similar titles?\n",
            "Answer: No\n",
            " No\n"
          ]
        },
        {
          "output_type": "stream",
          "name": "stderr",
          "text": [
            "/usr/local/lib/python3.10/dist-packages/transformers/generation/utils.py:1268: UserWarning: Input length of input_ids is 282, but `max_length` is set to 100. This can lead to unexpected behavior. You should consider increasing `max_new_tokens`.\n",
            "  warnings.warn(\n",
            "Setting `pad_token_id` to `eos_token_id`:0 for open-end generation.\n"
          ]
        },
        {
          "output_type": "stream",
          "name": "stdout",
          "text": [
            "There are two movie recommendation requests from two users:\n",
            "Request from User 1: \"Good horror, thriller and mystery movies. I need help finding some movies for my Mom and stepdad. My mom isn’t a fan of watching tv but when she does she tends to watch shows from when she was growing up (so older stuff). My stepdad likes more of Mystery, Horror, Thriller, and supernatural stuff. The thing is her and my stepdad have really different taste in movies so they don’t watch a lot together. One show I have noticed they enjoyed together is “Bates Motel”. I never saw Bates motel but from what I kind of know is that it’s a mix of Horror, Thriller, and mystery. So if anyone know any good shows/movies similar to Bates motel can you please recommend me some or any Horror, Thriller and Mystery shows. Also something in that category that is good from the beginning to start.\"\n",
            "Request from User 2: \"Looking for a Family Movie (not R). Hi everyone, looking for a movie I can watch with my family, that is rated pg13 or below. We like Thriller, Mysteries, Comedies, Adventures and Fantasies. Any suggestions? Thanks!\"\n",
            "Answer the following yes/no question. Can these two users be recommended similar titles?\n",
            "Answer: No\n",
            " No\n"
          ]
        },
        {
          "output_type": "stream",
          "name": "stderr",
          "text": [
            "/usr/local/lib/python3.10/dist-packages/transformers/generation/utils.py:1268: UserWarning: Input length of input_ids is 178, but `max_length` is set to 100. This can lead to unexpected behavior. You should consider increasing `max_new_tokens`.\n",
            "  warnings.warn(\n",
            "Setting `pad_token_id` to `eos_token_id`:0 for open-end generation.\n"
          ]
        },
        {
          "output_type": "stream",
          "name": "stdout",
          "text": [
            "There are two movie recommendation requests from two users:\n",
            "Request from User 1: \"Movies similar to Jubilee (1978)?I love the style, the music, and that good ol’ punk attitude. It’s an important piece of punk history methinks. \n",
            "Anything that strikes you as similar?\"\n",
            "Request from User 2: \"Any good movies set in the 70s or 80s?I’m looking for movies set in the 70s or 80s. Preferably about music or related to music. Even if the movie just has an awesome soundtrack with music from that era. If the movie was made post 2000s it’d be even better but either way is fine. If you have any suggestions, please let me know! Thanks in advance!\"\n",
            "Answer the following yes/no question. Can these two users be recommended similar titles?\n",
            "Answer: No\n",
            " No\n"
          ]
        },
        {
          "output_type": "stream",
          "name": "stderr",
          "text": [
            "/usr/local/lib/python3.10/dist-packages/transformers/generation/utils.py:1268: UserWarning: Input length of input_ids is 163, but `max_length` is set to 100. This can lead to unexpected behavior. You should consider increasing `max_new_tokens`.\n",
            "  warnings.warn(\n",
            "Setting `pad_token_id` to `eos_token_id`:0 for open-end generation.\n"
          ]
        },
        {
          "output_type": "stream",
          "name": "stdout",
          "text": [
            "There are two movie recommendation requests from two users:\n",
            "Request from User 1: \"Movies similar to Jubilee (1978)?I love the style, the music, and that good ol’ punk attitude. It’s an important piece of punk history methinks. \n",
            "Anything that strikes you as similar?\"\n",
            "Request from User 2: \"Movies with pleasing visuals and nice 70s 80s or even 60s rock music soundtrack.The vibe I am going for is something like maybe The Tender Bar(2021) or Dazed and Confused(1993). Ik these 2 movies is are different genres, but I am looking for indie movies with really good music. Thank you.\"\n",
            "Answer the following yes/no question. Can these two users be recommended similar titles?\n",
            "Answer: No\n",
            " No\n"
          ]
        },
        {
          "output_type": "stream",
          "name": "stderr",
          "text": [
            "/usr/local/lib/python3.10/dist-packages/transformers/generation/utils.py:1268: UserWarning: Input length of input_ids is 127, but `max_length` is set to 100. This can lead to unexpected behavior. You should consider increasing `max_new_tokens`.\n",
            "  warnings.warn(\n",
            "Setting `pad_token_id` to `eos_token_id`:0 for open-end generation.\n"
          ]
        },
        {
          "output_type": "stream",
          "name": "stdout",
          "text": [
            "There are two movie recommendation requests from two users:\n",
            "Request from User 1: \"Movies that take you on a non stop ride. A perfect example of this would be pulp fiction. Where theres constantly shit happening in or out of the characters control.\"\n",
            "Request from User 2: \"Road trip movie? I just wanna see a movie with some people driving around or something like that... Like the movie need for speed where they cross the country with a mustang.\n",
            "It doesn't necessarily have to be road trip.\"\n",
            "Answer the following yes/no question. Can these two users be recommended similar titles?\n",
            "Answer: No\n",
            " No\n"
          ]
        },
        {
          "output_type": "stream",
          "name": "stderr",
          "text": [
            "/usr/local/lib/python3.10/dist-packages/transformers/generation/utils.py:1268: UserWarning: Input length of input_ids is 171, but `max_length` is set to 100. This can lead to unexpected behavior. You should consider increasing `max_new_tokens`.\n",
            "  warnings.warn(\n",
            "Setting `pad_token_id` to `eos_token_id`:0 for open-end generation.\n"
          ]
        },
        {
          "output_type": "stream",
          "name": "stdout",
          "text": [
            "There are two movie recommendation requests from two users:\n",
            "Request from User 1: \"Movies that take you on a non stop ride. A perfect example of this would be pulp fiction. Where theres constantly shit happening in or out of the characters control.\"\n",
            "Request from User 2: \"Movies that involve a lot of driving?To clarify, I'm not talking about crazy car chasing action scenes like the Fast & Furious franchise or anything related to car racing. \n",
            "I'm looking for a movie like Taxi Driver (1976), Collateral (2004), Drive (2011) or Once upon a time in Hollywood (2019), where the protagonists just spend a lot of time driving around, especially if it is in cool locations.\"\n",
            "Answer the following yes/no question. Can these two users be recommended similar titles?\n",
            "Answer: No\n",
            " No\n"
          ]
        },
        {
          "output_type": "stream",
          "name": "stderr",
          "text": [
            "/usr/local/lib/python3.10/dist-packages/transformers/generation/utils.py:1268: UserWarning: Input length of input_ids is 218, but `max_length` is set to 100. This can lead to unexpected behavior. You should consider increasing `max_new_tokens`.\n",
            "  warnings.warn(\n",
            "Setting `pad_token_id` to `eos_token_id`:0 for open-end generation.\n"
          ]
        },
        {
          "output_type": "stream",
          "name": "stdout",
          "text": [
            "There are two movie recommendation requests from two users:\n",
            "Request from User 1: \"Seemingly Perfect Life With Hidden Flaws. Movies where the main character is seemingly perfect , attractive , wealthy , high social status , yet struggles internally , whether they suffer from some sort of mental illness or grapple with childhood trauma. E.G. Bruce Wayne in the Nolan Batman Trilogy , Patrick Bateman in American Psycho , Brandon Sullivan in Shame , etc. \n",
            "Any suggestions are much appreciated !!\"\n",
            "Request from User 2: \"Movie Recommendations? (Protagonist With A Fatal Flaw). I am looking for a movie where the main character has some sort of internal flaw that affects their life in an interesting or significant way. The character doesn't have to overcome the problem, but I'd like for the movie to really set the scene, mood, and get the viewer thinking. Thank you for your suggestions. I look forward  to watching them.\"\n",
            "Answer the following yes/no question. Can these two users be recommended similar titles?\n",
            "Answer: No\n",
            " No\n"
          ]
        },
        {
          "output_type": "stream",
          "name": "stderr",
          "text": [
            "/usr/local/lib/python3.10/dist-packages/transformers/generation/utils.py:1268: UserWarning: Input length of input_ids is 275, but `max_length` is set to 100. This can lead to unexpected behavior. You should consider increasing `max_new_tokens`.\n",
            "  warnings.warn(\n",
            "Setting `pad_token_id` to `eos_token_id`:0 for open-end generation.\n"
          ]
        },
        {
          "output_type": "stream",
          "name": "stdout",
          "text": [
            "There are two movie recommendation requests from two users:\n",
            "Request from User 1: \"Murder Investigation/Missing person Investigation movies.Hey there! I rewatched the Prisoners(2013) yesterday.\n",
            "And i think it's 3rd or 4th time i watched it.\n",
            "I wanna see some murder Investigation or missing person Investigation movies.\n",
            "The movie must be serious,tense,dark, captivating.\n",
            "Suggest me some of your best Investigation movies.\n",
            "I've already seen Memories of murder,prisoners,Girl with dragon tattoo,conf. of murder,Gone girl,zodiac,angel heart,murder on the orient express(branagh),mystic river,changeling.\n",
            "Thank you!!\"\n",
            "Request from User 2: \"Murder/Investigation/Mystery Movies. I’m an avid viewer of murder/investigation shows where detectives/police have to track down a killer & solve the mystery. Looking for movies with similar plots.\n",
            "Ive seen:\n",
            "Gone girl\n",
            "Mystic River\n",
            "The Lovely Bones\n",
            "Prisoners\n",
            "Spotlight\n",
            "And some others I can’t think of ATM.\n",
            "Can you recommend me movies along those lines?\"\n",
            "Answer the following yes/no question. Can these two users be recommended similar titles?\n",
            "Answer: Yes\n",
            " Yes\n"
          ]
        },
        {
          "output_type": "stream",
          "name": "stderr",
          "text": [
            "/usr/local/lib/python3.10/dist-packages/transformers/generation/utils.py:1268: UserWarning: Input length of input_ids is 196, but `max_length` is set to 100. This can lead to unexpected behavior. You should consider increasing `max_new_tokens`.\n",
            "  warnings.warn(\n",
            "Setting `pad_token_id` to `eos_token_id`:0 for open-end generation.\n"
          ]
        },
        {
          "output_type": "stream",
          "name": "stdout",
          "text": [
            "There are two movie recommendation requests from two users:\n",
            "Request from User 1: \"Drug, sex, and money fueled movies like the Wolf of Wall Street?I'm looking for movies like the Wolf of Wall Street. Just a movie with some insane shenanigans with a lot of money, drugs, and sex.\"\n",
            "Request from User 2: \"Feed me, please!Hey! Interesting title, huh? I'm looking for movies about money, greed and power. Where they show the money and what they spend it on! I've already seen The Wolf of Wall Street, Casino, Wall Street 1 and 2, The Great Gatsby, War Dogs, 21... I want to see money, millionaires, cars, nice houses! Doesn't neccesarily have to be about drugs tho. Any help is appreciated, thanks a lot!\"\n",
            "Answer the following yes/no question. Can these two users be recommended similar titles?\n",
            "Answer: No\n",
            " No\n"
          ]
        },
        {
          "output_type": "stream",
          "name": "stderr",
          "text": [
            "/usr/local/lib/python3.10/dist-packages/transformers/generation/utils.py:1268: UserWarning: Input length of input_ids is 258, but `max_length` is set to 100. This can lead to unexpected behavior. You should consider increasing `max_new_tokens`.\n",
            "  warnings.warn(\n",
            "Setting `pad_token_id` to `eos_token_id`:0 for open-end generation.\n"
          ]
        },
        {
          "output_type": "stream",
          "name": "stdout",
          "text": [
            "There are two movie recommendation requests from two users:\n",
            "Request from User 1: \"Drug, sex, and money fueled movies like the Wolf of Wall Street?I'm looking for movies like the Wolf of Wall Street. Just a movie with some insane shenanigans with a lot of money, drugs, and sex.\"\n",
            "Request from User 2: \"Movie where an average person is pushed to do whatever it takes to help their family/finances.I'm doing research for a planned screenplay and want to watch some movies where an average person is pressured to the point of crossing legal/ethical lines to help out their spouse/family/financial situation.\n",
            "A few guidelines:\n",
            "1.) The character cannot start off already being a criminal or morally scrupulous (i.e. Place Beyond the Pines, Heat)//\n",
            "2.) The family issue cannot be violent (i.e. Taken, family/wife threatened or held for ransom) unless it is a direct effect of the character's actions, not the cause of their actions.\n",
            "Some examples:\n",
            "Money Monster, Boiler Room, 99 Homes, 21, Molly's Game\"\n",
            "Answer the following yes/no question. Can these two users be recommended similar titles?\n",
            "Answer: No\n",
            " No\n"
          ]
        },
        {
          "output_type": "stream",
          "name": "stderr",
          "text": [
            "/usr/local/lib/python3.10/dist-packages/transformers/generation/utils.py:1268: UserWarning: Input length of input_ids is 113, but `max_length` is set to 100. This can lead to unexpected behavior. You should consider increasing `max_new_tokens`.\n",
            "  warnings.warn(\n",
            "Setting `pad_token_id` to `eos_token_id`:0 for open-end generation.\n"
          ]
        },
        {
          "output_type": "stream",
          "name": "stdout",
          "text": [
            "There are two movie recommendation requests from two users:\n",
            "Request from User 1: \"I need a feel good movie. I’m not feeling particularly well mentally right now, so what’s a movie that cheers you up, it could also be a tv show or something else\"\n",
            "Request from User 2: \"Some feel good movies please. Please suggest some movies that will keep my spirits up and will cheer me up, so do ya thing\"\n",
            "Answer the following yes/no question. Can these two users be recommended similar titles?\n",
            "Answer: No\n",
            " No\n"
          ]
        },
        {
          "output_type": "stream",
          "name": "stderr",
          "text": [
            "/usr/local/lib/python3.10/dist-packages/transformers/generation/utils.py:1268: UserWarning: Input length of input_ids is 119, but `max_length` is set to 100. This can lead to unexpected behavior. You should consider increasing `max_new_tokens`.\n",
            "  warnings.warn(\n",
            "Setting `pad_token_id` to `eos_token_id`:0 for open-end generation.\n"
          ]
        },
        {
          "output_type": "stream",
          "name": "stdout",
          "text": [
            "There are two movie recommendation requests from two users:\n",
            "Request from User 1: \"I need a feel good movie. I’m not feeling particularly well mentally right now, so what’s a movie that cheers you up, it could also be a tv show or something else\"\n",
            "Request from User 2: \"A feel good movie?Guys I’ve just watched grave of the fireflies and now i need a movie that’ll make me feel good about myself\"\n",
            "Answer the following yes/no question. Can these two users be recommended similar titles?\n",
            "Answer: No\n",
            " No\n"
          ]
        },
        {
          "output_type": "stream",
          "name": "stderr",
          "text": [
            "Setting `pad_token_id` to `eos_token_id`:0 for open-end generation.\n"
          ]
        },
        {
          "output_type": "stream",
          "name": "stdout",
          "text": [
            "There are two movie recommendation requests from two users:\n",
            "Request from User 1: \"Guys! Do you know similar movies with Frances Ha or maybe Amelie?\"\n",
            "Request from User 2: \"Saw amélie and loved it, similar movies?Particularly loved the atmosphere and the interactions and affection between the people in the movie. Just generally got a feel-good and warm feeling from it and want to experience that again, any recommendations?\"\n",
            "Answer the following yes/no question. Can these two users be recommended similar titles?\n",
            "Answer: No\n",
            " No\n"
          ]
        },
        {
          "output_type": "stream",
          "name": "stderr",
          "text": [
            "Setting `pad_token_id` to `eos_token_id`:0 for open-end generation.\n"
          ]
        },
        {
          "output_type": "stream",
          "name": "stdout",
          "text": [
            "There are two movie recommendation requests from two users:\n",
            "Request from User 1: \"Guys! Do you know similar movies with Frances Ha or maybe Amelie?\"\n",
            "Request from User 2: \"Biologist movies?Looking for movies with biologist(plus if girl) as first character, done in 2015 and up...thank you so much.\"\n",
            "Answer the following yes/no question. Can these two users be recommended similar titles?\n",
            "Answer: No, these two users are not recommended\n",
            " No, these two users are not recommended\n"
          ]
        },
        {
          "output_type": "stream",
          "name": "stderr",
          "text": [
            "/usr/local/lib/python3.10/dist-packages/transformers/generation/utils.py:1268: UserWarning: Input length of input_ids is 364, but `max_length` is set to 100. This can lead to unexpected behavior. You should consider increasing `max_new_tokens`.\n",
            "  warnings.warn(\n",
            "Setting `pad_token_id` to `eos_token_id`:0 for open-end generation.\n"
          ]
        },
        {
          "output_type": "stream",
          "name": "stdout",
          "text": [
            "There are two movie recommendation requests from two users:\n",
            "Request from User 1: \"Look for some movies with mind bending visuals. Im not the biggest movie buff, but with  alot of time on my hands, upgraded tv and a big back of Smart Food Popcorn, I'm starting to binge. So I recently seen Prometheus, great mind bending scale of the ships and the large landscape sweeps. Another one of my favorites is Avatar. As you can tell I enjoy the escape from a great Sci-Fi. So what should I watch next?\"\n",
            "Request from User 2: \"Movies that are both visually stunning and mind bending?One of the best ways for me to relax is smoke and immerse myself in a movie. But I only can really stay focused if it’s the right type of movie. I LOVE movies that have mind bending type themes and are also visually stunning. There also usually sci-fi related. Here are some of my favorites:\n",
            "- Ex Machina\n",
            "- Annihilation\n",
            "- Interstellar\n",
            "- Inception\n",
            "- American Psycho\n",
            "- Matrix\n",
            "But I was also recommended these movies but wasn’t able to fully enjoy them\n",
            "- 2001: A Space Odyssey (get the appeal and liked it overall, just too slow for me)\n",
            "- Moon (thought it was a little too hard to follow)\n",
            "- The Prestige (couldn’t get through it simply cuz the era/setting doesnt interest me that much)\n",
            "So any recommendations based on this? Preferably sci fi but I’m really just looking for movies with cool/trippy visuals that leaves you with questions at the end\"\n",
            "Answer the following yes/no question. Can these two users be recommended similar titles?\n",
            "Answer: No\n",
            " No\n"
          ]
        },
        {
          "output_type": "stream",
          "name": "stderr",
          "text": [
            "Setting `pad_token_id` to `eos_token_id`:0 for open-end generation.\n"
          ]
        },
        {
          "output_type": "stream",
          "name": "stdout",
          "text": [
            "There are two movie recommendation requests from two users:\n",
            "Request from User 1: \"Movies where the protagonist comes back to his hometown after a long time away. I don't know exactly how to explain it. But a movie kinda like the Butterfly Effect where the protagonist leaves his home as a kid and years after he comes back and everything is different\"\n",
            "Request from User 2: \"Coming home, reliving the past type movies.A movie about a person for whatever reason remembering their childhood. Going back to their hometown, visiting family etc that brings back old memories.\n",
            "/Thanks\n",
            "EDIT: Thanks for all the recommendations people!\"\n",
            "Answer the following yes/no question. Can these two users be recommended similar titles?\n",
            "Answer: No\n",
            " No\n"
          ]
        },
        {
          "output_type": "stream",
          "name": "stderr",
          "text": [
            "Setting `pad_token_id` to `eos_token_id`:0 for open-end generation.\n"
          ]
        },
        {
          "output_type": "stream",
          "name": "stdout",
          "text": [
            "There are two movie recommendation requests from two users:\n",
            "Request from User 1: \"Movies where the protagonist comes back to his hometown after a long time away. I don't know exactly how to explain it. But a movie kinda like the Butterfly Effect where the protagonist leaves his home as a kid and years after he comes back and everything is different\"\n",
            "Request from User 2: \"Movies about moving to different places. Hello!\n",
            "I am looking for movies that start with people moving out of state, to a small town, to a different country, or even moving back to their hometown. I think it's intriguing to see people experience new places or places they move to.\n",
            "I look forward to your suggestions. Thank you.\"\n",
            "Answer the following yes/no question. Can these two users be recommended similar titles?\n",
            "Answer: No\n",
            " No\n"
          ]
        },
        {
          "output_type": "stream",
          "name": "stderr",
          "text": [
            "/usr/local/lib/python3.10/dist-packages/transformers/generation/utils.py:1268: UserWarning: Input length of input_ids is 217, but `max_length` is set to 100. This can lead to unexpected behavior. You should consider increasing `max_new_tokens`.\n",
            "  warnings.warn(\n",
            "Setting `pad_token_id` to `eos_token_id`:0 for open-end generation.\n"
          ]
        },
        {
          "output_type": "stream",
          "name": "stdout",
          "text": [
            "There are two movie recommendation requests from two users:\n",
            "Request from User 1: \"Movies where entire story is happening inside of one place. Can someone recommend me good movie where story is happening inside of one place (like hotel). Ive recently watched Identity (2003) and it had that kind of a theme. I guess Shinning has similar theme as well. \n",
            "Preferably mystery/thriller, not horrors or at least not super scary ones\"\n",
            "Request from User 2: \"Movies that revolve around one location?I'm thinking about movies that primarily take place around one setting. It doesn't have to be a single room, and in fact I prefer if it's multiple areas within a location that get revisited over time so that by the end of the movie you kind of form a mental map about where everything is in relation to eachother. \n",
            "For example, Nakatomi Plaza in Die Hard or really any haunted house movie.\"\n",
            "Answer the following yes/no question. Can these two users be recommended similar titles?\n",
            "Answer: No\n",
            " No\n"
          ]
        },
        {
          "output_type": "stream",
          "name": "stderr",
          "text": [
            "/usr/local/lib/python3.10/dist-packages/transformers/generation/utils.py:1268: UserWarning: Input length of input_ids is 167, but `max_length` is set to 100. This can lead to unexpected behavior. You should consider increasing `max_new_tokens`.\n",
            "  warnings.warn(\n",
            "Setting `pad_token_id` to `eos_token_id`:0 for open-end generation.\n"
          ]
        },
        {
          "output_type": "stream",
          "name": "stdout",
          "text": [
            "There are two movie recommendation requests from two users:\n",
            "Request from User 1: \"Movies where entire story is happening inside of one place. Can someone recommend me good movie where story is happening inside of one place (like hotel). Ive recently watched Identity (2003) and it had that kind of a theme. I guess Shinning has similar theme as well. \n",
            "Preferably mystery/thriller, not horrors or at least not super scary ones\"\n",
            "Request from User 2: \"Movies with lots of different settings?Sometimes I'm in the mood for a movie where the location changes a lot. I guess that's today lol.\n",
            " \n",
            "No romance plz\n",
            " \n",
            "Ty for all the suggestions\"\n",
            "Answer the following yes/no question. Can these two users be recommended similar titles?\n",
            "Answer: No\n",
            " No\n"
          ]
        },
        {
          "output_type": "stream",
          "name": "stderr",
          "text": [
            "Setting `pad_token_id` to `eos_token_id`:0 for open-end generation.\n"
          ]
        },
        {
          "output_type": "stream",
          "name": "stdout",
          "text": [
            "There are two movie recommendation requests from two users:\n",
            "Request from User 1: \"movie that someone did something wrong and feel grief but no redemption at the end.I watched a silent voice but the main character has redemption at the end. But I feel it is not so realistic. More likely, everyone just end with sad ending. Maybe a little bit like The hunt (2012). Is there any movie like this?\"\n",
            "Request from User 2: \"Suggest me a sad, bleak movie without a happy ending. Preferably with one lonely main-character living in a modern realistic world\n",
            "I just want to do like they do in fight club: watch people who have it worse to feel better\"\n",
            "Answer the following yes/no question. Can these two users be recommended similar titles?\n",
            "Answer: No\n",
            " No\n"
          ]
        },
        {
          "output_type": "stream",
          "name": "stderr",
          "text": [
            "Setting `pad_token_id` to `eos_token_id`:0 for open-end generation.\n"
          ]
        },
        {
          "output_type": "stream",
          "name": "stdout",
          "text": [
            "There are two movie recommendation requests from two users:\n",
            "Request from User 1: \"movie that someone did something wrong and feel grief but no redemption at the end.I watched a silent voice but the main character has redemption at the end. But I feel it is not so realistic. More likely, everyone just end with sad ending. Maybe a little bit like The hunt (2012). Is there any movie like this?\"\n",
            "Request from User 2: \"Intense action thriller. I’m looking for an intense action thriller, where at least one of the main characters dies, and their death is supposed to be sad. Thanks\"\n",
            "Answer the following yes/no question. Can these two users be recommended similar titles?\n",
            "Answer: No\n",
            " No\n"
          ]
        },
        {
          "output_type": "stream",
          "name": "stderr",
          "text": [
            "/usr/local/lib/python3.10/dist-packages/transformers/generation/utils.py:1268: UserWarning: Input length of input_ids is 246, but `max_length` is set to 100. This can lead to unexpected behavior. You should consider increasing `max_new_tokens`.\n",
            "  warnings.warn(\n",
            "Setting `pad_token_id` to `eos_token_id`:0 for open-end generation.\n"
          ]
        },
        {
          "output_type": "stream",
          "name": "stdout",
          "text": [
            "There are two movie recommendation requests from two users:\n",
            "Request from User 1: \"Looking for Movies like \"Mousehunt (1997)\". I watched this movie in 2011/2012 maybe\n",
            "I quite enjoyed that time as a kid\n",
            "Even rematched it few years back & thought its still good\n",
            "Internationally or unintentionally i always compare it to  \"tom & jerry\"\n",
            "★Are there any other similar movie like this?? Preferably with same concept \n",
            "Or any hilarious comedy family movie from that era 90s or 2000s ?? \n",
            "If not i might rewatch it again\"\n",
            "Request from User 2: \"I've been on a kick lately of watching movies from mid 2000s, I really miss the \"old comedy. Amy suggestions?I've watched a lot of the old Adam Sandler movies, some parody movies like \"scary movie\" for some examples. Anything from like 1998-2014 would be great 😊👍🏻 I think it's the nostalgia feeling of remembering watching these movies when I was younger, and basically forgetting they existed!\"\n",
            "Answer the following yes/no question. Can these two users be recommended similar titles?\n",
            "Answer: No\n",
            " No\n"
          ]
        },
        {
          "output_type": "stream",
          "name": "stderr",
          "text": [
            "/usr/local/lib/python3.10/dist-packages/transformers/generation/utils.py:1268: UserWarning: Input length of input_ids is 290, but `max_length` is set to 100. This can lead to unexpected behavior. You should consider increasing `max_new_tokens`.\n",
            "  warnings.warn(\n",
            "Setting `pad_token_id` to `eos_token_id`:0 for open-end generation.\n"
          ]
        },
        {
          "output_type": "stream",
          "name": "stdout",
          "text": [
            "There are two movie recommendation requests from two users:\n",
            "Request from User 1: \"Looking for Movies like \"Mousehunt (1997)\". I watched this movie in 2011/2012 maybe\n",
            "I quite enjoyed that time as a kid\n",
            "Even rematched it few years back & thought its still good\n",
            "Internationally or unintentionally i always compare it to  \"tom & jerry\"\n",
            "★Are there any other similar movie like this?? Preferably with same concept \n",
            "Or any hilarious comedy family movie from that era 90s or 2000s ?? \n",
            "If not i might rewatch it again\"\n",
            "Request from User 2: \"Requesting: Looking for newer lighthearted comedies similar to Groundhog Day, The Big Short, Trading Places. Hi, I'm looking for some suggestions for movies similar to Groundhog Day, The Big Short, You've Got Mail, and Trading Places. These are some of the movies my mom likes and I'm looking for some new ones for her birthday. Basically my criteria are:\n",
            "* Family friendly-*ish* (avoiding violence and heavy nudity, some R movies may be ok)\n",
            "* Shows of something about contemporary American life or culture\n",
            "* Preferably a comedy (avoiding scifi, fantasy)\n",
            "* Preferably released in the last 5 years\"\n",
            "Answer the following yes/no question. Can these two users be recommended similar titles?\n",
            "Answer: Yes\n",
            " Yes\n"
          ]
        },
        {
          "output_type": "stream",
          "name": "stderr",
          "text": [
            "/usr/local/lib/python3.10/dist-packages/transformers/generation/utils.py:1268: UserWarning: Input length of input_ids is 129, but `max_length` is set to 100. This can lead to unexpected behavior. You should consider increasing `max_new_tokens`.\n",
            "  warnings.warn(\n",
            "Setting `pad_token_id` to `eos_token_id`:0 for open-end generation.\n"
          ]
        },
        {
          "output_type": "stream",
          "name": "stdout",
          "text": [
            "There are two movie recommendation requests from two users:\n",
            "Request from User 1: \"Heist movie recommendations?I recently watch Marauders, which is a heist movie, and I realized I like that genre, and was wondering if anyone has any suggestions on movies that are heist movies. Would greatly appreciate it\"\n",
            "Request from User 2: \"Heist Movie Suggestions. Will someone please drop a few good movies about heist? Can be fictional or based on true events, I don’t mind. Thanks!\"\n",
            "Answer the following yes/no question. Can these two users be recommended similar titles?\n",
            "Answer: No\n",
            " No\n"
          ]
        },
        {
          "output_type": "stream",
          "name": "stderr",
          "text": [
            "/usr/local/lib/python3.10/dist-packages/transformers/generation/utils.py:1268: UserWarning: Input length of input_ids is 299, but `max_length` is set to 100. This can lead to unexpected behavior. You should consider increasing `max_new_tokens`.\n",
            "  warnings.warn(\n",
            "Setting `pad_token_id` to `eos_token_id`:0 for open-end generation.\n"
          ]
        },
        {
          "output_type": "stream",
          "name": "stdout",
          "text": [
            "There are two movie recommendation requests from two users:\n",
            "Request from User 1: \"Movies with booming, pronounced, orchestral scores and a choir (that are also good).I love loud, extravagant orchestra music with choir vocals. I don't care what the genre is as long as it has a larger than life soundtrack.\n",
            "Some examples from different genres below (I can't post the links here, but if you go to YouTube and search):\n",
            "\\- Minos Gary Schyman\n",
            "\\- Folklore To The Unknown World\n",
            "\\- Rat Race Helicopter Dance\n",
            "...the top results are perfect examples of what I'm looking for.\n",
            "The story doesn't have to be Shakespeare, just nothing Michael Bay tier, please. I need to be invested in the story enough to keep watching. Also: *please no MARVEL or any other superhero/supervillain movies of any kind; I will not watch them.*\"\n",
            "Request from User 2: \"Movies with amazing music/background score and an exciting plot.Hey guys, I really like movies with a great score and an exciting plot. The ones which I like include Gladiator, Inception, Hacksaw Ridge, Spirit: Stallion of the Cimmaron, The Dark Knight, Rush, Life of Pi. Can you guys suggest any movies on the similar lines?\"\n",
            "Answer the following yes/no question. Can these two users be recommended similar titles?\n",
            "Answer: No\n",
            " No\n"
          ]
        },
        {
          "output_type": "stream",
          "name": "stderr",
          "text": [
            "Setting `pad_token_id` to `eos_token_id`:0 for open-end generation.\n"
          ]
        },
        {
          "output_type": "stream",
          "name": "stdout",
          "text": [
            "There are two movie recommendation requests from two users:\n",
            "Request from User 1: \"Movies with booming, pronounced, orchestral scores and a choir (that are also good).I love loud, extravagant orchestra music with choir vocals. I don't care what the genre is as long as it has a larger than life soundtrack.\n",
            "Some examples from different genres below (I can't post the links here, but if you go to YouTube and search):\n",
            "\\- Minos Gary Schyman\n",
            "\\- Folklore To The Unknown World\n",
            "\\- Rat Race Helicopter Dance\n",
            "...the top results are perfect examples of what I'm looking for.\n",
            "The story doesn't have to be Shakespeare, just nothing Michael Bay tier, please. I need to be invested in the story enough to keep watching. Also: *please no MARVEL or any other superhero/supervillain movies of any kind; I will not watch them.*\"\n",
            "Request from User 2: \"Movies with background music that complements the plot, like Bambi (1942).I recently watched Bambi and noticed how great the orchestra playing along to the story really added another layer to the viewing experience. I am looking for suggestions for more movies that do that.\"\n",
            "Answer the following yes/no question. Can these two users be recommended similar titles?\n",
            "Answer: No\n",
            " No\n"
          ]
        },
        {
          "output_type": "stream",
          "name": "stderr",
          "text": [
            "/usr/local/lib/python3.10/dist-packages/transformers/generation/utils.py:1268: UserWarning: Input length of input_ids is 320, but `max_length` is set to 100. This can lead to unexpected behavior. You should consider increasing `max_new_tokens`.\n",
            "  warnings.warn(\n",
            "Setting `pad_token_id` to `eos_token_id`:0 for open-end generation.\n"
          ]
        },
        {
          "output_type": "stream",
          "name": "stdout",
          "text": [
            "There are two movie recommendation requests from two users:\n",
            "Request from User 1: \"Looking for good movies suggestions about realistic exploration of the Solar System & beyond. The opposite of Star Wars and other superpowers flicks.\n",
            "Examples of what I'm looking for: Outland, (1979) Alien, The Moon, The Martian, ...\n",
            "The movies that tried but failed imho (due to bad scripts or being too far-fetched) would be Europa, Interstellar, Sunshine.\"\n",
            "Request from User 2: \"Please suggest me deep space exploration movies. I love\n",
            "* Interstellar\n",
            "* Battlestar Galactica\n",
            "* Star Trek\n",
            "* Macross (Robotech)\n",
            "* Lost in space (both movie and tv show)\n",
            "* Yamato\n",
            "* Starship Troopers\n",
            "* A L I E N\n",
            "* A L I E N S\n",
            "* A L I E N 3\n",
            "* P R O M E T H E U S\n",
            "* Solaris (Tarkovsky version)\n",
            "Deep means out of solar system. The Expance and Killjoys are not deep space exploration.\n",
            " \n",
            "Edit: Event Horizon, 2001 A Space Odassy, The Martian, Serenity, Ad Astra are not deep space movies.\n",
            "Edit 2: Today I learnt a new thing. Firefly (Serenity) story doesn't happen on our Solar system. Thank you u/Mynock33  \n",
            " \"\n",
            "Answer the following yes/no question. Can these two users be recommended similar titles?\n",
            "Answer: No\n",
            " No\n"
          ]
        },
        {
          "output_type": "stream",
          "name": "stderr",
          "text": [
            "Setting `pad_token_id` to `eos_token_id`:0 for open-end generation.\n"
          ]
        },
        {
          "output_type": "stream",
          "name": "stdout",
          "text": [
            "There are two movie recommendation requests from two users:\n",
            "Request from User 1: \"Looking for good movies suggestions about realistic exploration of the Solar System & beyond. The opposite of Star Wars and other superpowers flicks.\n",
            "Examples of what I'm looking for: Outland, (1979) Alien, The Moon, The Martian, ...\n",
            "The movies that tried but failed imho (due to bad scripts or being too far-fetched) would be Europa, Interstellar, Sunshine.\"\n",
            "Request from User 2: \"Movies about exploring other galaxies and planets. I'm looking for something which portrays and explores life forms on other planets and outer space, with immersive scenery and visuals, I liked the Martian alot. \n",
            "Thanks in advance\"\n",
            "Answer the following yes/no question. Can these two users be recommended similar titles?\n",
            "Answer: No\n",
            " No\n"
          ]
        },
        {
          "output_type": "stream",
          "name": "stderr",
          "text": [
            "/usr/local/lib/python3.10/dist-packages/transformers/generation/utils.py:1268: UserWarning: Input length of input_ids is 134, but `max_length` is set to 100. This can lead to unexpected behavior. You should consider increasing `max_new_tokens`.\n",
            "  warnings.warn(\n",
            "Setting `pad_token_id` to `eos_token_id`:0 for open-end generation.\n"
          ]
        },
        {
          "output_type": "stream",
          "name": "stdout",
          "text": [
            "There are two movie recommendation requests from two users:\n",
            "Request from User 1: \"Small Town with a dark Secret. Hello i am looking for movies like Clovehitch Killer. Small town (even better if suburban) with a dark secret.  I'm also open to TV shows suggestions. \n",
            "Thank you!\"\n",
            "Request from User 2: \"Small town setting. Looking for small town mystery/thriller type films that have a weird vibe to them but where you feel connected to multiple characters in the town. Can be from any country.\"\n",
            "Answer the following yes/no question. Can these two users be recommended similar titles?\n",
            "Answer: No\n",
            " No\n"
          ]
        },
        {
          "output_type": "stream",
          "name": "stderr",
          "text": [
            "/usr/local/lib/python3.10/dist-packages/transformers/generation/utils.py:1268: UserWarning: Input length of input_ids is 202, but `max_length` is set to 100. This can lead to unexpected behavior. You should consider increasing `max_new_tokens`.\n",
            "  warnings.warn(\n",
            "Setting `pad_token_id` to `eos_token_id`:0 for open-end generation.\n"
          ]
        },
        {
          "output_type": "stream",
          "name": "stdout",
          "text": [
            "There are two movie recommendation requests from two users:\n",
            "Request from User 1: \"Looking for an animated film not aimed towards children.But I’m **not** looking for adult edgy Gross out humor where everything is a sex reference.\n",
            "I want something between Disney and sausage party.  Something pg13 or R rated\"\n",
            "Request from User 2: \"What are some animated movies for adults that aren't over-the-top adult?Over-the-top adult meaning intentionally full of sex, gore and vulgar humour.\n",
            "I'm looking for animated movies that weren't made for kids in mind, or if they were, not just kids. Animated movies that rely on the adult viewer's appreciation for the themes and the quality of the animation. \n",
            "I'm also well acquainted with anime and I'm looking for non-japanese movies.\n",
            "Thanks so much!\"\n",
            "Answer the following yes/no question. Can these two users be recommended similar titles?\n",
            "Answer: No\n",
            " No\n"
          ]
        },
        {
          "output_type": "stream",
          "name": "stderr",
          "text": [
            "Setting `pad_token_id` to `eos_token_id`:0 for open-end generation.\n"
          ]
        },
        {
          "output_type": "stream",
          "name": "stdout",
          "text": [
            "There are two movie recommendation requests from two users:\n",
            "Request from User 1: \"Looking for an animated film not aimed towards children.But I’m **not** looking for adult edgy Gross out humor where everything is a sex reference.\n",
            "I want something between Disney and sausage party.  Something pg13 or R rated\"\n",
            "Request from User 2: \"Animated films creates for adults, but not adult comedy like South Park or sausage party.I'm looking for animated films that are designed for adults but not adult comedies, like sausage party and South Park I had just mentioned. Films such as \"I lost My Body\" for example. It doesn't have to be in English either\n",
            "Edit: I have looked at some of the suggestions and they all seem good Keep them coming, I am thanking you all here to save time replying to every comment. \n",
            "Thanks for the reccomendations\"\n",
            "Answer the following yes/no question. Can these two users be recommended similar titles?\n",
            "Answer: No\n",
            " No\n"
          ]
        },
        {
          "output_type": "stream",
          "name": "stderr",
          "text": [
            "/usr/local/lib/python3.10/dist-packages/transformers/generation/utils.py:1268: UserWarning: Input length of input_ids is 206, but `max_length` is set to 100. This can lead to unexpected behavior. You should consider increasing `max_new_tokens`.\n",
            "  warnings.warn(\n",
            "Setting `pad_token_id` to `eos_token_id`:0 for open-end generation.\n"
          ]
        },
        {
          "output_type": "stream",
          "name": "stdout",
          "text": [
            "There are two movie recommendation requests from two users:\n",
            "Request from User 1: \"Films with a dense Asian city at night atmosphere. Basically stuff that looks like [this image](https://i.redd.it/yith244ll7q11.jpg). Blade Runner is an obvious example but it doesn't necessarily have to be cyberpunk, dystopian or set in the future. I'm just looking to feel night vibes in a dense Asian city. Back alleys, street vendors, shady business. Preferably well known films. Thanks!\"\n",
            "Request from User 2: \"Movies with late night city vibes?Really obsessed with this kinda vibe lately, would love some movies with it. Like a night Tokyo or New York Times Square kind of thing. I recently saw a Korean movie ‘young adult matters’ which was really good, as well as lost in translation.\"\n",
            "Answer the following yes/no question. Can these two users be recommended similar titles?\n",
            "Answer: No\n",
            " No\n"
          ]
        },
        {
          "output_type": "stream",
          "name": "stderr",
          "text": [
            "/usr/local/lib/python3.10/dist-packages/transformers/generation/utils.py:1268: UserWarning: Input length of input_ids is 511, but `max_length` is set to 100. This can lead to unexpected behavior. You should consider increasing `max_new_tokens`.\n",
            "  warnings.warn(\n",
            "Setting `pad_token_id` to `eos_token_id`:0 for open-end generation.\n"
          ]
        },
        {
          "output_type": "stream",
          "name": "stdout",
          "text": [
            "There are two movie recommendation requests from two users:\n",
            "Request from User 1: \"Films with a dense Asian city at night atmosphere. Basically stuff that looks like [this image](https://i.redd.it/yith244ll7q11.jpg). Blade Runner is an obvious example but it doesn't necessarily have to be cyberpunk, dystopian or set in the future. I'm just looking to feel night vibes in a dense Asian city. Back alleys, street vendors, shady business. Preferably well known films. Thanks!\"\n",
            "Request from User 2: \"Movie Recommendation of Tropical Night City Life vibes?Hey all   \n",
            "Would you know of any movies with a tropical city night life vibes (mix of high end city and urban downtown living areas) like fast and furious, now you see me, gen y cops, etc?  \n",
            "Even Need For Speed Heat has some of this mood (some are during the day like sunset but its the same vibe for those locations I was talking of)  \n",
            "[https://cdn.mos.cms.futurecdn.net/8gsz2zqPxQajirpJQEGrJQ.jpg](https://cdn.mos.cms.futurecdn.net/8gsz2zqPxQajirpJQEGrJQ.jpg)\n",
            "[https://assets.rockpapershotgun.com/images/2019/11/09\\_nfs\\_heat.jpg](https://assets.rockpapershotgun.com/images/2019/11/09_nfs_heat.jpg)\n",
            "[https://assets.vg247.com/current//2019/11/Need-for-Speed%E2%84%A2-Heat\\_20191106170919.jpg](https://assets.vg247.com/current//2019/11/Need-for-Speed%E2%84%A2-Heat_20191106170919.jpg)\n",
            "[https://cdn.mos.cms.futurecdn.net/zqRqiUiEMRSc8YkvxqBMGc.jpg](https://cdn.mos.cms.futurecdn.net/zqRqiUiEMRSc8YkvxqBMGc.jpg)\"\n",
            "Answer the following yes/no question. Can these two users be recommended similar titles?\n",
            "Answer: No\n",
            " No\n"
          ]
        },
        {
          "output_type": "stream",
          "name": "stderr",
          "text": [
            "/usr/local/lib/python3.10/dist-packages/transformers/generation/utils.py:1268: UserWarning: Input length of input_ids is 212, but `max_length` is set to 100. This can lead to unexpected behavior. You should consider increasing `max_new_tokens`.\n",
            "  warnings.warn(\n",
            "Setting `pad_token_id` to `eos_token_id`:0 for open-end generation.\n"
          ]
        },
        {
          "output_type": "stream",
          "name": "stdout",
          "text": [
            "There are two movie recommendation requests from two users:\n",
            "Request from User 1: \"Looking for bad movies. I really like shitty B rated movies. My favorites are lavalantula, tremors, piranha, anaconda, two headed shark attack and spiders. I'm looking for more movies that are creature feature, was bad acting and others like the ones I listed. Any and all help is appreciated.\"\n",
            "Request from User 2: \"\"So bad it's good\" Z-List Vintage Monster Movies. I'm a tabletop RPG fan and in order to prepare a campaign for a RPG called \"Monster of the Week\" I need to watch shitty horror monster movies, stuff made before the year 2000. I need you to give me your absolute worst, the bottom of the barrel, most of the suggestions will be american I guess but any country is fair game as long as subs can be found easily.\"\n",
            "Answer the following yes/no question. Can these two users be recommended similar titles?\n",
            "Answer: No\n",
            " No\n"
          ]
        },
        {
          "output_type": "stream",
          "name": "stderr",
          "text": [
            "/usr/local/lib/python3.10/dist-packages/transformers/generation/utils.py:1268: UserWarning: Input length of input_ids is 309, but `max_length` is set to 100. This can lead to unexpected behavior. You should consider increasing `max_new_tokens`.\n",
            "  warnings.warn(\n",
            "Setting `pad_token_id` to `eos_token_id`:0 for open-end generation.\n"
          ]
        },
        {
          "output_type": "stream",
          "name": "stdout",
          "text": [
            "There are two movie recommendation requests from two users:\n",
            "Request from User 1: \"Looking for bad movies. I really like shitty B rated movies. My favorites are lavalantula, tremors, piranha, anaconda, two headed shark attack and spiders. I'm looking for more movies that are creature feature, was bad acting and others like the ones I listed. Any and all help is appreciated.\"\n",
            "Request from User 2: \"Monster Boyfriend Movies?Me and my gf recently watched The Shape of the Water (2017) and were hoping to find movies containing some of the same tropes to watch together. She also really likes Beauty and the Beast (1991) as well as King Kong (2005), and prefers new modern movies (and outright refuses anything black and white haha). Admittedly we were both sort of disappointed by The Shape of Water because we were expecting more of an artsy slower paced movie with an indie feel but instead got a blockbuster style production that felt like a really edgy spielberg type deal but we are still hungry for more movies with this premise if that helps. I have been adding every movie I can think of to a [letterboxd list here](https://boxd.it/cEJGA) so any suggestions to add to that regardless if you think my gf would like them are okay too. Thanks!\"\n",
            "Answer the following yes/no question. Can these two users be recommended similar titles?\n",
            "Answer: No\n",
            " No\n"
          ]
        },
        {
          "output_type": "stream",
          "name": "stderr",
          "text": [
            "/usr/local/lib/python3.10/dist-packages/transformers/generation/utils.py:1268: UserWarning: Input length of input_ids is 238, but `max_length` is set to 100. This can lead to unexpected behavior. You should consider increasing `max_new_tokens`.\n",
            "  warnings.warn(\n",
            "Setting `pad_token_id` to `eos_token_id`:0 for open-end generation.\n"
          ]
        },
        {
          "output_type": "stream",
          "name": "stdout",
          "text": [
            "There are two movie recommendation requests from two users:\n",
            "Request from User 1: \"looking for a movie like half of it or metal gods. Hey guys so this past 2 days i have at last watched half of it and metal gods which was an amazing experiences that left me feeling amazing and wondering how those movies can take u away from whatever u escaping in ur life , and am looking for similar movies anything:\n",
            "🌟Highschool\n",
            "🌟Romcom\n",
            "🌟Heartfelt\n",
            "🌟Feel good movies\n",
            " \n",
            "With nice comedy and romance preferably from 2020 and above cuz i guess i watched all the oldies and if u have that's okay too i might be missing some .\n",
            "Thanks reddit for advance i know u won't let me down 🙏\"\n",
            "Request from User 2: \"Movies similar to Isi and Ossi (2020). I watched this movie  two times and found very interesting. Are there any other movies like this. I mean I am looking for some comedy, romantic et al like movies.\"\n",
            "Answer the following yes/no question. Can these two users be recommended similar titles?\n",
            "Answer: No\n",
            " No\n"
          ]
        },
        {
          "output_type": "stream",
          "name": "stderr",
          "text": [
            "/usr/local/lib/python3.10/dist-packages/transformers/generation/utils.py:1268: UserWarning: Input length of input_ids is 255, but `max_length` is set to 100. This can lead to unexpected behavior. You should consider increasing `max_new_tokens`.\n",
            "  warnings.warn(\n",
            "Setting `pad_token_id` to `eos_token_id`:0 for open-end generation.\n"
          ]
        },
        {
          "output_type": "stream",
          "name": "stdout",
          "text": [
            "There are two movie recommendation requests from two users:\n",
            "Request from User 1: \"looking for a movie like half of it or metal gods. Hey guys so this past 2 days i have at last watched half of it and metal gods which was an amazing experiences that left me feeling amazing and wondering how those movies can take u away from whatever u escaping in ur life , and am looking for similar movies anything:\n",
            "🌟Highschool\n",
            "🌟Romcom\n",
            "🌟Heartfelt\n",
            "🌟Feel good movies\n",
            " \n",
            "With nice comedy and romance preferably from 2020 and above cuz i guess i watched all the oldies and if u have that's okay too i might be missing some .\n",
            "Thanks reddit for advance i know u won't let me down 🙏\"\n",
            "Request from User 2: \"Best movies from 2017-2020 ?I am looking for good recent movies from 2017 to now. Any genre goes as long as it's fun and memorable. I caught up on some of the \"big\" frequent ones like the avengers, irishman and what not but nothing other than the biggest ones from recent years\"\n",
            "Answer the following yes/no question. Can these two users be recommended similar titles?\n",
            "Answer: No\n",
            " No\n"
          ]
        },
        {
          "output_type": "stream",
          "name": "stderr",
          "text": [
            "/usr/local/lib/python3.10/dist-packages/transformers/generation/utils.py:1268: UserWarning: Input length of input_ids is 154, but `max_length` is set to 100. This can lead to unexpected behavior. You should consider increasing `max_new_tokens`.\n",
            "  warnings.warn(\n",
            "Setting `pad_token_id` to `eos_token_id`:0 for open-end generation.\n"
          ]
        },
        {
          "output_type": "stream",
          "name": "stdout",
          "text": [
            "There are two movie recommendation requests from two users:\n",
            "Request from User 1: \"Movies that best show the emotional importance of children and pets and their development:. \"\n",
            "Request from User 2: \"Looking for a heartwarming, ''Child-like'' adventurous and/or funny movie !I've been doing very very bad lately and I've been looking into a fun, adventure movie with kids or very heartwarming movie. Maybe movies similar to the kind of vibe of ; Mrs. Doubtfire, Home Alone, Jumanji, Goonies, Zathura, etc.. I would prefer 80/90 movies ! :)\"\n",
            "Answer the following yes/no question. Can these two users be recommended similar titles?\n",
            "Answer: No\n",
            " No\n"
          ]
        },
        {
          "output_type": "stream",
          "name": "stderr",
          "text": [
            "/usr/local/lib/python3.10/dist-packages/transformers/generation/utils.py:1268: UserWarning: Input length of input_ids is 303, but `max_length` is set to 100. This can lead to unexpected behavior. You should consider increasing `max_new_tokens`.\n",
            "  warnings.warn(\n",
            "Setting `pad_token_id` to `eos_token_id`:0 for open-end generation.\n"
          ]
        },
        {
          "output_type": "stream",
          "name": "stdout",
          "text": [
            "There are two movie recommendation requests from two users:\n",
            "Request from User 1: \"Movies that best show the emotional importance of children and pets and their development:. \"\n",
            "Request from User 2: \"Movies with memorable pets or animals that aren't the focus of the film (and that maybe don't die). Hey y'all. I just watched the film Beginners (2010; Mills) and loved it. One aspect of it that I loved was the dog, which was integral to the story, even though this wasn't a \"dog movie\" per se. It got me wondering what other memorable movie pets are out there?\n",
            "To narrow the search some, here's some extra criteria:\n",
            "* Yes to movies that have a single memorable pet/animal moment or scene, even if pet/animal doesn't feature prominently in rest of story\n",
            "* Yes to movies that have pets/animals but you're not sure it's memorable enough (why not, right?)\n",
            "* No to kids movies (Zootopia, Babe, Charlotte's Web—I like these, but not for today)\n",
            "* No to movies center entirely on the animal (Hachi, Flipper, A Dog's Story—these are easy to find)\n",
            "* Prefer movies where animals do not die, but that shouldn't limit a great suggestion since animals do die in many movies I love\"\n",
            "Answer the following yes/no question. Can these two users be recommended similar titles?\n",
            "Answer: Yes\n",
            " Yes\n"
          ]
        },
        {
          "output_type": "stream",
          "name": "stderr",
          "text": [
            "/usr/local/lib/python3.10/dist-packages/transformers/generation/utils.py:1268: UserWarning: Input length of input_ids is 147, but `max_length` is set to 100. This can lead to unexpected behavior. You should consider increasing `max_new_tokens`.\n",
            "  warnings.warn(\n",
            "Setting `pad_token_id` to `eos_token_id`:0 for open-end generation.\n"
          ]
        },
        {
          "output_type": "stream",
          "name": "stdout",
          "text": [
            "There are two movie recommendation requests from two users:\n",
            "Request from User 1: \"Any old west movie featuring some hunting scene?I know it is a weird request, but I've been playing Red Dead Redemption 2, and man would I be lying if I said I did not like to hunt, and I find hunting in this scenario and time period even more fascinating. So is there any old west movie featuring some hunting scene? It doesn't have to be too long, just some cool scene in a good movie.\"\n",
            "Request from User 2: \"Any typical but awesome western movie? old or new does not matter.\"\n",
            "Answer the following yes/no question. Can these two users be recommended similar titles?\n",
            "Answer: No\n",
            " No\n"
          ]
        },
        {
          "output_type": "stream",
          "name": "stderr",
          "text": [
            "/usr/local/lib/python3.10/dist-packages/transformers/generation/utils.py:1268: UserWarning: Input length of input_ids is 216, but `max_length` is set to 100. This can lead to unexpected behavior. You should consider increasing `max_new_tokens`.\n",
            "  warnings.warn(\n",
            "Setting `pad_token_id` to `eos_token_id`:0 for open-end generation.\n"
          ]
        },
        {
          "output_type": "stream",
          "name": "stdout",
          "text": [
            "There are two movie recommendation requests from two users:\n",
            "Request from User 1: \"Any old west movie featuring some hunting scene?I know it is a weird request, but I've been playing Red Dead Redemption 2, and man would I be lying if I said I did not like to hunt, and I find hunting in this scenario and time period even more fascinating. So is there any old west movie featuring some hunting scene? It doesn't have to be too long, just some cool scene in a good movie.\"\n",
            "Request from User 2: \"Movies like The Last Mohican, Dances with Wolves, the Winnetou films, Little Big Man, etc.Basically, I'm looking for western/frontier films that are primarily about Indians rather than cowboys and desperados. So this excludes most spaghetti westerns as well as anything set later than in the 19th century.\n",
            "Please only suggest movies that you actually enjoyed watching.\"\n",
            "Answer the following yes/no question. Can these two users be recommended similar titles?\n",
            "Answer: No\n",
            " No\n"
          ]
        },
        {
          "output_type": "stream",
          "name": "stderr",
          "text": [
            "/usr/local/lib/python3.10/dist-packages/transformers/generation/utils.py:1268: UserWarning: Input length of input_ids is 158, but `max_length` is set to 100. This can lead to unexpected behavior. You should consider increasing `max_new_tokens`.\n",
            "  warnings.warn(\n",
            "Setting `pad_token_id` to `eos_token_id`:0 for open-end generation.\n"
          ]
        },
        {
          "output_type": "stream",
          "name": "stdout",
          "text": [
            "There are two movie recommendation requests from two users:\n",
            "Request from User 1: \"Films with a professional dilemma?Having trouble thinking of films with a moral dilemma faced by a professional ie, doctor, educator, lawyer, etc. Any help is greatly appreciated! Hope this belongs here.\"\n",
            "Request from User 2: \"Movies that deal with moral/ethical ambiguity/dilemma. Looking for movies that can challenge my beliefs, leave me thinking at the end of the movie. A good part of the movie should discuss the dilemma in question, not just a sub-plot. I am not sure if I can provide with an exact example of what I'm looking for.\"\n",
            "Answer the following yes/no question. Can these two users be recommended similar titles?\n",
            "Answer: No\n",
            " No\n"
          ]
        },
        {
          "output_type": "stream",
          "name": "stderr",
          "text": [
            "/usr/local/lib/python3.10/dist-packages/transformers/generation/utils.py:1268: UserWarning: Input length of input_ids is 201, but `max_length` is set to 100. This can lead to unexpected behavior. You should consider increasing `max_new_tokens`.\n",
            "  warnings.warn(\n",
            "Setting `pad_token_id` to `eos_token_id`:0 for open-end generation.\n"
          ]
        },
        {
          "output_type": "stream",
          "name": "stdout",
          "text": [
            "There are two movie recommendation requests from two users:\n",
            "Request from User 1: \"Films with a professional dilemma?Having trouble thinking of films with a moral dilemma faced by a professional ie, doctor, educator, lawyer, etc. Any help is greatly appreciated! Hope this belongs here.\"\n",
            "Request from User 2: \"The protagonist has to do something bad despite their good heart. Hello,\n",
            "I'm looking for movie recommendations where the main character has to engage in some immoral behaviors (such as treason, threatening, selling drugs, etc.) for the sake of surviving or saving someone or some other good cause. Basically, a movie where the protagonist has a good heart but has to do (or at least thinks about doing) something bad because they don't have the choice and the circumstances push them to do so. This could be because they are in a gang, for example. Thanks!\"\n",
            "Answer the following yes/no question. Can these two users be recommended similar titles?\n",
            "Answer: No\n",
            " No\n"
          ]
        },
        {
          "output_type": "stream",
          "name": "stderr",
          "text": [
            "/usr/local/lib/python3.10/dist-packages/transformers/generation/utils.py:1268: UserWarning: Input length of input_ids is 164, but `max_length` is set to 100. This can lead to unexpected behavior. You should consider increasing `max_new_tokens`.\n",
            "  warnings.warn(\n",
            "Setting `pad_token_id` to `eos_token_id`:0 for open-end generation.\n"
          ]
        },
        {
          "output_type": "stream",
          "name": "stdout",
          "text": [
            "There are two movie recommendation requests from two users:\n",
            "Request from User 1: \"Movies about the top 1% inner circle. Just watched Molly’s Game and I love the idea of inner circles with some of the most powerful people in the world. I’d prefer if the movie is based on true events or a true story but fictional works too as long as it is realistic.\"\n",
            "Request from User 2: \"Movies about wealthy families?I watched House of Gucci today, and am trying to think of more movies or possibly tv shows about a wealthy family. I’m already aware of Knives Out, Succession, and Royal Tenenbaums. Trying to think of more.\"\n",
            "Answer the following yes/no question. Can these two users be recommended similar titles?\n",
            "Answer: No\n",
            " No\n"
          ]
        },
        {
          "output_type": "stream",
          "name": "stderr",
          "text": [
            "/usr/local/lib/python3.10/dist-packages/transformers/generation/utils.py:1268: UserWarning: Input length of input_ids is 136, but `max_length` is set to 100. This can lead to unexpected behavior. You should consider increasing `max_new_tokens`.\n",
            "  warnings.warn(\n",
            "Setting `pad_token_id` to `eos_token_id`:0 for open-end generation.\n"
          ]
        },
        {
          "output_type": "stream",
          "name": "stdout",
          "text": [
            "There are two movie recommendation requests from two users:\n",
            "Request from User 1: \"Movies about the top 1% inner circle. Just watched Molly’s Game and I love the idea of inner circles with some of the most powerful people in the world. I’d prefer if the movie is based on true events or a true story but fictional works too as long as it is realistic.\"\n",
            "Request from User 2: \"Best films about rich kids and heirs?I want movies that involve children of rich people in the style of gossip girl and other family intrigues\"\n",
            "Answer the following yes/no question. Can these two users be recommended similar titles?\n",
            "Answer: No\n",
            " No\n"
          ]
        },
        {
          "output_type": "stream",
          "name": "stderr",
          "text": [
            "/usr/local/lib/python3.10/dist-packages/transformers/generation/utils.py:1268: UserWarning: Input length of input_ids is 260, but `max_length` is set to 100. This can lead to unexpected behavior. You should consider increasing `max_new_tokens`.\n",
            "  warnings.warn(\n",
            "Setting `pad_token_id` to `eos_token_id`:0 for open-end generation.\n"
          ]
        },
        {
          "output_type": "stream",
          "name": "stdout",
          "text": [
            "There are two movie recommendation requests from two users:\n",
            "Request from User 1: \"Dark/Introspective Films about Culture. I know this is extremely broad, but I can't quite figure out how best to describe the type of film I'm searching for.\n",
            "* European setting\n",
            "* Gothic\n",
            "* Art/music/culture\n",
            "* Anything that evokes the feeling of Schubert's 'Die Stadt'\n",
            "* Surreal?\n",
            "* A combination of Seventh Seal/Red Dragon/Pan's Labyrinth/In Bruges/Penny Dreadful\n",
            "Any suggestions along these lines are very much welcome.\"\n",
            "Request from User 2: \"Recommendations of European cinema. I'm exploring European language movies. Any must watch directors and films that I need to look out for? Also, I've only become interested in cinema very recently so are there any websites or blogs that you'd suggest to a newbie where one can find movie recommendations, read reviews, understand the nuances, etc. \n",
            "I am interested in anything that might not come up on the first page of Google search results but according to you, should. \n",
            "Thanks and cheers!\"\n",
            "Answer the following yes/no question. Can these two users be recommended similar titles?\n",
            "Answer: No\n",
            " No\n"
          ]
        },
        {
          "output_type": "stream",
          "name": "stderr",
          "text": [
            "/usr/local/lib/python3.10/dist-packages/transformers/generation/utils.py:1268: UserWarning: Input length of input_ids is 266, but `max_length` is set to 100. This can lead to unexpected behavior. You should consider increasing `max_new_tokens`.\n",
            "  warnings.warn(\n",
            "Setting `pad_token_id` to `eos_token_id`:0 for open-end generation.\n"
          ]
        },
        {
          "output_type": "stream",
          "name": "stdout",
          "text": [
            "There are two movie recommendation requests from two users:\n",
            "Request from User 1: \"Dark/Introspective Films about Culture. I know this is extremely broad, but I can't quite figure out how best to describe the type of film I'm searching for.\n",
            "* European setting\n",
            "* Gothic\n",
            "* Art/music/culture\n",
            "* Anything that evokes the feeling of Schubert's 'Die Stadt'\n",
            "* Surreal?\n",
            "* A combination of Seventh Seal/Red Dragon/Pan's Labyrinth/In Bruges/Penny Dreadful\n",
            "Any suggestions along these lines are very much welcome.\"\n",
            "Request from User 2: \"Non-Western Gothic Films?Also asked in r/movies but figured this was the more appropriate place.\n",
            "Looking for films with gothic themes that aren't American or Western European in origin. It's easy to find ivy-laced tension a la William Faulkner or creepy English manors but there must be a gothic film tradition in a lot of countries. Asking for help finding good ones! Use as broad a definition of \"gothic\" as needed, just want the vibes. Thank ya\"\n",
            "Answer the following yes/no question. Can these two users be recommended similar titles?\n",
            "Answer: No\n",
            " No\n"
          ]
        },
        {
          "output_type": "stream",
          "name": "stderr",
          "text": [
            "/usr/local/lib/python3.10/dist-packages/transformers/generation/utils.py:1268: UserWarning: Input length of input_ids is 245, but `max_length` is set to 100. This can lead to unexpected behavior. You should consider increasing `max_new_tokens`.\n",
            "  warnings.warn(\n",
            "Setting `pad_token_id` to `eos_token_id`:0 for open-end generation.\n"
          ]
        },
        {
          "output_type": "stream",
          "name": "stdout",
          "text": [
            "There are two movie recommendation requests from two users:\n",
            "Request from User 1: \"Life changing/inspirational or quirky movies. Do you have any good movie suggestions for me? I am looking for either:\n",
            "1. Those really great, life changing, inspirational and touching movies. Examples of movies I love: \n",
            "- La vita è bella (Life is Beautiful)\n",
            "- The Shawshank Redemption\n",
            "- Forrest Gump\n",
            "- Green Book\n",
            "- Into the Wild\n",
            "- Captain Fantastic\n",
            "- The Intouchables\n",
            "- The Boy in the Striped Pyjamas\n",
            "2. Beautiful, but quirky movies like Amélie and Wes Anderson's movies\"\n",
            "Request from User 2: \"Lookig for inspiring movies with a life lesson or a positive message like the Shawshank redemption or Forrest gump. Im looking for some nice inspiring movies that'll make you happy and leave you with a life lesson. \n",
            "Here are some of my favorites\n",
            "-Secret life of Walter mitty\n",
            "-Shawshank redemption\n",
            "-Forrest Gump\"\n",
            "Answer the following yes/no question. Can these two users be recommended similar titles?\n",
            "Answer: No\n",
            " No\n"
          ]
        },
        {
          "output_type": "stream",
          "name": "stderr",
          "text": [
            "Setting `pad_token_id` to `eos_token_id`:0 for open-end generation.\n"
          ]
        },
        {
          "output_type": "stream",
          "name": "stdout",
          "text": [
            "There are two movie recommendation requests from two users:\n",
            "Request from User 1: \"Serious Portrayals Of Heaven. Looking for non comedic movies with serious portrayals of Heaven. Sci Fi/Drama/Action movies etc. If possible white cloud type heaven lol.\"\n",
            "Request from User 2: \"Films where a primary location is Heaven?Something like What Dreams May Come. Where *a good portion* of the movie takes place in Heaven.\n",
            "As a bonus, movies that have other afterlife locations as a major part of the film. This would include Hell, or Valhalla, or from other religions.\"\n",
            "Answer the following yes/no question. Can these two users be recommended similar titles?\n",
            "Answer: No\n",
            " No\n"
          ]
        },
        {
          "output_type": "stream",
          "name": "stderr",
          "text": [
            "/usr/local/lib/python3.10/dist-packages/transformers/generation/utils.py:1268: UserWarning: Input length of input_ids is 221, but `max_length` is set to 100. This can lead to unexpected behavior. You should consider increasing `max_new_tokens`.\n",
            "  warnings.warn(\n",
            "Setting `pad_token_id` to `eos_token_id`:0 for open-end generation.\n"
          ]
        },
        {
          "output_type": "stream",
          "name": "stdout",
          "text": [
            "There are two movie recommendation requests from two users:\n",
            "Request from User 1: \"Serious Portrayals Of Heaven. Looking for non comedic movies with serious portrayals of Heaven. Sci Fi/Drama/Action movies etc. If possible white cloud type heaven lol.\"\n",
            "Request from User 2: \"Angel falls on earth. And conflict ensues. Truly, any kind of movie that could fit that trope, i do not see it often, and I really just want to see some cool existential angel movie. Biblical angels or renaissance angels I don’t care, something interesting. Drama, horror, thriller, etc… Things like Wings Of Desire (apology if this isn’t the English title) obviously come to mind but I’d like to know if there are more movies like this out here, with more religious or aesthetic influences (such as angelcore) idk anything really! \n",
            "Ill take any recommendation, thanks in advance :))\"\n",
            "Answer the following yes/no question. Can these two users be recommended similar titles?\n",
            "Answer: No\n",
            " No\n"
          ]
        },
        {
          "output_type": "stream",
          "name": "stderr",
          "text": [
            "/usr/local/lib/python3.10/dist-packages/transformers/generation/utils.py:1268: UserWarning: Input length of input_ids is 185, but `max_length` is set to 100. This can lead to unexpected behavior. You should consider increasing `max_new_tokens`.\n",
            "  warnings.warn(\n",
            "Setting `pad_token_id` to `eos_token_id`:0 for open-end generation.\n"
          ]
        },
        {
          "output_type": "stream",
          "name": "stdout",
          "text": [
            "There are two movie recommendation requests from two users:\n",
            "Request from User 1: \"Looking for some war movies like 1917 or dunkirk. i have seen many war movies, mostly mainstream like the ones mentioned before, spr, the hurtlocker, etc. i would like to know your top war movies. Thanks\"\n",
            "Request from User 2: \"War Movies (WW1/WW2). Can anyone recommend me good war films that are based on WW1/WW2, these are a few that i have watched and highly recommend.\n",
            "-Fury\n",
            "-Inglorious Bast*rds\n",
            "-1917\n",
            "-Dunkirk\n",
            "I love a good war movie and would like to watch a few more, maybe there is some out there that i have not watched yet. Thanks.\"\n",
            "Answer the following yes/no question. Can these two users be recommended similar titles?\n",
            "Answer: No\n",
            " No\n"
          ]
        },
        {
          "output_type": "stream",
          "name": "stderr",
          "text": [
            "/usr/local/lib/python3.10/dist-packages/transformers/generation/utils.py:1268: UserWarning: Input length of input_ids is 168, but `max_length` is set to 100. This can lead to unexpected behavior. You should consider increasing `max_new_tokens`.\n",
            "  warnings.warn(\n",
            "Setting `pad_token_id` to `eos_token_id`:0 for open-end generation.\n"
          ]
        },
        {
          "output_type": "stream",
          "name": "stdout",
          "text": [
            "There are two movie recommendation requests from two users:\n",
            "Request from User 1: \"Looking for some war movies like 1917 or dunkirk. i have seen many war movies, mostly mainstream like the ones mentioned before, spr, the hurtlocker, etc. i would like to know your top war movies. Thanks\"\n",
            "Request from User 2: \"Movies with realistic battles (pre gunpowder). i can only think of a movie about alexander the great. i'm a big total war (game) fan and have been playing it for a very long time so i know i bit of battle tactics but lots of movies with big battle are kind of dissapointing.\n",
            "What movies would u recommend ?\"\n",
            "Answer the following yes/no question. Can these two users be recommended similar titles?\n",
            "Answer: No\n",
            " No\n"
          ]
        },
        {
          "output_type": "stream",
          "name": "stderr",
          "text": [
            "Setting `pad_token_id` to `eos_token_id`:0 for open-end generation.\n"
          ]
        },
        {
          "output_type": "stream",
          "name": "stdout",
          "text": [
            "There are two movie recommendation requests from two users:\n",
            "Request from User 1: \"Horror recommendation please. Can someone tell me a zombie/horror movie with good story and it would be nice if it is with a group of people where they try to survive together 😅\"\n",
            "Request from User 2: \"Zombie Movie. I’m been in the mood for something with zombies, funny, serious, strange as long as it’s got zombies I wanna know about it!\"\n",
            "Answer the following yes/no question. Can these two users be recommended similar titles?\n",
            "Answer: No\n",
            " No\n"
          ]
        },
        {
          "output_type": "stream",
          "name": "stderr",
          "text": [
            "Setting `pad_token_id` to `eos_token_id`:0 for open-end generation.\n"
          ]
        },
        {
          "output_type": "stream",
          "name": "stdout",
          "text": [
            "There are two movie recommendation requests from two users:\n",
            "Request from User 1: \"Horror recommendation please. Can someone tell me a zombie/horror movie with good story and it would be nice if it is with a group of people where they try to survive together 😅\"\n",
            "Request from User 2: \"Horror movies. Hello guys! I’m in the mood for a scary creepy movie with ghosts or something supernatural and I don’t know what to watch because I have seen a lot of movies. Can anyone suggest something? Thank you very much !\"\n",
            "Answer the following yes/no question. Can these two users be recommended similar titles?\n",
            "Answer: No\n",
            " No\n"
          ]
        },
        {
          "output_type": "stream",
          "name": "stderr",
          "text": [
            "/usr/local/lib/python3.10/dist-packages/transformers/generation/utils.py:1268: UserWarning: Input length of input_ids is 169, but `max_length` is set to 100. This can lead to unexpected behavior. You should consider increasing `max_new_tokens`.\n",
            "  warnings.warn(\n",
            "Setting `pad_token_id` to `eos_token_id`:0 for open-end generation.\n"
          ]
        },
        {
          "output_type": "stream",
          "name": "stdout",
          "text": [
            "There are two movie recommendation requests from two users:\n",
            "Request from User 1: \"Looking for low budget movies, seemingly made by friends.Something along the lines of many mark duplass films, coherence, the invitation, the endless, resolution. Can be any genre, prefer thriller/mystery\"\n",
            "Request from User 2: \"Can you tell me some great low-budget movies. Movies like \"Coherence\" or \"The Man from Earth\" are great movies, with great plots and perfomances and not necessarily with a large amount of money to spend.  So it would be nice if you can tell me more incredible low-budget movies.  \n",
            "Any genre it's fine. Thanks in advance\"\n",
            "Answer the following yes/no question. Can these two users be recommended similar titles?\n",
            "Answer: No\n",
            " No\n"
          ]
        },
        {
          "output_type": "stream",
          "name": "stderr",
          "text": [
            "Setting `pad_token_id` to `eos_token_id`:0 for open-end generation.\n"
          ]
        },
        {
          "output_type": "stream",
          "name": "stdout",
          "text": [
            "There are two movie recommendation requests from two users:\n",
            "Request from User 1: \"Looking for low budget movies, seemingly made by friends.Something along the lines of many mark duplass films, coherence, the invitation, the endless, resolution. Can be any genre, prefer thriller/mystery\"\n",
            "Request from User 2: \"Something like Frances Ha and Tiny Furniture?!I thoroughly enjoyed these two and want something just like them. They’re not depressing or dark yet are lighthearted films about loneliness and the realities of being in your 20s.\"\n",
            "Answer the following yes/no question. Can these two users be recommended similar titles?\n",
            "Answer: No\n",
            " No\n"
          ]
        },
        {
          "output_type": "stream",
          "name": "stderr",
          "text": [
            "/usr/local/lib/python3.10/dist-packages/transformers/generation/utils.py:1268: UserWarning: Input length of input_ids is 165, but `max_length` is set to 100. This can lead to unexpected behavior. You should consider increasing `max_new_tokens`.\n",
            "  warnings.warn(\n",
            "Setting `pad_token_id` to `eos_token_id`:0 for open-end generation.\n"
          ]
        },
        {
          "output_type": "stream",
          "name": "stdout",
          "text": [
            "There are two movie recommendation requests from two users:\n",
            "Request from User 1: \"Gritty or realistic sci-fi like Aliens or Contact?Consider I have most likely seen all sci-fi in imdb 250 or reddit's praised ones like Upgrade.\n",
            "Better if there's some message like Clara or Transcendence.\n",
            "Thank you.\"\n",
            "Request from User 2: \"Heady, cerebral sci-fi a la Arrival or Ex Machina. Arrival and Ex Machina are two of my favourite movies of all time and I love this kind of sci-fi! Love the genre in general but nothing has made me FEEL the way Arrival or Ex Machina did.\"\n",
            "Answer the following yes/no question. Can these two users be recommended similar titles?\n",
            "Answer: No\n",
            " No\n"
          ]
        },
        {
          "output_type": "stream",
          "name": "stderr",
          "text": [
            "/usr/local/lib/python3.10/dist-packages/transformers/generation/utils.py:1268: UserWarning: Input length of input_ids is 223, but `max_length` is set to 100. This can lead to unexpected behavior. You should consider increasing `max_new_tokens`.\n",
            "  warnings.warn(\n",
            "Setting `pad_token_id` to `eos_token_id`:0 for open-end generation.\n"
          ]
        },
        {
          "output_type": "stream",
          "name": "stdout",
          "text": [
            "There are two movie recommendation requests from two users:\n",
            "Request from User 1: \"Gritty or realistic sci-fi like Aliens or Contact?Consider I have most likely seen all sci-fi in imdb 250 or reddit's praised ones like Upgrade.\n",
            "Better if there's some message like Clara or Transcendence.\n",
            "Thank you.\"\n",
            "Request from User 2: \"Sci-fi movies with a sense of hope and optimism? (Similar to Star Trek or Contact). As the title says, I'm in the mood for some science fiction movies (or shows) with a sense of hope or optimism about the future. There are plenty of sci fi movies that are about dystopias or post-apocalyptic settings - I'm looking for the opposite of that. Feel free to recommend some TV shows as well. Below is some optimistic sci fi I'm already a fan of: \n",
            "Star Trek\n",
            "Contact\n",
            "Arrival\n",
            "Her\n",
            "The Martian\"\n",
            "Answer the following yes/no question. Can these two users be recommended similar titles?\n",
            "Answer: No\n",
            " No\n"
          ]
        },
        {
          "output_type": "stream",
          "name": "stderr",
          "text": [
            "Setting `pad_token_id` to `eos_token_id`:0 for open-end generation.\n"
          ]
        },
        {
          "output_type": "stream",
          "name": "stdout",
          "text": [
            "There are two movie recommendation requests from two users:\n",
            "Request from User 1: \"Under Quarantine for the next two weeks, give me some PG-13 movies to watch!\"\n",
            "Request from User 2: \"Perfect movies to watch if your being quarantined in your home?\"\n",
            "Answer the following yes/no question. Can these two users be recommended similar titles?\n",
            "Answer: No, these two users have very different tastes. User 1 is looking for PG-13 movies, while User\n",
            " No, these two users have very different tastes. User 1 is looking for PG-13 movies, while User\n"
          ]
        },
        {
          "output_type": "stream",
          "name": "stderr",
          "text": [
            "/usr/local/lib/python3.10/dist-packages/transformers/generation/utils.py:1268: UserWarning: Input length of input_ids is 112, but `max_length` is set to 100. This can lead to unexpected behavior. You should consider increasing `max_new_tokens`.\n",
            "  warnings.warn(\n",
            "Setting `pad_token_id` to `eos_token_id`:0 for open-end generation.\n"
          ]
        },
        {
          "output_type": "stream",
          "name": "stdout",
          "text": [
            "There are two movie recommendation requests from two users:\n",
            "Request from User 1: \"Under Quarantine for the next two weeks, give me some PG-13 movies to watch!\"\n",
            "Request from User 2: \"Movies Similar to Parasite, or any good movies to watch during quarantine. I watched parasite yesterday and it’s definitely one of my favorite movies now. I want to watch something similar or any good movies in general.\"\n",
            "Answer the following yes/no question. Can these two users be recommended similar titles?\n",
            "Answer: No\n",
            " No\n"
          ]
        },
        {
          "output_type": "stream",
          "name": "stderr",
          "text": [
            "Setting `pad_token_id` to `eos_token_id`:0 for open-end generation.\n"
          ]
        },
        {
          "output_type": "stream",
          "name": "stdout",
          "text": [
            "There are two movie recommendation requests from two users:\n",
            "Request from User 1: \"What are your 5 best Werner Herzog Movies?Are any of you familiar with Werner Herzog Movies? I'm writing a blog related to his most notable movies. Let me know your best 5\"\n",
            "Request from User 2: \"Werner Herzog Documentaries. I love his scripted films, but the only documentary of his I’ve seen is Grizzly Man. What Herzog documentary should I watch next?\"\n",
            "Answer the following yes/no question. Can these two users be recommended similar titles?\n",
            "Answer: No\n",
            " No\n"
          ]
        },
        {
          "output_type": "stream",
          "name": "stderr",
          "text": [
            "/usr/local/lib/python3.10/dist-packages/transformers/generation/utils.py:1268: UserWarning: Input length of input_ids is 101, but `max_length` is set to 100. This can lead to unexpected behavior. You should consider increasing `max_new_tokens`.\n",
            "  warnings.warn(\n",
            "Setting `pad_token_id` to `eos_token_id`:0 for open-end generation.\n"
          ]
        },
        {
          "output_type": "stream",
          "name": "stdout",
          "text": [
            "There are two movie recommendation requests from two users:\n",
            "Request from User 1: \"What are your 5 best Werner Herzog Movies?Are any of you familiar with Werner Herzog Movies? I'm writing a blog related to his most notable movies. Let me know your best 5\"\n",
            "Request from User 2: \"your top 5 feature length experimental/avant-garde films?\"\n",
            "Answer the following yes/no question. Can these two users be recommended similar titles?\n",
            "Answer: Yes\n",
            " Yes\n"
          ]
        },
        {
          "output_type": "stream",
          "name": "stderr",
          "text": [
            "/usr/local/lib/python3.10/dist-packages/transformers/generation/utils.py:1268: UserWarning: Input length of input_ids is 203, but `max_length` is set to 100. This can lead to unexpected behavior. You should consider increasing `max_new_tokens`.\n",
            "  warnings.warn(\n"
          ]
        },
        {
          "output_type": "stream",
          "name": "stdout",
          "text": [
            "There are two movie recommendation requests from two users:\n",
            "Request from User 1: \"Funny heist or crime investigation movies. I am looking for movies similar to Logan Lucky, Nice guys, kiss kiss bang bang, Baby driver etc. Thrillers that also have some comedic element.\"\n",
            "Request from User 2: \"Comedic detective movies?Some of my favorite movies are The Big Lebowski, Kiss Kiss Bang Bang, and The Nice Guys. \n",
            "I like that these movies are sillier than a regular action or mystery movie. The main characters are all rough and odd and just kind of fall into solving a mystery. There are elaborate scenes like over the top LA parties and interesting costumes. I also like it when movies are set in a specific time period, like the Nice Guys was set in the 70’s. \n",
            "I’d love to hear your recommendations!\"\n",
            "Answer the following yes/no question. Can these two users be recommended similar titles?\n",
            "Answer: No\n",
            " No\n",
            "[0, 0, 0, 0, 0, 0, 0, 0, 0, 0, 0, 0, 0, 0, 0, 0, 0, 0, 0, 0, 0, 0, 0, 0, 0, 0, 0, 0, 0, 0, 0, 0, 1, 0, 0, 0, 0, 0, 0, 0, 0, 0, 0, 0, 0, 0, 0, 1, 0, 0, 0, 0, 0, 0, 0, 0, 0, 0, 0, 0, 0, 0, 0, 1, 0, 0, 0, 0, 0, 0, 0, 0, 0, 0, 0, 0, 0, 0, 0, 0, 0, 0, 0, 0, 0, 0, 1, 0]\n"
          ]
        }
      ]
    },
    {
      "cell_type": "markdown",
      "source": [
        "From the output it's clear the small model is producing mostly random results with domination of \"No\". The results for a small sample for dolly-15k format:"
      ],
      "metadata": {
        "id": "M3J_OJ5F6_GO"
      }
    },
    {
      "cell_type": "code",
      "source": [
        "from sklearn import metrics as mcs\n",
        "y_true = [v['MATCH'] for v in val_set[:88]]\n",
        "print(mcs.classification_report(y_true, responses, digits = 4))"
      ],
      "metadata": {
        "colab": {
          "base_uri": "https://localhost:8080/"
        },
        "id": "I26mpFFO_g1O",
        "outputId": "ab8c9f23-771c-47f1-8651-a0d9138363a9"
      },
      "execution_count": null,
      "outputs": [
        {
          "output_type": "stream",
          "name": "stdout",
          "text": [
            "              precision    recall  f1-score   support\n",
            "\n",
            "           0     0.4643    1.0000    0.6341        39\n",
            "           1     1.0000    0.0816    0.1509        49\n",
            "\n",
            "    accuracy                         0.4886        88\n",
            "   macro avg     0.7321    0.5408    0.3925        88\n",
            "weighted avg     0.7626    0.4886    0.3651        88\n",
            "\n"
          ]
        }
      ]
    },
    {
      "cell_type": "markdown",
      "source": [
        "We also tried a different format of prompt - more standard kind without the '###Instruction' etc cues. The results were even worse:"
      ],
      "metadata": {
        "id": "lzO2k0DT7T18"
      }
    },
    {
      "cell_type": "code",
      "source": [
        "from sklearn import metrics as mcs\n",
        "y_true = [v['MATCH'] for v in val_set[:88]]\n",
        "print(mcs.classification_report(y_true, responses, digits = 4)) #with second prompt"
      ],
      "metadata": {
        "colab": {
          "base_uri": "https://localhost:8080/"
        },
        "id": "KTw_1QErVgwY",
        "outputId": "a648d353-de0a-4488-dcf4-e3d15726364a"
      },
      "execution_count": null,
      "outputs": [
        {
          "output_type": "stream",
          "name": "stdout",
          "text": [
            "              precision    recall  f1-score   support\n",
            "\n",
            "           0     0.4286    0.9231    0.5854        39\n",
            "           1     0.2500    0.0204    0.0377        49\n",
            "\n",
            "    accuracy                         0.4205        88\n",
            "   macro avg     0.3393    0.4717    0.3116        88\n",
            "weighted avg     0.3291    0.4205    0.2804        88\n",
            "\n"
          ]
        }
      ]
    },
    {
      "cell_type": "code",
      "source": [
        "sequences1 = pipeline(\n",
        "    '''There are two movie recommendation requests from two users:\n",
        "Request from User 1: \"Lighthearted movies, about love or friendship, I don't want it to contain any violence.\"\n",
        "Request from User 2: \"Please recommend me some good action-packed or war movies. No romances pls!\"\n",
        "Answer the following yes/no question. Can these two users be recommended similar movies? Explain your answer.\n",
        "Answer:\n",
        "''',\n",
        "    max_length=200,\n",
        "    do_sample=False,\n",
        "    top_k=0,\n",
        "    temperature = 0,\n",
        "    num_return_sequences=1,\n",
        "    # eos_token_id=tokenizer.eos_token_id,\n",
        ")\n",
        "for seq in sequences1:\n",
        "    print(f\"Result: {seq['generated_text']}\")"
      ],
      "metadata": {
        "colab": {
          "base_uri": "https://localhost:8080/"
        },
        "id": "IP-OHJmOEKK3",
        "outputId": "6501debc-8590-4cc1-94ca-c5fab5796979"
      },
      "execution_count": null,
      "outputs": [
        {
          "output_type": "stream",
          "name": "stdout",
          "text": [
            "Result: There are two movie recommendation requests from two users:\n",
            "Request from User 1: \"Lighthearted movies, about love or friendship, I don't want it to contain any violence.\"\n",
            "Request from User 2: \"Please recommend me some good action-packed or war movies. No romances pls!\"\n",
            "Answer the following yes/no question. Can these two users be recommended similar movies? Explain your answer.\n",
            "Answer:\n",
            "Yes, they can be recommended similar movies. The first user's request can be satisfied by the following movies:\n",
            "\"The Notebook\"\n",
            "\"The Fault in Our Stars\"\n",
            "\"About Time\"\n",
            "\"The Perks of Being a Wallflower\"\n",
            "\"The Best Exotic Marigold Hotel\"\n",
            "\"The Big Sick\"\n",
            "\"The Fault in Our Stars\" is a romance movie, but it is a good fit for the first user's request. The second user's request can be satisfied by the following movies:\n",
            "\n"
          ]
        }
      ]
    },
    {
      "cell_type": "markdown",
      "source": [
        "Result: MTP-7B is clearly too small for the task of comparing two movie recommendations."
      ],
      "metadata": {
        "id": "DKPzcmiLKtxt"
      }
    },
    {
      "cell_type": "markdown",
      "source": [
        "\n",
        "### Summary\n",
        "\n",
        "None of the 7B models was capable enough to discern between the nuances of recommendation requests.\n",
        "\n",
        "From the tried 7B models on a small sample of 88 examples the performance results are as follow:\n",
        "1. Llama2-7B AND Falcon-7B have on par results for the small sample. Llama 7B produced predominantly \"yes\" answer to every query, while Falcon produced both \"yes\" and \"no\" but with a quite a lot of randomness.\n",
        "2. MPT-7B produced mostly random answers.\n",
        "\n",
        "TODO: Tried few-shot prompting for Llama-2B. Need to try it also for other models.\n"
      ],
      "metadata": {
        "id": "BYhsqV1PK-DX"
      }
    },
    {
      "cell_type": "code",
      "source": [],
      "metadata": {
        "id": "SmNDEiBoyLDY"
      },
      "execution_count": null,
      "outputs": []
    }
  ]
}